{
  "cells": [
    {
      "cell_type": "markdown",
      "metadata": {
        "id": "kmbK3sewEVGy"
      },
      "source": [
        "# Actuarial Applications of Natural Language Processing Using Transformers\n",
        "### A Case Study for Processing Text Features in an Actuarial Context\n",
        "### Part III – Case Studies on Car Accident Descriptions - Unsupervised Techniques Using ChatGPT\n",
        "\n",
        "By Andreas Troxler, September 2023\n",
        "\n",
        "In this Part III of the tutorial, you will learn how ChatGPT can be used to extract features from text when no labels are available.\n",
        "This is very relevant in practice: text data is often available, but labels are missing or sparse!\n",
        "\n",
        "We use the car accident reports already familiar from Part I, and try to find out the number of vehicles involved and whether someone was injured.\n",
        "\n",
        "As a user of ChatGPT, you need to be aware of its limitations, which can lead to incorrect results. Limitations include the following:\n",
        "* ChatGPT may create wrong answers, due to lack of common sense, lack of detailed and up-to-date information, lack of understanding of the context,biases and prejudices,  etc.\n",
        "* Results obtained by ChatGPT are not reproducible across runs and model versions.\n",
        "* It is difficult to explain how ChatGPT arrives at the answer.\n",
        "* ChatGPT is a very complex Large Language Model (LLM). As such, it requires significant computational resources.\n",
        "* ...\n",
        "\n",
        "With that in mind, let's get started."
      ]
    },
    {
      "cell_type": "markdown",
      "metadata": {
        "id": "EnmTW4uhEVG3"
      },
      "source": [
        "## Notebook Overview\n",
        "\n",
        "This notebook is divided into tutorial is divided into three parts; they are:\n",
        "\n",
        "1. [Introduction.](#intro)<br>\n",
        "    We begin by explaining pre-requisites. Then we turn to loading and exploring the dataset – ca. 6k records of English and German car accident reports with an average length of about 400 words. This is a repetition from Part I of the tutorial.<br><br>\n",
        "\n",
        "2. [Extract features using ChatGPT.](#chat_gpt)<br>\n",
        "     We apply ChatGPT to extract some features from this data.<br><br>\n",
        "    \n",
        "3. [Conclusion](#conclusion)\n"
      ]
    },
    {
      "cell_type": "markdown",
      "metadata": {
        "id": "hcc6Je4lEVG4"
      },
      "source": [
        "<a id='intro'></a>\n",
        "<a name=\"intro\"></a>\n",
        "## 1.&nbsp;Introduction\n",
        "\n",
        "In this section we discuss the pre-requisites, load and inspect the dataset."
      ]
    },
    {
      "cell_type": "markdown",
      "metadata": {
        "id": "iEu2UBDEEVG4"
      },
      "source": [
        "<a id='prerequisites'></a>\n",
        "<a name='prerequisites'></a>\n",
        "### 1.1. Prerequisites\n"
      ]
    },
    {
      "cell_type": "markdown",
      "metadata": {
        "id": "2mGZv-UxvKO_"
      },
      "source": [
        "#### Computing Power and OpenAI Account\n",
        "\n",
        "In this notebook, we use the API provided by OpenAI. Therefore, it does not require GPU support.\n",
        "\n",
        "On the flipside, you need to [set up an OpenAI account](https://platform.openai.com/signup?launch) and generate your personal API authentication key. In the following, we assume that this key is stored in the file `openai-key.txt` in the working directory. Of course, you can use a different file name. Do not share your API key with others, or expose it in the browser or other client-side code."
      ]
    },
    {
      "cell_type": "markdown",
      "metadata": {
        "id": "qXPfoNIUIpuv"
      },
      "source": [
        "#### Local files\n",
        "Make sure the following files are available in the directory of the notebook:\n",
        "* `tutorial_utils.py` - a collection of utility functions used throughout this notebook\n",
        "* `NHTSA_NMVCCS_extract.parquet.gzip` - the data\n",
        "* `openai-key.txt` - a text file containing your OpenAI API authentication key\n",
        "\n",
        "This notebook will create the following subdirectory:\n",
        "* `results` - figures and Excel files"
      ]
    },
    {
      "cell_type": "markdown",
      "metadata": {
        "id": "3ahENX7-EVG5"
      },
      "source": [
        "#### Getting started with Python and Jupyter Notebook\n",
        "\n",
        "For this tutorial, we assume that you are already familiar with Python and Jupyter Notebook.\n",
        "\n",
        "In this section, Jupyter Notebook and Python settings are initialized.\n",
        "For code in Python, the [PEP8 standard](https://www.python.org/dev/peps/pep-0008/)\n",
        "(\"PEP = Python Enhancement Proposal\") is enforced with minor variations to improve readability.\n"
      ]
    },
    {
      "cell_type": "code",
      "execution_count": null,
      "metadata": {
        "colab": {
          "base_uri": "https://localhost:8080/",
          "height": 17
        },
        "id": "1wK6e7a5EVG5",
        "outputId": "0043b6d7-65ff-4d36-86d7-6acda4a5dc3c",
        "pycharm": {
          "name": "#%%\n"
        }
      },
      "outputs": [
        {
          "output_type": "display_data",
          "data": {
            "text/plain": [
              "<IPython.core.display.HTML object>"
            ],
            "text/html": [
              "<style>.container { width:100% !important; }</style>"
            ]
          },
          "metadata": {}
        }
      ],
      "source": [
        "# Notebook settings\n",
        "\n",
        "# clear the namespace variables\n",
        "from IPython import get_ipython\n",
        "get_ipython().run_line_magic(\"reset\", \"-sf\")\n",
        "\n",
        "# formatting: cell width\n",
        "from IPython.display import display, HTML\n",
        "display(HTML(\"<style>.container { width:100% !important; }</style>\"))"
      ]
    },
    {
      "cell_type": "markdown",
      "metadata": {
        "id": "5V9gFHqyEVG7"
      },
      "source": [
        "#### Importing Required Libraries\n",
        "\n",
        "If you run this notebook on Google Colab, you will need to install the following libraries:"
      ]
    },
    {
      "cell_type": "code",
      "execution_count": null,
      "metadata": {
        "id": "Mxggg0WmFDuy",
        "colab": {
          "base_uri": "https://localhost:8080/"
        },
        "outputId": "010fad57-e734-4463-bd92-1333b1e887a2"
      },
      "outputs": [
        {
          "output_type": "stream",
          "name": "stdout",
          "text": [
            "Requirement already satisfied: openai in /usr/local/lib/python3.10/dist-packages (0.28.0)\n",
            "Requirement already satisfied: requests>=2.20 in /usr/local/lib/python3.10/dist-packages (from openai) (2.31.0)\n",
            "Requirement already satisfied: tqdm in /usr/local/lib/python3.10/dist-packages (from openai) (4.66.1)\n",
            "Requirement already satisfied: aiohttp in /usr/local/lib/python3.10/dist-packages (from openai) (3.8.5)\n",
            "Requirement already satisfied: charset-normalizer<4,>=2 in /usr/local/lib/python3.10/dist-packages (from requests>=2.20->openai) (3.2.0)\n",
            "Requirement already satisfied: idna<4,>=2.5 in /usr/local/lib/python3.10/dist-packages (from requests>=2.20->openai) (3.4)\n",
            "Requirement already satisfied: urllib3<3,>=1.21.1 in /usr/local/lib/python3.10/dist-packages (from requests>=2.20->openai) (2.0.4)\n",
            "Requirement already satisfied: certifi>=2017.4.17 in /usr/local/lib/python3.10/dist-packages (from requests>=2.20->openai) (2023.7.22)\n",
            "Requirement already satisfied: attrs>=17.3.0 in /usr/local/lib/python3.10/dist-packages (from aiohttp->openai) (23.1.0)\n",
            "Requirement already satisfied: multidict<7.0,>=4.5 in /usr/local/lib/python3.10/dist-packages (from aiohttp->openai) (6.0.4)\n",
            "Requirement already satisfied: async-timeout<5.0,>=4.0.0a3 in /usr/local/lib/python3.10/dist-packages (from aiohttp->openai) (4.0.3)\n",
            "Requirement already satisfied: yarl<2.0,>=1.0 in /usr/local/lib/python3.10/dist-packages (from aiohttp->openai) (1.9.2)\n",
            "Requirement already satisfied: frozenlist>=1.1.1 in /usr/local/lib/python3.10/dist-packages (from aiohttp->openai) (1.4.0)\n",
            "Requirement already satisfied: aiosignal>=1.1.2 in /usr/local/lib/python3.10/dist-packages (from aiohttp->openai) (1.3.1)\n"
          ]
        }
      ],
      "source": [
        "!pip install openai"
      ]
    },
    {
      "cell_type": "code",
      "source": [
        "!pip install retry"
      ],
      "metadata": {
        "colab": {
          "base_uri": "https://localhost:8080/"
        },
        "id": "aYrTzcumrSE9",
        "outputId": "6b4b3aec-376c-4045-badd-2ae6c0e42df9"
      },
      "execution_count": null,
      "outputs": [
        {
          "output_type": "stream",
          "name": "stdout",
          "text": [
            "Requirement already satisfied: retry in /usr/local/lib/python3.10/dist-packages (0.9.2)\n",
            "Requirement already satisfied: decorator>=3.4.2 in /usr/local/lib/python3.10/dist-packages (from retry) (4.4.2)\n",
            "Requirement already satisfied: py<2.0.0,>=1.4.26 in /usr/local/lib/python3.10/dist-packages (from retry) (1.11.0)\n"
          ]
        }
      ]
    },
    {
      "cell_type": "code",
      "source": [
        "!pip install kaleido"
      ],
      "metadata": {
        "colab": {
          "base_uri": "https://localhost:8080/"
        },
        "id": "598t72H5Dxui",
        "outputId": "84b8b633-3170-4afd-abea-86d7c54fe073"
      },
      "execution_count": null,
      "outputs": [
        {
          "output_type": "stream",
          "name": "stdout",
          "text": [
            "Requirement already satisfied: kaleido in /usr/local/lib/python3.10/dist-packages (0.2.1)\n"
          ]
        }
      ]
    },
    {
      "cell_type": "markdown",
      "metadata": {
        "id": "7b2yEtZjEVG8"
      },
      "source": [
        "Next, we import the required libraries:"
      ]
    },
    {
      "cell_type": "code",
      "execution_count": null,
      "metadata": {
        "id": "LuwY5ubtEVG9",
        "pycharm": {
          "name": "#%%\n"
        }
      },
      "outputs": [],
      "source": [
        "import os\n",
        "import openai\n",
        "import pandas as pd\n",
        "import plotly.express as px\n",
        "from tqdm import tqdm\n",
        "from retry import retry\n",
        "from wordcloud import WordCloud\n",
        "from tutorial_utils import evaluate_classifier"
      ]
    },
    {
      "cell_type": "markdown",
      "metadata": {
        "id": "44WiOM3SEVG-"
      },
      "source": [
        "<a id='dataexploration'></a>\n",
        "<a name='dataexploration'></a>\n",
        "### 1.2. Exploring the Data\n",
        "\n",
        "You can skip this section if you are already fammiliar with Part I of this tutorial.\n",
        "\n",
        "The data used throughout this tutorial is derived from data of a vehicle crash causation study performed in the United States from 2005 to 2007. The dataset has almost 7'000 records, each relating to one accident. For each case, a verbal description of the accident is available in English, which summarizes road and weather conditions, vehicles, drivers and passengers involved, preconditions, injury severities, etc. The same information is also encoded in tabular form, so that we can apply supervised learning techniques to train the NLP models and compare the information extracted from the verbal descriptions with the encoded data.\n",
        "\n",
        "The original data consists of multiple tables. For this tutorial, we have aggregated it into a single dataset and added German translations of the English accident descriptions. The translations were generated using the [DeepL python API](https://pypi.org/project/deepl/).\n",
        "\n",
        "To explore the data, let's load it into a Pandas DataFrame and examine its shape, columns and data types:"
      ]
    },
    {
      "cell_type": "code",
      "execution_count": null,
      "metadata": {
        "colab": {
          "base_uri": "https://localhost:8080/"
        },
        "id": "DogoPiqXEVG-",
        "outputId": "cab3c351-d8ee-489f-9146-eb9d187bff22",
        "pycharm": {
          "name": "#%%\n"
        }
      },
      "outputs": [
        {
          "output_type": "stream",
          "name": "stdout",
          "text": [
            "shape of DataFrame: (6949, 16)\n",
            "('level_0', dtype('int64'))\n",
            "('index', dtype('int64'))\n",
            "('SCASEID', dtype('int64'))\n",
            "('SUMMARY_EN', dtype('O'))\n",
            "('SUMMARY_GE', dtype('O'))\n",
            "('INJSEVA', dtype('int64'))\n",
            "('NUMTOTV', dtype('int64'))\n",
            "('WEATHER1', dtype('int64'))\n",
            "('WEATHER2', dtype('int64'))\n",
            "('WEATHER3', dtype('int64'))\n",
            "('WEATHER4', dtype('int64'))\n",
            "('WEATHER5', dtype('int64'))\n",
            "('WEATHER6', dtype('int64'))\n",
            "('WEATHER7', dtype('int64'))\n",
            "('WEATHER8', dtype('int64'))\n",
            "('INJSEVB', dtype('int64'))\n"
          ]
        }
      ],
      "source": [
        "df = pd.read_parquet(\"NHTSA_NMVCCS_extract.parquet.gzip\")\n",
        "print(f\"shape of DataFrame: {df.shape}\")\n",
        "print(*list(zip(df.columns, df.dtypes)), sep=\"\\n\")"
      ]
    },
    {
      "cell_type": "markdown",
      "source": [
        "The column `SCASEID` is a unique case identifier.\n",
        "\n",
        "The columns `SUMMARY_EN` and `SUMMARY_GE` are strings representing the verbal descriptions of the accident in English and German, respectively.\n",
        "\n",
        "`NUMTOTV` is the number of vehicles involved in the case. Let's have a look at the distribution of this feature:"
      ],
      "metadata": {
        "id": "HbWiphKq49iZ"
      }
    },
    {
      "cell_type": "code",
      "source": [
        "fig = px.bar(df[\"NUMTOTV\"].value_counts().sort_index(), width=640)\n",
        "fig.update_layout(title=\"number of cases by number of vehicles\", xaxis_title=\"number of vehicles\",\n",
        "                  yaxis_title=\"number of cases\")\n",
        "fig.show(config={\"toImageButtonOptions\": {\"format\": 'svg', \"filename\": \"num_vehicles\"}})"
      ],
      "metadata": {
        "colab": {
          "base_uri": "https://localhost:8080/",
          "height": 542
        },
        "id": "sZJYuvAc5HIW",
        "outputId": "2aa6cf0c-2caf-4bd0-9600-2682e277702f"
      },
      "execution_count": null,
      "outputs": [
        {
          "output_type": "display_data",
          "data": {
            "text/html": [
              "<html>\n",
              "<head><meta charset=\"utf-8\" /></head>\n",
              "<body>\n",
              "    <div>            <script src=\"https://cdnjs.cloudflare.com/ajax/libs/mathjax/2.7.5/MathJax.js?config=TeX-AMS-MML_SVG\"></script><script type=\"text/javascript\">if (window.MathJax && window.MathJax.Hub && window.MathJax.Hub.Config) {window.MathJax.Hub.Config({SVG: {font: \"STIX-Web\"}});}</script>                <script type=\"text/javascript\">window.PlotlyConfig = {MathJaxConfig: 'local'};</script>\n",
              "        <script charset=\"utf-8\" src=\"https://cdn.plot.ly/plotly-2.24.1.min.js\"></script>                <div id=\"37c99339-a50d-4528-87f4-f993dc5dc454\" class=\"plotly-graph-div\" style=\"height:525px; width:640px;\"></div>            <script type=\"text/javascript\">                                    window.PLOTLYENV=window.PLOTLYENV || {};                                    if (document.getElementById(\"37c99339-a50d-4528-87f4-f993dc5dc454\")) {                    Plotly.newPlot(                        \"37c99339-a50d-4528-87f4-f993dc5dc454\",                        [{\"alignmentgroup\":\"True\",\"hovertemplate\":\"variable=NUMTOTV\\u003cbr\\u003eindex=%{x}\\u003cbr\\u003evalue=%{y}\\u003cextra\\u003e\\u003c\\u002fextra\\u003e\",\"legendgroup\":\"NUMTOTV\",\"marker\":{\"color\":\"#636efa\",\"pattern\":{\"shape\":\"\"}},\"name\":\"NUMTOTV\",\"offsetgroup\":\"NUMTOTV\",\"orientation\":\"v\",\"showlegend\":true,\"textposition\":\"auto\",\"x\":[1,2,3,4,5,6,7,8,9],\"xaxis\":\"x\",\"y\":[1822,4151,783,150,34,5,2,1,1],\"yaxis\":\"y\",\"type\":\"bar\"}],                        {\"template\":{\"data\":{\"histogram2dcontour\":[{\"type\":\"histogram2dcontour\",\"colorbar\":{\"outlinewidth\":0,\"ticks\":\"\"},\"colorscale\":[[0.0,\"#0d0887\"],[0.1111111111111111,\"#46039f\"],[0.2222222222222222,\"#7201a8\"],[0.3333333333333333,\"#9c179e\"],[0.4444444444444444,\"#bd3786\"],[0.5555555555555556,\"#d8576b\"],[0.6666666666666666,\"#ed7953\"],[0.7777777777777778,\"#fb9f3a\"],[0.8888888888888888,\"#fdca26\"],[1.0,\"#f0f921\"]]}],\"choropleth\":[{\"type\":\"choropleth\",\"colorbar\":{\"outlinewidth\":0,\"ticks\":\"\"}}],\"histogram2d\":[{\"type\":\"histogram2d\",\"colorbar\":{\"outlinewidth\":0,\"ticks\":\"\"},\"colorscale\":[[0.0,\"#0d0887\"],[0.1111111111111111,\"#46039f\"],[0.2222222222222222,\"#7201a8\"],[0.3333333333333333,\"#9c179e\"],[0.4444444444444444,\"#bd3786\"],[0.5555555555555556,\"#d8576b\"],[0.6666666666666666,\"#ed7953\"],[0.7777777777777778,\"#fb9f3a\"],[0.8888888888888888,\"#fdca26\"],[1.0,\"#f0f921\"]]}],\"heatmap\":[{\"type\":\"heatmap\",\"colorbar\":{\"outlinewidth\":0,\"ticks\":\"\"},\"colorscale\":[[0.0,\"#0d0887\"],[0.1111111111111111,\"#46039f\"],[0.2222222222222222,\"#7201a8\"],[0.3333333333333333,\"#9c179e\"],[0.4444444444444444,\"#bd3786\"],[0.5555555555555556,\"#d8576b\"],[0.6666666666666666,\"#ed7953\"],[0.7777777777777778,\"#fb9f3a\"],[0.8888888888888888,\"#fdca26\"],[1.0,\"#f0f921\"]]}],\"heatmapgl\":[{\"type\":\"heatmapgl\",\"colorbar\":{\"outlinewidth\":0,\"ticks\":\"\"},\"colorscale\":[[0.0,\"#0d0887\"],[0.1111111111111111,\"#46039f\"],[0.2222222222222222,\"#7201a8\"],[0.3333333333333333,\"#9c179e\"],[0.4444444444444444,\"#bd3786\"],[0.5555555555555556,\"#d8576b\"],[0.6666666666666666,\"#ed7953\"],[0.7777777777777778,\"#fb9f3a\"],[0.8888888888888888,\"#fdca26\"],[1.0,\"#f0f921\"]]}],\"contourcarpet\":[{\"type\":\"contourcarpet\",\"colorbar\":{\"outlinewidth\":0,\"ticks\":\"\"}}],\"contour\":[{\"type\":\"contour\",\"colorbar\":{\"outlinewidth\":0,\"ticks\":\"\"},\"colorscale\":[[0.0,\"#0d0887\"],[0.1111111111111111,\"#46039f\"],[0.2222222222222222,\"#7201a8\"],[0.3333333333333333,\"#9c179e\"],[0.4444444444444444,\"#bd3786\"],[0.5555555555555556,\"#d8576b\"],[0.6666666666666666,\"#ed7953\"],[0.7777777777777778,\"#fb9f3a\"],[0.8888888888888888,\"#fdca26\"],[1.0,\"#f0f921\"]]}],\"surface\":[{\"type\":\"surface\",\"colorbar\":{\"outlinewidth\":0,\"ticks\":\"\"},\"colorscale\":[[0.0,\"#0d0887\"],[0.1111111111111111,\"#46039f\"],[0.2222222222222222,\"#7201a8\"],[0.3333333333333333,\"#9c179e\"],[0.4444444444444444,\"#bd3786\"],[0.5555555555555556,\"#d8576b\"],[0.6666666666666666,\"#ed7953\"],[0.7777777777777778,\"#fb9f3a\"],[0.8888888888888888,\"#fdca26\"],[1.0,\"#f0f921\"]]}],\"mesh3d\":[{\"type\":\"mesh3d\",\"colorbar\":{\"outlinewidth\":0,\"ticks\":\"\"}}],\"scatter\":[{\"fillpattern\":{\"fillmode\":\"overlay\",\"size\":10,\"solidity\":0.2},\"type\":\"scatter\"}],\"parcoords\":[{\"type\":\"parcoords\",\"line\":{\"colorbar\":{\"outlinewidth\":0,\"ticks\":\"\"}}}],\"scatterpolargl\":[{\"type\":\"scatterpolargl\",\"marker\":{\"colorbar\":{\"outlinewidth\":0,\"ticks\":\"\"}}}],\"bar\":[{\"error_x\":{\"color\":\"#2a3f5f\"},\"error_y\":{\"color\":\"#2a3f5f\"},\"marker\":{\"line\":{\"color\":\"#E5ECF6\",\"width\":0.5},\"pattern\":{\"fillmode\":\"overlay\",\"size\":10,\"solidity\":0.2}},\"type\":\"bar\"}],\"scattergeo\":[{\"type\":\"scattergeo\",\"marker\":{\"colorbar\":{\"outlinewidth\":0,\"ticks\":\"\"}}}],\"scatterpolar\":[{\"type\":\"scatterpolar\",\"marker\":{\"colorbar\":{\"outlinewidth\":0,\"ticks\":\"\"}}}],\"histogram\":[{\"marker\":{\"pattern\":{\"fillmode\":\"overlay\",\"size\":10,\"solidity\":0.2}},\"type\":\"histogram\"}],\"scattergl\":[{\"type\":\"scattergl\",\"marker\":{\"colorbar\":{\"outlinewidth\":0,\"ticks\":\"\"}}}],\"scatter3d\":[{\"type\":\"scatter3d\",\"line\":{\"colorbar\":{\"outlinewidth\":0,\"ticks\":\"\"}},\"marker\":{\"colorbar\":{\"outlinewidth\":0,\"ticks\":\"\"}}}],\"scattermapbox\":[{\"type\":\"scattermapbox\",\"marker\":{\"colorbar\":{\"outlinewidth\":0,\"ticks\":\"\"}}}],\"scatterternary\":[{\"type\":\"scatterternary\",\"marker\":{\"colorbar\":{\"outlinewidth\":0,\"ticks\":\"\"}}}],\"scattercarpet\":[{\"type\":\"scattercarpet\",\"marker\":{\"colorbar\":{\"outlinewidth\":0,\"ticks\":\"\"}}}],\"carpet\":[{\"aaxis\":{\"endlinecolor\":\"#2a3f5f\",\"gridcolor\":\"white\",\"linecolor\":\"white\",\"minorgridcolor\":\"white\",\"startlinecolor\":\"#2a3f5f\"},\"baxis\":{\"endlinecolor\":\"#2a3f5f\",\"gridcolor\":\"white\",\"linecolor\":\"white\",\"minorgridcolor\":\"white\",\"startlinecolor\":\"#2a3f5f\"},\"type\":\"carpet\"}],\"table\":[{\"cells\":{\"fill\":{\"color\":\"#EBF0F8\"},\"line\":{\"color\":\"white\"}},\"header\":{\"fill\":{\"color\":\"#C8D4E3\"},\"line\":{\"color\":\"white\"}},\"type\":\"table\"}],\"barpolar\":[{\"marker\":{\"line\":{\"color\":\"#E5ECF6\",\"width\":0.5},\"pattern\":{\"fillmode\":\"overlay\",\"size\":10,\"solidity\":0.2}},\"type\":\"barpolar\"}],\"pie\":[{\"automargin\":true,\"type\":\"pie\"}]},\"layout\":{\"autotypenumbers\":\"strict\",\"colorway\":[\"#636efa\",\"#EF553B\",\"#00cc96\",\"#ab63fa\",\"#FFA15A\",\"#19d3f3\",\"#FF6692\",\"#B6E880\",\"#FF97FF\",\"#FECB52\"],\"font\":{\"color\":\"#2a3f5f\"},\"hovermode\":\"closest\",\"hoverlabel\":{\"align\":\"left\"},\"paper_bgcolor\":\"white\",\"plot_bgcolor\":\"#E5ECF6\",\"polar\":{\"bgcolor\":\"#E5ECF6\",\"angularaxis\":{\"gridcolor\":\"white\",\"linecolor\":\"white\",\"ticks\":\"\"},\"radialaxis\":{\"gridcolor\":\"white\",\"linecolor\":\"white\",\"ticks\":\"\"}},\"ternary\":{\"bgcolor\":\"#E5ECF6\",\"aaxis\":{\"gridcolor\":\"white\",\"linecolor\":\"white\",\"ticks\":\"\"},\"baxis\":{\"gridcolor\":\"white\",\"linecolor\":\"white\",\"ticks\":\"\"},\"caxis\":{\"gridcolor\":\"white\",\"linecolor\":\"white\",\"ticks\":\"\"}},\"coloraxis\":{\"colorbar\":{\"outlinewidth\":0,\"ticks\":\"\"}},\"colorscale\":{\"sequential\":[[0.0,\"#0d0887\"],[0.1111111111111111,\"#46039f\"],[0.2222222222222222,\"#7201a8\"],[0.3333333333333333,\"#9c179e\"],[0.4444444444444444,\"#bd3786\"],[0.5555555555555556,\"#d8576b\"],[0.6666666666666666,\"#ed7953\"],[0.7777777777777778,\"#fb9f3a\"],[0.8888888888888888,\"#fdca26\"],[1.0,\"#f0f921\"]],\"sequentialminus\":[[0.0,\"#0d0887\"],[0.1111111111111111,\"#46039f\"],[0.2222222222222222,\"#7201a8\"],[0.3333333333333333,\"#9c179e\"],[0.4444444444444444,\"#bd3786\"],[0.5555555555555556,\"#d8576b\"],[0.6666666666666666,\"#ed7953\"],[0.7777777777777778,\"#fb9f3a\"],[0.8888888888888888,\"#fdca26\"],[1.0,\"#f0f921\"]],\"diverging\":[[0,\"#8e0152\"],[0.1,\"#c51b7d\"],[0.2,\"#de77ae\"],[0.3,\"#f1b6da\"],[0.4,\"#fde0ef\"],[0.5,\"#f7f7f7\"],[0.6,\"#e6f5d0\"],[0.7,\"#b8e186\"],[0.8,\"#7fbc41\"],[0.9,\"#4d9221\"],[1,\"#276419\"]]},\"xaxis\":{\"gridcolor\":\"white\",\"linecolor\":\"white\",\"ticks\":\"\",\"title\":{\"standoff\":15},\"zerolinecolor\":\"white\",\"automargin\":true,\"zerolinewidth\":2},\"yaxis\":{\"gridcolor\":\"white\",\"linecolor\":\"white\",\"ticks\":\"\",\"title\":{\"standoff\":15},\"zerolinecolor\":\"white\",\"automargin\":true,\"zerolinewidth\":2},\"scene\":{\"xaxis\":{\"backgroundcolor\":\"#E5ECF6\",\"gridcolor\":\"white\",\"linecolor\":\"white\",\"showbackground\":true,\"ticks\":\"\",\"zerolinecolor\":\"white\",\"gridwidth\":2},\"yaxis\":{\"backgroundcolor\":\"#E5ECF6\",\"gridcolor\":\"white\",\"linecolor\":\"white\",\"showbackground\":true,\"ticks\":\"\",\"zerolinecolor\":\"white\",\"gridwidth\":2},\"zaxis\":{\"backgroundcolor\":\"#E5ECF6\",\"gridcolor\":\"white\",\"linecolor\":\"white\",\"showbackground\":true,\"ticks\":\"\",\"zerolinecolor\":\"white\",\"gridwidth\":2}},\"shapedefaults\":{\"line\":{\"color\":\"#2a3f5f\"}},\"annotationdefaults\":{\"arrowcolor\":\"#2a3f5f\",\"arrowhead\":0,\"arrowwidth\":1},\"geo\":{\"bgcolor\":\"white\",\"landcolor\":\"#E5ECF6\",\"subunitcolor\":\"white\",\"showland\":true,\"showlakes\":true,\"lakecolor\":\"white\"},\"title\":{\"x\":0.05},\"mapbox\":{\"style\":\"light\"}}},\"xaxis\":{\"anchor\":\"y\",\"domain\":[0.0,1.0],\"title\":{\"text\":\"number of vehicles\"}},\"yaxis\":{\"anchor\":\"x\",\"domain\":[0.0,1.0],\"title\":{\"text\":\"number of cases\"}},\"legend\":{\"title\":{\"text\":\"variable\"},\"tracegroupgap\":0},\"margin\":{\"t\":60},\"barmode\":\"relative\",\"width\":640,\"title\":{\"text\":\"number of cases by number of vehicles\"}},                        {\"toImageButtonOptions\": {\"format\": \"svg\", \"filename\": \"num_vehicles\"}, \"responsive\": true}                    ).then(function(){\n",
              "                            \n",
              "var gd = document.getElementById('37c99339-a50d-4528-87f4-f993dc5dc454');\n",
              "var x = new MutationObserver(function (mutations, observer) {{\n",
              "        var display = window.getComputedStyle(gd).display;\n",
              "        if (!display || display === 'none') {{\n",
              "            console.log([gd, 'removed!']);\n",
              "            Plotly.purge(gd);\n",
              "            observer.disconnect();\n",
              "        }}\n",
              "}});\n",
              "\n",
              "// Listen for the removal of the full notebook cells\n",
              "var notebookContainer = gd.closest('#notebook-container');\n",
              "if (notebookContainer) {{\n",
              "    x.observe(notebookContainer, {childList: true});\n",
              "}}\n",
              "\n",
              "// Listen for the clearing of the current output cell\n",
              "var outputEl = gd.closest('.output');\n",
              "if (outputEl) {{\n",
              "    x.observe(outputEl, {childList: true});\n",
              "}}\n",
              "\n",
              "                        })                };                            </script>        </div>\n",
              "</body>\n",
              "</html>"
            ]
          },
          "metadata": {}
        }
      ]
    },
    {
      "cell_type": "markdown",
      "source": [
        "Most cases involve two vehicles, and only very few accidents involve more than three vehicles.\n",
        "\n",
        "Each of the columns `WEATHER1` to `WEATHER8` indicates the presence of a specific weather condition (1: weather condition present, 9999: presence of weather condition unknown, 0 otherwise):\n",
        "\n",
        "| column | meaning | count |\n",
        "|---|---|---|\n",
        "| `WEATHER1` | cloudy | 1112 |\n",
        "| `WEATHER2` | snow | 114 |\n",
        "| `WEATHER3` | fog, smog, smoke | 28 |\n",
        "| `WEATHER4` | rain | 624 |\n",
        "| `WEATHER5` | sleet, hail (freezing drizzle or rain) | 25 |\n",
        "| `WEATHER6` | blowing snow | 38 |\n",
        "| `WEATHER7` | severe crosswinds | 20 |\n",
        "| `WEATHER8` | other | 25 |\n",
        "\n",
        "\n",
        "These weather conditions are not mutually exclusive, i.e., more than one condition can be present in a single case. The frequency distribution looks as follows:"
      ],
      "metadata": {
        "id": "AR_3rVMz5lyz"
      }
    },
    {
      "cell_type": "code",
      "source": [
        "fig=px.bar(x=range(1,9), y=[(df[\"WEATHER\"+str(i)]==1).sum() for i in range(1,9)], width=640)\n",
        "fig.update_layout(title=\"number of cases by weather condition\", xaxis_title=\"weather condition\",\n",
        "                  yaxis_title=\"number of cases\")\n",
        "fig.show(config={\"toImageButtonOptions\": {\"format\": 'svg', \"filename\": \"weather\"}})"
      ],
      "metadata": {
        "colab": {
          "base_uri": "https://localhost:8080/",
          "height": 542
        },
        "id": "aR7onfnc6IUY",
        "outputId": "c5e55c64-39c9-48e0-c211-0341646d8abf"
      },
      "execution_count": null,
      "outputs": [
        {
          "output_type": "display_data",
          "data": {
            "text/html": [
              "<html>\n",
              "<head><meta charset=\"utf-8\" /></head>\n",
              "<body>\n",
              "    <div>            <script src=\"https://cdnjs.cloudflare.com/ajax/libs/mathjax/2.7.5/MathJax.js?config=TeX-AMS-MML_SVG\"></script><script type=\"text/javascript\">if (window.MathJax && window.MathJax.Hub && window.MathJax.Hub.Config) {window.MathJax.Hub.Config({SVG: {font: \"STIX-Web\"}});}</script>                <script type=\"text/javascript\">window.PlotlyConfig = {MathJaxConfig: 'local'};</script>\n",
              "        <script charset=\"utf-8\" src=\"https://cdn.plot.ly/plotly-2.24.1.min.js\"></script>                <div id=\"e58cc9ad-b5c3-40db-a4af-e80c77050096\" class=\"plotly-graph-div\" style=\"height:525px; width:640px;\"></div>            <script type=\"text/javascript\">                                    window.PLOTLYENV=window.PLOTLYENV || {};                                    if (document.getElementById(\"e58cc9ad-b5c3-40db-a4af-e80c77050096\")) {                    Plotly.newPlot(                        \"e58cc9ad-b5c3-40db-a4af-e80c77050096\",                        [{\"alignmentgroup\":\"True\",\"hovertemplate\":\"x=%{x}\\u003cbr\\u003ey=%{y}\\u003cextra\\u003e\\u003c\\u002fextra\\u003e\",\"legendgroup\":\"\",\"marker\":{\"color\":\"#636efa\",\"pattern\":{\"shape\":\"\"}},\"name\":\"\",\"offsetgroup\":\"\",\"orientation\":\"v\",\"showlegend\":false,\"textposition\":\"auto\",\"x\":[1,2,3,4,5,6,7,8],\"xaxis\":\"x\",\"y\":[1112,114,28,624,25,38,20,25],\"yaxis\":\"y\",\"type\":\"bar\"}],                        {\"template\":{\"data\":{\"histogram2dcontour\":[{\"type\":\"histogram2dcontour\",\"colorbar\":{\"outlinewidth\":0,\"ticks\":\"\"},\"colorscale\":[[0.0,\"#0d0887\"],[0.1111111111111111,\"#46039f\"],[0.2222222222222222,\"#7201a8\"],[0.3333333333333333,\"#9c179e\"],[0.4444444444444444,\"#bd3786\"],[0.5555555555555556,\"#d8576b\"],[0.6666666666666666,\"#ed7953\"],[0.7777777777777778,\"#fb9f3a\"],[0.8888888888888888,\"#fdca26\"],[1.0,\"#f0f921\"]]}],\"choropleth\":[{\"type\":\"choropleth\",\"colorbar\":{\"outlinewidth\":0,\"ticks\":\"\"}}],\"histogram2d\":[{\"type\":\"histogram2d\",\"colorbar\":{\"outlinewidth\":0,\"ticks\":\"\"},\"colorscale\":[[0.0,\"#0d0887\"],[0.1111111111111111,\"#46039f\"],[0.2222222222222222,\"#7201a8\"],[0.3333333333333333,\"#9c179e\"],[0.4444444444444444,\"#bd3786\"],[0.5555555555555556,\"#d8576b\"],[0.6666666666666666,\"#ed7953\"],[0.7777777777777778,\"#fb9f3a\"],[0.8888888888888888,\"#fdca26\"],[1.0,\"#f0f921\"]]}],\"heatmap\":[{\"type\":\"heatmap\",\"colorbar\":{\"outlinewidth\":0,\"ticks\":\"\"},\"colorscale\":[[0.0,\"#0d0887\"],[0.1111111111111111,\"#46039f\"],[0.2222222222222222,\"#7201a8\"],[0.3333333333333333,\"#9c179e\"],[0.4444444444444444,\"#bd3786\"],[0.5555555555555556,\"#d8576b\"],[0.6666666666666666,\"#ed7953\"],[0.7777777777777778,\"#fb9f3a\"],[0.8888888888888888,\"#fdca26\"],[1.0,\"#f0f921\"]]}],\"heatmapgl\":[{\"type\":\"heatmapgl\",\"colorbar\":{\"outlinewidth\":0,\"ticks\":\"\"},\"colorscale\":[[0.0,\"#0d0887\"],[0.1111111111111111,\"#46039f\"],[0.2222222222222222,\"#7201a8\"],[0.3333333333333333,\"#9c179e\"],[0.4444444444444444,\"#bd3786\"],[0.5555555555555556,\"#d8576b\"],[0.6666666666666666,\"#ed7953\"],[0.7777777777777778,\"#fb9f3a\"],[0.8888888888888888,\"#fdca26\"],[1.0,\"#f0f921\"]]}],\"contourcarpet\":[{\"type\":\"contourcarpet\",\"colorbar\":{\"outlinewidth\":0,\"ticks\":\"\"}}],\"contour\":[{\"type\":\"contour\",\"colorbar\":{\"outlinewidth\":0,\"ticks\":\"\"},\"colorscale\":[[0.0,\"#0d0887\"],[0.1111111111111111,\"#46039f\"],[0.2222222222222222,\"#7201a8\"],[0.3333333333333333,\"#9c179e\"],[0.4444444444444444,\"#bd3786\"],[0.5555555555555556,\"#d8576b\"],[0.6666666666666666,\"#ed7953\"],[0.7777777777777778,\"#fb9f3a\"],[0.8888888888888888,\"#fdca26\"],[1.0,\"#f0f921\"]]}],\"surface\":[{\"type\":\"surface\",\"colorbar\":{\"outlinewidth\":0,\"ticks\":\"\"},\"colorscale\":[[0.0,\"#0d0887\"],[0.1111111111111111,\"#46039f\"],[0.2222222222222222,\"#7201a8\"],[0.3333333333333333,\"#9c179e\"],[0.4444444444444444,\"#bd3786\"],[0.5555555555555556,\"#d8576b\"],[0.6666666666666666,\"#ed7953\"],[0.7777777777777778,\"#fb9f3a\"],[0.8888888888888888,\"#fdca26\"],[1.0,\"#f0f921\"]]}],\"mesh3d\":[{\"type\":\"mesh3d\",\"colorbar\":{\"outlinewidth\":0,\"ticks\":\"\"}}],\"scatter\":[{\"fillpattern\":{\"fillmode\":\"overlay\",\"size\":10,\"solidity\":0.2},\"type\":\"scatter\"}],\"parcoords\":[{\"type\":\"parcoords\",\"line\":{\"colorbar\":{\"outlinewidth\":0,\"ticks\":\"\"}}}],\"scatterpolargl\":[{\"type\":\"scatterpolargl\",\"marker\":{\"colorbar\":{\"outlinewidth\":0,\"ticks\":\"\"}}}],\"bar\":[{\"error_x\":{\"color\":\"#2a3f5f\"},\"error_y\":{\"color\":\"#2a3f5f\"},\"marker\":{\"line\":{\"color\":\"#E5ECF6\",\"width\":0.5},\"pattern\":{\"fillmode\":\"overlay\",\"size\":10,\"solidity\":0.2}},\"type\":\"bar\"}],\"scattergeo\":[{\"type\":\"scattergeo\",\"marker\":{\"colorbar\":{\"outlinewidth\":0,\"ticks\":\"\"}}}],\"scatterpolar\":[{\"type\":\"scatterpolar\",\"marker\":{\"colorbar\":{\"outlinewidth\":0,\"ticks\":\"\"}}}],\"histogram\":[{\"marker\":{\"pattern\":{\"fillmode\":\"overlay\",\"size\":10,\"solidity\":0.2}},\"type\":\"histogram\"}],\"scattergl\":[{\"type\":\"scattergl\",\"marker\":{\"colorbar\":{\"outlinewidth\":0,\"ticks\":\"\"}}}],\"scatter3d\":[{\"type\":\"scatter3d\",\"line\":{\"colorbar\":{\"outlinewidth\":0,\"ticks\":\"\"}},\"marker\":{\"colorbar\":{\"outlinewidth\":0,\"ticks\":\"\"}}}],\"scattermapbox\":[{\"type\":\"scattermapbox\",\"marker\":{\"colorbar\":{\"outlinewidth\":0,\"ticks\":\"\"}}}],\"scatterternary\":[{\"type\":\"scatterternary\",\"marker\":{\"colorbar\":{\"outlinewidth\":0,\"ticks\":\"\"}}}],\"scattercarpet\":[{\"type\":\"scattercarpet\",\"marker\":{\"colorbar\":{\"outlinewidth\":0,\"ticks\":\"\"}}}],\"carpet\":[{\"aaxis\":{\"endlinecolor\":\"#2a3f5f\",\"gridcolor\":\"white\",\"linecolor\":\"white\",\"minorgridcolor\":\"white\",\"startlinecolor\":\"#2a3f5f\"},\"baxis\":{\"endlinecolor\":\"#2a3f5f\",\"gridcolor\":\"white\",\"linecolor\":\"white\",\"minorgridcolor\":\"white\",\"startlinecolor\":\"#2a3f5f\"},\"type\":\"carpet\"}],\"table\":[{\"cells\":{\"fill\":{\"color\":\"#EBF0F8\"},\"line\":{\"color\":\"white\"}},\"header\":{\"fill\":{\"color\":\"#C8D4E3\"},\"line\":{\"color\":\"white\"}},\"type\":\"table\"}],\"barpolar\":[{\"marker\":{\"line\":{\"color\":\"#E5ECF6\",\"width\":0.5},\"pattern\":{\"fillmode\":\"overlay\",\"size\":10,\"solidity\":0.2}},\"type\":\"barpolar\"}],\"pie\":[{\"automargin\":true,\"type\":\"pie\"}]},\"layout\":{\"autotypenumbers\":\"strict\",\"colorway\":[\"#636efa\",\"#EF553B\",\"#00cc96\",\"#ab63fa\",\"#FFA15A\",\"#19d3f3\",\"#FF6692\",\"#B6E880\",\"#FF97FF\",\"#FECB52\"],\"font\":{\"color\":\"#2a3f5f\"},\"hovermode\":\"closest\",\"hoverlabel\":{\"align\":\"left\"},\"paper_bgcolor\":\"white\",\"plot_bgcolor\":\"#E5ECF6\",\"polar\":{\"bgcolor\":\"#E5ECF6\",\"angularaxis\":{\"gridcolor\":\"white\",\"linecolor\":\"white\",\"ticks\":\"\"},\"radialaxis\":{\"gridcolor\":\"white\",\"linecolor\":\"white\",\"ticks\":\"\"}},\"ternary\":{\"bgcolor\":\"#E5ECF6\",\"aaxis\":{\"gridcolor\":\"white\",\"linecolor\":\"white\",\"ticks\":\"\"},\"baxis\":{\"gridcolor\":\"white\",\"linecolor\":\"white\",\"ticks\":\"\"},\"caxis\":{\"gridcolor\":\"white\",\"linecolor\":\"white\",\"ticks\":\"\"}},\"coloraxis\":{\"colorbar\":{\"outlinewidth\":0,\"ticks\":\"\"}},\"colorscale\":{\"sequential\":[[0.0,\"#0d0887\"],[0.1111111111111111,\"#46039f\"],[0.2222222222222222,\"#7201a8\"],[0.3333333333333333,\"#9c179e\"],[0.4444444444444444,\"#bd3786\"],[0.5555555555555556,\"#d8576b\"],[0.6666666666666666,\"#ed7953\"],[0.7777777777777778,\"#fb9f3a\"],[0.8888888888888888,\"#fdca26\"],[1.0,\"#f0f921\"]],\"sequentialminus\":[[0.0,\"#0d0887\"],[0.1111111111111111,\"#46039f\"],[0.2222222222222222,\"#7201a8\"],[0.3333333333333333,\"#9c179e\"],[0.4444444444444444,\"#bd3786\"],[0.5555555555555556,\"#d8576b\"],[0.6666666666666666,\"#ed7953\"],[0.7777777777777778,\"#fb9f3a\"],[0.8888888888888888,\"#fdca26\"],[1.0,\"#f0f921\"]],\"diverging\":[[0,\"#8e0152\"],[0.1,\"#c51b7d\"],[0.2,\"#de77ae\"],[0.3,\"#f1b6da\"],[0.4,\"#fde0ef\"],[0.5,\"#f7f7f7\"],[0.6,\"#e6f5d0\"],[0.7,\"#b8e186\"],[0.8,\"#7fbc41\"],[0.9,\"#4d9221\"],[1,\"#276419\"]]},\"xaxis\":{\"gridcolor\":\"white\",\"linecolor\":\"white\",\"ticks\":\"\",\"title\":{\"standoff\":15},\"zerolinecolor\":\"white\",\"automargin\":true,\"zerolinewidth\":2},\"yaxis\":{\"gridcolor\":\"white\",\"linecolor\":\"white\",\"ticks\":\"\",\"title\":{\"standoff\":15},\"zerolinecolor\":\"white\",\"automargin\":true,\"zerolinewidth\":2},\"scene\":{\"xaxis\":{\"backgroundcolor\":\"#E5ECF6\",\"gridcolor\":\"white\",\"linecolor\":\"white\",\"showbackground\":true,\"ticks\":\"\",\"zerolinecolor\":\"white\",\"gridwidth\":2},\"yaxis\":{\"backgroundcolor\":\"#E5ECF6\",\"gridcolor\":\"white\",\"linecolor\":\"white\",\"showbackground\":true,\"ticks\":\"\",\"zerolinecolor\":\"white\",\"gridwidth\":2},\"zaxis\":{\"backgroundcolor\":\"#E5ECF6\",\"gridcolor\":\"white\",\"linecolor\":\"white\",\"showbackground\":true,\"ticks\":\"\",\"zerolinecolor\":\"white\",\"gridwidth\":2}},\"shapedefaults\":{\"line\":{\"color\":\"#2a3f5f\"}},\"annotationdefaults\":{\"arrowcolor\":\"#2a3f5f\",\"arrowhead\":0,\"arrowwidth\":1},\"geo\":{\"bgcolor\":\"white\",\"landcolor\":\"#E5ECF6\",\"subunitcolor\":\"white\",\"showland\":true,\"showlakes\":true,\"lakecolor\":\"white\"},\"title\":{\"x\":0.05},\"mapbox\":{\"style\":\"light\"}}},\"xaxis\":{\"anchor\":\"y\",\"domain\":[0.0,1.0],\"title\":{\"text\":\"weather condition\"}},\"yaxis\":{\"anchor\":\"x\",\"domain\":[0.0,1.0],\"title\":{\"text\":\"number of cases\"}},\"legend\":{\"tracegroupgap\":0},\"margin\":{\"t\":60},\"barmode\":\"relative\",\"width\":640,\"title\":{\"text\":\"number of cases by weather condition\"}},                        {\"toImageButtonOptions\": {\"format\": \"svg\", \"filename\": \"weather\"}, \"responsive\": true}                    ).then(function(){\n",
              "                            \n",
              "var gd = document.getElementById('e58cc9ad-b5c3-40db-a4af-e80c77050096');\n",
              "var x = new MutationObserver(function (mutations, observer) {{\n",
              "        var display = window.getComputedStyle(gd).display;\n",
              "        if (!display || display === 'none') {{\n",
              "            console.log([gd, 'removed!']);\n",
              "            Plotly.purge(gd);\n",
              "            observer.disconnect();\n",
              "        }}\n",
              "}});\n",
              "\n",
              "// Listen for the removal of the full notebook cells\n",
              "var notebookContainer = gd.closest('#notebook-container');\n",
              "if (notebookContainer) {{\n",
              "    x.observe(notebookContainer, {childList: true});\n",
              "}}\n",
              "\n",
              "// Listen for the clearing of the current output cell\n",
              "var outputEl = gd.closest('.output');\n",
              "if (outputEl) {{\n",
              "    x.observe(outputEl, {childList: true});\n",
              "}}\n",
              "\n",
              "                        })                };                            </script>        </div>\n",
              "</body>\n",
              "</html>"
            ]
          },
          "metadata": {}
        }
      ]
    },
    {
      "cell_type": "markdown",
      "source": [
        "The most frequently recorded weather conditions are \"cloudy\" (`WEATHER1`) and \"rain\" (`WEATHER4`).\n",
        "\n",
        "`INJSEVA` indicates the most serious sustained injury in the accident. For instance, if one person was not injured, and another person suffered a non-incapacitating injury, injury class 2 was assigned to the case.\n",
        "\n",
        "Information on injury severity has been taken from police accident reports, which are not available in the data. Unfortunately, this information does not necessarily align with the case description: There are many cases for which the case description indicates the presence of an injury, but INJSEVA does not, and vice versa.\n",
        "\n",
        "For this reason, we created manually an additional column `INJSEVB` based on the case description, to indicate the presence of a (possible) bodily injury. The table below shows the distribution of number of cases by the two variables.\n",
        "\n",
        "| `INJSEVA` | meaning | count | `INJSEVB`=0 | `INJSEVB`=1 |\n",
        "|---|---|---|---|---|\n",
        "|  0 | O - No injury | 1'458 | 96| 1'554 |\n",
        "|  1 | C - Possible injury | 1'112 | 1'298 | 2'410 |\n",
        "|  2 | B - Non-incapacitating injury | 729 | 945 | 1'674 |\n",
        "|  3 | A - Incapacitating injury | 304 | 373 | 677 |\n",
        "|  4 | K - Killed | 5 | 114 | 119 |\n",
        "|  5 | U - Injury, severity unknown | 44 | 122 | 166 |\n",
        "|  6 | Died prior to crash  | 0 | 0| 0 |\n",
        "|  9 | Unknown if injured  | 51 | 16 | 67 |\n",
        "| 10 | No person in crash  | 1 | 0| 1 |\n",
        " 11 | No PAR (police accident report) obtained | 231 | 50 | 281 |\n",
        "|**Total**| | **3'935** | **3'014**| **6'949**|\n",
        "\n",
        "Now we turn to the verbal accident descriptions. First, we examine the length of the English texts, `SUMMARY_EN`. To this end, we split the texts into words, with blank spaces as separator, and show a box plot of the text length by number of vehicles involved in the accident:"
      ],
      "metadata": {
        "id": "5JgGwQUt6Y8l"
      }
    },
    {
      "cell_type": "code",
      "source": [
        "# statistics of summary length\n",
        "df[\"words per case summary\"] = df[\"SUMMARY_EN\"].str.split().apply(len)\n",
        "print(f\"Overall number of words by case summary: min {df['words per case summary'].min()}, \"\n",
        "      f\"average {df['words per case summary'].mean():.0f}, max {df['words per case summary'].max()}\")\n",
        "fig = px.box(df, x=\"NUMTOTV\", y=\"words per case summary\", width=640)\n",
        "fig.show(config={\"toImageButtonOptions\": {\"format\": 'svg', \"filename\": \"text_length\"}})"
      ],
      "metadata": {
        "colab": {
          "base_uri": "https://localhost:8080/",
          "height": 559
        },
        "id": "EqRcgK837K42",
        "outputId": "583bc6b9-b925-4f2b-dbb5-08c6d21bc102"
      },
      "execution_count": null,
      "outputs": [
        {
          "output_type": "stream",
          "name": "stdout",
          "text": [
            "Overall number of words by case summary: min 60, average 419, max 1248\n"
          ]
        },
        {
          "output_type": "display_data",
          "data": {
            "text/html": [
              "<html>\n",
              "<head><meta charset=\"utf-8\" /></head>\n",
              "<body>\n",
              "    <div>            <script src=\"https://cdnjs.cloudflare.com/ajax/libs/mathjax/2.7.5/MathJax.js?config=TeX-AMS-MML_SVG\"></script><script type=\"text/javascript\">if (window.MathJax && window.MathJax.Hub && window.MathJax.Hub.Config) {window.MathJax.Hub.Config({SVG: {font: \"STIX-Web\"}});}</script>                <script type=\"text/javascript\">window.PlotlyConfig = {MathJaxConfig: 'local'};</script>\n",
              "        <script charset=\"utf-8\" src=\"https://cdn.plot.ly/plotly-2.24.1.min.js\"></script>                <div id=\"c4275720-e365-4602-99fe-a370717a4a13\" class=\"plotly-graph-div\" style=\"height:525px; width:640px;\"></div>            <script type=\"text/javascript\">                                    window.PLOTLYENV=window.PLOTLYENV || {};                                    if (document.getElementById(\"c4275720-e365-4602-99fe-a370717a4a13\")) {                    Plotly.newPlot(                        \"c4275720-e365-4602-99fe-a370717a4a13\",                        [{\"alignmentgroup\":\"True\",\"hovertemplate\":\"NUMTOTV=%{x}\\u003cbr\\u003ewords per case summary=%{y}\\u003cextra\\u003e\\u003c\\u002fextra\\u003e\",\"legendgroup\":\"\",\"marker\":{\"color\":\"#636efa\"},\"name\":\"\",\"notched\":false,\"offsetgroup\":\"\",\"orientation\":\"v\",\"showlegend\":false,\"x\":[2,2,2,1,2,2,2,1,2,2,1,2,1,1,2,3,1,2,2,2,2,1,2,8,3,1,2,2,2,2,2,1,2,1,2,1,2,1,1,1,2,1,1,1,2,2,1,2,2,1,2,1,2,1,2,1,2,2,2,1,2,1,2,2,1,2,3,2,2,2,3,2,3,2,2,2,2,2,2,2,1,1,2,2,2,2,3,2,2,2,2,2,2,2,2,2,2,2,1,1,2,2,2,3,1,2,1,2,1,1,2,1,2,1,2,4,2,2,2,2,3,2,2,2,1,2,2,2,2,2,1,1,1,3,1,3,2,2,1,2,2,1,2,2,2,2,1,2,1,1,2,3,2,2,1,3,1,2,2,3,2,1,2,2,3,2,2,2,2,3,2,4,2,2,3,2,2,2,2,1,2,1,2,3,1,2,2,2,1,2,1,2,1,2,1,2,1,2,5,3,2,2,1,2,2,2,3,2,4,2,2,2,2,1,2,1,1,2,2,2,2,2,2,2,2,1,3,2,2,2,2,2,2,4,2,2,3,1,2,3,2,2,2,2,2,2,2,3,2,2,3,2,1,1,1,2,2,1,2,2,1,2,1,1,1,2,2,1,2,1,2,1,1,2,1,2,2,2,2,2,3,1,1,2,3,1,2,2,2,3,2,3,2,2,2,2,2,2,2,2,2,4,1,2,2,2,1,2,2,2,2,1,1,1,2,2,1,2,2,1,2,2,3,1,2,2,2,2,2,1,2,2,1,1,2,2,2,2,2,1,2,1,2,2,4,2,1,2,3,2,2,3,2,3,2,2,1,1,3,1,2,1,2,1,2,2,2,1,2,1,3,2,1,3,2,2,1,2,3,2,2,2,1,2,2,1,2,2,1,3,1,2,2,1,2,1,1,2,2,3,1,2,3,1,2,2,2,1,2,1,2,1,2,1,2,2,2,3,1,2,2,2,2,2,3,1,3,2,3,2,2,3,1,2,2,2,1,1,1,2,2,2,2,1,2,1,2,2,2,2,2,2,2,2,2,1,2,2,1,1,2,2,1,1,3,2,2,2,1,1,2,3,3,3,2,2,4,3,4,1,2,2,1,2,3,2,2,2,1,1,2,2,2,3,2,2,2,2,2,2,1,2,2,2,1,2,1,2,2,2,1,2,2,1,1,2,2,1,2,2,1,2,2,1,2,2,2,2,2,2,2,2,3,3,2,2,4,2,2,2,3,2,1,1,2,1,2,2,3,2,2,2,1,2,4,2,2,2,1,2,1,2,2,2,1,1,2,1,2,2,1,2,2,2,1,2,1,2,2,1,2,1,2,4,2,2,2,1,2,1,2,1,2,2,3,3,1,2,3,2,2,2,2,5,2,2,1,3,2,2,2,2,2,2,2,1,3,2,1,2,3,2,2,2,2,2,2,2,3,2,2,3,2,2,3,2,2,4,2,3,2,2,2,3,3,2,2,1,2,3,2,2,3,1,1,2,2,2,2,2,1,2,2,1,2,4,2,1,2,2,1,1,2,1,2,2,3,3,2,1,1,2,1,1,3,2,2,2,2,2,2,2,2,2,1,2,2,2,2,2,2,2,2,1,2,1,2,2,1,2,2,2,4,2,2,2,2,1,2,2,1,2,5,1,2,1,2,1,1,2,1,1,2,2,1,1,2,2,2,2,2,2,2,2,1,3,2,2,1,2,2,1,2,3,2,4,2,2,2,2,2,2,2,2,2,2,2,2,4,1,2,2,2,2,1,3,2,1,2,1,3,3,2,2,3,2,2,2,4,2,2,2,2,2,2,2,2,1,1,1,2,2,1,2,2,2,1,1,1,2,3,2,1,2,2,1,2,1,1,2,2,2,2,2,3,1,2,2,2,2,2,1,2,2,2,2,1,2,2,1,3,1,2,2,2,1,2,2,2,1,2,1,1,1,1,1,1,1,3,2,2,2,2,1,1,2,2,2,1,3,1,3,1,2,2,2,1,2,2,2,2,2,2,1,3,1,4,2,1,2,3,3,2,2,2,2,2,1,2,2,2,2,2,1,2,1,2,2,2,2,2,2,2,2,1,4,2,2,2,1,2,2,3,1,2,2,2,1,2,1,2,2,3,2,2,2,2,2,2,2,2,2,2,1,1,1,2,2,1,1,2,2,2,2,2,1,2,2,1,2,1,3,2,2,1,2,1,2,1,1,2,2,2,3,2,2,1,2,2,2,2,2,2,1,1,3,1,2,1,2,3,2,2,2,3,2,2,5,4,2,3,1,1,2,2,2,2,1,2,2,2,2,2,1,2,2,2,2,2,1,2,2,1,2,2,2,2,2,3,1,1,3,2,2,2,1,2,2,2,1,2,1,1,1,1,3,2,2,2,2,4,2,2,2,2,3,2,2,1,2,2,2,2,2,2,2,2,2,2,3,1,1,2,2,2,1,2,2,2,2,1,2,2,2,2,2,1,2,1,2,1,6,2,2,1,3,4,3,3,3,2,2,2,2,3,3,1,2,2,3,1,1,2,2,3,2,1,2,1,2,2,2,2,2,3,2,1,3,2,2,2,1,2,2,2,2,2,5,2,4,1,1,1,2,2,2,1,2,2,2,2,2,2,2,2,2,2,1,2,2,1,2,2,3,1,2,2,1,1,3,2,2,2,2,1,3,2,2,2,2,2,2,2,1,2,1,3,3,1,2,2,2,2,2,2,2,2,6,1,3,2,1,2,2,4,1,1,2,2,2,3,1,1,7,3,1,1,3,1,3,2,2,2,2,1,2,1,2,2,1,2,1,1,3,3,2,1,2,2,2,1,2,2,2,2,2,2,2,2,2,2,1,2,2,3,3,2,2,3,1,2,3,3,2,5,2,2,2,3,1,2,2,4,2,2,2,2,1,2,3,2,2,4,2,1,2,2,4,1,1,3,4,2,3,2,3,2,3,1,2,2,2,3,2,2,2,2,1,2,2,2,1,2,1,2,1,3,3,3,3,2,2,2,3,2,3,3,2,2,2,3,3,1,1,1,2,2,2,2,2,2,2,1,1,2,1,2,2,2,2,2,3,3,1,2,2,2,2,2,2,2,2,2,2,2,2,2,3,3,3,1,2,2,2,2,2,3,2,1,2,2,4,2,1,2,2,1,2,3,2,2,2,1,2,2,1,2,2,2,2,1,2,1,2,1,2,2,2,2,2,3,2,3,2,2,2,4,1,1,3,2,4,3,2,2,3,1,2,2,2,2,1,2,1,3,2,1,2,2,1,2,1,2,1,2,2,2,2,4,3,3,2,2,2,3,2,3,2,1,2,3,1,2,2,2,1,1,1,2,2,2,2,4,2,2,1,4,2,1,2,4,1,1,2,2,1,1,2,3,2,2,2,2,1,1,1,2,3,2,2,1,2,2,2,3,2,2,2,1,2,3,1,3,2,2,2,5,2,1,2,1,1,2,1,3,1,2,1,1,1,1,1,1,2,1,2,2,1,2,1,1,2,2,3,2,2,1,2,2,1,1,1,1,1,1,2,2,1,1,1,2,2,1,2,1,2,1,1,2,1,1,2,1,2,1,1,1,2,1,1,2,1,1,2,2,1,2,1,1,1,1,1,2,1,2,2,1,2,2,2,1,1,2,2,1,2,2,2,3,3,2,2,1,2,3,1,3,2,2,2,2,4,1,1,3,1,2,1,2,1,1,1,2,2,2,1,2,1,2,1,2,2,1,2,2,2,2,2,2,3,2,2,2,2,1,2,3,2,2,2,3,2,2,2,2,2,2,2,2,2,4,4,2,1,2,2,2,3,3,2,2,2,2,3,2,4,2,2,1,3,1,3,2,1,2,2,1,2,2,2,2,2,2,2,2,2,3,2,1,2,2,1,1,3,2,3,2,2,2,2,2,1,2,1,2,1,3,1,3,2,3,2,2,3,3,2,2,2,2,2,3,2,3,3,3,4,2,2,2,2,4,2,2,2,2,2,2,2,2,3,2,3,2,2,2,2,2,3,2,1,1,2,2,2,3,2,2,2,2,3,1,1,1,2,2,2,1,2,2,2,2,2,3,3,1,2,2,2,1,3,2,1,2,2,4,2,2,4,1,3,2,3,3,4,3,2,1,2,1,2,2,2,2,1,1,4,1,2,2,2,2,2,2,2,3,2,2,2,2,4,2,2,2,2,4,1,2,2,3,3,2,3,1,2,2,2,2,2,2,1,2,4,2,2,2,1,3,2,4,2,3,2,2,2,2,2,3,2,2,2,2,2,3,2,3,2,2,2,3,3,1,2,3,2,2,2,1,2,2,1,2,2,2,2,2,3,2,2,1,1,1,3,5,3,1,2,2,2,2,3,2,2,2,2,2,3,2,1,2,2,2,2,2,2,1,1,2,1,2,1,1,2,4,1,2,2,2,1,3,2,1,2,2,2,2,2,4,2,1,1,1,4,2,3,1,1,1,2,2,1,1,1,2,2,2,1,4,2,1,1,1,2,1,1,1,3,1,2,2,1,2,1,1,2,2,1,1,3,2,3,2,5,2,3,2,2,2,4,4,2,2,5,2,2,1,2,2,3,2,2,2,2,2,2,2,2,2,2,2,2,3,2,3,2,1,2,2,2,2,2,2,2,3,2,2,3,3,2,2,2,2,2,2,2,2,2,2,3,2,3,2,2,2,1,2,1,2,3,2,2,2,2,2,5,2,1,1,2,2,1,2,3,2,2,2,2,2,2,2,2,4,1,2,2,2,2,2,1,2,2,2,3,3,2,3,3,1,1,2,2,2,1,2,2,2,1,2,1,1,1,2,2,2,2,3,2,3,2,2,3,3,2,2,2,2,1,2,2,2,2,2,2,2,3,3,3,2,2,2,2,2,2,1,2,2,2,3,2,2,2,2,2,2,1,2,3,2,4,2,4,2,4,2,1,1,2,2,2,3,3,1,2,3,2,3,2,2,1,2,2,1,2,2,5,2,2,2,2,1,3,2,3,1,2,2,3,1,4,2,3,2,2,3,3,4,2,3,4,2,1,2,2,3,4,1,2,2,3,2,2,2,2,2,1,2,2,2,2,2,3,4,1,1,3,2,2,2,2,1,2,2,4,2,2,3,1,1,2,2,2,3,2,2,2,3,3,2,2,1,2,2,2,1,2,2,1,1,2,1,2,1,1,2,1,1,2,1,3,2,3,1,2,2,3,2,1,2,2,2,2,2,2,2,3,2,1,2,1,2,3,1,2,2,1,3,2,4,2,1,1,1,1,2,2,2,2,2,1,2,2,1,2,2,2,2,2,3,1,1,2,1,2,3,3,1,3,2,2,2,2,1,2,4,1,2,2,1,1,2,2,2,2,3,2,2,1,3,5,1,2,2,2,2,2,2,2,2,2,3,2,2,1,1,2,2,2,2,1,3,3,3,1,1,1,1,2,2,2,2,2,2,2,1,3,1,2,2,1,1,2,3,1,2,1,2,2,2,2,2,1,2,2,1,2,1,2,2,2,1,1,2,2,2,2,1,2,1,2,2,1,1,1,2,2,1,2,1,1,2,3,2,1,1,1,2,1,2,1,1,2,2,1,1,2,2,2,2,1,2,1,2,2,2,2,3,1,2,2,2,2,2,1,2,1,2,2,2,1,2,1,1,1,2,1,1,1,4,1,1,2,3,2,1,1,2,2,1,1,1,3,2,2,1,2,2,2,2,2,2,3,2,1,2,1,2,2,2,1,2,2,2,2,2,2,2,2,2,2,2,2,2,2,2,2,1,3,2,1,2,2,2,2,2,2,2,2,1,2,3,2,2,3,3,1,3,2,2,1,2,2,2,1,2,3,2,1,2,1,2,2,1,2,2,2,2,2,2,1,2,2,2,1,2,2,1,2,1,2,2,2,1,2,2,2,1,3,2,1,1,2,2,1,2,2,2,1,2,2,1,2,2,1,2,1,1,2,2,1,2,2,2,3,2,2,1,1,2,4,2,2,2,2,2,1,1,1,1,2,2,2,2,1,3,1,2,2,2,2,2,2,1,2,2,1,2,2,2,1,2,2,2,2,2,2,2,2,1,2,1,1,1,2,2,2,2,2,2,1,6,2,2,2,2,2,2,2,2,2,1,2,1,2,2,1,2,1,3,2,2,3,2,2,2,2,2,3,2,3,2,2,1,2,3,4,3,2,3,2,2,1,3,3,2,2,1,3,3,2,2,2,1,3,1,2,1,3,2,2,2,1,1,3,1,1,1,1,2,2,1,2,2,1,2,2,2,2,2,3,3,2,2,2,2,3,1,2,2,1,4,1,4,3,3,2,1,2,1,2,1,3,3,2,2,2,3,2,2,4,1,1,2,1,3,2,2,2,3,3,2,2,2,2,2,2,1,2,1,1,2,1,1,1,1,3,2,2,2,2,1,2,2,2,3,3,3,2,2,3,1,2,2,1,2,2,2,2,2,2,2,1,1,2,2,1,2,1,2,1,2,2,2,1,2,2,2,2,2,3,1,4,2,2,2,3,2,1,1,2,2,2,3,2,1,2,2,1,1,2,2,2,2,2,1,3,2,1,2,3,1,2,2,2,3,2,2,1,2,1,1,1,3,2,3,2,2,2,2,1,2,2,2,1,2,2,1,2,2,1,1,1,2,1,2,2,1,2,2,1,2,2,2,1,2,2,2,2,1,1,2,2,2,1,2,2,1,2,2,2,2,3,3,2,3,2,2,2,3,1,2,2,2,1,3,2,1,4,2,2,1,3,2,2,2,1,2,5,2,2,2,2,1,1,1,2,2,3,3,1,1,2,1,1,2,2,1,1,1,2,4,2,2,2,1,3,3,1,1,2,3,2,3,1,1,1,1,1,1,2,1,1,2,2,2,1,2,1,2,2,2,1,1,2,2,1,3,2,1,1,2,2,2,1,1,2,2,2,2,3,2,1,1,2,2,1,2,2,1,2,2,2,2,2,2,1,2,4,3,1,1,2,1,1,1,2,2,2,2,1,1,1,2,2,2,2,1,3,2,1,1,1,3,1,2,2,1,1,2,2,1,1,2,3,4,2,2,2,1,2,1,2,1,2,2,2,2,3,2,2,2,2,2,1,1,2,2,2,3,2,2,2,2,2,2,1,2,3,3,2,1,2,2,1,2,2,2,3,1,2,1,2,3,2,2,2,3,1,2,2,2,1,2,2,2,2,1,1,1,2,2,2,2,2,2,3,1,2,1,2,1,3,2,2,2,2,2,1,2,2,2,2,1,2,1,1,1,1,1,1,2,2,1,1,1,2,1,2,2,2,2,1,2,2,2,2,2,2,1,2,2,2,2,3,2,2,3,2,1,2,2,2,2,1,1,1,2,1,1,3,2,2,2,2,2,2,2,2,1,2,1,2,2,2,2,2,1,2,1,2,1,2,2,2,2,2,2,1,2,1,2,2,2,2,2,2,1,2,1,2,1,2,2,3,2,2,3,3,2,1,2,2,2,3,2,2,2,2,2,2,3,2,3,2,1,2,1,2,2,2,2,2,2,2,2,2,2,2,2,2,2,2,3,2,1,2,1,2,3,2,2,2,2,1,2,3,1,2,4,2,1,2,1,1,2,2,1,2,2,2,2,1,2,1,2,2,2,3,2,3,2,1,2,1,3,1,2,2,1,2,2,2,2,2,2,2,2,3,2,1,1,2,2,2,2,3,2,2,2,3,2,2,2,1,2,2,4,2,2,1,2,1,2,1,1,2,2,1,2,2,1,2,2,2,1,2,3,2,2,3,2,1,1,1,3,1,1,3,2,2,2,2,2,2,3,3,2,2,2,3,2,3,1,1,2,3,2,2,3,2,1,1,3,4,4,2,1,3,1,2,5,1,2,1,2,2,2,3,2,2,1,2,2,2,2,2,2,1,1,2,2,2,2,1,2,2,2,2,2,3,1,2,2,2,2,3,3,1,1,1,1,2,2,1,2,2,2,3,1,2,1,1,3,2,2,3,1,2,2,2,2,2,2,1,2,2,2,3,1,1,2,2,2,2,2,2,2,2,1,2,1,2,1,1,1,2,2,3,2,2,2,4,2,2,2,3,2,2,2,2,3,2,2,2,2,2,3,3,1,2,2,2,2,1,2,4,2,2,2,2,2,5,3,1,2,2,2,2,3,2,2,2,2,2,2,2,3,3,2,1,1,2,2,1,2,1,2,3,2,2,2,1,2,2,2,1,2,2,2,2,2,2,3,2,1,2,2,1,2,2,3,2,1,2,2,3,2,2,2,3,3,1,3,2,2,1,3,2,1,2,2,2,2,2,1,1,2,2,3,2,2,1,2,2,3,3,2,6,2,3,2,2,2,2,1,3,2,2,2,2,2,2,2,2,2,2,2,2,2,2,2,1,2,2,2,2,1,2,2,2,2,4,3,2,1,3,2,2,2,3,2,3,1,2,2,2,2,2,4,2,1,2,2,2,2,2,2,1,2,2,2,3,2,4,2,2,1,3,4,3,3,2,2,2,1,2,1,2,2,4,2,3,1,2,2,1,2,1,2,2,3,2,1,1,2,3,4,2,2,2,1,2,2,2,1,1,2,2,1,1,2,3,1,2,2,1,2,1,2,3,2,1,3,2,2,1,2,2,1,1,1,4,1,3,5,4,2,2,2,2,2,2,2,1,3,2,1,1,2,3,2,1,2,2,1,2,2,2,3,1,2,2,2,2,2,2,2,1,2,4,1,1,2,1,4,3,2,2,2,1,1,2,2,1,2,2,1,1,2,1,1,3,2,1,1,2,2,1,1,1,2,1,2,2,1,2,1,1,1,1,1,1,3,1,1,1,1,1,1,1,1,1,3,1,1,1,2,1,2,2,3,2,1,1,1,2,3,1,2,2,1,1,1,1,2,3,3,2,1,1,3,1,2,2,1,2,2,1,2,3,1,3,2,1,2,2,1,2,1,1,3,1,1,1,2,1,2,1,1,2,2,1,1,2,2,1,1,2,2,2,2,2,2,2,1,2,2,2,3,2,2,2,2,2,2,2,1,2,2,1,1,2,2,2,2,2,1,2,1,2,2,1,2,3,2,2,1,2,2,1,2,2,2,1,4,3,2,2,2,2,2,2,1,2,2,2,2,1,2,1,2,3,2,2,2,2,3,2,2,2,4,2,3,1,2,2,2,1,2,2,1,1,2,2,2,1,1,2,2,1,2,1,2,2,3,2,2,1,2,3,1,3,2,1,2,3,2,3,2,3,2,2,2,2,2,2,2,1,1,2,3,2,1,1,2,1,2,2,2,2,1,1,2,2,1,2,1,2,2,2,2,3,2,2,1,2,1,2,2,2,2,2,2,3,2,2,2,2,2,2,1,2,3,2,2,3,2,2,1,2,2,2,1,2,2,3,3,2,2,4,2,2,2,2,3,2,2,2,1,1,4,3,3,2,2,2,2,2,2,1,3,3,1,3,1,2,2,1,2,1,2,1,2,2,2,2,3,2,1,2,2,1,2,2,2,2,2,2,2,2,2,3,2,2,1,2,2,4,2,2,3,2,2,2,2,3,2,2,2,2,2,2,1,1,2,2,1,2,2,1,3,2,3,1,3,2,3,1,1,2,2,2,2,1,3,2,2,1,2,1,2,2,2,2,2,1,2,2,2,3,1,1,2,3,1,2,1,2,1,3,2,3,1,2,2,2,1,1,1,2,1,2,1,1,2,1,2,2,2,2,1,1,1,2,3,2,1,2,2,1,2,1,1,1,2,2,2,1,3,2,2,1,2,1,1,2,3,1,1,2,2,1,2,1,4,2,2,3,2,2,2,1,2,2,2,1,1,2,2,2,1,2,2,1,2,2,2,1,4,1,2,1,2,3,2,2,2,2,2,2,2,3,2,3,2,2,3,3,2,2,2,4,3,3,2,3,2,2,3,2,4,2,4,2,2,2,2,2,1,2,2,2,1,5,2,3,2,2,2,2,2,5,1,1,3,3,2,2,2,1,2,1,2,1,3,2,1,2,2,2,2,3,2,2,2,2,2,2,2,2,2,1,3,2,2,3,2,2,1,5,3,2,3,2,3,1,3,2,2,2,2,2,2,1,2,2,2,2,2,2,3,3,2,2,4,2,2,2,2,3,2,2,2,2,2,2,3,2,2,2,2,2,5,2,1,1,2,1,2,1,2,1,2,2,2,2,2,2,1,3,2,1,2,2,1,1,2,2,1,2,2,1,1,2,2,4,1,2,1,3,1,1,2,1,1,2,1,2,2,2,2,1,2,1,1,2,2,1,1,1,1,1,1,4,2,2,2,1,2,2,2,3,2,2,2,2,2,2,2,3,2,2,5,2,2,4,2,1,2,3,4,3,2,1,2,2,2,2,1,2,3,3,2,2,3,2,2,2,2,2,3,2,2,2,2,2,2,2,2,2,1,2,2,3,1,2,3,1,2,2,2,2,2,2,1,2,2,2,2,2,3,2,2,4,2,2,3,1,2,1,2,2,2,2,2,2,2,2,3,2,2,2,2,1,3,2,2,1,2,2,3,2,2,1,2,2,2,3,2,1,2,1,2,2,2,2,2,2,2,2,1,2,2,2,2,1,4,2,2,2,2,2,2,2,2,2,2,2,1,2,2,2,2,2,2,4,2,1,1,1,1,2,3,2,2,1,2,2,1,2,1,3,2,1,1,2,1,2,2,2,2,2,2,1,2,2,3,2,2,3,3,2,2,1,2,1,2,2,1,1,2,1,1,2,1,2,2,3,1,3,1,2,2,2,2,1,2,1,2,2,2,2,1,2,1,1,2,2,2,2,2,2,2,2,2,2,2,2,2,2,1,2,3,3,1,2,2,2,3,2,1,3,1,1,3,4,3,1,2,2,2,1,2,1,1,2,2,2,3,2,2,1,2,1,2,1,2,2,1,1,2,1,2,2,2,2,2,1,1,1,2,2,1,1,2,1,2,3,1,2,1,1,1,1,2,1,2,1,1,2,2,1,2,2,1,2,2,3,2,2,2,1,2,1,2,2,2,2,2,2,1,2,2,2,2,2,1,3,1,1,2,2,2,2,2,2,2,2,2,2,2,2,2,2,2,4,1,3,2,2,3,2,1,2,2,1,2,2,2,2,2,2,3,2,2,2,2,3,2,2,2,2,1,2,2,2,2,2,2,1,2,2,2,3,2,2,2,1,1,2,4,1,2,1,1,2,1,2,2,1,2,2,1,1,1,2,2,2,5,3,3,4,3,2,2,2,2,3,2,2,1,1,1,3,2,3,2,2,3,2,2,2,2,1,1,3,1,1,2,2,2,1,2,2,2,2,2,1,1,2,2,2,1,1,2,2,2,1,2,2,1,1,2,2,2,2,1,1,2,1,1,1,1,3,1,2,1,2,1,1,2,2,1,2,3,2,2,2,1,2,2,2,2,2,1,3,2,2,3,1,1,2,1,4,2,1,1,1,2,1,1,2,3,2,1,2,1,1,1,2,2,1,1,2,2,1,1,1,1,1,2,1,1,2,2,2,1,2,1,1,2,2,2,2,2,2,1,3,3,2,2,2,2,2,3,2,1,3,2,3,2,2,3,1,2,2,1,2,2,2,1,1,2,2,2,1,1,2,1,2,1,2,3,1,2,2,1,1,1,2,1,2,2,3,2,2,1,1,1,2,2,2,3,2,1,1,2,3,1,2,2,2,2,2,1,3,3,2,2,2,2,2,2,2,2,3,2,1,1,1,2,2,2,1,1,2,2,2,2,3,1,2,2,2,2,2,2,1,2,2,2,2,1,2,2,2,3,3,2,2,2,2,2,2,2,2,1,2,2,2,1,2,2,1,1,2,1,2,1,2,2,2,1,1,1,3,3,1,2,1,2,1,1,1,2,2,1,1,1,1,1,2,1,3,1,2,2,2,2,3,2,1,2,2,2,2,2,2,2,2,1,2,3,2,1,2,2,1,2,2,1,5,2,2,2,2,2,2,1,2,2,2,1,1,3,2,2,2,2,2,2,2,3,2,2,2,1,2,1,1,2,2,2,2,2,2,3,1,2,3,2,2,1,2,2,3,2,1,2,3,3,2,2,4,2,3,2,2,3,2,2,2,1,2,3,2,3,3,3,1,2,2,1,4,2,3,1,5,2,3,2,2,2,1,2,2,4,2,3,2,1,3,2,2,2,1,2,2,2,2,3,4,2,2,1,1,2,2,2,2,1,2,2,2,2,2,1,2,3,2,1,2,2,3,4,2,1,2,1,2,5,3,2,2,5,1,2,1,2,1,2,3,3,2,2,3,1,1,2,1,2,1,2,2,3,2,3,2,2,2,2,1,2,7,1,2,3,2,2,1,1,2,2,1,1,1,1,1,2,2,2,2,2,2,2,1,4,1,1,2,2,2,3,2,2,2,1,2,2,3,2,2,2,2,2,2,2,2,3,1,2,1,2,2,2,2,1,3,3,1,2,2,2,1,1,2,2,1,1,4,3,1,1,3,1,2,2,2,2,2,1,3,2,2,3,2,2,1,2,1,3,2,1,2,2,1,1,2,2,1,2,1,2,2,1,2,2,2,1,2,2,2,2,2,2,1,1,1,2,1,2,2,2,1,2,2,1,2,1,1,1,2,2,2,2,2,1,1,1,2,1,1,1,1,1,2,1,2,1,1,2,1,1,2,2,1,2,2,3,3,2,2,2,3,1,3,3,1,1,2,2,2,1,2,2,3,1,2,2,2,1,2,2,2,2,2,3,1,1,3,2,2,1,2,2,2,2,2,1,2,2,2,1,2,2,3,1,2,2,2,2,3,2,2,2,1,1,2,3,2,2,1,2,2,1,1,1,3,1,2,2,1,2,2,2,2,2,2,1,1,2,2,2,1,2,1,1,2,2,2,2,1,2,1,2,2,1,2,2,1,2,1,2,2,2,2,3,3,2,2,3,1,1,1,2,4,2,2,1,1,2,2,1,3,1,2,1,4,2,1,2,2,3,3,1,2,1,2,1,2,3,2,2,1,2,3,1,3,1,1,2,2,2,2,1,2,3,3,2,2,1,2,2,3,1,3,2,1,2,2,1,3,3,1,1,2,3,1,2,2,2,1,2,2,2,4,1,2,1,1,2,2,3,1,1,2,1,2,2,2,2,2,1,2,1,2,2,1,3,2,2,2,1,1,1,2,2,2,4,1,2,1,2,1,2,2,2,1,2,2,2,2,1,2,2,3,2,2,2,1,1,2,2,2,2,3,1,1,2,1,2,2,2,2,2,1,1,1,1,2,2,2,2,1,3,2,1,2,1,2,2,2,1,2,1,2,2,2,2,2,1,2,2,2,2,2,1,2,1,2,2,2,2,1,2,1,2,2,3,2,3,2,2,4,3,1,2,2,2,2,2,2,2,1,2,2,3,2,1,2,2,3,2,2,1,2,3,2,2,3,1,1,2,2,1,3,2,2,2,3,2,2,1,2,2,1,2,3,2,1,2,3,2,2,4,1,4,1,2,2,2,1,2,2,2,3,1,2,2,2,2,2,1,1,2,2,3,2,2,2,1,2,2,3,2,2,2,2,2,2,2,2,1,2,1,2,2,1,2,3,1,1,1,3,2,2,1,1,2,2,2,1,2,2,3,2,2,2,1,2,2,1,2,3,2,2,1,3,1,1,2,2,2,1,2,2,3,2,2,3,2,2,2,2,3,2,1,2,2,2,1,2,2,2,2,2,1,2,2,2,2,2,2,2,2,1,4,4,2,2,2,2,2,2,2,1,2,2,2,2,1,1,1,2,2,2,2,1,1,2,2,2,1,3,1,2,2,1,2,3,2,1,1,2,2,2,3,2,2,2,3,2,1,2,2,1,1,1,2,2,2,2,3,2,2,3,2,2,2,2,4,2,2,2,2,2,2,2,1,2,2,2,2,2,3,2,2,2,3,2,2,1,2,3,2,2,2,2,1,2,2,2,2,2,3,2,2,3,1,1,3,2,4,1,2,2,3,2,3,2,1,2,2,2,1,2,2,1,1,2,2,3,2,2,2,2,3,2,2,2,2,2,2,2,2,2,3,2,3,3,1,2,2,2,2,2,1,2,2,2,2,2,4,1,2,1,2,2,2,2,3,2,2,2,2,1,2,2,2,2,1,1,2,2,3,1,3,2,2,1,2,1,2,1,4,3,3,2,2,2,3,1,5,2,1,2,2,1,2,2,2,3,2,2,2,2,1,3,2,2,3,2,2,1,3,2,2,2,2,2,2,3,2,3,2,2,2,1,2,2,2,2,2,2,3,2,2,2,2,2,2,2,2,1,1,3,2,2,2,2,2,2,1,2,3,2,2,2,3,2,2,1,5,2,1,2,1,1,2,1,3,2,1,3,1,1,2,2,1,1,1,3,3,3,1,2,2,1,2,2,3,1,2,1,3,9,1,2,4,1,2,3,2,2,1,3,1,2,1,2,2,2,1,2,2,2,2,2,3,2,2,2,1,2,5,1,2,3,2,1,1,2,1,2,1,1,1,3,1,1,2,2,1,2,1,2,1,3,2,1,2,2,2,1,1,1,2,1,2,2,2,2,2,1,2,2,2,2,2,2,2,2,2,2,1,2,2,2,3,1,2,3,2,2,3,2,1,2,1,1,3,2,2,2,2,2,2,2,1,2,1,2,2,2,1,1,2,5,1,2,2,2,2,2,2,2,2,2,2,1,1,2,1,3,2,1,2,2,1,1,2,1,2,3,1,1,2,1,2,1,1,1,2,2,1,1,1,1,1,1,1,1,1,1,2,2,1,1,2,2,1,1,3,1,1,2,2,1,1,1,1,2,2,2,1,2,1,3,1,1,2,1,1,1,2,1,2,2,2,1,1,1,2,2,1,1,2,1,2,2,2,1,1,1,3,2,2,1,3,1,1,2,1,2,3,2,1,1,2,1,2,1,3,2,2,2,2,2,2,3,2,2,2,2,1,2,2,1,2,2,1,2,2,1,2,2,2,3,2,2,2,3,2,1,2,2,2,2,2,1,3,2,2,1,1,2,3,1,4,2,1,1,1,2,2,1,2,1,4,2,2,1,2,3,2,2,1,2,1,1,3,2,2,2,2,1,1,2,2,1,2,1,1,2,2,1,2,3,2,2,2,3,1,2,3,3,1,4,1,2,1,2,2,2,2,2,1,2,1,2,2,1,1,1,1,2,2,2,1,2,2,1,1,2,2,2,2,2,1,2,1,3,1,2,2,1,2,2,1,1,2,2,2,4,2,1,2,2,2,1,2,2,3,2,1,2,2,2,2,3,2,1,2,2,2,1,2,1,1,2,6,3,2,2,2,2,2,4,1,2,1,1,2,1,2,2,2,2,1,1,1,5,2,2,2,2,1,4,2,2,1,2,2,1,2,2,3,1,2,1,2,1,1,2,2,2,2,2,3,2,2,2,1,1,2,3,1,2,1,1,1,3,2,2,2,2,2,2,2,2,3,1,3,2,1,1,2,3,1,2,1,2,2,1,3,2,2,2,1,1,2,2,2,2,2,2,1,2,1,3,2,2,2,2,2,3,4,2,2,2,2,1,2,2,2,1,2,2,1,2,2,4,2,2,2,2,2,2,2,2,3,2,2,2,3,3,1,2,2,2,2,4,3,2,2,1,2,1,2,3,2,1,2,5,2,2,2,3,2,1,2,2,2,2,2,4,2,2,4,2,2,1,2,2,2,1,5,2,3,1,2,2,1,1,2,2,3,3,4,1,2],\"x0\":\" \",\"xaxis\":\"x\",\"y\":[426,321,510,254,423,645,466,319,535,403,352,611,280,334,477,588,370,399,479,491,318,349,378,446,480,243,362,348,318,477,432,229,501,256,368,436,369,311,260,257,491,325,310,528,536,481,488,588,505,452,486,288,504,436,361,304,668,525,467,297,461,212,228,447,401,307,374,353,321,355,418,354,404,301,373,243,326,288,347,302,234,161,371,333,355,344,395,375,351,383,416,497,340,351,428,662,417,389,197,262,374,396,412,537,257,383,169,410,274,229,315,409,415,257,439,597,348,401,576,374,587,323,270,259,249,365,302,285,395,305,226,261,194,428,288,445,370,342,224,480,425,288,354,317,376,346,350,350,249,201,316,493,415,365,252,532,262,282,356,512,474,351,532,629,508,578,433,488,445,469,387,651,445,505,566,472,377,474,441,292,425,334,359,704,326,378,378,419,223,402,263,610,360,521,261,440,246,285,707,524,352,417,225,475,380,336,412,465,488,378,330,312,483,315,293,332,291,534,240,523,444,327,355,358,329,404,424,457,396,220,331,336,256,211,360,445,365,416,410,293,340,248,504,371,388,324,403,410,478,252,472,377,303,335,392,368,401,376,354,366,337,456,160,143,257,236,225,136,409,99,162,102,225,452,388,554,237,152,169,208,329,141,167,274,158,235,284,319,199,201,209,181,210,276,192,398,201,334,260,388,331,380,286,287,337,270,233,323,201,163,246,118,320,142,241,357,182,354,96,131,303,307,273,181,217,224,251,137,166,60,125,64,84,141,351,295,279,346,269,246,273,229,274,342,506,340,241,452,748,536,733,723,374,928,995,568,536,516,962,387,667,709,674,296,730,612,612,315,688,690,625,617,403,513,312,526,351,151,408,142,781,468,302,486,275,246,212,387,212,481,328,408,301,247,391,219,693,234,321,395,277,287,510,307,454,284,359,249,551,231,418,196,423,301,440,312,400,462,362,377,386,355,308,218,736,356,483,367,777,394,487,863,375,439,257,129,199,180,348,549,595,400,428,370,431,358,395,295,468,354,571,504,615,487,433,325,505,538,379,473,486,560,342,542,531,499,503,641,318,399,446,655,665,546,543,589,599,800,794,462,423,809,213,385,496,344,446,609,182,362,531,450,685,736,422,473,320,447,669,396,293,581,586,707,240,418,221,406,359,389,256,410,381,213,288,307,380,164,354,333,178,357,317,171,415,414,319,356,436,428,431,234,617,468,265,328,423,289,272,362,482,351,187,210,310,228,366,286,426,344,298,337,208,351,542,245,593,650,278,399,264,578,515,406,240,417,345,271,361,582,336,452,438,433,242,290,255,253,323,292,304,294,245,282,164,262,252,242,213,169,240,319,337,336,519,663,452,438,923,439,612,469,352,600,650,669,410,415,626,532,589,546,487,567,532,360,498,509,311,569,655,602,553,613,545,314,431,280,600,361,524,709,549,517,641,486,572,579,500,450,370,398,450,445,455,421,450,226,317,394,423,368,376,195,270,364,414,331,376,445,393,409,345,237,447,416,412,217,316,302,314,269,346,229,290,410,481,425,331,279,236,367,311,529,469,592,379,493,661,411,326,469,480,661,222,411,473,720,448,431,398,476,669,450,702,445,639,367,428,504,474,408,533,591,588,683,462,326,510,368,493,456,617,616,458,316,597,430,299,547,427,398,506,427,433,480,557,551,263,274,440,379,674,591,454,650,718,556,360,449,634,451,526,539,442,474,367,380,371,420,357,385,369,386,422,469,454,290,281,350,337,304,463,373,311,493,396,278,374,209,528,396,311,398,545,396,437,389,714,347,414,364,368,409,363,364,457,327,261,385,386,442,293,380,367,349,262,318,265,453,753,393,794,599,388,680,483,630,397,493,613,401,337,350,491,496,380,435,533,533,528,479,643,426,564,531,565,542,447,281,548,331,461,380,423,384,389,453,483,306,449,278,364,298,328,358,334,302,495,463,437,395,422,372,310,432,380,359,352,845,337,557,306,475,434,526,317,383,500,409,469,447,371,382,642,363,437,479,303,464,567,562,460,426,385,475,307,565,368,592,540,553,519,374,629,447,450,499,507,548,542,586,659,635,334,609,748,537,509,613,425,622,719,378,759,526,544,438,602,490,534,644,706,574,477,533,511,456,550,402,383,382,363,422,501,430,501,467,398,255,450,453,496,422,388,307,398,328,326,534,389,845,403,430,320,492,399,521,399,400,528,477,451,640,559,397,227,338,208,563,406,568,383,170,394,454,271,419,227,292,432,296,255,368,314,336,386,554,505,307,357,251,234,485,353,305,238,223,504,398,381,410,438,232,357,422,428,406,443,301,304,320,327,377,303,322,410,445,389,370,240,359,433,388,488,249,335,501,248,181,335,250,249,279,267,531,384,345,287,529,371,281,298,373,307,366,402,419,234,325,325,392,412,352,361,281,353,269,260,379,254,220,347,336,309,283,367,374,330,294,220,231,258,243,260,205,161,254,362,403,218,482,204,215,156,406,382,334,425,360,287,293,307,257,332,302,215,328,271,323,218,218,303,236,272,219,162,270,248,262,285,266,286,221,301,215,151,364,538,533,520,416,530,282,762,601,582,592,582,827,363,390,368,460,786,556,291,617,440,380,384,285,516,710,319,360,698,317,276,377,242,250,429,317,314,362,343,221,265,447,243,343,369,307,241,342,340,363,272,335,323,320,376,179,304,217,265,371,371,381,285,503,444,326,355,291,299,454,219,434,316,320,447,323,495,367,322,458,669,317,368,623,456,707,573,359,359,432,247,394,564,542,536,370,379,557,301,426,233,288,419,358,388,386,484,289,216,366,743,448,453,463,453,490,501,222,345,326,385,275,247,303,287,247,475,497,335,332,554,344,575,301,296,280,798,414,509,357,316,175,404,367,558,449,474,535,460,500,352,505,319,561,453,303,294,374,342,427,310,394,421,412,351,511,380,441,784,576,302,334,417,275,435,327,317,357,304,299,459,364,623,428,263,185,377,207,380,256,350,306,222,415,419,565,378,457,293,404,650,379,302,542,441,368,377,326,431,336,356,516,530,433,180,313,520,236,472,417,287,329,261,508,620,242,342,586,438,455,320,385,279,452,344,338,366,373,375,488,403,372,354,474,398,388,238,225,278,311,241,259,255,488,496,246,374,320,285,632,543,406,387,421,512,318,471,276,270,511,525,377,250,396,212,424,333,296,362,340,325,353,522,420,306,466,417,370,817,172,276,334,242,365,424,259,310,339,307,260,250,375,215,274,308,258,338,320,229,336,262,294,326,249,293,296,334,301,215,287,353,283,403,298,276,455,530,339,339,397,335,419,594,280,248,261,221,260,243,296,299,362,257,272,382,328,275,210,418,297,231,255,317,234,305,283,257,303,368,382,429,333,323,436,294,329,253,266,346,417,318,381,330,347,315,286,450,346,323,413,279,379,363,287,364,388,378,371,909,332,517,295,230,190,369,178,293,231,371,294,428,170,359,230,355,417,281,292,230,190,328,350,246,320,459,282,416,416,388,307,393,274,330,252,288,301,262,505,797,336,311,208,353,262,244,322,247,301,322,277,280,361,195,322,321,337,187,173,284,254,357,385,351,297,235,287,613,292,347,284,254,269,302,329,348,310,342,420,230,280,298,306,314,272,351,339,317,364,343,368,319,412,300,281,324,335,346,369,530,366,466,381,387,560,449,262,465,319,406,398,416,303,334,377,567,491,404,682,311,338,287,333,484,433,312,364,373,531,351,606,429,639,539,584,390,565,320,545,527,435,435,649,666,579,479,527,328,326,502,464,510,442,678,575,529,293,527,520,444,727,768,384,549,547,639,389,339,438,230,419,268,226,220,353,296,239,294,271,229,243,514,320,445,426,538,286,523,478,495,531,399,360,351,219,331,369,296,330,458,370,311,321,379,353,384,282,409,266,295,231,333,407,473,365,282,304,354,334,308,238,256,315,431,292,579,306,419,388,387,236,280,409,329,479,309,484,416,231,397,454,360,430,482,500,399,375,451,405,390,527,610,331,360,362,382,328,409,465,384,423,367,892,260,243,303,354,333,619,323,370,289,365,334,382,426,427,209,400,563,239,399,469,475,233,354,297,616,366,258,451,364,332,265,285,330,586,386,327,395,344,234,595,436,327,315,358,272,489,238,312,364,254,288,378,372,274,326,270,322,278,319,406,299,439,300,317,381,257,462,392,333,547,306,340,201,386,271,368,284,226,293,165,293,340,251,341,215,237,319,354,401,206,377,251,521,281,326,204,301,252,215,331,313,304,373,340,339,296,300,330,344,360,241,371,341,315,384,317,345,339,383,277,406,271,315,474,456,441,493,408,325,404,344,444,494,472,331,320,331,209,347,443,299,287,361,243,310,339,250,284,298,402,312,251,374,333,404,307,429,348,353,348,232,347,536,274,315,427,343,373,391,421,241,384,399,584,417,420,542,420,280,466,207,489,453,515,387,237,439,406,342,226,360,568,526,577,290,279,421,542,485,447,449,831,390,362,394,589,263,550,497,366,445,345,388,493,506,400,430,598,178,205,447,513,375,445,328,287,363,228,337,278,266,340,373,269,269,297,300,427,374,305,352,225,284,317,314,377,439,380,440,324,305,371,344,360,271,351,257,348,432,319,316,368,434,415,321,373,489,363,734,413,675,694,537,612,798,904,648,1071,865,867,378,819,676,651,483,350,705,913,592,641,622,381,282,671,683,338,250,488,380,303,362,524,397,407,330,386,436,381,322,296,435,237,435,295,361,384,401,249,350,385,405,605,518,464,480,530,314,253,405,351,440,290,415,386,484,340,431,302,379,355,467,445,415,594,748,442,682,383,420,753,619,401,447,337,436,299,501,358,442,424,387,384,445,290,354,487,407,553,425,505,426,480,494,425,426,484,604,463,433,490,420,543,496,767,654,1088,613,1006,556,912,598,842,845,724,429,992,645,722,989,1082,413,974,735,921,770,462,476,429,418,461,488,462,714,875,495,596,667,576,358,762,803,591,476,827,716,761,638,746,437,923,679,588,559,512,547,461,691,730,467,443,514,580,466,610,411,537,777,765,555,403,492,562,629,452,638,507,712,522,462,404,488,355,254,622,419,507,381,680,310,440,570,528,624,479,564,303,375,556,441,552,588,474,517,526,531,538,437,463,213,361,461,382,251,474,416,194,312,271,331,357,213,226,364,204,277,427,251,346,316,444,337,375,294,469,455,353,511,273,408,413,365,361,360,413,395,418,497,280,222,485,365,187,282,251,435,307,289,385,419,245,301,250,373,383,293,395,349,244,330,376,191,320,314,346,371,257,264,301,354,398,265,396,490,291,322,455,324,359,330,369,299,404,701,265,300,228,250,367,306,205,378,330,547,400,382,118,481,587,248,329,402,541,529,503,589,447,503,426,634,618,445,357,340,487,529,559,493,344,670,428,408,256,224,247,322,239,296,208,366,198,199,329,323,472,255,226,423,259,368,362,407,606,536,344,356,296,481,645,423,309,472,427,246,459,419,434,433,550,307,294,455,561,529,448,267,377,265,425,505,336,349,277,528,391,401,453,290,240,503,666,366,427,331,465,437,326,450,404,198,656,342,351,296,415,568,464,470,376,444,242,429,326,419,522,860,298,369,545,465,582,497,349,586,352,492,474,468,353,497,361,276,390,378,319,310,276,517,216,346,402,637,578,354,294,430,439,377,313,791,1077,713,633,480,704,482,503,560,472,515,821,624,357,562,361,801,598,503,322,686,763,460,691,617,568,558,598,614,605,674,482,577,456,529,737,363,802,787,413,676,677,619,513,348,395,307,387,298,472,521,447,379,487,536,225,461,388,460,284,377,334,531,336,425,626,661,308,659,360,698,390,472,466,465,601,399,594,516,305,877,500,373,509,424,449,265,427,367,410,465,789,413,614,680,412,306,983,504,342,270,436,441,275,225,396,418,280,451,394,317,324,453,338,292,226,250,438,371,443,433,424,451,584,492,392,347,378,327,518,532,399,459,394,439,399,312,473,602,398,447,539,371,244,602,364,446,325,335,255,268,340,254,267,273,435,256,299,281,217,226,347,242,235,270,244,300,291,197,244,154,295,221,295,402,371,444,891,487,206,780,481,336,365,560,310,387,331,626,353,414,463,320,273,440,426,521,270,904,388,432,452,429,385,463,532,555,532,508,453,367,427,369,369,820,710,435,532,524,319,639,492,441,674,299,444,253,544,522,358,529,431,337,536,311,386,364,492,375,500,451,374,291,846,313,287,430,322,585,392,344,539,413,301,417,551,276,567,537,691,517,489,617,566,483,597,343,488,494,412,927,328,714,567,588,570,424,540,419,444,344,566,692,443,402,432,540,317,293,466,311,290,399,325,727,452,395,474,613,506,388,373,562,453,388,486,284,526,335,244,318,367,353,400,330,662,358,493,575,402,346,558,285,394,814,509,688,420,373,844,349,555,576,228,489,548,470,488,602,609,355,355,263,560,485,343,639,214,485,477,630,505,465,275,650,550,527,443,567,924,333,420,443,587,607,593,594,372,354,410,375,487,647,453,196,327,432,289,254,382,422,422,452,411,312,621,419,314,487,538,294,397,498,381,527,393,372,311,500,381,413,258,601,463,519,479,399,469,425,302,421,349,398,276,424,269,299,332,484,321,430,336,425,320,387,447,501,810,610,473,728,688,610,404,580,533,606,671,289,387,506,506,621,480,564,592,453,664,746,653,577,824,815,652,804,624,567,665,626,447,872,888,731,710,517,420,329,934,637,555,348,778,479,512,656,325,497,927,552,625,493,631,400,390,380,565,636,811,637,553,569,470,399,421,560,521,365,371,423,548,812,417,666,589,342,969,721,354,387,634,765,563,674,390,432,372,361,357,315,473,333,250,590,433,555,302,598,291,366,420,412,381,487,368,394,327,659,410,255,188,384,468,468,235,299,648,414,363,481,585,503,335,455,441,432,312,462,501,501,531,390,502,284,623,495,368,496,657,600,339,318,483,270,448,295,649,537,505,455,415,376,410,466,491,418,571,549,692,542,309,465,423,604,356,617,638,347,261,476,408,420,362,557,624,570,397,440,452,370,488,335,449,351,357,402,397,449,629,418,583,392,518,446,313,354,433,619,492,624,474,548,645,488,626,346,240,488,364,603,339,281,297,333,379,388,334,317,348,220,302,218,419,382,417,321,425,318,358,266,251,633,256,313,534,338,419,256,234,233,273,495,379,232,222,339,334,409,254,447,322,268,406,270,374,432,438,271,297,314,304,263,262,192,331,285,236,208,247,210,195,300,432,510,318,328,308,204,427,221,286,420,321,235,356,353,357,643,495,230,318,367,362,304,301,375,305,280,265,252,256,259,311,285,244,213,428,202,248,243,396,267,385,293,347,234,398,299,337,236,336,197,327,316,370,368,378,197,367,281,494,284,372,421,429,505,456,499,317,324,186,445,456,465,401,252,320,422,376,302,439,266,398,384,412,318,385,426,609,317,227,357,381,291,277,377,250,269,310,318,323,405,523,376,280,277,341,347,229,224,218,285,226,240,391,268,221,229,339,241,231,256,271,270,235,231,429,306,393,420,304,642,364,333,378,371,426,300,264,337,275,259,371,299,202,535,336,284,336,271,435,342,321,378,398,568,591,479,595,538,859,590,411,529,441,604,426,568,470,549,420,459,402,523,776,425,355,719,377,339,270,225,308,342,389,282,397,451,268,493,371,677,340,360,275,307,410,386,283,505,287,403,309,253,353,440,499,420,346,292,355,361,462,325,327,317,325,435,333,381,342,451,348,395,277,620,285,306,540,337,350,449,409,240,487,462,596,258,265,284,344,338,405,365,282,329,379,354,469,481,358,377,315,520,293,373,432,501,611,162,394,479,295,462,353,353,382,712,664,663,247,233,412,328,483,456,253,286,335,324,335,360,311,257,269,295,390,350,345,324,593,248,372,330,261,473,356,442,197,301,450,243,507,489,287,307,643,583,563,278,370,323,281,462,444,293,570,346,454,397,376,322,360,426,281,491,378,368,427,209,388,387,766,634,560,366,501,322,419,246,332,397,403,446,239,270,520,274,557,313,485,409,412,332,492,278,461,228,274,364,370,542,528,430,495,417,391,519,429,354,354,441,377,440,433,423,452,346,366,492,471,502,465,554,245,365,422,440,463,823,489,474,401,422,388,407,443,598,484,488,237,278,404,380,348,413,296,401,513,354,347,400,272,375,399,374,266,348,414,399,437,592,305,605,578,267,361,375,322,333,444,474,428,193,393,371,430,232,393,469,454,581,421,466,374,425,232,479,455,245,706,411,350,266,389,277,336,311,520,476,350,315,254,454,385,776,555,492,543,330,443,380,320,414,322,245,412,380,422,370,282,341,428,507,300,222,294,448,356,283,396,353,276,322,372,596,523,230,570,353,373,546,503,763,424,270,561,486,368,457,542,397,488,253,352,390,387,379,427,565,442,337,342,337,381,414,391,316,227,396,449,513,754,484,614,581,478,259,544,912,515,389,457,483,307,274,603,271,545,364,447,369,654,411,347,380,302,442,486,627,406,632,497,428,405,549,531,767,447,603,598,416,621,594,656,335,398,484,482,267,389,285,498,276,431,328,263,366,288,583,741,470,423,404,417,469,227,479,583,258,254,480,780,446,637,786,699,392,543,568,530,385,483,479,349,596,485,328,285,433,406,435,266,426,492,297,460,325,478,560,415,385,427,411,467,434,403,425,320,420,470,341,289,360,286,522,634,662,537,552,451,528,596,587,297,518,529,370,324,387,260,243,531,561,292,265,442,360,291,287,249,544,261,289,468,313,381,250,266,438,408,383,205,496,285,359,224,385,403,360,314,424,579,471,302,325,387,447,331,389,432,396,537,387,324,356,516,667,328,524,410,371,274,292,350,507,490,448,445,322,217,365,285,492,358,447,395,567,462,405,449,606,487,479,457,436,432,436,351,213,507,455,369,324,365,394,470,438,273,261,352,368,301,268,462,557,236,244,579,555,312,507,409,324,269,396,389,352,527,799,475,371,461,574,602,578,609,316,649,608,284,466,612,637,766,667,374,347,361,214,284,453,367,317,401,517,185,352,489,376,239,263,325,366,303,623,588,461,339,321,334,601,341,326,416,382,315,356,262,417,446,371,551,436,567,312,239,419,325,296,467,909,492,329,193,614,333,421,309,441,418,594,608,384,533,492,535,484,587,470,429,484,289,489,519,387,297,297,210,277,349,225,356,363,344,462,847,359,378,444,404,374,542,415,568,482,434,477,392,349,421,246,381,257,311,357,283,179,273,342,432,180,354,363,293,241,356,253,388,368,407,523,509,508,476,276,428,273,310,426,377,375,321,708,473,332,430,358,404,274,363,250,391,279,376,452,511,249,345,183,382,412,282,311,387,396,647,456,306,376,521,471,284,320,417,651,338,361,353,278,261,550,468,379,272,361,274,352,358,388,320,492,701,450,549,372,416,441,300,639,293,548,244,558,549,642,346,555,560,239,370,390,486,568,349,388,364,504,755,315,364,574,439,337,409,317,436,402,501,573,416,497,487,409,350,279,375,303,260,456,393,354,420,368,287,689,438,292,433,523,359,437,460,637,196,482,485,471,279,370,466,462,498,362,368,490,464,578,311,348,203,389,406,228,276,339,308,504,711,503,689,213,412,529,526,318,428,312,480,239,588,336,786,224,419,532,317,215,298,299,381,237,348,332,252,375,218,362,269,534,516,388,341,398,688,784,509,494,694,592,654,441,251,223,407,434,418,277,271,464,499,455,453,308,187,337,567,412,201,438,590,634,871,238,288,423,310,376,365,402,780,529,261,499,225,394,484,506,509,592,627,314,571,640,451,401,473,607,330,643,306,498,375,395,316,388,514,303,447,420,362,510,408,347,466,428,266,623,434,425,350,381,478,507,511,594,509,304,386,621,471,423,291,391,208,346,294,219,334,277,357,386,286,250,449,304,407,304,359,463,310,355,376,249,309,458,444,381,346,333,236,306,251,255,196,600,468,235,308,338,265,383,432,262,340,542,280,322,272,262,410,352,305,432,365,349,375,384,419,225,560,353,297,436,325,394,319,380,398,310,309,263,418,612,505,689,500,532,541,542,508,638,448,330,559,934,964,470,645,818,725,596,683,425,718,543,486,830,558,457,426,418,493,773,498,275,306,513,277,319,274,378,249,332,607,385,388,435,344,451,446,430,265,305,292,277,252,431,420,267,589,283,337,280,319,390,516,260,470,322,489,345,447,471,364,356,646,276,388,460,614,462,226,503,705,204,570,571,391,389,240,346,388,321,309,413,348,403,327,327,342,318,425,313,378,324,323,501,195,386,363,319,347,300,389,429,484,415,227,425,308,264,464,368,224,302,404,345,402,250,387,428,971,454,300,624,410,338,283,336,404,410,376,320,334,321,327,345,349,407,358,285,394,436,495,358,672,624,285,481,463,529,901,643,560,269,606,449,742,719,590,582,413,485,700,517,516,707,257,508,295,463,481,634,632,688,408,562,653,656,415,608,563,848,414,532,390,363,232,340,369,377,316,402,258,361,434,369,517,422,465,349,259,367,298,320,362,465,300,364,437,283,328,364,385,349,284,300,374,337,363,367,360,274,335,261,295,291,404,293,321,425,530,627,614,607,872,525,281,439,267,378,642,600,553,579,333,287,543,400,654,370,945,654,552,418,683,423,615,746,647,542,474,556,318,487,488,848,770,404,631,964,510,528,330,694,372,612,427,333,351,539,226,387,471,272,468,587,348,291,788,322,553,835,788,880,512,709,435,524,498,455,453,374,389,499,499,508,530,489,540,506,999,748,536,605,569,576,770,589,598,331,450,625,401,705,458,480,523,627,656,405,723,625,206,323,457,357,262,311,314,415,316,542,288,275,357,478,378,400,311,364,228,359,297,237,223,408,332,234,273,372,313,312,380,386,308,366,221,333,352,494,490,263,198,312,362,369,334,237,200,216,224,302,465,424,254,305,391,183,402,398,334,363,342,229,362,334,398,306,354,360,229,242,225,376,310,298,280,219,283,319,294,279,264,466,328,293,518,314,406,336,521,468,403,403,377,904,405,416,379,419,448,493,447,671,551,500,677,522,440,435,420,304,408,556,339,405,408,392,422,517,483,450,435,440,495,423,527,472,301,553,425,270,530,566,713,474,518,566,273,787,699,804,878,413,512,755,543,394,589,747,472,610,290,376,877,298,674,629,332,834,458,217,523,471,432,521,615,1085,649,730,521,859,933,688,784,485,472,477,455,407,304,297,546,483,718,611,636,1150,473,428,592,386,488,397,700,250,375,428,469,793,233,481,532,416,390,512,320,304,385,444,537,291,353,460,496,550,362,453,464,330,259,512,425,515,424,237,276,442,380,378,242,285,587,243,499,245,473,256,236,421,622,289,395,526,647,481,355,355,1188,632,434,347,583,438,571,472,540,544,306,321,464,330,746,519,365,383,434,498,326,374,504,940,468,359,424,373,392,352,461,552,394,354,416,490,347,384,482,356,396,498,455,828,486,583,495,304,632,313,431,566,557,511,597,499,564,326,935,958,768,652,489,632,726,1032,493,579,777,722,926,702,680,902,392,763,989,345,819,900,681,388,437,581,595,697,673,364,665,473,495,471,571,984,596,748,803,592,299,409,742,428,1129,876,1092,758,635,323,696,842,781,768,768,618,463,241,235,454,640,284,489,533,573,474,419,352,544,659,400,487,487,450,503,463,455,416,622,409,335,300,335,456,548,455,280,300,406,497,506,446,489,312,409,456,428,515,364,565,334,504,546,425,563,286,490,518,387,603,630,540,382,466,446,449,450,453,445,217,296,334,336,201,311,404,386,284,353,268,296,212,327,341,377,336,195,221,421,439,249,404,270,325,163,222,262,273,252,175,229,194,200,327,564,536,682,309,570,623,517,515,494,526,337,568,565,562,476,813,567,595,567,322,556,957,403,483,473,477,462,507,537,293,641,702,476,430,585,289,456,413,558,416,482,410,384,765,394,321,549,355,456,540,705,557,421,260,573,356,528,484,538,526,418,352,608,541,523,680,394,644,714,507,437,367,711,580,704,540,324,589,723,573,420,667,1027,484,635,485,521,758,540,542,404,310,529,819,396,624,560,691,393,565,438,306,676,439,563,482,1023,558,625,551,417,518,452,410,425,597,472,635,475,485,496,420,491,402,391,462,643,405,401,671,783,438,409,415,481,488,530,542,512,356,444,567,480,417,458,415,483,584,570,416,658,344,727,774,527,446,581,409,280,516,715,739,491,613,293,509,233,428,251,440,512,599,496,567,536,243,281,442,303,406,360,388,381,728,439,571,489,371,418,413,302,373,879,394,419,583,408,471,387,350,469,323,395,255,252,261,419,427,442,355,431,448,490,464,302,597,373,292,491,380,467,649,403,387,417,319,383,800,970,1242,879,825,915,739,599,957,693,1186,753,807,737,821,841,810,722,591,1136,1197,541,1050,889,895,603,612,659,769,526,474,987,906,556,684,1238,600,769,817,845,801,713,694,1201,685,823,1187,792,541,556,731,700,994,850,582,830,991,658,555,646,759,588,971,613,779,710,671,703,844,826,660,847,965,794,961,726,686,509,306,185,237,304,524,291,449,355,411,493,756,499,238,221,300,446,477,331,603,449,304,251,173,498,406,294,278,160,258,413,336,451,328,178,377,320,207,412,449,241,429,583,502,853,588,656,589,644,389,564,913,566,518,695,672,498,357,457,494,694,255,606,468,632,372,474,672,471,568,655,638,484,368,694,387,638,317,625,678,600,595,555,397,440,537,366,385,486,500,695,568,491,728,436,541,654,481,407,517,263,263,456,456,518,348,268,579,643,337,461,276,730,296,447,464,484,442,351,553,544,588,449,415,435,448,465,510,381,519,335,326,491,378,711,474,275,313,353,606,495,469,376,429,384,340,238,427,539,461,486,466,452,615,459,550,403,304,317,512,882,457,484,409,428,775,646,432,768,399,633,544,896,665,324,551,674,749,683,409,577,398,532,395,616,678,429,578,508,530,886,556,844,321,425,492,591,841,556,584,716,872,760,748,620,360,556,345,387,228,509,348,246,310,314,247,407,423,231,196,334,398,196,249,365,245,188,273,351,334,403,161,366,148,227,418,355,500,249,222,371,398,382,332,335,328,382,215,356,246,297,353,250,361,273,323,302,248,180,234,341,344,267,413,222,439,211,251,209,390,340,365,176,208,410,355,308,258,308,339,409,291,388,336,220,191,258,257,298,234,497,275,203,345,267,297,340,413,297,351,219,212,209,232,309,263,285,379,216,532,341,273,345,195,448,454,316,254,257,263,394,428,450,277,410,268,347,452,343,347,342,207,347,313,391,412,398,373,285,228,336,318,429,427,371,439,324,368,718,382,260,379,331,340,404,357,408,334,290,284,272,374,354,217,415,385,472,481,367,252,351,456,337,399,411,310,221,294,466,281,529,397,383,330,484,254,334,199,363,473,271,418,455,382,338,545,421,444,397,533,339,673,257,535,365,486,247,298,408,204,540,476,484,442,358,358,435,313,418,348,321,300,591,591,364,425,561,367,692,557,404,506,369,358,513,387,545,346,524,298,459,605,378,290,742,338,216,349,588,478,407,329,353,582,405,572,364,366,409,611,535,334,423,186,449,353,232,431,655,476,408,279,648,270,279,420,572,249,235,303,252,350,217,265,305,186,258,202,259,588,192,206,293,241,338,198,343,300,247,226,267,294,276,336,310,244,302,300,409,331,376,423,435,347,241,300,316,257,308,398,230,359,300,286,163,144,251,195,348,292,255,333,263,158,282,277,365,199,426,284,437,328,296,272,348,338,249,243,280,323,292,363,297,299,341,346,205,332,335,307,184,186,215,305,296,357,410,399,300,377,466,290,367,324,297,432,380,386,338,370,296,227,368,231,365,321,408,342,360,438,369,419,308,520,347,240,228,350,413,296,375,333,433,497,337,266,331,395,365,422,369,330,384,265,213,581,369,492,231,315,227,395,183,386,353,243,382,316,356,295,321,358,313,336,339,349,488,385,347,289,347,474,299,361,289,434,378,340,364,409,371,482,384,458,499,282,383,290,470,356,382,194,345,330,310,397,462,540,262,304,284,349,321,400,353,391,245,359,375,352,292,255,243,422,412,299,290,419,323,414,322,359,348,312,250,373,212,296,191,436,559,459,424,348,302,491,152,568,394,207,372,462,245,406,753,299,446,397,419,408,329,254,636,343,305,440,366,400,225,395,380,336,395,244,365,330,425,390,367,378,392,450,298,349,410,432,419,366,359,382,422,466,417,361,364,410,402,372,243,327,394,277,359,336,300,292,325,300,429,464,276,450,405,434,504,505,381,653,489,303,446,304,346,502,347,491,435,211,556,300,298,537,479,302,326,323,576,520,473,459,353,415,444,364,474,515,374,406,514,663,878,283,554,613,558,428,625,483,468,408,504,409,633,380,557,492,521,442,319,682,337,433,550,448,321,529,412,194,537,763,438,488,478,626,402,536,625,453,498,428,452,238,595,245,289,601,501,475,554,477,431,351,682,600,319,380,681,588,348,295,246,510,516,505,488,395,546,430,272,797,603,441,527,292,471,427,614,408,406,404,441,575,362,506,221,368,448,332,491,417,459,392,538,303,466,527,477,381,294,588,464,355,443,383,503,600,512,404,391,370,399,559,705,286,411,531,628,652,511,541,385,421,562,181,213,257,417,263,657,394,540,440,341,310,269,384,310,434,535,290,327,346,345,275,484,285,249,286,328,383,311,398,285,247,252,269,241,259,316,434,336,244,242,382,409,315,240,458,231,221,389,430,282,345,307,354,366,430,531,334,364,257,566,343,306,423,321,343,349,379,265,370,378,351,319,239,374,213,605,231,382,427,281,466,342,410,290,328,461,571,421,327,256,377,547,370,217,317,430,355,345,218,471,565,157,791,482,367,445,387,309,356,393,351,632,475,512,484,520,221,490,501,440,545,505,398,442,607,438,514,746,688,760,623,613,825,814,717,499,350,254,306,409,512,419,525,438,457,572,295,419,533,466,914,616,242,599,334,702,596,378,712,216,800,504,329,425,682,728,303,592,191,332,232,217,549,307,355,541,219,303,223,295,330,404,291,416,346,277,452,325,285,406,447,520,380,420,232,390,360,380,368,426,229,357,344,235,387,304,265,422,268,380,290,301,441,197,393,358,277,326,308,317,473,363,399,316,252,329,487,375,473,333,353,424,264,331,210,294,309,339,261,309,301,231,384,332,395,341,340,348,377,270,318,316,261,307,424,321,272,261,239,283,374,359,320,227,298,303,292,247,308,232,385,509,425,317,348,301,323,274,331,574,295,308,223,294,334,230,331,345,431,486,307,298,245,422,362,378,309,274,260,427,251,338,286,432,783,336,390,436,434,226,306,331,322,235,266,267,314,461,376,502,397,422,458,342,225,210,255,317,244,254,223,524,169,357,279,402,444,267,318,387,413,375,324,279,353,520,218,313,260,400,280,299,245,394,446,239,359,295,299,273,251,244,280,285,267,281,282,334,311,271,293,371,290,329,337,334,290,328,397,319,393,285,374,425,264,320,388,277,274,281,260,346,506,391,243,391,286,313,279,289,248,259,524,419,605,454,486,311,262,379,340,336,315,425,439,337,354,241,383,270,490,1248,896,486,709,692,603,602,517,728,599,444,555,698,502,476,547,710,535,559,733,506,568,448,649,681,593,545,294,704,396,327,507,442,336,249,490,364,717,710,556,235,302],\"y0\":\" \",\"yaxis\":\"y\",\"type\":\"box\"}],                        {\"template\":{\"data\":{\"histogram2dcontour\":[{\"type\":\"histogram2dcontour\",\"colorbar\":{\"outlinewidth\":0,\"ticks\":\"\"},\"colorscale\":[[0.0,\"#0d0887\"],[0.1111111111111111,\"#46039f\"],[0.2222222222222222,\"#7201a8\"],[0.3333333333333333,\"#9c179e\"],[0.4444444444444444,\"#bd3786\"],[0.5555555555555556,\"#d8576b\"],[0.6666666666666666,\"#ed7953\"],[0.7777777777777778,\"#fb9f3a\"],[0.8888888888888888,\"#fdca26\"],[1.0,\"#f0f921\"]]}],\"choropleth\":[{\"type\":\"choropleth\",\"colorbar\":{\"outlinewidth\":0,\"ticks\":\"\"}}],\"histogram2d\":[{\"type\":\"histogram2d\",\"colorbar\":{\"outlinewidth\":0,\"ticks\":\"\"},\"colorscale\":[[0.0,\"#0d0887\"],[0.1111111111111111,\"#46039f\"],[0.2222222222222222,\"#7201a8\"],[0.3333333333333333,\"#9c179e\"],[0.4444444444444444,\"#bd3786\"],[0.5555555555555556,\"#d8576b\"],[0.6666666666666666,\"#ed7953\"],[0.7777777777777778,\"#fb9f3a\"],[0.8888888888888888,\"#fdca26\"],[1.0,\"#f0f921\"]]}],\"heatmap\":[{\"type\":\"heatmap\",\"colorbar\":{\"outlinewidth\":0,\"ticks\":\"\"},\"colorscale\":[[0.0,\"#0d0887\"],[0.1111111111111111,\"#46039f\"],[0.2222222222222222,\"#7201a8\"],[0.3333333333333333,\"#9c179e\"],[0.4444444444444444,\"#bd3786\"],[0.5555555555555556,\"#d8576b\"],[0.6666666666666666,\"#ed7953\"],[0.7777777777777778,\"#fb9f3a\"],[0.8888888888888888,\"#fdca26\"],[1.0,\"#f0f921\"]]}],\"heatmapgl\":[{\"type\":\"heatmapgl\",\"colorbar\":{\"outlinewidth\":0,\"ticks\":\"\"},\"colorscale\":[[0.0,\"#0d0887\"],[0.1111111111111111,\"#46039f\"],[0.2222222222222222,\"#7201a8\"],[0.3333333333333333,\"#9c179e\"],[0.4444444444444444,\"#bd3786\"],[0.5555555555555556,\"#d8576b\"],[0.6666666666666666,\"#ed7953\"],[0.7777777777777778,\"#fb9f3a\"],[0.8888888888888888,\"#fdca26\"],[1.0,\"#f0f921\"]]}],\"contourcarpet\":[{\"type\":\"contourcarpet\",\"colorbar\":{\"outlinewidth\":0,\"ticks\":\"\"}}],\"contour\":[{\"type\":\"contour\",\"colorbar\":{\"outlinewidth\":0,\"ticks\":\"\"},\"colorscale\":[[0.0,\"#0d0887\"],[0.1111111111111111,\"#46039f\"],[0.2222222222222222,\"#7201a8\"],[0.3333333333333333,\"#9c179e\"],[0.4444444444444444,\"#bd3786\"],[0.5555555555555556,\"#d8576b\"],[0.6666666666666666,\"#ed7953\"],[0.7777777777777778,\"#fb9f3a\"],[0.8888888888888888,\"#fdca26\"],[1.0,\"#f0f921\"]]}],\"surface\":[{\"type\":\"surface\",\"colorbar\":{\"outlinewidth\":0,\"ticks\":\"\"},\"colorscale\":[[0.0,\"#0d0887\"],[0.1111111111111111,\"#46039f\"],[0.2222222222222222,\"#7201a8\"],[0.3333333333333333,\"#9c179e\"],[0.4444444444444444,\"#bd3786\"],[0.5555555555555556,\"#d8576b\"],[0.6666666666666666,\"#ed7953\"],[0.7777777777777778,\"#fb9f3a\"],[0.8888888888888888,\"#fdca26\"],[1.0,\"#f0f921\"]]}],\"mesh3d\":[{\"type\":\"mesh3d\",\"colorbar\":{\"outlinewidth\":0,\"ticks\":\"\"}}],\"scatter\":[{\"fillpattern\":{\"fillmode\":\"overlay\",\"size\":10,\"solidity\":0.2},\"type\":\"scatter\"}],\"parcoords\":[{\"type\":\"parcoords\",\"line\":{\"colorbar\":{\"outlinewidth\":0,\"ticks\":\"\"}}}],\"scatterpolargl\":[{\"type\":\"scatterpolargl\",\"marker\":{\"colorbar\":{\"outlinewidth\":0,\"ticks\":\"\"}}}],\"bar\":[{\"error_x\":{\"color\":\"#2a3f5f\"},\"error_y\":{\"color\":\"#2a3f5f\"},\"marker\":{\"line\":{\"color\":\"#E5ECF6\",\"width\":0.5},\"pattern\":{\"fillmode\":\"overlay\",\"size\":10,\"solidity\":0.2}},\"type\":\"bar\"}],\"scattergeo\":[{\"type\":\"scattergeo\",\"marker\":{\"colorbar\":{\"outlinewidth\":0,\"ticks\":\"\"}}}],\"scatterpolar\":[{\"type\":\"scatterpolar\",\"marker\":{\"colorbar\":{\"outlinewidth\":0,\"ticks\":\"\"}}}],\"histogram\":[{\"marker\":{\"pattern\":{\"fillmode\":\"overlay\",\"size\":10,\"solidity\":0.2}},\"type\":\"histogram\"}],\"scattergl\":[{\"type\":\"scattergl\",\"marker\":{\"colorbar\":{\"outlinewidth\":0,\"ticks\":\"\"}}}],\"scatter3d\":[{\"type\":\"scatter3d\",\"line\":{\"colorbar\":{\"outlinewidth\":0,\"ticks\":\"\"}},\"marker\":{\"colorbar\":{\"outlinewidth\":0,\"ticks\":\"\"}}}],\"scattermapbox\":[{\"type\":\"scattermapbox\",\"marker\":{\"colorbar\":{\"outlinewidth\":0,\"ticks\":\"\"}}}],\"scatterternary\":[{\"type\":\"scatterternary\",\"marker\":{\"colorbar\":{\"outlinewidth\":0,\"ticks\":\"\"}}}],\"scattercarpet\":[{\"type\":\"scattercarpet\",\"marker\":{\"colorbar\":{\"outlinewidth\":0,\"ticks\":\"\"}}}],\"carpet\":[{\"aaxis\":{\"endlinecolor\":\"#2a3f5f\",\"gridcolor\":\"white\",\"linecolor\":\"white\",\"minorgridcolor\":\"white\",\"startlinecolor\":\"#2a3f5f\"},\"baxis\":{\"endlinecolor\":\"#2a3f5f\",\"gridcolor\":\"white\",\"linecolor\":\"white\",\"minorgridcolor\":\"white\",\"startlinecolor\":\"#2a3f5f\"},\"type\":\"carpet\"}],\"table\":[{\"cells\":{\"fill\":{\"color\":\"#EBF0F8\"},\"line\":{\"color\":\"white\"}},\"header\":{\"fill\":{\"color\":\"#C8D4E3\"},\"line\":{\"color\":\"white\"}},\"type\":\"table\"}],\"barpolar\":[{\"marker\":{\"line\":{\"color\":\"#E5ECF6\",\"width\":0.5},\"pattern\":{\"fillmode\":\"overlay\",\"size\":10,\"solidity\":0.2}},\"type\":\"barpolar\"}],\"pie\":[{\"automargin\":true,\"type\":\"pie\"}]},\"layout\":{\"autotypenumbers\":\"strict\",\"colorway\":[\"#636efa\",\"#EF553B\",\"#00cc96\",\"#ab63fa\",\"#FFA15A\",\"#19d3f3\",\"#FF6692\",\"#B6E880\",\"#FF97FF\",\"#FECB52\"],\"font\":{\"color\":\"#2a3f5f\"},\"hovermode\":\"closest\",\"hoverlabel\":{\"align\":\"left\"},\"paper_bgcolor\":\"white\",\"plot_bgcolor\":\"#E5ECF6\",\"polar\":{\"bgcolor\":\"#E5ECF6\",\"angularaxis\":{\"gridcolor\":\"white\",\"linecolor\":\"white\",\"ticks\":\"\"},\"radialaxis\":{\"gridcolor\":\"white\",\"linecolor\":\"white\",\"ticks\":\"\"}},\"ternary\":{\"bgcolor\":\"#E5ECF6\",\"aaxis\":{\"gridcolor\":\"white\",\"linecolor\":\"white\",\"ticks\":\"\"},\"baxis\":{\"gridcolor\":\"white\",\"linecolor\":\"white\",\"ticks\":\"\"},\"caxis\":{\"gridcolor\":\"white\",\"linecolor\":\"white\",\"ticks\":\"\"}},\"coloraxis\":{\"colorbar\":{\"outlinewidth\":0,\"ticks\":\"\"}},\"colorscale\":{\"sequential\":[[0.0,\"#0d0887\"],[0.1111111111111111,\"#46039f\"],[0.2222222222222222,\"#7201a8\"],[0.3333333333333333,\"#9c179e\"],[0.4444444444444444,\"#bd3786\"],[0.5555555555555556,\"#d8576b\"],[0.6666666666666666,\"#ed7953\"],[0.7777777777777778,\"#fb9f3a\"],[0.8888888888888888,\"#fdca26\"],[1.0,\"#f0f921\"]],\"sequentialminus\":[[0.0,\"#0d0887\"],[0.1111111111111111,\"#46039f\"],[0.2222222222222222,\"#7201a8\"],[0.3333333333333333,\"#9c179e\"],[0.4444444444444444,\"#bd3786\"],[0.5555555555555556,\"#d8576b\"],[0.6666666666666666,\"#ed7953\"],[0.7777777777777778,\"#fb9f3a\"],[0.8888888888888888,\"#fdca26\"],[1.0,\"#f0f921\"]],\"diverging\":[[0,\"#8e0152\"],[0.1,\"#c51b7d\"],[0.2,\"#de77ae\"],[0.3,\"#f1b6da\"],[0.4,\"#fde0ef\"],[0.5,\"#f7f7f7\"],[0.6,\"#e6f5d0\"],[0.7,\"#b8e186\"],[0.8,\"#7fbc41\"],[0.9,\"#4d9221\"],[1,\"#276419\"]]},\"xaxis\":{\"gridcolor\":\"white\",\"linecolor\":\"white\",\"ticks\":\"\",\"title\":{\"standoff\":15},\"zerolinecolor\":\"white\",\"automargin\":true,\"zerolinewidth\":2},\"yaxis\":{\"gridcolor\":\"white\",\"linecolor\":\"white\",\"ticks\":\"\",\"title\":{\"standoff\":15},\"zerolinecolor\":\"white\",\"automargin\":true,\"zerolinewidth\":2},\"scene\":{\"xaxis\":{\"backgroundcolor\":\"#E5ECF6\",\"gridcolor\":\"white\",\"linecolor\":\"white\",\"showbackground\":true,\"ticks\":\"\",\"zerolinecolor\":\"white\",\"gridwidth\":2},\"yaxis\":{\"backgroundcolor\":\"#E5ECF6\",\"gridcolor\":\"white\",\"linecolor\":\"white\",\"showbackground\":true,\"ticks\":\"\",\"zerolinecolor\":\"white\",\"gridwidth\":2},\"zaxis\":{\"backgroundcolor\":\"#E5ECF6\",\"gridcolor\":\"white\",\"linecolor\":\"white\",\"showbackground\":true,\"ticks\":\"\",\"zerolinecolor\":\"white\",\"gridwidth\":2}},\"shapedefaults\":{\"line\":{\"color\":\"#2a3f5f\"}},\"annotationdefaults\":{\"arrowcolor\":\"#2a3f5f\",\"arrowhead\":0,\"arrowwidth\":1},\"geo\":{\"bgcolor\":\"white\",\"landcolor\":\"#E5ECF6\",\"subunitcolor\":\"white\",\"showland\":true,\"showlakes\":true,\"lakecolor\":\"white\"},\"title\":{\"x\":0.05},\"mapbox\":{\"style\":\"light\"}}},\"xaxis\":{\"anchor\":\"y\",\"domain\":[0.0,1.0],\"title\":{\"text\":\"NUMTOTV\"}},\"yaxis\":{\"anchor\":\"x\",\"domain\":[0.0,1.0],\"title\":{\"text\":\"words per case summary\"}},\"legend\":{\"tracegroupgap\":0},\"margin\":{\"t\":60},\"boxmode\":\"group\",\"width\":640},                        {\"toImageButtonOptions\": {\"format\": \"svg\", \"filename\": \"text_length\"}, \"responsive\": true}                    ).then(function(){\n",
              "                            \n",
              "var gd = document.getElementById('c4275720-e365-4602-99fe-a370717a4a13');\n",
              "var x = new MutationObserver(function (mutations, observer) {{\n",
              "        var display = window.getComputedStyle(gd).display;\n",
              "        if (!display || display === 'none') {{\n",
              "            console.log([gd, 'removed!']);\n",
              "            Plotly.purge(gd);\n",
              "            observer.disconnect();\n",
              "        }}\n",
              "}});\n",
              "\n",
              "// Listen for the removal of the full notebook cells\n",
              "var notebookContainer = gd.closest('#notebook-container');\n",
              "if (notebookContainer) {{\n",
              "    x.observe(notebookContainer, {childList: true});\n",
              "}}\n",
              "\n",
              "// Listen for the clearing of the current output cell\n",
              "var outputEl = gd.closest('.output');\n",
              "if (outputEl) {{\n",
              "    x.observe(outputEl, {childList: true});\n",
              "}}\n",
              "\n",
              "                        })                };                            </script>        </div>\n",
              "</body>\n",
              "</html>"
            ]
          },
          "metadata": {}
        }
      ]
    },
    {
      "cell_type": "markdown",
      "source": [
        "Not surprisingly, the length of the descriptions correlates with the number of vehicles involved.\n",
        "\n",
        "The average length is above 400 words.\n",
        "\n",
        "Let's examine one of the English texts and its German translation:"
      ],
      "metadata": {
        "id": "aXS50_o07R_W"
      }
    },
    {
      "cell_type": "code",
      "source": [
        "display(HTML(df.loc[0, \"SUMMARY_EN\"]))"
      ],
      "metadata": {
        "colab": {
          "base_uri": "https://localhost:8080/",
          "height": 138
        },
        "id": "TFgOi5y_7a7w",
        "outputId": "c38cdfe6-5fa0-4ff0-ab3d-52fee97088dd"
      },
      "execution_count": null,
      "outputs": [
        {
          "output_type": "display_data",
          "data": {
            "text/plain": [
              "<IPython.core.display.HTML object>"
            ],
            "text/html": [
              "V1, a 2000 Pontiac Montana minivan, made a left turn from a private driveway onto a northbound 5-lane two-way, dry asphalt roadway on a downhill grade.  The posted speed limit on this roadway was 80 kmph (50 MPH). V1 entered the roadway by crossing over the two southbound lanes and then entering the third northbound lane, which was a left turn-only lane at a 4-way intersection. The driver of V1 intended to travel straight through the intersection, and so he began to change lanes to the right. He did not see V2, a 1994 Pontiac Grand Am, that was traveling in the second northbound lane. The northbound roadway had curved to the right prior to the private driveway that V1 had exited. As V1 began to change lanes to the right, the front of V1 contacted the left rear of V2 before coming to final rest on the roadway.\r \r The driver of V1 was a 60-year old male who reported that he had been traveling between 2-17 kmph (1-10 mph) prior to the crash.  He had no health-related problems, and had taken no medication prior to the crash.  He was rested and traveling back home.  He was wearing his prescribed lenses that corrected a myopic (nearsighted) condition.  He did not sustain any injuries from the crash and refused treatment.\r \r The Critical Precrash Event for the driver of V1 was when he began to travel over the lane line on the right side of the travel lane. The Critical Reason for the Critical Precrash Event was inadequate surveillance (failed to look, looked but did not see). Associated factors coded to the driver of V1 include an illegal use of a left turn lane (cited by police) and an unfamiliarity with the roadway. As per the driver of V1, this was the first time he had driven on this roadway.  \r \r The driver of V2 was a 28-year old woman who reported that she had been traveling between 66-80 kmph (41-50 mph) prior to the crash.  She had no health-related problems, and had taken no medication prior to the crash.  She was rested and on her way home.  She does not wear corrective lenses.  She sustained minor injuries and was transported to a local trauma facility.\r \r The Critical Precrash Event for the driver of V2 was when the other vehicle encroached into her lane, from an adjacent lane (same direction) over the left lane line.  The Critical Reason for the Critical Precrash Event was not coded to the driver of V2 and no associated factors were coded to her."
            ]
          },
          "metadata": {}
        }
      ]
    },
    {
      "cell_type": "code",
      "source": [
        "display(HTML(df.loc[0, \"SUMMARY_GE\"]))"
      ],
      "metadata": {
        "colab": {
          "base_uri": "https://localhost:8080/",
          "height": 173
        },
        "id": "0LSITZqq7ffd",
        "outputId": "857968b6-81c0-4fdb-cd26-9df898135987"
      },
      "execution_count": null,
      "outputs": [
        {
          "output_type": "display_data",
          "data": {
            "text/plain": [
              "<IPython.core.display.HTML object>"
            ],
            "text/html": [
              "V1, ein Minivan der Marke Pontiac Montana aus dem Jahr 2000, bog von einer privaten Einfahrt nach links auf eine zweispurige, trockene Asphaltstraße mit 5 Fahrspuren in nördlicher Richtung und einem Gefälle ab.  Die zulässige Höchstgeschwindigkeit auf dieser Fahrbahn betrug 80 km/h (50 MPH). V1 fuhr auf die Fahrbahn, indem er die beiden Fahrspuren in Richtung Süden überquerte und dann auf die dritte Fahrspur in Richtung Norden einfuhr, die an einer Kreuzung mit vier Fahrspuren nur für Linksabbieger vorgesehen war. Der Fahrer von V1 beabsichtigte, geradeaus über die Kreuzung zu fahren, und begann daher, die Spur nach rechts zu wechseln. Dabei übersah er V2, einen Pontiac Grand Am von 1994, der auf der zweiten Fahrspur in Richtung Norden unterwegs war. Die Fahrbahn in nördlicher Richtung war vor der privaten Einfahrt, aus der V1 herausgefahren war, nach rechts gebogen. Als V1 begann, die Spur nach rechts zu wechseln, berührte die Front von V1 das linke Heck von V2, bevor er auf der Fahrbahn zum Stehen kam. Der Fahrer von V1 war ein 60-jähriger Mann, der angab, vor dem Unfall mit einer Geschwindigkeit von 2 bis 17 km/h unterwegs gewesen zu sein.  Er hatte keine gesundheitlichen Probleme und hatte vor dem Unfall keine Medikamente eingenommen.  Er war ausgeruht und auf dem Weg nach Hause.  Er trug die ihm verschriebenen Kontaktlinsen, die eine Kurzsichtigkeit korrigieren.  Er zog sich bei dem Unfall keine Verletzungen zu und lehnte eine Behandlung ab. Das kritische Ereignis vor dem Unfall war für den Fahrer von V1, als er begann, die Fahrspurlinie auf der rechten Seite der Fahrbahn zu überfahren. Der kritische Grund für das kritische Ereignis vor dem Unfall war unzureichende Überwachung (nicht hingesehen, hingesehen, aber nicht gesehen). Zu den assoziierten Faktoren, die dem Fahrer von V1 zugeschrieben werden, gehören das illegale Benutzen einer Linksabbiegerspur (von der Polizei verwarnt) und die Unkenntnis der Fahrbahn. Für den Fahrer von V1 war es das erste Mal, dass er diese Fahrbahn befuhr.  \r \r Bei der Fahrerin von V2 handelte es sich um eine 28-jährige Frau, die angab, vor dem Unfall mit einer Geschwindigkeit von 66-80 km/h unterwegs gewesen zu sein.  Sie hatte keine gesundheitlichen Probleme und hatte vor dem Unfall keine Medikamente eingenommen.  Sie war ausgeruht und befand sich auf dem Heimweg.  Sie trägt keine Korrekturgläser.  Sie erlitt leichte Verletzungen und wurde in eine örtliche Unfallklinik gebracht. Das kritische Ereignis vor dem Unfall war für die Fahrerin von V2, als das andere Fahrzeug von einer benachbarten Fahrspur (gleiche Richtung) über die linke Fahrspurlinie in ihre Spur eindrang.  Der kritische Grund für das kritische Vorunfallereignis wurde der Fahrerin von V2 nicht zugeordnet, und es wurden ihr keine zugehörigen Faktoren zugeordnet."
            ]
          },
          "metadata": {}
        }
      ]
    },
    {
      "cell_type": "markdown",
      "source": [
        "To get an impression of the most frequent words, we generate a simple word cloud form all English case descriptions. By default, the word cloud excludes so-called stop words (such as articles, prepositions, pronouns, conjunctions, etc.), which are the most common words and do not add much information to the text."
      ],
      "metadata": {
        "id": "iQSybuXr7oXF"
      }
    },
    {
      "cell_type": "code",
      "source": [
        "text = df[\"SUMMARY_EN\"].str.cat(sep=\" \")\n",
        "\n",
        "# Create and generate a word cloud image:\n",
        "word_cloud = WordCloud(max_words=100, background_color=\"white\").generate(text)\n",
        "\n",
        "# Display the generated image:\n",
        "fig = px.imshow(word_cloud, width=640)\n",
        "fig.update_layout(xaxis_showticklabels=False, yaxis_showticklabels=False)\n",
        "fig.show(config={\"toImageButtonOptions\": {\"format\": 'svg', \"filename\": \"word_cloud\"}})"
      ],
      "metadata": {
        "colab": {
          "base_uri": "https://localhost:8080/",
          "height": 542
        },
        "id": "qkpolrOT7tHV",
        "outputId": "58952a6c-a752-4f91-cee2-2b6485a7eeea"
      },
      "execution_count": null,
      "outputs": [
        {
          "output_type": "display_data",
          "data": {
            "text/html": [
              "<html>\n",
              "<head><meta charset=\"utf-8\" /></head>\n",
              "<body>\n",
              "    <div>            <script src=\"https://cdnjs.cloudflare.com/ajax/libs/mathjax/2.7.5/MathJax.js?config=TeX-AMS-MML_SVG\"></script><script type=\"text/javascript\">if (window.MathJax && window.MathJax.Hub && window.MathJax.Hub.Config) {window.MathJax.Hub.Config({SVG: {font: \"STIX-Web\"}});}</script>                <script type=\"text/javascript\">window.PlotlyConfig = {MathJaxConfig: 'local'};</script>\n",
              "        <script charset=\"utf-8\" src=\"https://cdn.plot.ly/plotly-2.24.1.min.js\"></script>                <div id=\"3242f25f-752e-4b21-983d-a31cbaeda77f\" class=\"plotly-graph-div\" style=\"height:525px; width:640px;\"></div>            <script type=\"text/javascript\">                                    window.PLOTLYENV=window.PLOTLYENV || {};                                    if (document.getElementById(\"3242f25f-752e-4b21-983d-a31cbaeda77f\")) {                    Plotly.newPlot(                        \"3242f25f-752e-4b21-983d-a31cbaeda77f\",                        [{\"name\":\"0\",\"source\":\"data:image\\u002fpng;base64,iVBORw0KGgoAAAANSUhEUgAAAZAAAADICAIAAABJdyC1AADaFklEQVR4Xuydd3gTx\\u002fb3z656tSy5yL33BqaY3nsNEEIJIQlJSO\\u002fl3vSbm3ZveiMkIZAGISFA6C30YoMLGNx7t2zZ6r3tvn+skeXVSpaNA7m\\u002fN5+Hh0c6Z7Z4tfvdmTNnZhAcx+Fv\\u002fuZv\\u002fuZ\\u002fATrZ4ML37x\\u002f6deNJshXg412PJw+PIluHgpfv\\u002fubyuWqyFeC7My9JI8Rk68BxOLBv39m\\u002f57tzrkaUhh6sec\\u002fV4mR\\u002fZeXC5GTic7FMNiwkxOnq0On2V1U9MHKk0zIgXPf8N0OF2qZ8vfRRshVgcdid04IWkK1\\u002f8z94xbwJ1sR5WZSClXus9M8QLIPOfC2vjmwFSMiIGBK1Uiv07zz2U8klikMQHK+rmxEXd6y2NlwoLGpvTw0KalCpfrl2LSEgIFwoLJXLh4WENKpUZxsbh4eGZgQHE1uVy+VE4RGhoYTFWcZoszWr1fESiR+bndfcnBoUREfRWoViWEiIc8\\u002fOrf7mb\\u002f6mX1CywYW4tLDQqACyFSD3aAnZNBTkn6qw2x1kK8DEeZlk08Cpvtby+MKPvagVAFgcjisymQ3DDlRVCVisko4OGoquzMy81tERzOfbHA4AOFpbu3b4cKdaAYCzsNPiLCPT6UaHhw8PCdFbLMF8fmFbG4ogGrOZy2A49+zc6k\\u002flme8PLHr3e7KVip\\u002fPFc95c7PFbic7vLL8\\u002fa2ZT3+c+fTH4178kuz7m78ZOrwJFgBMmEshFm2N3U01Q\\u002f+kedLBifOyyKYBcmxnwXN3bOju0JAdfZkRG\\u002ftZXt6M2NiUwECD1ZodGsplMAhXnVJZLpeXyeVxYvHmoqKrHR01CkVVd3d5V5ezsHM\\u002fzjIAQOyhsK1NYzajCGLHMH8Op6Ctzbnnvxo4jiMI4nAMLLL505Mrj752\\u002f9zsJLLjb\\u002f6\\u002fwWTJJZvc8KUMgVz5kNmST7Z6bxICwMR5WTu+omoVHi2NSpCSrTeA1WIvOlNFtt5we9Bud3z9770Htvp0mVh0+ndLlwLAwuRkB47TECRTKgWAe7OzAeD9OXMAIC0oiHABwAdz5gBAamCg00IwIy6OsGRJey7RuhEjMBxHEQQA0oOCaGjPe4LY81+KOycNv3PScLK1P9hMeghT4Mdlkx3\\u002fh\\u002fjn2m\\u002fWv7ggNsWnJvyACrty7vC137453VAp+3T344PY\\u002fBai0v6XE7iXbO2LL2W8049gxaeHhURKZM0Kkj33WMmqx2aQjDfClfPVJqOFbL2x9qCqS\\u002ffWIz+UFzWSHT7gKkAk3F2+WAi1AgCnWv2NJ7ot6lPyy8sjprka97Wdi+aFZIriO83KYPbg32GD5j8\\u002friebAOrK22QtygmzM0h2ysK+MHFu5sS5mXdPeZfs+Cuh1n1qMp\\u002fDAWPQowP9P7LaKtW6zy3Wax3ddwGANOAHALRb9YLNXo\\u002fhRi57ir\\u002fwBcoyWsNWg3EPDg4Oa6y\\u002f8AUAUGk\\u002fNJpP0WkhDqyLdFCCfgQLACbMy\\u002fztq1MkY21pm7xNFRTmT7IPmiFvD1Zcbnr70R8UnVqy43+TNoVm3ttbXlw6beWE3gtSUNt634bfPrtv0ZT0OACQa\\u002fSfHDh\\u002fvqLBaLElhAQ8OnfchJRoZ2EGjXamrP7zQxca5aoAAW9udtIjc8cyaDRngQc27rpU3Ux8vvbx0047AYbjv5y\\u002fuudSaYNchSAgFQmWjsm4Z+oIUjFKvJ+YOwEsEaHutfrWcm1jHC+MTWNW6ZrT\\u002fGJrdC372s8tC58azevtsb2F5B0v53CZZOv\\u002fdXSG34IkX7EY6QAYADAZyYHiT82yfGnAT84yEtHbCMIAcDTLRvkLn3cvY7M36o27QwN3ASCyrjss1mIUFRjNf4QFHQLAWzomO3flSv+CNXFelrtgAUDu0dLb1k0kWwcF5sAunignW2+gPXjo57yNb+yx2yhC+EJ\\u002frlZlJFt9wGp3nKtqTJRKIiQisu\\u002fPJ0ziNyo+Ym9+matg7Ssolwi4E1NjAEBjNK\\u002f99Fc6DX1m0SQ\\u002fLvvw5arHNu3ZsP628cnRROEurf7fO46vmz4qIkCUV9W0+UQBn8O6b\\u002foo596+eGCxSm\\u002f65tilnXkUL49Xtx87UFh+2+i0+2aMZtJpJU0dUhGfXIiKfk\\u002fMC2fkV6J5IdX65iVhk+P54XH8MAeOxfLChkStTAbLdx8czj9VYbM6eAL2Rzse5ftxdn17xqi3yJoV1\\u002fLrcQzfeOgZoYh76VTFts\\u002f\\u002faKzqePeH9Wkjo4nNu2Tqz17ZVXGlic6gHdmRDwBfH34WpaGUhSmPdfS3\\u002fN82nbGYrAwm\\u002fc7HZ06\\u002fbWDxAa3K8PTyL+bckXNsZ4HNal\\u002f79Oxpi7MBgPJPaG9SbPjX7+2N3TQ6ets9ExfcOZa8u4EglXyn1n9ptzf7CR7msilaWjhuUahfwXAjgrAwTIuDA3GTGpu92m5vkHWtIL5iuN5h72YyUojAOpNBHQ8l78WdhPRwaaSkw61VeOFYyVAJVmlBg1ZlIFsH1R60We1fvv77kV8vkR0AAHDfPxeUXKrLP1VBdvgAnYbSUeRURf3aCQO7sYaKJTnpL249XNehiJNKAMBstf9xtfqO8VlEG\\u002fPH05c7Nfp9L94dESACgClpcbUd3V8cynXqgtpg3vTwspzESACYlBpT3NB+tqzeVbBYdLpUJPDnc50WJ6XNHfsLytfPynls7jjCMjU9rm8Rj\\u002fR7Yu40GTrqDbI6fVssP8xgN6UJY5wuGoIqrdoWY2cEt7ejdnB88+4Bo9789eHnWByGvF3N9+MQ9gM\\u002f5737wwMvfLRKqzIIRVwAyJmakjM15aF5H7puHhgienPzfR\\u002f+49foBOmy+3urA5SFKY+VMTpu7Mx0oYjbUid\\u002f+o4NAxUsAGhvUviJeZuOPd9c2\\u002fnU7V+kj4oNChWB25+AY\\u002fjbj\\u002f\\u002f01Du3J6SH6zWmRxd\\u002fkpAelpQVSd6dz9Dp0YH+H2OYuqVzUlTINQBAAMVxMwBGyI3Jct6BqYMlmzBMrTfuIbYilWHQE+m08JDA7QA0HLchCM1mq7PaKoham81O3aHfv2ABwMS5mb99Ta5klRU2aJR6P7FPr1nv5P1RSjYBwMDbg4oOzZuP\\u002fFBV3NOuIfHAywuX3je56CxFaN8XUAQJ9hM0KdQAoNQbvz93WWM03zl+WF2nolWpkal1czITR8dF6M3Wb08X2ByORdkpSSGBzs1VBtPm0wU4wO2jMyrb5c5NUsOCKcu7MyMr\\u002fp1drL35Zc8smgQAf1yrMVpsS3LSCG9eVWNiaAAhCgCAIJAdE\\u002fZb3jWL3c6i0wGAx2ISakUQFeh\\u002ftUnm\\u002fOqdvKomAFg6Jp3s8IF+T8ydKJ70heQ7ASCOH4bhGIqgALAkvEcU1sUuQIAcIhwE+Scr3txyH4vDAADiOScYNjaeiHYL\\u002fXlO4w1CeayWevnuzWcxDEcQMGhNDgdGo6GuW\\u002fnClAXDACAyPjguJbTyShOxc9Kf0NmmaqiSvfHQD86tWhu6b0CwMFnXMgRh4oAJefdeN6I87qI2+Vw6LSJY8i2LOVyt\\u002fbSjew2NFsxkpFKWYdCjBfy7ZF13ANAAMGnATwxGAoc1pU2+kEGPpNOjr2\\u002fVB+o7hsTEeRSChWP4xePls+8YTbIPgtxjFII10PZgaUHDO4\\u002f+qOrWkR0AKA194u3biVO1Wmxk98AR87mrxmYVNbSdLKtjMejp4dK7JmS\\u002ftefk6LiI3wvLgv34EWK\\u002fb07mf3jnfOcm23KLV47NChEJ3th9IiZI7NykStZNWd4dFp0+Nzv5QGHlUwsmoiiyr6B8WExoTFDPJVLqTe1KbebTH\\u002ffdCPQmK0tABwCJsE\\u002fVCUEAx3zNXVAZzAAQ7DeYl1O\\u002fJ+YdQq1cGRK1AgAcxyh3xOGxyKYbxv1YWpXhncd\\u002f+mLfUxGxQWqFftWYf\\u002ff1+4rDgREfcMCdF4b0J+A4TqfTfjzzIjpwQaQCDQ3aR7YBBIjedn6moWLvZRoMshheiAqmRAbe4VpA7PdPgH+6Wkj0f8fAde3oaFGS7LlHS25csIj4Pdk6wPbgvh8vbHprH2XeKYvDePHzu3Km9ci8zUpRZqDsv1LRrTPGBvo7MAwAAgQ8NoOO4TgAGCzWEJGAxaA\\u002fMLXPlTFZbVwWk4aiRAKqcxNP5SlZkpO248LV3KqmxNCAgpqW1+7oDR\\u002f4cdl+XPZzi8mhSiG35951dlMOAiGHBQDdWmOwb3ErV\\u002fo9sVvFyEnJv31z+ql3lzNZdEWnRujPYzB9ehxc4fE5nVR3Lwn3YxkNFkAQcaAQAA7+nEfewGdO7Lm84M6xzbWd9RWy5GFRZDcAAEjDxWHRAb9tOrPioakAUF8pi4gN9OWPbTeVdZiqACBbvJTsu05Nc9f3ey\\u002fdvShHqTGMyYwmu6noMCt\\u002faz4dxw9TWrX3x85HBnJn9n\\u002fSBBPmZu785jTJeOVCjclgucE3Uu4xihAvDKQ9iGN43rFSSrWSBAtf\\u002f+behIwIp8VmHVgOt5OGLtXeovImhTouSEJH0eZutclqc89RWJSd8uXxi+Fiv\\u002fTwYIDeJt6yUemfHb3AYTJmZyY2dPXe4p7KU5IWEZwYGnDocmVTVzCLQZ8zvDcwOT45ekfutYSQABFv6JOhRidEfHkkb29+2fpZOWRff\\u002fypJ3YjPPjKom\\u002f\\u002fc+CBWe857JjAn\\u002fvetoc8PcMf\\u002fuPXxqqO9ibFh\\u002f\\u002f41T9QsP7FBc721Pw7x\\u002fznyW1rJ70jEHE37HvKU2H3Y0nDxQvvHPvQvA85PNbMZSNDIiXEDt95Ymt7k0LZqX3nia2iAP6jry+JSfbYw8BkM3Qa4\\u002f0z37PbHI+9scS1YesKgiKvf3XP12\\u002fvWzvpHbvdEREb9Mame31JXFZYmrxIFcHh8+ULJ6frjeaK+s6RaZF0HypxUrb4tvCJcfxQmlv1uV8QH2drqL7W8uRtn5KtAC9+ftek+b4qCyUPzf7APW8+ISPis71Pkoxe0Cj1jy34mJTLHp8e9q9v1kmkfq7G+6f\\u002ft62hT4qHl8HPXrA5HK45ASTsDsz9l8NxwHCchlK8TyjLU7L1zOWvj12KD5GES0RvrprltGuM5tUfb2fSaWsmDQ\\u002fxF6oMptLmDiGH9fCcsQDwzPcHamXd+168x1n+xa2Hr9S3H3ntPuIrhuN6k0Vvtn57PH9nXsneF+8WcFgCNovF6HmGn96y\\u002f1Rp3e3jMsckRtJRpK5TiWHYAzNzAADDcJ3ZojdZPjt04WxZw\\u002fZnVgs4LD6HSYSovJ\\u002fY0HKDQ3mLO2TDpD3qsL+qcmFScl\\u002f\\u002fXwutyrBi9BuHB37ruuL9ilVpT6mtMgbK9iJbG3ecD\\u002fTncznMy+Utr6yfTXZTcVVdx6Oz4\\u002flhZIcPUL9S3EnMjAgOF3e2urUKj5XciGB5GuUzoPYgAPiJ+S9vWPv8ii+d9awJczKf+3AVEeZ0hTLXwRO5NU3jEqJya5o4TEZ9l3JMXGSYv5BweVErAKBUHwShSCgloCxPyYKRKR\\u002fvP19U1\\u002fb4vPGudj8ue9tTKzcczvvq2MVurdGPy04KC7x7ik95UgBwqKjypW1HnF8Xv\\u002fsDAIh47LNvPUxYPrhn\\u002fg+nivYXVuy5VEpD0TCJ8K7JPTv\\u002f+dyV9\\u002faccW5LDFqMCBAdfPleuOET+5Mo6eysUSqGS0NwgLyW5tTAoBCBoLRTPkwaclnWXtHV3W2k6La+CRR3tQ8L7Elw31dfvijWGbG+BYiYYTpbF5cmIjtcWLtw9IGzpR3d2vuX+voGatDLqnTN8fxwAFgWMYns9oqvggUAE+Zm7tp0mmTMP1lhs9o91aX7xWO+KNUYRu8kD4964OWFG9\\u002fYAwArH5m+9tk5lG1ju20ATcIKWVdOXGSlrOveiSO5TMbVZplTsG4VIh6n6IMnyFYAABDxOC\\u002ffPu3l26eRHQAf3UOuX7y7Zq7r1wUjUxaMTHG1kKCh6Lrpo9a5pEE4WTM5e83kbJKxqK39+6LL2WGhmVKplxO7VSDEKHQmo1OvD+LxC9rb1o8YacUcAJDf1vbQyFFfFRaQtxki6jXKXFlTmiS422SYGZlwtLk6iMOvUnWlioODuLwSReewwNAieVulSt5lujWi6aTLXDdSckeF5jgOuKe+Dh6HuWI2+df3zm3hE2r1bYOrYfn6YgcPtR6TwVKcW0O2+gx1\\u002f2B6uPR6k35ALLp7wszbRz3\\u002f0aq7n5tLqVYwwKD78MiQbXlXsqPDTDZbebuciD3\\u002fjS9UyOX+HE5JR6fDt5jDTcaBYWIOJ7+1rbCtTWMx0xCkTqms6JKXyuUBHO6u8vKBzlfhOzqbJZjLz+9ssWCOK13tNgwrkretTMzK7WiScgU2QjQ7W+5MGs6ieasHCP15N9ge7BcJK7pIuQtFaJ7UCgB+3J\\u002f\\u002f5tdHXv\\u002fy0Lub\\u002fyD7PGN2WHe3nq3SNpMd\\u002feHtipBIyooMCvN379HLPVo6aoq3l7MnlHItZc7UxBtoYz7z3gqyqS8Oqti8J4ZHhW06XXDXuOy82iar3aE1Wcgl\\u002fsYD2WGhByurkgMDPbWCby1ZUqlzFLpzXPr7s+YAQHpQkNPyZ1DY2erHYtMQdGZE\\u002fAMnd2+atvRoU\\u002fXuujIpV1CnUZQpO0sVnQFs3q7aUovjzxJNHwnhpIRwUuTmWrLDhbULRwOAw4Ft\\u002fv0ijoOPl61O3yZk8Kp0rQmCcFLmSk11x++7ChAEsVrtKIqyWPRnnp\\u002fn9A5AsABg4tzMXd\\u002f2RisILh4ve+Lt2xGqWLJ38v4oowz5D6I96DuUnYmeQBDYeM9tADAuIcqBUcfLB4rOrmk01DQb6zvNbSqrQmNTWjGLFbPgACyUxURZLJTtxxBLWEESZmAQOzSGl+DHEJP3MkRguKPZWF+rr2g1NSosnSqrwopZbLiVjjDYNI4\\u002fQxLIConkxSUK0kLYvT2tvpAaFJQaFFQh79O\\u002f4SNWzFKjK6vSlcrMzXJLh8lutOEWBsJi0ziBrOAQTkQiPz1JmM5Ce3LTndAQb4FFEs4eXndtcre4YsHMdfrKOn2FzNzabenU2zVWzOLAHUyUxaHxxMzAIJY0mpeQwE+TsILIGwPclzbKKYg\\u002fzrwDABbFpjotH06YDwDpkuABieafccU6TJWd5hoHbusy180OfZ7svk57l8ZksTkceEObwoH52neU5hdzqvNKHD\\u002fUPc8uIVH6wosLt2\\u002fNXbRkBIfD\\u002fPmnC646OEDBmpflLlhqhb6sqDF9VAzJ3i+UCQ2Dbg\\u002f6CDbAmZ6c3KBa6eyaS4rT19QFzcZ6HKjPweQwmhxGAJBbZDX6MqddxJTE8BLThdlpftkcGsXQmUHQaW4\\u002f333ssipPb9eSfQBW3GLFLFqbuslYV6g6DwDB7NDR4snjA2b4cgKb8guJO6yyq\\u002fuDeXPIbs9obKoTnfvylWeJ6+CKBTdZMJPGpqzVV5zrOsZEWSP8x00LXhjE6u31Z6F\\u002fbuZEnb7iQveJa5oCG2Yl+wDMDpPZYVJZu+v0FXmKUwAQwY0ZK5k2WjyZgfbp\\u002fHFXIl8slPx5V0zKSeYzAvj0AKW1hexzobyuo1OhQ1Fk9byRPqoVAMTzw+L5YbX6NrLjOt3durZWJYfDbGlREnO0EfaBCVbSsMigUJG8XU2y5x4tGahgeZoQ+Ubag77ge3r3UKG0dh+W\\u002fVakynXgg6zhq62KK9a8K6o8GkLP8Btxb8xTTtexsppZaQm9RX1AbVXsbf\\u002f5iirPk25S0mlu39++\\u002fXjn3hnBi6YGLfDyZgaAhSlJUoEAAGq6FWSfB3DAT3TuO9rxuxXzqd1txSx5ilP5yrOTA+fOD72DjjAAgImy6AjDjg\\u002fBYAYSrabGPa1bXd8ivtBibGgxbj4s27kwdOVoyWQvkaBBcBOumMWh59MDyNbrVDXKdxy9DAhitdlRFG1sV2YkeEwZc+XX5lPEhag3yP6ZsprkJbh73aQ\\u002fjpSYzbY77xqHutQVfFVEJxPmUggKZezcO\\u002fknyylbZ5TtQTtuV1opbv0uS6fZYSZbvULko98cMNxxWLbznYpn8pVnB61WrjhwO4vWp1Z\\u002ftdnX8YAEF7pPvFPx\\u002fGVV7oDUyonJYdzf\\u002fsuHVS+3m7y9daUCQUlHJwAYbdRPAgmjw\\u002fBl7dv723\\u002fx8dlz4sAdJ+UHPq5+XWntJix8uqBvkRsFw7FDst8+rHploGrlRGfX\\u002fNz89Ze17+ioKrOD4yZcMa2ts0ix87Jyd7n6GOXdkhQd9OqDcyKl\\u002fv+4d8brD84Jlgh8fLamBQ+\\u002fI3LqHZFTV0Z67DjukuvKy9vGjIvv7DtD1IAFi7KvsLNVWV\\u002feTrZ6JfcohcZ5ag8SzROyFaBYXeS87gBQpMrHcMzFfytRWrs+qX79SMcuG+bTQ+sj4yR9fmM+m\\u002fXCjsMfHT3\\u002f0dHzrnZ3HLh9e\\u002fM3O1q+tWAmsm+AtJmaPql+rURTSHa4cKW9HQCK2tr67SXU2bWf1\\u002fy7WjdIOQCAVmPDpzX\\u002f6rZ0AACfPpR5J2aHaVP9+0c7dmM4xct1QFTrSt+vfLHD3Ep2DJybc8WEjOAs8eJh\\u002fosnBN3npW7YpdK3dKpbOtVNMhVlSNqdQJaI+BDNk\\u002fZxuHD8WMmceVl6vbm6Uma39z7UA2sSAkDSsMjAEFGXTE2yXzhaEpvak\\u002fDWL1aLvfBsJdnq0h402PWnu46bHaZYXnyGaPjJzqNBbGk0L85g1x\\u002fu2GdxmEM44dOCZgFAnuKcBTOP8M\\u002fh0DjHOw\\u002fJLR0J\\u002fOR4fmKf\\u002fd502k0tG+veoRTZG0HKDo\\u002fm9WkArh6TZaOqqJJw4I4tDZ+UaorIjsFiwcyb6z9aE\\u002fXISPEEsg8AACbFRH99qSBOIvbeS2jDrJvq3ms3UXQWDwi1VbGh9u1nk94WMPzgRgW5Bwtm2lD7drORInAxODQ25Wc1bzwW\\u002f2oop2dkzyC4uVcMRxFah6lKyukdBEbigWXjDp0rM1vs9y7OcW273SB0Bq29TcXlMmXtKjq9t141YMFCEGTC3Mzft5wl2XOPltz1tE+J+QBw+VyV2UgRtnS2Bx24o9MsWxfzMPF1pHhMsboIAOoMNbG8eCbKMl+vJqQKM+P5Cdubf1gb\\u002fUAoJ3x28HzUa3jlJtBpbvu85g2jo\\u002f+sPx5dEMAKFjHELJSNIjSzw2R2GBVWebelk7ISPrZv9QoA\\u002fDgeg6aubGv60otaIYBE8xJi+UlBrBAeXcBAmDbcqrGpOs1tdfrKNlMTeQMAAMAB39a8kYEys0QUw7aj\\u002ff0fzBlV1iknO\\u002frya8vmJs+KgCJoLC85QZAaxArh0HgY7jA5jN3WziZDba2+gtQaUlq7Nzd8RHXZBoMDt39d974XteLR+fH81ChuPJ8u4NEFAIjBrtXbdY3Gmlpduadf32DXf13\\u002f3rOJbwkZIrLPN27mFZMZy4PZiW2m0mBOAuKhNebHZ6+aO\\u002fTjFlatHnvk8LXODs1d9050tQ9YsABg4rwsd8FqrO5ob+qmXBbMHcqYF6k96M8Uuzh7SBKkfNfwVTQvbmrQTMLix\\u002fBjoEzi8fZScb1p6O3ar+ve83S\\u002fEiTw04b7j0kWZkqYFN3eAGDDbJ3m1hp9eZWupE5fSdxndIQxStznxwOAhm7VlnOFNodjdnri1ORYkpfgROf+IlUu2QoAAAyUOTlwzsTA2SLPmROd5vZT8oOXlKfdm9sYjm1t+jKIHUJKergqk5V2yK2Yo0Iuf2+ux17CEk1hgZJ8IznJEU+eE3K7mEl9R1kwc77i7NGO3Tq7xmms11e5FLkhdrf+WKevIFsBACCalzBbujRFmOXpfsMBL1ZdPNyxs9NMESdRWxU\\u002fNH72WMKrnjb3wk2+YtH8UQWKX8XMCE9qNWhOdl4WMLiBLFFed9kdkVPdR0HLZJqy0tbVa8Y1NymCg\\u002f2c9sEIVvLwyACpn\\u002fuqWblHS29fP4VkdAdzYJeoJkT21D\\u002fYZem80H2m3dQaxomI4sbo7DqtTV2nr0kVZpBKRnJjdrX9ki0aHccfWMfZELK9+RuF1WO1IlGQflvYmjBOFNnRFwbKCOfGhHNjpgbNt2HWMu3lQuUFDo3Lo5Nnd9lZUPKvxdNpKPrfQ2cmJca45160GhsOyH4hGQnCuTH3Rj8RwPIYRyAIZoeujHxgXMC07xs\\u002fU1jIf5oVs2yp\\u002f\\u002fiF5P+69txnhYRIBYJgPr9OqXQp2wc7btvZ+j3ZCgAADJR5V9SjlBU3JyyUPTFw1gjxuJ8aN5Rri8nuG6NEU3i+myJvm4bQl0fc617PJYEAMtx\\u002fbJYoZ1fr95T7qdVXnO86NjHQ1xYJwc2\\u002fYkaHmo4w+XSKsPINYsFsuM1Yo2sbLUluMcrdg1muMazh2dHOViFZ2HwBQZAJVKF3yrwqdzxOiOzSPyhk+C0J68lZD2QFLwtf9XjC8xl+w452HHgk7unlEWsKlHkAMDN4XignHADujl4PAJMCpy0JW3EL1apQed5Ty4uG0JdHrHs0\\u002fuV+1YoEA2UOE425P\\u002fbZO6N6Gsh9QKBdrVMaTCarzT1zBwf815Zv3WtGABDHT34i4bV+1cpJJDfu6cR\\u002fS9nhZAeA3CI70rGLZGzVaL8runy2oZFkd3Ku65iaqucXAeTe6Ce9P3tOuDT+A7HPpftlkx03gBWzUOoCA2U+Fv9Kv2rlBEXQ5RHrZgbfRnYAAMAh2U73zCnv3Pwr1mWuY9OEHeZqHChuoRshmid14I4oXtDF7vJQDkWVkIhhyTu1pBjWYAQLACZSJTdUXmlWyrVkqxuUuuapf5DEGMmE452HD7b\\u002fPi2I+u1ERwZTZxwS7Lhtv4e6DA2h3xf7zISAnmbsEHL\\u002fpFF7r5RvPluwdny2m15BkfJCs7GebAWQMIPuj33WS9IgJQK634NxL7jX8gDglPwAqV5Z091974jse0dQPxgYjp2WHyJbAQBgevCiNN8eJwIUoa2NfsxTO2gQnJQfoNSFOyLui+V7jD17Yl7IclI\\u002fCYHRoT\\u002fTdZhs9cwtuWIhnFSFpZFN41M2Casa5W9+feTNb46+uuHg6xsPD2gsoQPHdDZTh0m1JnomE6V4ZletHutwYO4xLIrz8IWU7CjSPFMAgON43h\\u002f9d7XmUQWwPLUHSURwoxaHLV8QujSCO7B6yk0gt\\u002fsk5Y0OAHdE3JcmHE62DgUNXcrHpo99fu4kjYmcj4YDfqzzd5KRYGXkei6NQnf6RcwMXBK2lmwFcOCOYx29x9pfUSk3GDbkXfqu6LJLqV5KNUVqG0Vr0Y8hniNdSrb2BwvlLA5bQ7YOCgtmOiM\\u002fQrYCZIlGjxZPIlt9AEXQFRH3k60AAJDbfdL3bIlbcsUcuHVC0H1JwqlkBwDcQB4WADQaOpZFTPIyt0xnp6ahXt7Wqqyt7nS1D1KwEASZMIccQgIPtSdXakpb3RPlwUO+6P8W57uPkU0AAJAlGj1GMgUATpzuE8StqCLnfLpbvOPA8MKGNgeGOTDsWGmNtW9+Q7WulDLomyoclihII1t9ZpR4YjgnmmwFKFCecyZGLkxJHh8VxWMyRoRRZ7p46gSYFjSfgTLJVh\\u002fIEo12HXEyaPIV54wOPcmIADJHejvJ6DuhnMgYXiLZCqCxKX3PpbolV0xpaVFb2w12CqF0Mog8LADg0lhbG\\u002f\\u002fY1XKW7LjOwf3Fjz81+4WXFhUW1DvnrQdPgrVx9wWFhhxmqmnpOpTbGyynnML4Wl6dQesxqQMGmC\\u002f6P0S9oYpSHWgIfUnYXaXlbfsOFre0Kq+WtBw6VlJW0d6t0FfVdADAhbwaADiXW+O0nDhdsf\\u002fw1dLytooq2cGj10gy58rx8pqTlXX\\u002f2nvijb0nogP8mfQ++Rz5Cuq7YXrwQrJpgEyj2oMDd7h2YHmZXsaO2yq0V0lGAKAh9BzJFLLVNxBARrp1oXqhUN62paxwSxk59zWfqg8uRZgVyunTDTpQPNXOSrXUNVASt+qK+TFDZKaKZsMVssOFB5aNK65sPXmpekB5WNOCs9dEz8wUxZId1wkMEtZUddTWdABAe5uq+\\u002friMtSCteXAJYWGHBFs69J8uqP350wdES0JFrr4AQDsdselk72i5g5lFYxS+\\u002f63uKamnu9tpHiCPzPgWlnrovnDmCy6vEublR6elhIaIOETI5OsNkd5Zbvd7nBa2mXqhXOzKqtlTS0KFpMu4HuMNM1OT3x14bQ3l8z895KZK0b3qaJiuKOEKvwvZgbG8VPI1gGS6TeKcgh0kfKC83N2WGh1d7eQxXJPHG001FJm2ycJ0il36yOZopFkk2eqVd3r0kauS+uzicIqp0y8yvAbwJ4poQxjAUCNbzWsW3XFwrmZKX7TJSxv4Re5UldaKxs\\u002fPLaju6d+3S8V2qa9bRd2tZzd3XqO7LtOcLCwrKztyuWmkFD\\u002fvNza6sqexgdFuMsTHBZDa+gNlCAIMn5O5r4fzrsUAQDIPVo67TbqRLK2xu7mmj4tUgLK4T7\\u002fW1C+AAGAaAz6+3GPHC+1WuwAwOEwAaC5RVFbJ6+u7Rw\\u002fJv7lf\\u002f\\u002f+9mtLnBbO9Wmd+TxWU7MiPjaod3duyHUGonV3qqJuakqc095gqKG8xdP8sgeR\\u002fkOCgTKSBBnF6kske5upSWfXCOh+ANCq0aYFB0+Po3iFNhiqySYAAEgS3NBtIGWH8+lCysknSOyrr5Cb9J9fzePRGa6aVamleJsCQKrfjcYfpexwJspyH\\u002ffXaW6zYhYmyiLZSdySK+bj9DKDWIQiRRgVyBIFsPyajeQsGSdTri9zRaL\\u002fvTu5WNooFvJcLZQ1o8KzlVYz9ei53CMUN8Rfqj14akce2XQdLy6DXUc5RsyP4U8EL+bOypg1Pe2eNeNnTksT+\\u002fMAIDJC8s9n5yXGBzOZ9PffWs5k0p2W228bCQC33zayobF79MiY3Eu1pN26UlDfc9zStk67S1O\\u002f1kPSYyJ\\u002f8NErVxIF6WQTAA64MygzKyE+VCB4aM++vkUAAFqoOi4BIPbGBlQhgIRzo8lWKhbFpsyNSno8a+zk8BhXe7WOIl4hYoi9ZNX6CIqg\\u002flS9cjjglJEEErfkikk5yXGCsdnipaMCVpJ9LjDotNZOdYdC1yZX+6JWBB1m5a6WswWKSrLjOjXVHQBQWNBQmN\\u002fnb+9Tw9p\\u002fvmzT3p7H8smPdzNcYiImi02tN61bkOO0AEDaiGhxkJCUymAx2YrOVY+dSfFg5FKt8EypereKtpqOg9+ejEmPsNscsvrOyOQwgT+v+HR53LAotVyrkKlaq2U8Ea88ryYuKzJtbM\\u002ft0mpq7LOX68TzU53VGfckqX5ZsWxUu0y9YtlossMFFoO+53K5P4\\u002fTotS43i5tHk4pkktR5RkEkdze2pwrLcb6Ef7jAOB4bZ3V4fjqtkXkEgCUjygCCGWS14AIYUdUaq+RrW606jWbyvJT\\u002fYO6TIbnR0xy\\u002fjStpoa+BQEAAvuLTPuIp7ab2qaIgD666c4tuWJV2lNKSysdZdox69jAu8ju6wxiEQq43ktItrrwx9ESsZiff7HWZnMMHxHtXBO7j2DNHZsSHiS6WNq45cCllJhgP5eF5NgsRmZc6JwxfcIfCIpMmJOx78feyAVB7rESd8HyOCHyX6k9yOQw598\\u002fbceHBySh\\u002fhkTkkPjgquL6iUh\\u002fqUXqhhMxi\\u002fv73\\u002f0o7WbX\\u002fk1Oi28uqjBKVieRqJ6ilz4CJNJj+5vqNPjM8aeq27UW6yvLprmapdRTf\\u002fCQjkipgT6rmfVL61abbiQHKwMZlN3\\u002fzmFckY8taLhgHdZOshWAH+mpN+WUb9ImIFkExXhfL+7U7JT\\u002fIPoLstKWjGLex4\\u002fAASwgsmmQcHuOy+Qk35HyN+qK5YknHpNdSDTf0G55g\\u002fc8yIURrN1+azhA30fE72EHBrLk2xhGP7tN6fW3T\\u002f58KGrOIbD9bpTH8Gi09DhiWHDE8P2ny976LbxiZEe\\u002fxgnE+dluQtW\\u002fslyzIGR1sW+eJxiQuS\\u002fVHsQAKwm67Efz4oChQDA4bMBoDS3mi\\u002fioTQUx7GFD0w\\u002fsf1CbGakQW1MG9srRkprl\\u002fOzK1J2GNk01NTKFRXtcgeGNSvUD0\\u002ftrf+qbL2z7jgJYAUBQIdeT6xntaO0VG02S\\u002fl8BEH0VkuSJEDE4eQ1N6cGBflz2GcaG7NDQhGAH68W3z9iRKKkj3QyUZaQIXJ\\u002f2BQW6kvhRG\\u002fXUU4NRtliGiiEHPtCp1Gf39Gqs1qeGj6esHgacJ6nOJmnOEm2Dh3ugS0St\\u002fCKBbBjCxS\\u002fcmkiT2oFAFWN8rI6GZ1GwzDsgWXjyG4PSNniacHZZKsL994\\u002fWac1BQYJJ01OpjN6m3rUQffxmTFMl0JeSBsZ494q1KqM5ZebSHOQ5h2n6BD5S7UHAWDNy0twDHedn37p43NcLZEpYQBAkmONTeX87Iqnsc1DyLa84lEx4XwWs6y9t3ZgsOspJ+ESMPwAQMrnWx0OALA6HHwm02izaSzmB0eO+qqgYFxkRBCfX9DWhuH4Q6NGAYADw5IDAklqRSCkUwiW2qb08jYGAL3LyFtXiFD9DeJ7NuyMiHgA2FVb6pw6nTIt8ybgabZPJ7fwioVyUkM51MFvJ2qdiUmnIyhEh1LcJJ5oMnb6MfkcGkvMFJB9AADA47F4PBYARMf0qTZRB8levmdmdIiYbKUCQZHxsykySC+d6CNPJqPlai5F8JjUHqytoGir32TcV9Nwt5Aqj67D310hBMI7nU0UVSFPuBf247BHRIU1dKm6dAaboydx1FO\\u002fD48mAADnelYIgtBQBEFAb7XuLCsL4HIL29o0ZjMNQeLE4s1FRVc7Omgo2m00UI5h5lHNVOnA7cQQuZKOzm\\u002fyC\\u002faWk2P\\u002fRruBZCHwFOIZEFx6n04hLxxvqd1SVgiAONsyOjfxvTn0OwVuv1fMbG\\u002fr66FGbjhANg3kinkiKsSfyaDRUFTmc1oDAIRyAiq0TZdV1L2fXqCuYQ2IifMy9\\u002f9EbhUWna26758LnF8vn6u2WcnVWvf24N5tec++tczV8j+B1UFRq0cRGhFiqL3aVH6pJi4zyk\\u002fCLz5TEZcZRaOjzZXtyaPjTDrzvq+PL3tiTnRqT\\u002fT08slSWb08NF4q8OcRWzGYdE+FAeCeCdliHjdAwJWK+M7FqG241VnAFSbKBIA4sfj92XMAID2opwL43ZXLS1NTiUfXWeNw4DiRQvXc+AmUEQpPCdY2zAo0XoVcvn70qD1l5aTVXzxVKJgDHNhICQNhkE0eCOLwa9UK1xwxM0Ye2\\u002fQXwfsV01lL27Vbw4XrHLjRYK3hM1PsmMZkb+Ywohmon9ZyhcdMQQD01iqrg\\u002fy2g4FcMU\\u002fUNHVp9GYOixEa1P\\u002fr2YnRblZb9Qb7gK85tWDZ7I5tx4rOX63vUhlIgad979\\u002fv+hUA0kfF+gcKVF06V2NDpUwp14qDeoK1hacp+i+d7UGt2vjTlycCgoQAoFYadv9wXqc1LV499lphQ3uzIihEZDRY1jw8zdUlDhT8sum02WiNig+euTj7181n7DbH9IXDYpN8jSUPITaqW8o5DPvMrkvRqeHVlxvSchIkUlFpbtXwKak6tYHDY4dEB8ZmRLgKkKxeXnW5AaWhl0\\u002fKia0yxiVSFr7S3C7mcWVq7Zi4yIXD+nSG2KnagwBA8zAyfFFSslNTnB+cDzOlWgEAsYqBO8SKMokBAVsKiwJ5PNLmns5tSEatoz7vpFwpfygjZ3ddmVNPPZ3YLcfTiRFXjM9I4TGTeczEVu134cJ7WzSbaChfZylBgKayX+AxEvSWEgy3RPitb9F8Q95Ff1es3VTWaaoO5aQGe55xdERa5LaDBV0qLMGHkLeTsQFpAHCso8B1RRxfoD7db\\u002fbkfX8oPyU6ODM+BDzHIwiIVuGBrbkk+5Xz1dOXjiQ+F56hFKye9uDxfVdmLs4Oi5J89u+9IjFvwcqc0stNeSfLuzq185aPqrzaouzSAYCrKyYpJCUrks1lGvWWY3uKAoKEIRHiXzadeekDbzkjfxI41fwtzgHusRmRBo0xLSehNK+aL+KiNNRhx\\u002fwkgpILlVNuH6Ps1LRUyyISe3RWKdfMumti8aly51aeChsstoKGapla5xyRkx3VE+P3EkKiRMIdTHPM05QjxNGNNhuPyWxQkaN7Hts\\u002fAztlatwXufNEkn\\u002fAt2UFQRy+U08x6GlQ\\u002f9XwfsUQhGZ1dBtt9UxaYKd+D4sebLQ1SfnL1OZcPjPZjmmFrGyDrbpT\\u002f7sDp2wHeLtizullgjzPOLr31LV\\u002f3DuDRkM\\u002f3XZm3LAYH0fn5HWXtZsUAgbXXa0Gs5Dq0UuVK2dmP7tqCtnhgYnzstwFqzivlhCsxiqZ+2x\\u002fru1Bi8nK5bE4XCYNRU4eKFZ26yJiAh0OjMmi0xk0FodB1PJcXVmjY99\\u002f8bekzPBFq8b+\\u002ftOFoBARk8VYcf\\u002fkPse4WdCp5sdw9uxMXT6GCNInjohxxu\\u002fjh0XR6DQAWPev5a4xsrteWgIA6WMTwSW0T1l4fHyU1W4vb5PXd\\u002fWIglOw6H1XwXNip+psGjSUXVdw\\u002feiNKnVJR8ey9DQ3L8W1AgCHz\\u002fMWDAkiFnthTEp+Z4vT4qnCODVoforwT+waCuxvSrJ+r1is\\u002fzMAKJcRC4A5o9J+7BEAgIMDAZqAleHq8p0QTmq19kwgO9aTWgEAgiAdCh2PzTRZbO7q4wkpRzw2II0y030wC6kqNIactEiy1TMZo2P9AwSq6wMUCa5d7BmWdfk8RWjNtX9w\\u002fMz0n786GR4TyOIwaXRae7PSbLKRAtsA4OoyGy0alUHZpSu\\u002f0jRj4fCtG0+GhPsnpIUB3IImIR2hiObYcRuGO4gJ5p1\\u002fi1NuCAFytbjj3IqyMILAtJS4UJEwOYRcFWd5SM\\u002fptwd9QHjaGxG5ixT5AUBuU\\u002fPI8B4ZJfCkC54aPgPC951clss0VrOYxbFjGJGN5SkkJ2SIkgQU3Uo3DR+umPNJIT8yiDN\\u002fyc1F4P2K0RD6hKD7vC+keteCUb8du2Ky2FbOyfZRrzrMyt+aT8fxw5RW7f2x8yllbmALqUZK\\u002fVvl5DqRFxAUGTc74+C2PpUseZuqs1UZHC4uvtBP\\u002f2BkbOBz79yOIAhxWuOnp7pmXkTH92TuTZ6T4XR9\\u002fd7B1z9bI\\u002fDjfPTq7mffWvbMm0vtdge973QFNw1PXS06u9aP4U+2DinuagUAAg8LHBjsfd4oN4ieam80hE5kSAbxeROio9y7Fz31BnqfBd9HPGmoOwkiCYogjutqBde7UN0Z2os2CG7VFSPWJQxgxxrtqvFB6zzFGZralUT6VUmNr138Urb4tvCJcfxQ96ncnQxsIdWHloz\\u002f\\u002fmB+QXkz2eEZyoT1kkv1DgdWWlBPsrv3D6Io2iuinlPAnK4ZC4fv\\u002fvHCto0nb7tzbI\\u002frFqkVAHgaa+ZpPr8\\u002fGxbKpsyr9pQvNjgo8wD8GP4IIK0a7eaCou+KLu8uLSN123vKHhoSXTA4fN1JZoA0XRKcFdhbHxdRLXoCQ3RiN8KtumK+rEuIYfiVqlaHA3M4sJP5NTabr+36REG4F7UCzwupUtewTl+uxXH8kQ92ctlMiR\\u002fPtdWy8517e7+4kDE6ViThqxV6V2NZYUNEfJDJQFbxG88XjUsJjUsJJVtvESJGH\\u002fF10mFpi+LFk603hQCWtNXYQDIqrHLvWZ2+Y8HMlOsYi5mBABDuJ7wre1hKYCDNZewLAZ8uQBGa+0ybKpcFcQeN3kZxSj7iacpgymExN5NbeMWC2QkAIDfXBrGpb+NTBTXniurb5RoAJDkmmOG5qjFQPC1CQS1YRrN1WEKf0EO\\u002foDR0\\u002fJyMg9v6TGlACJarhYCyOva\\u002fi6cxqC3GhhzxrekHCONEuQuWDbMqLV0SFsUvMlA6TK1kEwAAOJfYSA+mHoKHIjQJM9BdBRTWLgfuoN3YmpJe1ivqFz+GmEcXuFdbmo31GI55700DgH3fnopJDcsYl1hZ1JA8IobsBuhuV53enX\\u002f7Y7PJDg90NiuCIyVw666YL9PLTM9JDAvyS46h\\u002fq1vhIEtpPrfRxeSTT4wcV4WSbBa6uTuM7i7twcB4Km9h9aMyCIFaJ2cqKmrVSgfHDOK7PhrEOZhgvlaXTnZdLOI5MZeUpwmWwGajXVDIliUa1sAgJfpSpwEsUPdHz8Hbu80t9\\u002fgxJ5yt916olDedq1LBgCu82FFcGIqddd6CwEAgBWztJubKWeFdlJX2lJ9pTFtTLxCpq692pQ8Iub07nyj3hyVFOon4Refq4rPiEgeGdvb1wUAACW51e0NXZGJIUw2vTy\\u002fLjY9gsFiNFe1p4yMNerN+749teyRmdEpYXCLrpiUk8xnBPDpAd6D7n+GWoHnhVT7eW9YbXal1ujLYugAkDE61k\\u002fMJxlLC8jv+UG0B6cnxP1l1QoAAllSPr0nRdYVmbml2\\u002fMNcYOUt8tf2nX05V3Hnvv10As7Dr++57irl3K+KgCoopryaRBU6UrIJgAASOCnkk1uRHAoKiDgeZo63\\u002fE0b5Q7lDOOxguoT55ynixX4tIj4jIi4tIjJCEiYkSHrKFr3tpJ1VcajTqzROpXerGGvA1AV5syY1xCyqjYM78X8oScmuImFEX0aiObx4pNi4hNCyfUCm7dFbNhZr1d0WXu6e6\\u002fmdTXy5fePmrN3RO6+2akexSsvJLGtf\\u002feNuGhz2Y\\u002f9dW12nYA+GZvXl5pI7mcC0SrkGx1w7U9+Pn5i8t\\u002f\\u002fOXxPQc69T3Brwd+27Mlv+jR3\\u002fff8dMvBqsVALZevrr0+5\\u002ffP32eKPBrcckn53q6Iz84ff63q6UA8EtxyV3bd67etoNwFbfLHtq179Hf96\\u002fc+usz+w73ifr+CSCAJAupG7mUc4QPCamhQe8smx0VIHp98fR3b58j9euzZkkQK4SyJlWuvUK5TOGAsGFWymc4iBXqyxQCMR6mnav2III+YnQYKKdRdMc54yhpTndPq\\u002fXldp+gnMjBnZaajvrSltprzWxeT2ZJ6cVavdqIomhTZXtDWWtdaZ\\u002faCofHBoDY9HCj3pI6Os5hdwgl\\u002fNK8GhodVcm1LTU9b7tbdcVkpooa7Vkcx9wjaH8qGIZfu9pCxPLPnql0jeVTNwlzSxqe\\u002fmRPTKhk6eTMXad7Ksk6g3nb0aKx6dF9ivZl4rzMQz\\u002f3aRWScG0PNihVp2rrd969CgeYu+kHZxkWnb5hSW+bdE12loDFrO7q6XFblJa85PufH58wFnD8WHXt3nvXNKvV+8srt65ejgDc\\u002fcuua7JOAKiUdx1bfw+TRlu1bUdttyIhgNwIHVoy\\u002fEYUKnsk1ZXz3X9MD1400BUAfUeu1Tcp1DwWs6FLiV0f\\u002fUcwwn+869JbBBqbqlJ3LVU4jGQfEMXqSxaqkXfD\\u002fXPIJipieUkMlOE+n0S5ttiX+YI9UaG96qMWL4pNqVJ1J\\u002fkH1Gn6dOOGsCOC2WGd5jZXIwB0WTqqdaXes7GWPDQDACISpM9+cS8AxGdGOo3ObOHnv1znusm05WOID1OWju5NEs6MotFRALj3lSXOtLtbdcUkrCgEUGc64U3j3NnKvAvVsnYVgiAJiVLXWD51Deur33Onj0rc\\u002fu+1\\u002f1w7w2lMi5XWtHS5lKIgMyfOvVXoimt7sEmlTgwKQBGEhiAJgb2CMsJDJIuAw2CMiYo4VVt\\u002forZ+QkwUh0Gv7VY2qdT3\\u002fLLr7l92AQBRL0sNDmTSaAAg4XIJy59Kut8IyhVGDXb90Y7dZOvQ8dj0cUWNbUdLqh+amkNap36MeAplh+CJzv1k00DAAT8pP0C2AoDntWFIMFFWItXDb8UsBVSi7yOFynNkkweIGUe3lBXurCklZV2MD5ju+tXJQdkO78+2F7zkBjtxSRLu+eC61S28Ys2Gy2orWcFvnLfLfyzVeGyNTp6S8vhTc559Yf4zz89buLhPtZdasOpau2fnJJMSUP34HI2e4r3qCkpDx82mjp4QuLYHI0R+1fJuDMcxHG9QqJx2T6NtnawenrXrWtme0vJVwzMBID5AHCoUbFmx9IeVyzbfsSQnMhygn0FSQw4dYeSIp5CtAABwSn6oTl9Jtg4RnRrd1RbZlOTYdpWW5JKwgjKolkWp1ZeXai6TrT6TrzxLOcNqqnCY7wvfZ\\u002fv3ZM+ROCHf52nEj3dk5hZP64C4Q8w4ujYl+x8jJ5NuttHiyZSJmk2G2j8695CtN5FbcsW6zHUjJXfggPnYIh5CEpOo7yXqp5rD7rNADkGnQifxo07pdsVLTJ3UPxgnEU+Iibrjp1+e3Xc40l\\u002fUW84FB4Y9t\\u002f\\u002fI9wVXjlXVPL3vUINSBQCJgRKjzWa02omGXqRItHJY5t3bd979y657f91t8a2LYMiZFryQsnKO4Y4tDR97DxYMmn3FFUuz07RmC2kRCoI50mWUlawdLd96msPLO0pr157WrWQrAADMkS4jmzwzTJRD2U2hsMj\\u002f6NxLtvrA760\\u002fDeihsjl6c9xd4dC4M4IXk60AAHC0Y3e5tphsvVnckismYUUXKXehCM39LnqlZNPOltNvlH335OVPjQ4LAGxrOvZM8RfPFH\\u002fxW8sposyn1b89X7zh8csf\\u002f9BwmLD81Hj0icufvFn2vcLSz+3n0yIUTsZlxHx34NLwxLDwIBFh0ejN249fnjQ8tk85KjLHxAn9eVoVxbgBdy17ZvL4Z2C8q2XT8ttcv9JQ9IOFc1wtBD+s7PN4LM1IXZrR28UzLDTkiyULiM\\u002fOD382ArpwWtCCIx27yA4AvV37Wc2\\u002f74l+8kaWXAYAHHA7Zme4jG1m0GjNSg2PxWhR9VmEgiCMEzUuYNqF7hMku8am+qbu\\u002fUfiX6KsTXhCZ9d+Xfee+8LIADDcf+yAUmTpCGNi4KzDsp1kB8DRjt3RvITkgSxgtadtq6deS0\\u002fUahRiNofHYAZyyO\\u002fgyYFzLylOyy0ykt2BOzbVf7Ai4n5i6bYboc3UlK88syRsLdnhmVtyxXDAMdxux6gjKkyU8XravcTnMk1Dmabhw2GPAsDL177J8ItNFkY9Gr+UjtIwHFtz8c21MXNajV0XFWVfZD+NA35\\u002fwX\\u002f77MsNT4tQkG9xgsdvn2h3YLe\\u002f9P1db2wFgE9+PbP0xS1Wm+PB28aRi7pB89wq\\u002fD+WL+rOLOltIewIshUAAAx23Ze1b+9o2TyIqg2GYzX6st9atrxa8nCTsU8H+f2TRzkwrF2te3RaTwSXxMLQ1X5UI4eajXWfVL\\u002fue72v1djwSfVrlOU5NO7SgTx7BFOD5lFWGTAc21z\\u002fUYmmT\\u002f+dJxy4fU\\u002fb1lPyg2RHf0QJRFe62s+3N5IdAAyUsSbqEcqQAoY7tjd\\u002f\\u002fWPj54PLVpFb2k\\u002fLD71X+c\\u002f3Kv95Wt5T6fCdm3\\u002fFFJbGUZIVAEBZF0v3i3F+bjJ2JAoiEUAQQBIEEfWGditm\\u002f6J217sVP31cvUNvN2E43m7qjuGFIAiCImgUj7rF54RYhGL5ihx\\u002fMQ\\u002fHeo9OXcMK9Odv\\u002fdeabUeLLpY1hQQIAWDplMy75owUuqyj44Un31n+5DvLyVYAAGhv6vYPEHCud\\u002foCgM1qV3XrgkL9XUqBzWovPF0RnRQaEjXEvXsHa95zfnYexfnV\\u002fUwGBA2hr41+\\u002fJPq1yg70XDAL3Qfv6Q4M9x\\u002fzDBRThw\\u002fxUsFR2fXdprbGgzVdfqKBkO12WEilwAAgOqOrrvGDQeAK83toSKKu5lD466Leeqzmn+7Rzo6zK3vV740IXDG5MC5xJAaSrosHafkB\\u002fMUpyj7thFA1kQ9KvQw3NoLLJSzOOzObU0byQ4AK2bZXP\\u002fRaPGkOSHLPJ2YA3eUaor2tW8fnHZw6IxOo17KFZAdAAAQxYu\\u002fLWzN7tYfyQ4AAChS5V5RX8r2H5suHJEoSKOcKprA6NDLzbIOc2utvqJaV3qDYzlv\\u002fhVjotxCxQ4rZixW7kkSTuXSRa5e1\\u002fBfDC\\u002f0XNc1QteqdM05ktRiVY3OZnw17R6dzXhKfgUAQjiSBoOMmCqqlWpiGVcGtggFAAh57IeXjn94aZ\\u002f22o2Td6xkxOTk6Ovz1QGAxWRTdZFlgk6noXTapRNlt62b5Gp359yhq+NnZ7jPReMLpKNQnslACeVE3BPz5Kb69z11KtlxW4HyXIHyHAKIhBUsYQby6UImysQAtzhMZsxksOu6LB2eFMoVB4YXNrRlRYQAwLHSmrTQYOdkfq5E8xJWRNy3vfkb9\\u002fekHbedlh8+Iz8SyY2N46cEsUMFdCEdZdgxm86u6TC31eor3If4uDI3ZLmn9KV+GS2edFWdX6opIjsAcMAvKc8UqM7F8pITBKmBrBAOjevA7Xq7Tm\\u002fXNhlqq3Vl7ktbTwiYqbJ2l2mvkOzuuM84SmJy4FyltctTPQjDHYXK84XK8wgggawQAcOPR+dzaXwHbjc7TFbMYnIYFVa5+0CfG+QmXzEBI0hr6\\u002fRjhKSJZpN9fUkRRmWK4p4t3gA4PkqSkiqM1tgMPzf\\u002f8XLJNxKmXywvBAAiucEjxElPXPk0hC0O4QSQd9EXpUK\\u002f45eLdptj0tQU13UoPArWDbLvx\\u002fMzl43i8Fi\\u002ffnli4drxOzaesNsc05aMBIDjOwvMRuvE+cOyxsbbbY49350NiwlMyorEMfzHjw9bzbbMMfE509MCpX6yxm4AMOrNzs1j+w54rilp3bXpdFtDV0ZOXGR88P6fzht15uTh0emjY3d\\u002fe1qnNi6+Z+K1S3WUZxKbEoqgiPMormdy9kCxrFnR1a6aOH9YTHLIr18eNxmsUYnSxfdMdD26J1KFw9bFPP19w2eeZuMmwAHvtnT4\\u002frpz53h5zcnKuhaVBgFIC6NWK4IcyRQrZtnZ+j3ZAQAAOOBNxromYx3Z0R8zghfNli4hWwfCmqhHvLRMMRyr1ZfX6n0a4RTJjVsSftfxzn2eHj9X3GccdWdJ2Fo6wjjeuY\\u002fscAEHXG5pl1t8nVnlxrmZV4xoEpapj+JuY+bfynjA9SsArIqcsSpyhvOrH4P3yfAnXPwAAOti5ve3aGwPhw4UP\\u002fXsXBoN3bjheM6YeOcMM9QVk7PFdQ6MuoLgIzFJIWcPFNeWtrK5zGO\\u002f5UuC\\u002fYaNT\\u002fx1w3EAGDE5ef0ri0\\u002f+XggAdAZt8sLhXe0qACg4XREWHfjAy4tzpveJTJM2dyUhIzw6Sbr8oWlpI2PsNkdrfdf9Ly2aMDdTJOEvuGt8Zk5c3h+lXs7EFdcz6ZKpErMiiJOsuNyYkh09bla6f4DHmr87GX4jH4l\\u002f6c+eDGt2euKrC6e9uWTmv5fMXDG6n\\u002fjgxMDZd0U96mk2uIGCALIobPXC0FVkxwDh0LgPxf3D93wIT4SwIx6K+ycdYXgf9OfEgeMoIN0miq4hVxaGrloRcb9rL8ct52ZeMaJJqLHJipV7jHY12f1ngiAg79Rq1Eazqc9EptSC9exne+c9881nO842ypRkn2+kj44tL2o4d+jq1MXZRr2Zy2czWfQVj0wHAP9AAZPNwFwCaQRGvVnoT+6yIeyum5NwFf4AqR\\u002fx4eSeonMHi7lCjsOOeTkTLzhPMnNs\\u002fMk9l+sr2kdNSyEX8kocP\\u002fmF5P8ME+WQHUMKg0776tSlDSfyNp66RPa5MVI84YnE14NYfWqpg0DEED8U\\u002f8\\u002fpQQvJjkHhzwx4MuH1AXUykkjgpz2e8CqRuOucLsI7lGMJKRkXMP2ZxLciuf33jw8IyqC+j9y0KyZihgKAmBk5XLyEFMD6s1mxeuyxI9d++Tlv2fJRrpVg6qv21QvLx2XE7Dp1dfnL39\\u002f3zi97z5UaLd5aN+4gCBISFWA2WoX+vBlLR127WFtW2ECsJeFKe1P30V8vlVyqyz9ZPmpq6ul9l3\\u002f66MjF42Wt9fI\\u002fdhUUX6guOlvpZXMAiM8I3\\u002fzu\\u002fvKiRlcjnU5rb+yuLWlBaYiXM3E9iuuZuO7KbLBqlHqlXFte6C2UQwmfLrw35qnHE16L5SWRfQMHASSOn0IarLctrzhc7JcWFtzv8nYEUdy4F5L\\u002fM1u6ZHCjhRgoc0rQvBdTPhhQJ3q\\u002fCBmiJxP+NUu6ZKAVQAbKmBty+yPxLzoj3\\u002f7MAMohByT4DKb7WEJPhHIin0l6a1Xkg5TDMwdKIEu6MHTlG2kbyA4AAOjq1m3fnU+2unFzrtgtTBxVKvTd3Tq1ytDS3KfOhLgvH+\\u002fEbLWfLKw+kFteVNHCYtKnj0xcNDF9eKK3cTNe8HEKY0\\u002fFPNkBwGa1M5jkYJzd5vA0c6mXXbnz9Zt7Vj02UyDifvzCL8+8P\\u002fgWUIux4aLiVImmSDPAFYZpCC2CG5ssyBwtnuT+wHx09PyqnKwjJdVNSvXLC6Y4lybsF71de777j0uKM0prP8OtCCSsoFH+E8cHzBhEh6DvKK1dxzv3FiovUHazusJEWaPFk6YFL3BfXntD7duksdmLw+6cFrTA1TI4cMBL1IUFqnMV2qvEamY+giK0KG5coiA9RZgVw6MYydzarrp0uSEtOTQ5XvrL7wUrl4yqqZeXVrTFxwb5CTmXrzUnxAbZbI62DnV0uCQtubeO\\u002fKdeMZmpot1UzqeLk4RTXb03gS8+Pbb+4WkMBv2zj4889uQsZx6WN8Fy0qXSnyisPllUe6W6tWDLM2T3\\u002f2nqytrOH75Ko9PGzkyPSxukWDvBAW83NTcZaltMDQqLXGXt1tt1Ntxqx2x0lM5AWEwai41yxMwACSsogBkcyomK5sVTJtATKA1GMY+7v7iCTkPnZgy4HocD3mZsrNKXthjr5WaZxqayYCY7ZmeiLBaN7c8MCGRJI7lx8fwULw2HIceCmau0JdX6MpmpucvSaXIYbJiVgTI5NG4ASxrCDk8SZCQJMwZXSRwSrJilwVDdaKhpN7UorV1qm8LisNhwCwIoC2WzaGwWyhYxxUGskCBWaDA7NIoXx0IpJq12sm3XpTuX9UQPCMH6+oezMVEBWp0pPTmsW6lvaVNKxPy0pJCwEIrA6F\\u002f\\u002fig2UX7dfTE8PZ7Lohw4UL719FIfLDAgQgC+ChWH4xbLGIxcrL1xrMFlsud88SS7xN\\u002f93qdbVNhgaEwTxsbxosu\\u002f\\u002fJ05X1T+8da\\u002fz6ycrF8xOS3Dxe2TK+5u69YbSN54iO\\u002fpy\\u002flJtm0ydmRrGZjN+3pV\\u002fx+KRTa0KvcGSHC+9Vt4q4LO1OrO\\u002fiDsyK0pMFef9v8fpk+VyeW8IKDzcf9yERPCe1lDfpth\\u002foexwXoVCY0iICLx\\u002f0Zi5YwcWeP6bR9duuufhqaPGDj4+6iPna5omJAy4ElShkm8oy30kbWyXyTA5lCKu3Gxs4dP5DfrGaG7kjcSJ\\u002f9fJigj5fNVCldG0\\u002f2plQSN1SsGNMCEnHsNwovP+5afnAUBCbBBhSU6QekoW++vz5nO\\u002fNtbJN\\u002f\\u002f+ONnRH1Om9Y60c4VasH47Wbz\\u002ffFlFY6eAy5qdk7xoYnpKdDC50ADBcavafJrLSGLRB\\u002fxcWW32Sfd+RrYCAEBmYug3r60kW\\u002f8\\u002foEWpPlVZ7\\u002fx6sa7FXbCuVrX9fKiopLZdozdz2czk6KBlM4dNGdmrnr83lC6PzdRaLSVK2XhptPt44AR+3EVlQSQ34v9ntQIAfy5nRmo8ADR0q\\u002f4MwQIA9zWTe5OP\\u002fjfV6s+AWrDe33ZyZHLkm+vnThuRwGRQl1EaD\\u002fpz57is1NgPCEJHgKY2nQgWrCP7\\u002fu9CuUjkkFDdoYgUi6R+PX097SpyF+qRCxX\\u002f\\u002fuqIs\\u002fdQZzAXlDUXlDXfv3Ts\\u002fUt75iphoGiTXsWnM5v1ane1AgALZvVjCDU2DdnxN39zK6AWoz3\\u002fvS80oCeniRKDtaRDu8libxSwRhttVVxGitleT0fFXGZap24LAB7IW8VmkJoYKJMWYrE3AYDNoejUfWvH1MGCu022Wou92Wpv8+cu4DEzZNovcbBJuEu5zFvT\\u002fPxta57RYJG1Kq9dbsJw\\u002fJvtDwv9ODWVsg0fHJF3aARC9rpHp+eMTwCAI\\u002fuu7Pgx12y2MZm0NfdPnnF9aHd5Seun7x4wGqzDR8UQ07CtnPvRj3ufMBmsd8z54K2PV48aF\\u002f\\u002fIXd\\u002f8+6NVhXm1pD1cOl+9bcu5z7bcR+zq8\\u002fcOifx5dz0w+frZ9TIxMZpOQ53v3hU5ffIMDCbre9+doMx12Px73syxyVEh\\u002fgDwcNrY3+qutRm0T2ZMIJcDAIA2U\\u002fsc6Uyy9ToWu33Se5sQgLMvrCfl2e++XPby78fuHT\\u002fihTm9g6s6tPoNJ\\u002fPO1TQqDaYAPndGavwjU8aIuL2R4BaVZu+V8rPVDa0qrd5iDeBzx8VHPT5tbLCwT787EVHadPfSEZGhnxy\\u002fcLSshtjh4mGpT87of3w+ibL2zo2nL11uajdYrRH+fguzUu4dP8LLsAEvnKtp\\u002fPLUxcqOLg6DMTEh+plZE4hZJP9mqKAWLKdaWW12vckq4LIYfX8\\u002fHjODy0ySCh9EgK42ncQwI4ZbLNBssF4L4q9h0kOblC9Hiz3OIMGgSYL4d+ks+SrjHyjC4jEzgwXrmpSvmmwVTJqUxYiSaTfEBXxB3uxmcWBX4X++WPPPN5dq1EahH8dktL76zPbnX188IieuvUX5zPrvP\\u002fj67vBISebwqHGTk4V+nObG7qfu20IIFobh776y6\\u002f7HZ06ekVpe0vr0A98BQHxySENNp7xTOyInrqS4efioGIPeEhAocN\\u002fD6PGJX3\\u002f6R02lLCE5xGZ1nD1evuFH8hgIAuKJqpJ1fX0mf\\u002f3k0d06Q0xAb\\u002f\\u002fRheJ6o5m63x3H4eSl6ntvywEAPoN1b\\u002fIocgkX2DT23rYDLBqLUrZYdPrCzORtl4pPVtbNSe\\u002fTW3+opAoAFg3rfevUdSnXbt6hNprHxUWG+\\u002ftVdXb\\u002flHflbHXDL+tXOTXr+wtFP1+6mhwSOCEhisNgFDS27ioqLWho3ff4XSw6+V6VqbX3nMhVG82TEmMwHL\\u002fS3G6yDSxbEABOVNQ99esBBo02NSnWn8spaev45PiFczWNm+9Z6n5E75yoqHti+34mnTYjJV7AZl2sb1696Ven919Pbxf580aNT\\u002fj+yxPtLUppmP+a9ZOnzu19zTy8YuOUOekjxsRv\\u002fOBwTVk7k02ft3TkuidmEN5uuXbLZ8cLzteYTNaY+KC1j0wbNd6nqD8BjuH7duQf3XO5tVEBCARK\\u002feYuyb59bc9IYS+HNhmte3+5dP54eVuzwm5zhEVJlt89fvr8LOeeG2o6f9hwoqKk1aC3iMS81KyIex+bERLeeysyGLSLZ6q+33CitUnhL+FPnZOx9uGpnlKO+sXjT5JX0rjx9wuVTZ04Dl+9sHxEcsQ3e\\u002fMy4kJc5nR3NrC5OGAIggJOd+B6GspHgI55HUanMPxuc3SxGXE4OACAQQtEETYA5sD0THoYCqwQ4SPkbQZIu1IbKhaSrb4xbGR0XKIUAPxEXACormjn8dkjcuIAIDRCPGxUTGFeXXikpKWpe+e2ixiGIwjodWaHA6PR0I52tVplnDwjFQBSM8LDwsUAkJIeVlPV0VQvX7Iy55cfLtTXdsYnhwAA5R6Wrhqzb2fBs68syj1TmZgaGnQ9fZ8S1wn8xsRFOqfEqm9V9C3Yh\\u002fq27lJlx\\u002fdVhQggFoedhiBsOuPdnLnkcgBjJaMBoNHQRHZcZ\\u002fnIjG2Xin+\\u002fUuYqWEqD6WJ9S5I0IFnaO2z1hZ2HVUbTN2uXTojvibV9fjLvy1MXPzh27q3betTw4Sk5a8YMdyqv3YHd893Ooqa2U5X1JEEEgE+P505LiXt94XTn3NBmG3lGCu8oDaYXdx\\u002flMZm\\u002frF8Zff2gxFl9ejzXtW7YL3YH9sb+EwgCP6xbnhkuBQAHhj\\u002f6894zVQ3O07t4tqqipGXFvRM4XNbRvZf\\u002f89Iuf4lg2OgY506K8xuO7StecPvIlesmtrco\\u002ffx7JvPQaUxP37OZTkcfeHqWwI9z6kjJq09se+vzNSPH+dqZ88Hre04cvDpr8fCV6yYymPSq0raA4D5Ph6dDM5i0wgs1oyYkrEqahAO+84cL77\\u002f2e1RcEHED26z2Fx74Pi5J+sTLCxlMeltTd2FurVDUJ4FDIdd9+tb+FesmhIaLL1+s+\\u002fW7czwBa0Xfxbt8h1qwfFmEgsvMaFG9K+bOY9EjbY4OJj3aZKsO4K1oVX+AIhwxd55zbwRmW323YafF3sRmxCMIw2xvxHAj0jfVPoC3rE3ziZUeyWMNJpG6rKWzrlORFRVisFh\\u002fvnD1nskjjBZrTYciOTSwWaE2mK3xUsmw6P4HpnC4ffKeEIQi+UOjNr75z50bt66PiA5Qqwx3zP6QVICAaBKmpIfnnq2qrep48MlZP3x9uqqsPSU9zNMeZs7P2v7dOb3OfHR\\u002f8fylI\\u002frszg1PE\\u002fiZzN5eGCazLV0s\\u002fWDsgi\\u002fL8u5KzObSmV+W5uLOV9B16vT1DYYmO25vNrSsj6OOPCZJA9LDgi\\u002fUNsl1+iBBT8PtaFm1A8MWD+vt6ClsbCtvl89MjXeqFQA8MHHUlvOFB69Vvr5wGpHyGsDnBfB7u+3pNHTxsJSipraGbpXT6MSBY\\u002f+YM8l1Jnu2h3irJ\\u002fZcKdeZLU9MH+dUKwB4ZErOb4Ul2\\u002fOvPjZtLJfpax55Xn1zl84wPSWOUCsAoKHIY1PHnqlqcJZRKfQffHtveHQAAIybknz3wk9+\\u002fvaMq2BdK2z86rdHIqIDnBaCXVtzFXLt5j2Ph4SLAWDM5KSmOvkPG074KFhVpW3HDxSvfmDy3Y9MIyxjpyT3LeLx0HQ67YPNvT99YlrYXXM\\u002fulbYSAhWt1yn1RinL8gaTwxcm5Cw5M6e8KgTrcb4n6\\u002fvHj46FgBGT0wsK26+dLZ6iAWLWITi7QfnIwg4BSstVnosv8pZJoh\\u002fJ45bEYTJZzkfqvkAEC1+GwfMPRjPZsRG+r\\u002fm\\u002fOrPmY30HVUQI\\u002fkQAGIk7+O4HUGoT8w7KIpoTRYOixEu8UsKDYiXSn48U7R28ogtpwoBYN3UkVtOFfgiWCQSU0LNRmtBXu2osfHtLcor+fV3rptoMloRBMQBAgDYv7N3hEdwiJ\\u002fQj3PmePnkGak1lbK2ZgUAJKeHbd18ls1m0Bm0xJSQ03+UrXtkmqc9sFj0mfOy9vya31gnHzORXK0gcf\\u002fkUb8XlblP4MfleHvSBNfnNes06hq1Sh6DWa9VkBbdAYA4fqyY6e\\u002fP9G83dbjaSdw+Iv1f+07suVK+ftJownLwWhUNRRZk9j4V+Q0tADAyqk\\u002fmLZtBDxUJ67uUTQp1fJDE1eUkUMADACvVtNeZ4VIOk\\u002fFBwTmzwz4mJHJ4UMi3JYVqs+nu9OxLspYmjTpMINRZrU+NGKe3Wr8svmTDHEsTUlMkvXnehU2tADAmNqJ3pwA0FB0VHX6opOpaq2xMbKSrywtl7Z0AkB3Z5w9MCQmi01Dn285fwifUCgAQFBkxNv7M0dLe0gDRCUHukgEARXl1MYnBhFoBAIIgacOiDu0qtFrtTLcxHu5cvlgHAHOXZJMdLng6NIkgqR+LxdBqjMRXaZgoc0T0528fqCptm7VoWCJVZjWHxyLUiiAsKqDiWouLf2BQ\\u002f7V1rd33LRxD6uByX4QCQZiuX6+DuKuVOyS1cmVwagUAdgfmz+MU1bfNHZbUrTU2yJUBQv7+oopgP369XLmnoEzM76noDgg2h\\u002fHvj1Zt+ODwx28f4PFZT744n\\u002fhpF94+6oGVG7lc5qyFw0KvN9ppNPSlt5Z98u6BzV8czx4dO3p8AgBweSy9zjx+SjIApA+POrK\\u002fOCElhMmkU+4BABbdMeqBFRvnLx3hHJHgidzaJmICPxJx4d5uvuSYnof2qcyJuxtKTHbbo+njSWpF4M\\u002f0BwCb1wb+gszk\\u002fx45+\\u002ft1werQ6i83t42PiyK0hkCm0QHAu4fPvHv4jNPoRGe2EB8cGH6ktPpERW2NXKEymoxWm8VzKy\\u002fET3i6pSHGz39ZYjphuSt1WH5H6x+NtTKDbnVK1hV5u9FmBYAd1SVSHj9KKNpw5eIXMxY59yDXGuC6JrpCWDo0epLdC0qDCQAC+t5gNBQRslkaU89TI\\u002fDr01YS+nEMerPrwDLi7eWORmXobFfPHv46yW7QmZkS6mGArmjURgCQBHmLkHg6NI7jR\\u002fdeOXO0tKWxW6cx2ax2h8vSAQiCvPvV2iO\\u002fXz7wW8H+HfkxCcHrnpg5ekKf4Jq47xkiCLhPfOA71NJwI4tQ3EIyIqWp4UE0FAWAJ+eNRxEkJkhMJN1tPXdl0chUX\\u002fJZlq8h12kBID5J+vGme0nG9U\\u002fOXP9kT\\u002fDljrt6O6fSsiI2\\u002ffKw8yvBN9sfIj5Mm50+7foU0p72wGYzrBbbnEUUSkTiarNsFlXK9bhhMTwO02CiiLtz2IzZ1xOA\\u002fVmc+5JHA8DJttp4P3Id56DsCDEZRrOx9aG4+0heJzwWc05a4u9Xyi43t2dHhh4uqcJxWDy8tz0I0DN2dmpybLSkV5edBAn5AGBzOO7\\u002fYXd+Q2tckGRqUmyE2E\\u002fAZlXI5JvOFpA3AAAAGororRZ\\u002fdo9G\\u002fF5T3mUyxInEDhxj0+gMlMahM4jj6q3WML6QRaM\\u002fMrxPPdTT7UBs5cnrDbdNiLuRQK\\u002ft80xp1Ea+gO0+DNYdgR9H4Md58Jk5ZLuwjwJ6QiBkA4CqW0+KW\\u002fnC5k\\u002f\\u002f2L01b\\u002fUDk9c9MUMSKGBzmEsnvetagE6nLVg+asHyUTUV7T9uPPXaE9s+3LIubVhvzdSXVc58h\\u002fpi3cgiFIOgqr4zKfZGE1MJnPeHU5uID\\u002fOGJ\\u002fmiVn8FcBx2bssbMSbOtc7lCT6b9cKOw0Q21jOze1MTuGzmP9bN+NfGw6S3GZNBf+PheSIhp92g7TLrG3WqdoMWAC7Jm6eFxbuWBICxkhwx0x8A2kztJBeJ20em\\u002f36lbM+V8uzI0COl1TwWc0ZKn70ReQljYiPXjvWowrsvl+U3tI6Li\\u002fpm7RJnZMpq91jDAoCpkbGvnP+jWN6eEShloGijRmW02dxzXJclpn1SlBsp8MsMlIKLLAcL+aVtnZ1afbh\\u002fn56NLp2B8LoavePP5QCAUt\\u002fTViLAcNxZvQIAZbeupbGbqJ5jGHb5Yl18Skhvac+MHBt\\u002fYGdhdEKQ0G8wTYSskTEAp47tu7KaKj\\u002fGOxfPVKUNj1zz4BTia01Fu+sM664kpIS+9sGKhWPfKitudhWsoYVasB6\\u002ffeJ97\\u002fxy+0vfJ0QEAMAnv55p79YKeWz3RShO5lVPyUlwT9IdEL8dvvLKo+S3x9AyuMbgzefU0dKNHx0NDhW9\\u002ft\\u002flZB8Vq8dk2ajiOwAwa2yyVCLcdrDwWk271mAW8tij0yPvXpQTGy4BgAAOj8dgnmqrWxidCgAqC3nyXAAg1AoAwjj9BP6yI0PjAsVHy2oemDSqpK1jyfA0Uvx7dEz4l6fgUn2LF8Gq7uwGgHmZSa5x9MqO7t4SbgiYrE+nLbBjPWt2zY5JYKC94YgkcU+7OIwvfH\\u002fyHGcxJzkxEScq6i7Vt4xwCa45MKygoZVFp6eHSV3K9kNaaBAAXG5uv2d8bz9JrVxhtTucfw5fwH718W2r7psoFHGP7Lnc2a5+5vXbnIW9cPva8WeOlT1333dLVo8JlPpp1caq0ja+kH3XQ1PJRalIz44aPy3lx69OKbp02TlxKB1trpdjDnzV\\u002ff13g8YkSgsv1Jw5WhocKmqsk+\\u002f5+SLfpVpXmFt7aFfhiLHxwaEim9V+7ng5AkjWyBiXHQwx1ILlZREKvdGy6ZcLKILMmZwKANv3F7bKVMNSw6PCxFv35OM4LJqRERkqPpFb1dGl7ezWLZ6Z2diqcH6WBgp\\u002f+j3fbnfMmZQaKOFv3pEbKObfkNrdXDaXFu2sKZ0Xnfj4cHLL8bGT++9OHT5KGk6y+4hzzzuOPkv2ecaP0xM+pyQzMTQzsTdk4woTpTGZtEfTxxFP+J0JHnXER5aNSH\\u002fvyNmvTl\\u002fC8T7pVwQ5MREZYcEnK+v2Xa1YlNXrNVisLSoNkf0gFQoAoFWpcXorZPJf8q86v3rCKUOuauWOeyr\\u002fbcNTN56+9EPelXkZSc6Owo2nL3XrDatGZ\\u002fFZlCFaasbGRUr43JOV9ddaO4iOQrsD++JknmuZ0EjJ0jVjt359uqNVJQ33\\u002f+c7y1y7CL0g8ON8+tMDP208tfWb06puvcCPE5soXeYSQ+iXl9+7Y9ePuccPXj269wqNhkrDREvduvMoefj5OV\\u002fYHZ+9vd9mdSSkhjz7xm2\\u002fbD7n9EpDRWaT9YcNJ3RaM0\\u002fAio4LeuPT1UnpFKH3oYKiw947Mrlm847ch+6cGODPB4B3Nx57Yf0MGg399tfceVPSggME731z\\u002fMWHZ\\u002f28rzA9MSQ5LvjDb09GhYmdn+OiAmgoGiYVHTxVmp4QkpUSHh4iev+b4288NZ98JBcGMZbwmqzTYLXmRIZb7A7OAHu7vbO1olhlNg25YIHnPf95lCo70sXSc7IGHPBJITfU3lcZTZPf2wQAAXzuiWfvd29\\u002ft6g092zZ2a7WZoZLk6SBxOpkxS3tc9IT3106GwBaVZpFX\\u002fxkczgWZCaH+Akau1XHymsXZaX8fqXsock5rinsRKb76pysVxdM6z3AoMira35k214EQaYlE4mjnVdbZGmhwT+su513XbDsDux8baPeYtWZLYdLqgsaWxcPS82OCuWzmCIue1xcT6LGsbKap349wKLTZ6TEsxj0K83tNruDzaTXdylL33jqX09vl7Uqv\\u002f7t0d5j\\u002f5kUKK+1mmRLwrwtHlGmqU7z66cbmuCj6s1zpVNShHFkBwAAFKpKdrQc4tE4yyPmpQrJgQVP+H50Vwb8JIcE+a1fNWHbnoKx2TGjs6Kd96XZYuNymDQaar\\u002feQmEx6Qw6nfjq\\u002fGwwWqWBQhaDtnbJ6AtF9VwOg8tm3mCL0p1PzuVebpMBwKiIsAd27tm66nZyCd\\u002f4\\u002fEreubZGAJgRFb8+YxTZDQAAn1zOPd3aEMITeJog\\u002fK1Lp812W2Fn+5zohEMNVf8aO31caORL54\\u002fVa1Qmu21SePSzI3pjT678XHl1X10lhmM5IRGeytwguxtKAzn8U+11NodjvDSa5hb98X16GX8uZ3pK3JHS6kXDUtzVCgAi\\u002fP12P3LnlvNFxytq9xVXMGhokJC\\u002fKCvl9pEZRIFwf7\\u002fv7ln2yfELJyrqbA5HXKDknaWzFmamnKis67unoWRsXOSOB1dvOJV3obbJYLGF+QsfnTrmvgkjOS4ZWDqLxXVuGQDYW1y+t7gcAARsVv7LjxDGWWkJG++87cvTF\\u002f8or2Uz6JMSo5+bPXHDyYv1XUqiwADrBjfEKHHmKOgnmXF7y\\u002f63\\u002fAZQnffEafnFdTG3Jwuo5cwTgzv6gAWrvrn79KUam91BXP3k2OANW89OHZO4YHrGN9vPs9mMaWN7VHP\\u002fiRKAksk5Ca0daufnxJigLb\\u002flhQb7JcdJp4xJ\\u002fG7nxchQMZvlMcVhcFxqad2++o61v+yio72j7QZKYWdbYWfbrwtWAcA9R3aOCg4fHkQOkdZrlCea6\\u002fYuXoMDzNi5heR1MiEsKsZPrLWaXxsz7Wxb47jQyDfGTWegNAeOj\\u002f\\u002fl62dGTHA\\u002fxSatem9dxS\\u002fzVyIAqw\\u002ftuNrVkRU4gJCKj2A4\\u002fl7x6eeyJu2ou4bhOM3tPAY0vQyxtWu+KAk\\u002fDvvpmeOfnjne1ai3yZyfsyJCvruX\\u002fHa59BK5yzUytL7izaeJz13m8kB27xENdnm97niG\\u002f2qnpV8SgiWfrFxAtrrgz+U4D+edyUkxk5P6tPLeWDzjjcUzXC1Ovq7b3m7utDisw0SpKyMXAMCu1iPXNJU4jgezAx+NX0Np2dl6+Kq6AgBGijMXh84AgDJN9S8tB2gIzYxZ\\u002fpX6JJvGOtxx5pT8YqZf0pqo2yiP1Wxs3916tE7f\\u002fE7FlwDwYsrDCCB\\u002fdJ4\\u002f312I4ViaMJE4nx0tB6+oyyVMkdqmI\\u002fZDosPctb15f4W2Tm3TcmmcJxPu5dE57n8X6QzlFoX70d3\\u002frncqvszwS6rU1ams2ldTH+PQ2DAIwYqNDIgI9UcRhEgRum1Wls3mYDBoAPD8+pk43jOnDwDcMT87LFhEo6E\\u002f7yt0fgaAlx6ZbXdgRFr2q4\\u002fNRZChn9GAhqDEy8yB4w4P6wP2S41KkREoJU4tIyC4UtnlLliNWnWyOJDQxET\\u002fnhCvO2I2V20xs2g0Fo1mcdgtDvu\\u002f8k4abFYWja61WhxuwWAAqFErGrWqOw\\u002ftIL4abBQJCjfOs1mT1BZTCFc4NyKJMgDk+\\u002fQySoPpRGXdiKgw1yGNJKo1ByyYlksPFDBC1ZZ6MSsBAKlQ70r3X2nDTYTFjpu11jYRKyqInU5s1aw\\u002fF8mf2KQ\\u002fy2dI5aZSMStBY22u0uwTMWMEDGm3uSqQnaq1trYaLwax0wPYyYRyKizVROFgTk8N7q\\u002fGfbHL6Qgdw7GHil5ZETkfAeR016VnEtfF8CKcc6iTLJW6ukpt3b\\u002fTnwaAt8s3pAri4\\u002fiRn9f++E7Gc2KmyLnnudLJPBqn2djbt0s6ViQ39PGEuysv172U0lM97DB3nesqeCP9KQSQf5V9Wqtv4tLYharS\\u002f2a+gOP4k8VvOnflipQd+HTiuv9WfnV7+Nw4fk\\u002fTmHQsHMdJZ+h+dPe\\u002fK0EQDQAMlPF80nqiDMGABQsASAOhCbUCAATpnU0lIkTEYTMJhXL9TOAcRDLkjUGCBSlJd\\u002f78W5NavXLbr6uG9VMx9kSyOOBwYzVx41zt6pgWSVHjjRT4VSq7iEkR6jU9NX93SH9kbnuz2mLeOH2R2mLeX1\\u002fZ19lDgkgSyhP+NHc5DUHsGDboeqJ3BAyWgMECgERRINkHAAOZXuajP85b7Y51E0aQHS44cBsD5dkxk9xUku6\\u002fskS5Lc1\\u002fpZgV78+KLVX9Qli49AApN0vI6A0FOnCb3FyG4fYG3Ql\\u002fZmy3uRJBaEl+i8pUO4I5GcSo1Ub9mUzxnb1HAnAW\\u002fosI1r8+XuX61YbZNjf8ZnZYGCjD4DARwwz+kfzg3rY\\u002fOi2KxaEzRvinAwDJ0mLsiONHEclxsfzIRmObP9NPQOe5qpU7lMcilWk1dsjMXW+U9USKTQ6zxqaL4oYigCAIEsklv6o94X4slVXT7xm6\\u002f12EYLlHzQYjWL4wcVRv7M31881h5bCMcdERtd3K+ABxpEhEdvvG8KDQnJDwFQe24wBTImKyg0INNutLF\\u002f6oUnbbMEeNWvGPUZPiRZJJ4dFL92+LEPhFCUXkXXggKzDk8+KL9xzdFcTlJYsDAcB9z1FC0Z0pWasP\\u002fUpDUAzHv5u9lEMf4oazL3ifXgYAXt97nEmnlbfLLze3z0yNn5ZMvsNcQRAEBRQAuPSAWu1RLj0QRWgmh0JjbXJaAHAG0icHJZI\\u002f4Xj7izNC38UBszp0wZz0TlMJ4dJYm5SWGoWlWsSMLFX9EszJpKMclaVWaakRsxKIwq67uqKqPSYrImor\\u002f0yl6Ku5aZRoqvR2w3NJD+jthgvdhYRRyg54NP4uvd3w5JU3N4\\u002f6j7sliht6UXGFOP9afdMI\\u002f3R\\u002fplBrN6htWhFDCADuK56Ch2OhCGLFbM7y4VxpIEv8WurjKII6cAeKoG2mziZjO3GsNlOn6w694H4syjMkHd397yL25v63DLiX8JYwiF5CJ21abZhQiNurEXoibq9D6N6eqL8hkafIl5vlnqaXAYC5n34vU+vEPM7s9MQnp4\\u002fzffgxDhgx9N39gxe8lHF3uVs+qtz1aOIi1l9gYVStTf+fyq94dK4\\u002fU9hilL2V\\u002fiyKIC+XfMhA6TiOZ4iSlofPwwEnWQBgd+vRK+oyHCBblLY0fDYAXFVX7Gg5xEDpdtzxz+SHODT2F7U\\u002ftpk6jHZzHD9yRcR8Pp1HOhbRu\\u002fJtw45qXX0gS\\u002fJ80gMAcFp+8WTXRRQQHPCXUh5hocyfm\\u002fdd01QGswIsmHVx6Ez3+g6Ba5PQ\\u002fe+iISjpDPl0Lrgd3f3veqfiyzVRt0Vy++QA\\u002ft8XrGf2H\\u002f5wXgau\\u002fxzoyYB1o4JnPa3G+Dfu1Orrq3TVKKBzQ2aRff9TGB2WTpPqiKxgtCRZzBQAQAx\\u002f6Dsx\\u002fubPxtf34f8KG3IvkSxlnXKEFg7cuxBGCvgwKvv\\u002fKwq7WkcGhgNAUVfriMDesJGTJkNzCFtqsBso2xr\\u002fQ6isunxlpZglqNW3EZa\\u002fBet\\u002fkZshWDgOdS1d+aXNVU3ypnZll1JvNFstNjuHxeCymdIAYUyYOCVWOjYzWhpAPTjTdQSpd45U1ZCi7D1z1OIWzPAjAKC8e129gwbD8KvVbVer2xpaFQ1tCrXObDRbjWYri0HnsBkCLisk0C8iWBQTJslIDI2LCPiTouY3ggPHL3U2Dw8IBYDDzVUZkhCmW0dhql+yyWGWW7r+p9UKAMI4ASsip1Tr2hIFYQXK6hvMiVJqjFcqW0trZa2d6ja5Wq0zmcw2i9XOZNDYbIZYyA0N9IuQ+qfHh2QlhhIp1n9Z\\u002frfu5D9XsNRa097TJXtPlbR3UXQzGUxWg8napdKX1LTvO10KAEnRQctmDJs9LpnVdwg7jYYyGDSbjXrQnCtLM1JXD+8jWEWtbQCA22vcpepqVduDb\\u002f5KMjIYtLNbnvTyozR3qH4+VHS6oEatoxh\\u002fZ7LYTBabUmNskqkuXjfyOMzslIgpoxImZcc656IaNCue\\u002f65JpiJbfYbDYpza\\u002fDgAHG2pOt5W06JXAwIZYgq1AoAQthQAaAiFi8SKF75vaqfuJ930+sqMhD6RiKHFZnPMe\\u002fQrndFCdgAAwK\\u002fv30tMYA8Ax2SFYqbgUneFDXdkixPcE2W9o9aajuZVHD5fUdlAHYQ2W+1mq12tNbnO+JoWFzJzbNL8SWmCvhNDDiH\\u002fo3fyIPizBMtmc\\u002fx8uOiHffmeZhanpKpR\\u002fs63x77dnffoyomzxyW7uoRctkJDnUruyr0js0mWN2fPAAAE5WH6DYBw3WWLhM3mUOuM\\u002fsI+HVUESo3x022n\\u002f8irolzcwQsGk\\u002fXc5bpzl+sYdNqhLx\\u002f6827cATEvMjmCL8oQe2wZ+Ti9DMGCSWkbfjlHtgIAwMFz5X+qYJ29XOdJrTISQp1qBQAY4JvqDt0XO+eQLJ8yUdYTSo3xpwMFu09ctVjtZF9\\u002flNXJyupk3+zMXTo9857FOfyb9evfqjvZ99nJO9X6w0WV90wfSXZ4hlqwbHbHtmNF56\\u002fWd6kMpKj8vvfvd\\u002f1KSVO78pUvDtY0d5EdviFX6l7\\u002f8tAfeZWvPzTHqeIiAccXwXKCA2AYBgAsImuMFgGOjuszHfWDXKl3\\u002f5lPF9b+Z\\u002fMflO8i34mPCKD8jW8VXtQKBjK9DADMnZC6ccd5yrnZTlyseuauKZ7Wi7txDp0rJ5uus3BymuvX+2LnaG3GILZocmAmZaKsOzgOe05d+2L7WcrJxXzHaLZuPVh46Hz5U2umzBrb52X853Hz7+Tyls5fzl1dO3VEm0IzOT32TGk9j81s7dbESMXtCq3BYo2XSobF9ry9gkV8InOzUa7Kr25ODg9qu16GzaQXN8iSwwKdhQmo76Fv9uR9fyg\\u002fJTo4Mz7ELe2xHwpKm1\\u002f4ZK\\u002f3OcV94fyV+rWvbP30H8sipf4AIPJtrjKCT87l7iwp01osOI4nBQbuvGslbitD6DE4pgHA+u0llCt1SdFBrpYf9+d\\u002f+et5V8vgGP\\u002fnTCg2CIq6WiVsbptBO14aTfZdx\\u002ffpZQAgQMQbmxlzobie7ADQGS3nLtdPzxnwSFdfUGmNF0sayVYAAGAz6dNzklwtnWbVha4yB46hCOJL0F1nML\\u002fyxcFLJU1kx2BRaoyvbThUWNb83N3T\\u002fjwFd3Lz7+SksMDE0ID4EMnFqiYAaO5Wi\\u002fmc7PiwyADRparm9bNztp6+TNIgADCYrYF+\\u002fMt1bVa7gyij0BnjQyRlLZ0+CdbRS5UrZ2Y\\u002fu2oK2dEf56\\u002fUv\\u002fjZfl+CTb4g69I+8taOL15aHh0qdn9ReOFcQ9OZh+9\\u002f5cgf\\u002f5g66b+nzgEAwhwLuB7sLf2qFQDIlXrXr59vP7vtYE+63Q0ywcPPfPMx2K2XmlvaDRoWreceILoLb4QFk9MoBQsADp0r\\u002f5ME62hupeukva5MHZ3I4\\u002fTMuECwu\\u002fV8liiOT2dX6Vpd7ZQ0d6ie\\u002fWBPS8fgw4We2He6tFmm+uj5JVx2n9Mbcm7+nUxDUYXO2NCp9OOx9+WX600WMZ9DrOXBdRsyXNehqG7vqmrrulzfJuSwaCjiLJMYGqgzmYfFkKWNWrAUGkNOWiTZ2h+VDZ2vfH5gqNSKoFtteOq\\u002fu75\\u002fc414IHMtchgMGoJY7A4Rm91lMAAA4GrcWgCohFyUCrlS5\\u002fz84\\u002f78ofqNA0S8pOhgsnXg8DgsBLnBbi6YGBJrcThKlbI6TU94+MYFa8LwWD8+mzTxP8HFkkalxjigH9FHDp332B5cMKlPexAAhHRupij2tLxYadHZMIeXVmFrp\\u002fqRt3Z0qwcQhRgQxVVtj727c8NLyzluj\\u002fEQckvu5McXjEcRJCa4Z3Zyp33NlGzn\\u002fwRxUsnba+YAQFJYoGthogyG9Q5MdkItWFEh4la5hmz1ikZvfu6jveb+QpIsJj07JSIlJjgsWMTjMHEcN1lscoWusV15tbpN1qUlbwDQodC9+Nn+0CA\\u002fssMzMWJ\\u002fm8PBZTIe23NAa7YAAG6rRnkPYqadvjUJe95LJy5Vb9zhrf7MZTOlAQJ\\u002fIZfFpGMYrjWYNXqzTK6hjGWOGxbjpcvGd7b8e7XDgWn0Zo3epNaZNDqTRm9W60xqnUmrN6l1ZrXOpNGb2rs0lBElAgRgZnhCGE+Y6u\\u002fxzhsoDDpt9viUHUevkB0ADgd2NLdi1dwRZMeNUd+qqG6Uk60AABASKMxOiSAZl0dO9mfyxUxBIEvkRa26VPpH3\\u002fmtX7UScFlZSWFJ0UF+fI4fn81iMbR6s0Zvkiv1Vypb61q6qO6CXsrrOl7bcOi\\u002fTy\\u002f68xIFbsmd7PxzBvR3uRd2VyvwJFgPLxn\\u002fzg9\\u002fxIVKRqX6Ws9677vj3ao+9U8S\\u002fkLuuttyFkxK57A9vlKqG+W7T147cKbU3reSf6Wy9Upl\\u002f3V4J2\\u002fOng4Ar06fktfUkhUqBQAE5WOGbwDXY8YfUfZC71Ut4r3U0qF665uj7r8Xi0mfmB03cXhsRmJoaCCFjFqs9vo2RVmtLO9qY1F5s1PEPTX7BwGNhor9uN4rLL5kPyCAPHZ+zyNpY7tMhsmhQ3B6CyalUwoWABw6Vz7kgnXoXBnZdJ35E9PcHgEoUddPCsqcKfV2GnYH9tJn+zsVvXUTEiiCTB2dsHreiJRYqftj5kStMx0+X\\u002f7j\\u002fgKV1kj2Xefc5botv1+8f+lYsmOI+OvfyQOlV7Buf+k752cGnWZzOB75YCeXzZT48VyVbuc79\\u002fZ+uc6F4voTl6rJVhemjkp46YFZlN0KriRGB\\u002f1z3YxVc0e88dXh8roOsttn8ppazjc2Wex2ADjf2PTK9CmAcAEYAHSUew+5tBtypd7hwF7feNhk6dN1wGUz71owatmMLCHfWwYKi0lPiQlOiQm+feYwm81x7krdgbNll8tbRqdFkYvean5vKF0em6m1WkqUsvHSaPdZbgZKYlRgYnQQZa2nprmrtrkrPjKQ7BgsGI4fza0kWwEAAEEo2oMAUKZpmhTUJ03PnS+2ny2pkZGt18lMDH1l\\u002fWyiI8g7IgFn1dwRS6ZnbdqV66Ut9t3eSxOGxybHDFk915X\\u002fe3dyr2DFhQW42CEyuP+fhADD8S9\\u002f8VbbXDYj67m7p3t+FZGJCvH\\u002f+tUVr204dKqghuzzjTdPnHp52pSehAYAAEBY0xAW4KbdvjUJdR\\u002f+eJKkmDkZUa89NGegC50xGLRpoxOnjU7UGy1eqpa3CgaKNulVfDqzWa++cbUiWDgp7UMqwQKAQ+fLn1g9mWwdLAWlzV0eKvUjUyMpR03w6Oy3y34OZPkBwPp4ilm5y+s6PNUQAWDJtMxn757musJ2v7CZ9MdXTYqU+r\\u002f3\\u002fQnKzgGHA3vvuxNb\\u002fr2a7BgK\\u002fu\\u002fdyb2C9d9HF7rYB8CJi9V1rd1k63UmDI8dkFoRMOi0Nx+b\\u002f\\u002fi7OwfUEnQyJymxqLUtgNfzk4wMD8MtJ3F7E4KK+lUrALBY7btPXHO1rJo74onVkwf6V7hy09IFB8TDaWN\\u002fq7vWZtA+mTGB7Bsss8alfPbzWcq1fI5eqHxs5STK2MQgGFC4neC28PF2nOLECDAc\\u002f8+WPyijNgCwaEr6P9bNIFt9Y\\u002fHUDI3e5CmfoLy+42R+9bTRQ9+L6vudfOpIydQ5PROHVZa2Jqf39sB0d2pPHS1ZvrZnntghvJNdD+qFznZ1cKiI+EwdwxoQO45dJpuu48dnv7J+tvvV8QU6DX3jkbkrXvh+ECldf1TXLs1I7VNlQANR3jTcdrXX4jN3zB7+5J1DVi\\u002f4S8FnsO5NHgUAZ2X1YTyKKMYg8OOzJ2bHncynCBEoNIZLJY1js2LIjoFjMtvOeKiA8zjMKaMSyFYAABAyvEX9TuXXVDdRZzunxkqfv3s62ToQ1iwYdaG44WpVG9kBAAA\\u002f7Mv\\u002fMwSLhPNOzjtdOXZK8oVTFcGhovKrLXFJ0rZmxaHdhVFxQcEhopqK9uT08LZmRWFubUpmRGJqKPEI11bJiMJpWT2hbadFLtOYjJaouCCRP4\\u002fYymyyylqVkTGBgCCNdZ1xiSFcHrO4oCEuKUToxyHKOA\\u002fa0tCt05oCggQRMYGkHTKZ9H2\\u002f5i+7a1x0XBB4qm60dWn0pt6xDldr2n88XFDWQBFUqm3u8tLgv3\\u002fZOJHAp4TP42cryCaAILFg7YLRZKsPZIeFhgqFMRL\\u002fWIl\\u002frMQfAHDbFQDArUUAHl+wlGSnRDx15xSy1Q0ct6pMxyz2JrIDAADXmM\\u002fqLUVk8y2lSa\\u002faUlng\\u002fPdD1VCenqcKDgAc9JyVPiBO5ld76pKeOZY8FtVJbnfP0S90k6P1OA5b9lwkGQkQBF5eP8s5s+7gQBHkSc\\u002fN4apG+Y0EbX3B9U622ewVJa0Ou+PMsVIen1Vd3o6iyLylI6vL2gKChHabAwAunKxYvDInMbU3E8pZ2N0ia1USmzu36urUZGRHp2RGlF9tnnvbiOKCeqPeIgkQlF5pcpZxHtRms3N5LLPJ5r7D2ERpbGIwoVbgSbA27Dr\\u002f0saDxOcL1xoe+M8vG3aeX\\u002ff29gvXGvoWhOOeY+0iIWfxlHRXS2Fx494jxUVXm8qq2g\\u002f8ca2ytqO4tOXg8ZKyyna1xtit1F8paXYtDwC3zxo2iEQVNoN+ua39eE3dHzV1f9TUAQDCmoQZvkbokQOaYYbFpL+yfpYvTRgEoSNAU5tOkB0AatNxo7WUThMTX5XGgziVaHqy\\u002f0lUqbqiBf5jgiOJf9ECX0OWvjAmM9rTFAVni+r0Hsb9DYhBtAcBoFhVR3yo0raS2obFla11LdSRjamjEuPC+0R4B0dqnDSxb965K4c9\\u002f0UHr1Wdr2mslSs2nS1wYBSBsH4h3cljJidv\\u002ffrUmMnJsQlSk9GalhnB4faksLY0dtdVddRWyiKiA3Ztza0qa2uqk9fXdNZVdTgLO3frvrlzKwAgjOIAwYmDVwOChKXFzTqdCUURZxnnViiCoDQEEIod0mioUqFvaez5aahfRNdq2++c3dP1u2HX+fEZsf99bOFb3x374VDB+Mw+9fkzhbWuX11ZOCmdNPigrUNdWdOBoqjRZF2xeOTPu\\u002fMDxPxhaeFhIf4VtR1bd156aj251i3gsiaNjD96gaL+5YUXp05yXZcQAADTobwHB9okvH3mMMruXipQJi2EqGE5ML1M+yUONgl3KQDebdjNQMVWezubHmOwlnRoN1nsjQLWaD5rlHNjV7vV0cljZrHoETLtxkD+KrnuRweu4zOz\\u002fblzlcYDFnuz1d7mz10gZN9QX\\u002fiUsDg60rukEDuB+k4YHCiKzJ2Q8tP+ArIDwGqzn7hUvXhq\\u002f5ELL3QqdJcrWshWAACIChWnx4eQrddhoYwjskIRg9du6qb3nYLioOcMiXsWDaaaT8miyekfNJ4kWwEA4NyV+mfvnka2AgCA2WbDcby8XT4xMbqhWxUf5C0phxLSncxk0t\\u002f+4i4AmDonA8MwFEUT08IAYMnqsQDw3BtLACA+OYRwAcAL\\u002f14KAHFJUqeFgHJzwpKUFuYsg2M4giIA4PzgWobYyon7Dtc9OoPYCjzVsFRaI9FLWN7QUdPStf62sUw6bfrIxLq2Pq+gLpW+oU3hanFl5pg+w7gAQKkyzJ2e3q3US\\u002fx5R0+VBUr4AMBhMwEAx\\u002fDb5g47dpriJTNtNHU8wgufnMv94Mz5jXn5GI4\\u002fsHMPDKpJiKLI4PKGug07mDSpkD1Bpt3AZab6sSdLeLcJ2eMBgMfM4DKTpMIHXdWKZLfa2zHcCABmWy2O28z2+gjRy\\u002f7cuQBgtbfzmJkR\\u002fq8qDLtdNx8ETJTmmkMUK5QAgMbW2VuiP2Qm6pQCggWT+lSuXfFSOfKRwxfKPUTGvVWvAODe2NkiBs\\u002fgMD+dtMzVbrM7TuZTR8TCgvy8VIsGyrCknsfYnY5urae8uYTgADuGxQVJzlQ1RIh9fIP24v1OdhUgEu6uwVmcctOrO25lnLi7nFuBpxoWn8sienn2XyiLDw9IiQ4GACad5hrYAoBr1b2tWRISP577z3zvqvEAkJkaDgCktP3li0YAQHQExasjOyUCRRBPfTeUuK9LeL1JGOd7k3BsZkyAiEe2+oAD0zPpYSiwQoSPkH0AngeTX7cjKI47cLDjYAcAJq1PfYFBC0QRNsBg2gWUdJirFZbmUE6yFTNdUe4bKVlmw0zdlsZAdpza2m7FjAGs6FBOKqkwA2V3mmtCOMkyU2W3pZGBsgDAipkkrKgwThoARIX4ZySEltRQ3CFXq9ra5JqwgQxdIHH4PHWNG0WReRN7TpWSBoPsaEfhnVHTyzSNoyXJTvu16nZP8yCNGxZLNt0AseEBbCbdU\\u002fStor7DdTIcJ3YHpjWZtSbzQ1NyyD4fGPSd\\u002fBeELGYE6bEhO04WH7hQvv982bKpWYRRptAKuX3SzLwIVnZqb7coJV5ShEkIuKyYcAoh8wLFuoSYDgABzNCnnFcmZA\\u002fgTjXb6rsNO7XmCxrz2QDeMp35os5SYMO6yOUAuMyMFtW77jF4p53PzG7Xft6u+Qztu3jMnwQCqMWhY6CcQFZsIDs2gBXdZirPEM1tNhRrbfJM0bxWY6l7YT49wIHbAUBpbaGjLBYqUFtlmaJ5HabemCZpahdXvMRr+qWsTuZppsBxWTHe04uOyYrmhozS202kGFZ+aZNLqT6MyYwim24AFEW8pM56mhewVq5YOy577bhsssM3BnQn\\u002f8WhrmE9tGTcw+\\u002f\\u002fVlDenJ0UftuknnBDXmljclSfSlO95\\u002fSrZM9jIwdBfGSgp4AoJe7rEuL2CpS3Hjft8SVxlGBkam9wsV\\u002fYjNhI\\u002f9ecX2Mk7+O4HUHoABDIX9lbDiCIfyeOWxGkJ6ZIaY9jfo4gNKLOFS76h7OMVLie+BAj+dBpvEEw3MGh+bUaS5KFUwx2pdLawqeLyzUnBPQAhbW5VH2MSxO5Fw5ix8nNdZ3mWhbKU1ibA\\u002fmxSis5qDRjTNJHP56irE0cPl9+35KxPr+z+uBl9ivv7UEAoKO0NpOCS2O1mxSuMSwvr97YvgnVN46XfvM2DwN4eSzmV6cvcZmMwWnWgO7kWwKOdeFuPewocyTJAp4EKyEi8NBHD3ap9KEBfs67aunkTFIE2lOTGwC8vEYGQUyYmGzyivu6hAg9ETNsQWiBPqoVh80I9znXnxJCrShxVysCp93LtkNOCCcpmB2PIjQAmBi0DgFEzIwglpy4rPw9TTTTdTZ318JzQ58DgAZ9fix\\u002fdJ3+Yo5kBQCMEC9xFuaymVNHJ1JWptrkmqvVbV4COp6wO7DjF6vIVgAAEAk4\\u002fY5xWx017bCsoNOsuid2lqu91sPrkMGgBQcIyNYbw0viZafL5AquzM9MAoDydurxA9658Tv5JoCZj9k1r5KMrJB6kgU8CRYAMOm0sL7yNDYj2vWrxWrvUlFfXwAIDxaRTTeAVEIxzIKSgpa2URFhWoslUiRyXUIVYQxDGMOcX\\u002fslKkQ8uPf\\u002f\\u002fyKEAAGAU5uID8nCqe5rTzgLE4yU3K62ykaJb3c1OlkwKY1SsADg0LnyQQjW+Sv1lNPXAMDscSmkNcndKVJW3x4xkWTsVOh0Bup9hgX6+R678BEvgqXUGMkmgGutHWVtnTaHo1LW9c6y2WR3f9zAnUzESX16wd80PApWvyg1Rk9xcASBIDF1Gs7g8H1vX+Re\\u002fGHFsmf3H950+21k30AI9JBG9P8VXLqIbHKDjjADWB6jPNkpEaGBfpRLkJy4VPXs2qmeMjw9cdhLe9BzyMwJ5eDndg8NMQBobFeOWfMR2fqnYek7RJkgM1waLOQHC\\u002fn1XdSRO+\\u002f4fifj9hrMfAKzFeH2OtzRAbgZAAGEj9ACEXoSykhFWZMQRnpv79CtYGC3iyteJs0Q8Nj9vusGhNDn9Tm0ZktRa7vOYi3p6I1fZkgHHFDzEmj4G99BEJg3MfXb3XlkB4DBZD1bVDdzLDn3xQtavTn3agPZCgAAidFBCT5EISgHP3ep9X0K3TrMNop4HwB06QzBQr7BQt2P6R1f7mTM\\u002fIdd\\u002fyVVliIOuA6363B7PWY+DLoPEVowyl5M461GaJHksjcFj4JV1Swvqmxxr34\\u002fvHQ88UGjN\\u002fX19DLk6\\u002f\\u002f4vsPHJ4z5rvByo0rluqLqV0sX4dYi3F6CMLIRBvkFSwnzxsZh\\u002fE\\u002fQZjhfovyWSROk+68L4gwnu32m03Q5mOMxGLxgUtrm3\\u002fMoK+MHz5UNSLCO5VVSjqkGgIWTPaZ9uUI5+FnR30R9Nw3K6RwA4GqLLD0suKipLTU0mObDuAtXvN\\u002fJONZtVz+PWc6QHR7AHZ0OwzcOw7coezqd\\u002fzTC6E0NuTlQC9ah3PI3Nh\\u002fFcJzFpFusdiINSshjj0zu7W6weJ4KmTfUs0+wfR6dMy0udlpc7NP7D328cJ6rHbdXIIg\\u002fbitBGGm+pGLRieVXvXL7+Xd3TniRbPVKmaZ5e9OZtzLvIjsGyJDsp0F3cETg04HsnrSVQXNN8dXM8G\\u002fI1utIA4QjUyMLyprJDoD80qZutcH3FCFPGacMOm22D+vQnOwsPt9VOjkoc3LfVuENLodzE5iQEP3t2YLYQPFA1Qq83sm4vcqmvAd3UOdSeAXDzH9YzSdovLvogucA8fUXvHGoBWvr0aK0WOk7Dy2QSgRj7v\\u002fkxOePNHeq\\u002fr3l6D3zRzvLeJm7nT6k7UEAGNAMRADw9MRxJAvCyMbNBxFGsi9q9X8eva31qvJruanYZFcwaPxxwW8wUcFp2TNSzsgu8zWTvXtq6GcMlFuq3NJhygeAMN7EFNGd3ebSctX3CEI325U8hnRc8Btqa3256gelpfK07BkAmBzyAUIVo10wKY1SsDAMP3qh4s75FL3X7jR3qDwND540Is77RHQEBYqq19LXfFD528TADNdQ+iCWGrzJqI0mFEGalWqy4wbA7fVWxSrA1GTHAMAchh8w8wm66EOU2Wfkxp8HtWA1dajeXD9XKhEAAJNBM1ltKdHBK2dmf7T99KYXVxBlbA6PguX7yvI+MlDBcu0f7AE3ARqAO7oH\\u002fIbqjzp9x8dVe15OvWNXa67FYSvRNE4KTD8tL3kycREDpW9vOsNE6R1m1Shx4v1xswBAZdW\\u002feu2nbqsumC16PX2VezfcFzUHhmQ\\u002fXuAzwscHv3lW9ny6eJ2YleK00xDmROl\\u002fiM9d5qtd5mszwjYCwKn2p4PYwwBAZalZGPUbijCPtz2osTaImHFjg17vMl2dEuItMj1lVAL\\u002fh5OUY54PnS\\u002f3UbAOnaWuXoEP6VcEFsxWom7AcShUVnForAxRDGG3en71\\u002fkWokMmjA\\u002fw1JjNpfMjgwY021X03plY94I5Wm2IVXfAkjf\\u002foTehSpD4Ag95b9RTy2MS8jnFhkoqm3tqjF1XysvbB4Ljx34hYqr7fZZ8HBB2llWuav6k78k7m2hCOGABGihPmhYwEgCcSF+YrqwGgzaR4PX31xpGPXlRUNhnkANBpVr+WvmrjyEe6zJpGA3VmzVDtZ6AEcoY5P2usDRJ2CgACgIhZySprDQD4s5JQhAkALJq\\u002fDfPY60KCxaTPcBtYSlDX0u1pCipXcByOXKAWrAB\\u002ffk7fhBtPjBAnNBvlqX6RXRZNs7H3it343fVnkxMbGSTka82WoVErALv2XfdEzRsAs+s+tinXAaYhe4Ya6hpWZLB\\u002fVbN86ogEAIgOEZ+\\u002fWp8SHSzr1jJd2npegnl2z5WvwUEZsh0Qvi9V7zsWh+0\\u002fFTtnSYc7p4UTMXlam5GJMpgow4rZASCSG0jcZLF8aZtJ4cfgJQhCGSgdAPyZfKOdotIBQ7efgdP7PIiY8S36UwA4ACgt5WG88QCAIG5vKQRx4BYcMMrGoJMFk9L2nLxGtgIAwKFzZYlRU8jWvlyuaOnwsCrEvAmpvsz\\u002fAwDzQ6kH4rGZHiOk44fFLpnuUy\\u002fNkECpRwUNrQI2Kz0sOD1swJ3dlOD2WofxF7K1BwRlTUZZExBGJoL6A8IFXIdjatxeg9tKMcs53NFO3uI6mOWstXsxQ7wJoQ94tgLfoRasaSMScq+vpjtzdNK7PxwvqmqtbOocldLbl+lFsChHY9wIQxBloEWDQ4agYrL9BkAR5Lucp1669uPxjuIZ0mHgknjppNHQieEYAFKn71gTPVVnM9Hcn3k3hmo\\u002fN0IAOz2Ik3287WEAPIQ7LoCd0W0uJRcCQACN5M842nIvjxHibE66kx4fEh0qbqQaA3g0t\\u002fLxVZNoXlv9nsLtADDft\\u002fagF7zkgomEHE8rhtbUdCQkSG02h0plCAryNbGZhC+bV3d2l7Z1poQEAsDghuaQcBg2Uc5ZgjLH0v3+5SY3IQgAMIngNY5ZixzGrZjpAOXwe9zRbO1exvD\\u002fHGVNJvuGCOqf6o4Zw9fM6YksLJqQ3iRTnrtaPzY9+tnVU51lvORGecobHjSkNT8GwSDGEvYLAggNQf+dcedzV7aIWdQDOAQM7uulP3ea1WMlyZHcwDJNM7mEbwzVflyZFPK+61f3OFSa\\u002f91p\\u002fnc7vwaw052S5KpNIwOfc372wvxJaRt+OUe2Aqi0xrxrjZ50AQDMVvspD3O\\u002fZCSEUk5vMCD8PAfsDVRxN4Lduwv\\u002f8Y8FZrNNqdR7VxwSZ85UTpyYRNQKfdn8zjHDKmVdySH9Z5n5BG5ymA6QjQA07l10v9f665JCUOZIlDkS5z9m176LWU6R\\u002fQCA623K++l+\\u002f6Jx7yS7hgJqwXJdVBpB4Ik7Jj1xxyQXPwCA2PPa8Vr90EUHAQBAe8MKONCxhL5A5DSwUMbnIx4EgGz\\u002fOADIFEUT3kxR9DV1YxDL742M3l8uzS\\u002fSmYvgKSnhsYQFMBT7+asxb2LqV79doEw1Ony+3ItgnS2q9TT3i4\\u002fpV97xMlpQ7rYqj1Zr+v77cwEBAgRB7HbH7t0F4eHi5ORQnc60Z89lg8GSmho2aVKS0WjZ\\u002fnOezY7NnJkeGxv43XdnLRb7sGGREongtx2X2lqVmZmRySkhzs01GtMv2\\u002fNwgPnzsyIiJKdPVbTL1PJOzZSpKcOGRQ2ZWgFg1jzAyRmUKHs63e913x8NhB7PEG\\u002fGTHttmtcAd2+qO+yaV3FHO13wnGuQYUigFixfEHuex8PuwBRqg+9jAvrFS1Y9icLWNrIJYGR42EDHEv7NkCPx443NjD5\\u002fpZ7sADh3uV5vtHgaZOdptDObSZ8xJpFsHTjBYo+C5b4U+bFjJbNnZ4SHiz\\u002f++AidTps6NfXChWoAsNmwlhbFSy8tIoodOXwtIEAQGur\\u002f87bcmbPSw8PEs2ZnEK7omMAVK8cQTWDn5r\\u002f\\u002fXrhocXZQkPDjj48899w8eZc2OSlk2bJRn316dNgwjyOfBgFmLSCbECZd+KbvauUE5SxmMkfYVI\\u002fhtmtkH4BDvxEcHXTRe\\u002f3V2gYGtWBt2Hk+ISJwVg51zw4Bh83wF3I9SUm7XDOEguVlGV4SP12+CgBynV5hNCYESOqVqkiRaGR4GLncTSFTFO2sKN0IQ7UfJ1aH40xDQ1JAAEX+x5\\u002fJgklplIJltdlP5tcs6rsCAIHRbL14rYlsBQCAaaMTuWwm2eobBYqqUZKe2zsyxJ9GQymrfiqtUakxuq6wbTbbuFwmh8N0j\\u002fQHBvYKn8FoDQ4WMpn0VavHNjcrhH6942MoGx5ms43DYdJoKLEABAD4i3ksFn1A81b6Am6rIFlonNsQmpRk9BGEFs6U\\u002fGbX\\u002fsth3E72AThMv+OYmuG\\u002fARCPje6BQi2ru89cU+molciV6FAx2XQdT\\u002fN1DI6WDjXZ5IFPF837dNE8CY97+P67NyxZeHDdXZy+88r\\u002fDQDQUZSGoCfqKLTDRw5VVTsG\\u002fixNyI7zNLTtiIdp+88V1Vk9jLDzZbSzk3aTYmfLOee\\u002f3a0XnC4mgx4bJnEp24eKvotFTZqY\\u002fNNPF7Zty2WzGG1tqsOHrl692nzxYq1rGQCYNSv9anFzSWmLSmnIyYk7eaL8++\\u002fO5ubWAEBiYsg3X58qK2t13Xze3KzvtpzZ+OWJyVMoUvZrOhUAMLjBzyRwRyvJgrKmkCwDA2HQ\\u002fd6m+71FWfvBLKdsyruomo2DhOIYAGCx2SN8mB8mJkzsaaHTqsZB5Pt7ZECz9wFAh07vfI21aDSurqHiVFldfafyvmnUCb7XmmTfny766O4FJHtBXeuouHCSsV88Hev5nw6tmpCVHTPg+iOKIFKBoEmtBgCF0bi5sEhjNq\\u002fNHl7brWjWaNq12vlJSWMiI\\u002fRW61eX8m0Ox21pqSmBvWGU0s7OzYVFjWrV6PDwqq7ulKDAeqVKzOGkBQd9V3QZx\\u002fEVmZmxYopYOJ2Gzh6X8uvRy2QHQHFla5dK714rP0G1viEAhAb6DXcZKNYv9XpZGEcSyBIRXztMfR7+tPiQmmbqdLCC0ubxLrMkR0ZJ\\u002fvnPhQiCEBWlBx+a5nQ98EBvl1RwsN\\u002fzL8y32zE6HQWAl15e5Py8cOFwm81BLBrmuvlTT8\\u002fFcZyouN1xR08Gxj\\u002f+saBNpf3+QlGSNKBbb3xq5vgbDA3jDvKf6ePoWu\\u002fQuKsReqxN9bB7KhZmLbIqVjPEPwxJHz11DSs1OripQ0W2upGeEEo2XaeoglrIBkd5PfWYDE9Mio1e9uP2fx46tuzH7eOiIsnuoWBqWpy7gvTLF4dzySYfGNyxfETC5a4ZNmx0RPjx2rp2nS5TKn156pTfy8sBYGdpaTCfPz4qauPF3pHkAJAeHJwYIHlw1KiRYWHtOl1RW3unXl8sk22\\u002feu3OYVkvTJq4qcAtUHIdT9UiDMfdY1Ums81Te3D+pLQBPbk5kuQcSUq8IJT4tzh8nKt3TGa061dXzrm1YVG0R636hVAo98+USxwiCLg3MwEgzF+4ekzWnWOGPTNrwg2qFQC4R9yHREcAAGWOYUp2Uc7igNvKbIoVuGNgTzEl1DWsZ1ZNfeXrg2PTo6NDvP0xWZ4Fq61T3dKhipBSvGYHSl1Lt6dImSeeGD9mQUpSk0r9QM7IOIm3P8EXHv12T05CxJWG9i6d4ev1S3ks5vYLV\\u002fcWlOUkRD49fwJR5sP9Z9uV2lalVm00vbRkqj+Po9Abn\\u002f3hQJfOECIS\\u002fOfOeXWdik0n8staOx\\u002f9dg8AfH7fYsqbb9OJ\\u002fIvVzRiOR0j8\\u002fr1iFgC4H2vjsYvnKxulfvxufc9l2Xmx5PCVKgeGjYwLf2xOn0exX\\u002faUV3QZDHFisR3DmDRaII\\u002fLpveETvQWa5hQyKLTHsohp1w6M8W4DAaO4wgCDBpNb7HwGEwaitqo4kEECZGBidFB1Y0Uqfl\\u002fXKwiLe5y\\u002fko9ZXsQQWC+18Um3CGSbOv1sgtdZQ4cQxFkbcxMpzcnI4rJoFMeq61TXVw1mMlRhxAek6kwGAsb2uZlegsrDxIP898OAoQeywjYZVPe5x6Gx+11NsUdDMlWSkXzHWrBuljWKJUIV732Y3x4QIBfn1r6x0\\u002fd5vwcFizyND0bAPxxsWrdbWPI1oFDGabtl1ixP9EqadNqw4RCsnuAMOn0j+9Z6Py6anyWgM2s6VAQX20Ox5nyhn3\\u002fuFtrMt+3cefk1NhrTbIOlW7Tg8uYdNrdG3bUdSripZJ3Vs2e19C+4f7bnPtxZ19h+Xtr5qWEBTmjraRjNcpVZ8rrf35yFeCw+P0fAKBFoT54uXLLw8sRBO7\\u002faldpS2d6RD8p0fVK1e6ysia1Ok4iZqBok1ptstlobgK6JC31s9y8SJEoIzgYoE\\u002fPero0+D9nzs1NSojw8+vU66P9\\u002fKu7u5dnZHx4\\u002fgKXwZib5K3zbuHk9A+p1uYrr+vo6NZKA3p\\u002frFMeFqMfmRbpWsx3dreezxLF8ensKl2fFgCHxRg\\u002fLMbT4bYeLLi1gnW1RaY1W\\u002fy5HAeGeRkS5xMoj9xqww2AeOwnHSgIKmFKfrapHsMsp0ku3NFq676DIfnJLTd1AFAL1rFLVQAQEypxYHin53mQAWDyyPjth4vIVgAA2Huq5O6Fo71nMPvCIc8rXPrCh2cufLRwLtk6QLJjvd2vDBptdHzE09\\u002fvB4A1E4cTxuSwQGIkk4TPNfo89dqn9yz67nRhm0Jzz9SRk1JiyG6AZoU6ISQARRBAID5YAgB1HcrmbvUDX+8iCvgyzVus2P+VqVOcX2clxDP6TkLy\\u002ftw5ABAmFP53zmw7htHdHpLVWZlWh4NJo2WH9tSy5yUlAsBbs2ZgOO6ufa7MHpv82c9nKGf7OFVQ46xkWaz2PA\\u002fT9XlZ9NA7Qjo3UxR7Wl6stOhsmIOB9v7VS2dkeRKs85frr1W3ZyZ6bE\\u002f82cQFSVAEGQK1AkBQEd5XsHB7E8IY5PWkBuEyxJvs6hccpt9JHhyTWxUrmOLvBx04oxasn9\\u002fwNRdx2uhET4LVqdAdvlDh40h6T5y\\u002fUu9lqQt3XOftIyjrpGh9DBTK5psrSr3xyXkTooN6m8Du9xaCIGab3XtKbUSA35srZmmM5sXv\\u002fXD6Xw+S3QDhYr8aWTdR\\u002f2rsUgFAnFQc4i\\u002f4Zv1SFEXsDowyDuIdklqRcFcrAibVVgiAd7UCACGfPSk77sQlimi6q2BdKmmiHOHA\\u002f3\\u002ftnXdcFNf2wM\\u002fMbC\\u002fA0pbeexEsKAr2LhpjizUx3eSlmOSlt\\u002fdeTGJiqikm0WieGluixt4rIlZQigUp0mGBXdhdtu\\u002fM\\u002fP4YHIZhd1kQEl9+fj9+\\u002fNw959w7d5iZM3fuPfdeEX\\u002fUoAi21DnmBI2U8STuPKkX343prQAgJT4oLMCjrLqtJcti+dqj\\u002f1220MEknj7FbMWv1Sr6B\\u002fWCx0SwENa0Z8JyA+tdhwUAgHHcPgfUHdetZWuIFrNyIdf9Z5TH7mdwhru9AImRvhFBXiV2Rlh+2JY1alCEvYDALrHixI+\\u002ftw8\\u002fO8OhomJqXy8am8\\u002fV3YATxLtbj5QpVDqjqb5Z8+yEoV6uYoIkP9h+DEVRg9ny8YJJ7DwAAIAiyMTkqPlfb\\u002fF3d+k8gAgABEk+vmo7j4MRJDk\\u002fLRlsHStM7j4sKvjhb7b6e7gGergBQKCH25zUfk\\u002f+uB1FUZIkv3\\u002fiQcFf9Fw5z9QR8TYdVmFxXYvG4OYiBIDTl223d8anRvfYcdzQVA7zjBvvM\\u002fBsk41m+5I5aW98tYctBQCA2zXKZasPL3suoytv3CfcrG90EwoKa+pjfb17sIYfE4QTDh3XFyXMWZhoDlPSSyAcl3cQ1N2q\\u002fYytIXUW1WNc2aoeRFT08MIzmTM+efnao2wpAAAo1bqPfz768Ys2Hk5nWLMj254rtMfMxLgF\\u002fTs4rBxbse\\u002fdgtXrhKHo8o4uaUNmbmpk0Ly0JABYeeDs1du101PiaJfE9E1vzxhNpzuDIsjGF+YyJZ2PBQAvTkkDSGNKpqfETU\\u002fpXif0X8uQxBBPmaSp08QXgiTP5d+enB5HEKS9vkt744zOcLW5dJhnHAAUaaqHeMQwtyYEgJEDI5Kj\\u002fa8W2b5hjp0vEvA4bz85oQdtWMdU1Tf7eLo42Aahf5DvwYJb0T5ed+mtAADlpeC6dUwJYTwOpAEQ2\\u002fFxdwkmeRZQmVX9LnuyNGm0qJ7myr5CBRkd5F1hu7X\\u002f66HLVDcWk3X7Luw5U8gSAsCU4XGs\\u002fQqZnLh4a+WmDh7dSbYfvbp+z0W2tCseGzSAJVk2cRxL0uuMjA09ml\\u002f8wrrdz675o75FO65fDz9Y\\u002fv+AosiUdNse9nx+OQDk3arpvJ8AAIT4uceH+7Kldsivrz9XWUmQpOHO8B8f5R6qu3y+6UatoYnlrSjeenKCg\\u002fbpvsxrz338u\\u002fPzLhyjM5j3nCp4+oOtc179xfEyzSYL\\u002fsqEdGp3wrsE4Q1mz5Uh9bjBdruyV8BE87iy7wDhshVgtTQvxfW\\u002fs8UOse2wdmUWlNQ0sYQoimw+kssSAgCXgz3zUIcXPostB3Pe\\u002fW6\\u002f40vCxGC0rPjv8c\\u002fX2xhIcp682vpteQVXaupE9lc7coZGk+1ODSbBXrK1z87+9vHpPzw1Y\\u002fmCSWK+jXFim+VkK7vtkf822GsoUYsp229eOdvb8nVW9ueZWT+cv0iQ5FM723p\\u002fHwub6MYV63Djy9GzOpq3Eewre3HhKLaUwZWb1XNf+2XNjuwWDTugyUkq6pp3HMt7c+XeKc\\u002f9+PHPRx1sOk1T1qiqVLY0terYiu6DoDKUP5QlxHU\\u002f2VxwprdABZO4snWAiNgKIKzqN1ktPsfYfpkoVNr4UPb0ojA\\u002fj9qmDuMLNBOGxhw4c516N9rk2Pmi3BtVj00fkjEi3sH8r6YW3cGs61sP5irVHa4NggCHg9kcV7LJzxdzsisqE+Tyg0XFqUEBz6QOZls4x21dxRHFiQzfCVqLrsHU4Cf0lXDE19Q3Q8RBDaYmI24MEPpxUE6NoS5CElauqzTghgChP4ogVfqaYHGgCTdTuTgIhyrHSuDFraXBokAApMpQ3WK2\\u002fff8\\u002f0CQjywx0q+gmP24qtT6yvpmm\\u002fcShqGT02PZUjtcqKreMv+hR37bzkFRepQDRZBUz1gAON90g0p0ZubYfrcqGuwtNwgARrN17R\\u002fnN+y7lJ4clj4gvF+kb4BcZq9vy2LFqxUtFXXNlXWq0mplzvWqzh\\u002fCXRLo7ppXVQcA05Jt17lboMIZhCmLKSGt5bh+MyZydqitB6D8NJ7HZovqMZJgjaGRVs2Hzgdn2XZYJEDn\\u002fZRwnLA5QZTi3acmLHhrg8ZWM55CpdZ\\u002fseHkd1vP9I8JiA2TB3i7iUV8BAGjyaps0VU3tFwrqSuuaLQ52\\u002fPhqYNJkty47xJbYYfjJaWbFzyEAJAACzb91mOHFSQKDBYFBgj9s3TnY6RRcoF3ma5cxnO7qS22EtYH\\u002fTMO1R+LkUbprHoBylealVN9J+2tPYQh2BTf8fvqDrlx3ahcOElQ5Wyt2hEg9C\\u002fTVVgIyzS\\u002fSXtrD7EPaR+SBIPJ3Ko36QzmVr1ZZzC16k2telOrwdyqN+nohMHcajDp9Ka6Jg27CAAAMJotM17+WSzkS4Q8sZAvEfHEIr5YyJMI+WIhTyLiU4k2oYgvFvK6u6a+k0wbmdDZYQFA9tXbNidjDU0K8bC\\u002fRggLDEWoOwknSZwgFcYWlVlTo1c2GJsB4GpLmT2HBQCvPzq2qaU1K9d2K4\\u002fCYsFPXiqmIiGEfK7cQ+ruKhbwOQggepPZYLToDWa9yaJS6+5+xfCU0AC26C7ABFNxbAVrsxyr9ktUMBFBvZnC3gXh9uN6bLOoHukc8k7ilSyJPWw7rGAf2bnC8nEpHcL\\u002fLl6vdLABvadMsvzFaUs\\u002f3WG179QAwGS2ns8vt\\u002fn+tEf\\u002f2IBn5qQd7TRvw1nsvPqcAUPQFou61lAPAHyMDwBF2mIxJkYBFWBtQ584iUs5kpvaYgNuPN141oUr5aLcrKZzMq6MBJLKRZcTJArUW\\u002fVR0vAqfc2Zpmwz4exn8q\\u002f7L6\\u002faesamN+8uJGlj1RTHSEX8o6ufY0vvmnGpUV9uONF5fdrV27NZEopuhV9NjYleuPW3iuaWeZu3zk9KcudJRBz+haabY+TJAKC2tE0SsAmKIstfnPbvHw7aHMrsjMFkKa9V2VxP9V4E4WLiJ62ajzoICbW15U2ueze+znoAwongemy3qB4hrY5eBg6w7bAeSE\\u002f4YstJLzfx9BGJ3jKJUq3bm3V956n8f8xKZ5syGBgX+O7TEz\\u002f46dDdv1JookK8V7w8HUURZ\\u002fb1pUkPCX7i9z8SfeT5dfUjw0LY6u4wN3AmAoifsO0DebLPeBJIemLKJJ9xABAiDsYQ9FC9ZoTXMErFtKGgyyFIAkXQMHFIZxsHWCx4r3irnmG0WE+cvqHTmUJDvFxdhLlXKyIj5BiKllc2xcX66XVmKmE0Wgqv10SGeSsaNXq9OTTYE8PQsoomAZ8TFOhBqXCCrKltDg7yiI\\u002f1Fwl4YwZHdV7+2OZyfW5Su6sV22ReUr9hwUElSlWEhzu1ig4X5SwMGUuFXz0Q0MUcDC4HW\\u002fZ8hre71F6Y4f80mOhhXLeR1a4hTKfw1lWY5B9MYa+DYH5cj98tqsWkxcYIXpfYdlhzxibfKFes3Xth7d72OMxRAyIWTWoL6rPHpLRYAY\\u002fz3qoDzvc3OSAu3OfLV2dIRXwACPaVcbnOdmM9N2xITnVtiVI5Ojw02c\\u002fZQSWbdPYpnSXU8urDPAbTqs42tAS9sxZ7Z5t7GUWDZv6cIZt\\u002fOz8gOdjTQ5JfWDUgOUTbahQKeAaDhUocPFwQGuJ5s7jeYDA\\u002fPH\\u002fY9j8uSyQCPo8jlQhOnr5JqVxdhEmJgf5+MqrYqSPjOzssm0xKi+3Wl+m5ysqs8gqTFc+uqASAd8eMAoCbmkpqd69mc6u\\u002f0LNjDjYogixdOHJgbOCy1YdsDln+D4PwOK7vW1RPssS4bj0mftRW73hvgqAynscWi+ppwnyOresK2w4LRZB\\u002fPzlpztjkC9cqWrQGF7FgYExg\\u002fyh\\u002ftp0tRqVE\\u002fvyv+e9+t7\\u002fKifUeHDB1RPwbj42j57VjGBrm71Fka9KsTQYG+A0M8GNL+xIXrpQt+huh15sOHimQuYkLCqulUgGKojhOuLqI8gurfH3cqER4mFdrqykhzr\\u002fwWlsok0TMr6hSRoR506qqapVQ2D7q0j8m0N\\u002fbtaZBTUvs0d0pE8uOn3pnzCg+I2yYIIm8lrI412AAON2QHy0NoGZEOyZ9QNi2zx5bvf3srpMFvfjpQCMW8sYPjRHbH4nqI1D+GEw0G9dvpyUIJ5LrvravvVUbiJjr\\u002foulZSlhPMxWOcTRBYsP9ek8VugM0SHeGz5atH73xS2Hcnqw4Y2\\u002f3O3VR0YPTQplySODvJx3WPfpXVxdRRPHJ1DDbfTsoqgIOTVXlE4QBImiSEyULwDMnjFo45bs1MHh2edLFsxNZapoEASmDI9fs8N2pxVNdIh3RHf6BABgUnRkTnWNp7itk35QgH9mY8HZxmt1BiUAEu3ilLeicJMKX39s3JwJ\\u002fTcfyDmUfcPJZr5jEASSowOmjkwYOyTKQeRXn8Jx+RdhziGttwEA5Q\\u002fjyn7oxVnQXYPwuLLvrOp3cP1vbJV9+uovJeRzn3kobfaE5D+O5+05VUhtxdolceE+cyf0H5sabbPxHxncvVv2Pr3I2FFxzOAAKkHPbKcTrCjwubMG19a1zJ09uLOKJmN43Nqd5xz30DkffkVztLhkZkI8Y0dgGOWd5Cf0iJL2cMQt1N\\u002fjnacmPDd3+PGLt05eLM69WdWDBpevl0tKfNCg+KCU+CCZ\\u002fW1c\\u002fiQQMVf2s1k5AxNMsrdkaB+DcVw\\u002fAcQN161ma+yAkA5vlF6BIMmi8obLhZVFFQ2VdarGZp3eaLZYcAGfKxbyfDylof4ecWE+w5JDve1vB\\u002fAXcl65\\u002f2zTnqVR33FsROt2zV1mt8n3xS\\u002fXG8sBQICJ3onbxFbfB+BfR48PCw5yF4koj9Xr6\\u002fobjJZrZXXXSurLa1V1jWqFSqszmI0mq9WK83kckYAnFHBFAq67qzhQ7hbk5x7sKwvxc78H73ASr0awHjrx3gLXrcZbf2YJeXIbYdVd+NSaZo2\\u002fzIUttYVC07o\\u002f7+bjwwd1lqAIEhsqjw3tYpGmexYSAAGEIHFb0wsAJ\\u002fG8llMDZGPZijs4zt4zng7\\u002fRI9rjtRvvKX9G45h9QoCLie3tj3Ii+WwHASOOolQwB0UFzQoztmIx3uWv9xbAQAmfhoTP82W2sKRw7pWq9h8Pu\\u002fRtIEtekOVSh3m5e4qElwoq4z19Va26sfEhh+7XuIvc7lSWRfj4zUg2I+1cKzcRUJJbjc1U7mqmzU6kznC20PI49C5mFloWvWmn3ZkIyiSkRYXGey1eke2yWwdEBs4ICZg\\u002fb6LVis+OS0uMsjr6IWi2gZ1vVIzbkh0TIicqWKXeBcM9cgY6mF3ima1vuikYpsDh+U4e8\\u002fgonxX1EuISdiK+9zhrVEj6XSZqrlbgaN\\u002fPrWlCpncVWh\\u002fS9d7jdoyhcy7Q4UtJmtzg9o70INhBRaT9dKRvNCEQN\\u002fQ3glJtdFVRBPj4xXt4xkp96hXaweF+CcH+epMZm+pJKe8xmzF86rqrDhxsOCWlM+7VtshapYFnatK1fJQSmJhTX2XuTQ6Y6vB9MiUQdEh3ufybgf6yJYuGDm8f9i+zEJvmSQlPvi\\u002fey8AQINSGxvm89KCUQfOXmep\\u002fjSKW6+wRfe5x\\u002fg2+5w7TxIg8qrWN6Z7JaR7JYSKezKaBAAH\\u002f3tq+aOrvnjm59Pbe\\u002fM2y96Xo6i0EdwPAFdOXntr2oofX9908rduBAFk7rxIOAzhdpJPHvuBKufDRd8xC8zem8uqsMlgalawR3s5XAzjYOcPdP2MZP7hVIUdtbAwFG1q1VObC1F7QedU1LgI+CiKjI4Ne2HTnm8XPoCTpNZo7B\\u002fkV9KgLKpvZO6pTUvoXCKs7Zso2seLynXnUGz8vFyfmZ224cDltKRQncHsdseRtxrNvh4ufC62eFrb6l8eriI+j0MSZGcVBQnkBeWBXNXxJnMNAOLK9RzoPi7d80FK+33xy4luwyMkyQfq1tYaSjgIL8V9wniftklVv9z+V1lrPpVelvgHlaDZVbPqljZHa1EBwHsFMyjhSO\\u002fZ4+QLqbTj7A4qZiaM55X7r6nPKU11OGnx5PuneU1PdhvFKqHHOD5rjUV5pH5jsTbXTBjlguAx8vlR0gGUqsuK1RvLjyu2VOmLTLhezHENEsWM91kk47X3BtQby4\\u002fV\\u002f1quu0GA1V8YOVY+P0TcFq+wtXIFDxXGugw5rtisNNVKOG793IaPkc\\u002fHEEd3aWd+vHDxmSGDP8s8Q0sK6hVclNOtwFEHTHt6XMKwqOWPrhowNmHPT8d0an3ckIgBYxO2fb7PYraOW5AWlhhEEuT6ZTvMRnO\\u002f4bHxQ6Nos4S06B3fHNI2t05\\u002fdrx3oMf6D3agKDpuQRoAHNl4xqg3jZw1JGkEu+k3eu7QCYuGA8CeH4+OXzRcKBFs\\u002fXzvA0vG0UesKqqrK29oqFJS2YuvlO\\u002f45mBNaX1iWkzCsA7zVbpL0si4\\u002fKybofGBMrmrUW\\u002fa9sU+ixkfN38YABz5NcuoN42cOThpRKzVbP1j1ZGACJ\\u002foQWEkQa7\\u002fcKfZYO43PCZ1Sn9Pf\\u002ffaMgUA6LUGOntYYodP6eIr5Tu+OVRTokhMjy6\\u002fVh2WGFh9q97VUxqeFPzH94dJEqY8NjIg0hccOywAoLYVCvNyp34uHjaAHtJevXgmAGT0i8YJklqm55PZHVZuivD2oCQxvl7MZTYfGTYAAOhcNimtbjp5qdhqxUmSHJYUumL98Wul9bGh8oy0uDW7zvl7ucWGyqHjd5891c7qb\\u002fOaT\\u002fWXjRnhPQtDuDWGYleOJyMflLXmX2k+keI+cYTXLJW5Toy50qqHQ97VWdWnGn6\\u002frDrCyNFGmuf0IR6TTyi21OhLHg59jxJKOTLawHF2BxXDEG6x9kqUdICvdxhJkmebdu2s+kbOD\\u002fIVhnUso50b6prbrQ0JboEG3JzfUhkl9RVgXCqRJAtmW9s\\u002fawPeuqb0LRThTPRdLMSkBS1nfi3\\u002f8OGQ9yKl\\u002faGrillJyy9l7\\u002fsIQx\\u002fwf4aDcJtMtcWtV4RYezezwlixpvQtuSBomv8SDsLNb8n85fa\\u002fFgW\\u002fQxUOALe0OcXa3BHes915PqWtVzMbd\\u002fIx8QivmXQJzhDp4QEA2RWVjw5s87NnyyupxLmmayO8+wFAl1GjDji2KevY5qz06SlWs7X6Vt0b654BgD++P+zhJ\\u002fML897y2d53Njx36Uief4TP+IXpANCsUNNmADDt6bGF2UXn9uWOmTtMpzY8\\u002fsEcD1\\u002fZ1dPXUyb0i0uN\\u002fO7lDZ0d1untF8qvVadM7BcSH3h6x4WIpGCBiH94QyZ9xOiBodEDw2Y8N5HKHtk\\u002fJCQu4KGXMzD7a2w5Sfr0QZs+2V1f3pg+fdDhjWc8\\u002fGR+ofItn+2NHhiWMj4xLjXyu1c2JI2I5fA4o2anZu\\u002fNAYBLR\\u002fL9w+XUuTNhZn9nQ4eZXncqPAXjYBcP5Rl1JrPRUlfeUJR7e+qTY70D3b9Zuv7l7x+HLh1W58V8O0sc+B2a7uYKD\\u002fAM8pGhCEKNl3\\u002fw7BQrTlCxDu89OZFOL5zS1sf\\u002f\\u002ftOTWCqKan3x1eaTo7znjJUvoCSxLuyJ0OW6wuciV3rxbYwicRCuK9dTzLE97EBlEWISDOH4CkLZaofZHVcMQ7Anwj6kfwaIIj6\\u002f+fRtXaEDh4UgiMZqEHJ4e2pywiXyG5qaJpOWSth0WPbO+mzTbo1VtTTqO3eeDwDEuKQ0FFceV2y+47AcVUxrUelxbbLbqDiXVACIkg4c5jmNNgaAY4rNXJT\\u002fWOgyLsoDgHjXoWtK39pft+Yl6SrKQGdVPxb6nzBJPwCIlg6s1N0s0lzqrsMaGxEOALMS4qfHtT35mbfLqcQ1dQXlsO6G9AcHDRybiKBIs0Lt6d\\u002f2LtdrjfIgD56AO+\\u002fVaQCg0xhcPdp7GGmz41uzmxUtgVF+uJXwCfF69F+zf\\u002f\\u002fqQMrEJACQyV35Qh5J2PgsGjl7CNXCIkny6Kas2lLF7Jem7F19nD7ilZOFrOzO7kTWFVKZ2NBqLMopm7BoeGH2LXmQ550jXrtzRHaYgU5rcPWwMRiq1xjo7GwdtG+ILRDxCYJAUITDwXRao0gqwDiY5U44Z\\u002fuz3TOO3iw5dP2WGe+FUDoWXA7G3MCC6YZsRmlRsFSlrXkAMNB9PFPIQi4I7vzc9jXOVIzGlevFRXl63NG6cThJuHFFV1TlkVIfvdXUzy2ITrBNAcD+WZdor\\u002foIgilvBQAIIEGi2FpDqZW0dDQE6FQxN553iDh+b+2Pe2tX1xhKOtoCAJS15kdJB1DeiiLedajSVNdsbuvN5KNCyltRePD9tNZm+me3WNQ\\u002fmU6vmDyRSog5go+ubV5dsn91yX5a210EYgHS6XU7fkFaXubNwuxbzYoWABg8KenEtnMblu04tz+XacbhYLWliuIrt1EMLb9efXjDaYvZ2mVo0clt56g+LARB\\u002fMK9jXqTi7uEdUQWkf1Dfn532\\u002fXzxWwFAJBmtsQhsYPD+QIeiqHjF6TlnblRmH2rc19VbZni0PrT+Vk3Lx7KGzwx6cRv5zZ8uPPc\\u002fivVxXVHN2VdOXX98rECB9kBIDI55Od3t12\\u002fUOwb6oUgiH+EHCfISYtH\\u002fPeD7T+9uXnEjBTKrBfisC5V1qzNvjwiImTewH6dW1J\\u002fLQfr1mU37f1PwnbU1vKSAPB98cuuXI9FIe+yFQyOKTadbtjeuROKYmf1N7dbC\\u002f8ZYzfyzWZ2xxUjgcxtPl7QktVkqjHgrVbSQpA4s3eMYl\\u002ft6ryW03QcFk4S1KxGan41M8HCwVl\\u002fUbSkxWxjOsEbsb9IOG5dVgwn8RzV0YuqQwpjhY8gZLzPoihp2\\u002fxTK2n5T+FD6Z4PTvRdTBeb15K5veqrJeGfBoiitlauqDeWvxTV1toCgO1VX1Xobjj42zrA5mYfGoveSra9XN15NloBd4nVgnMYm6SyfrYJzVbOndB2q9mKoMjdfLjZPASFxWTl8m18Qpnq+2GC8agwA+UN70GojYMjMrFnZk8OdipMkiRJkOidhghb7YCjG07\\u002f8t4WXYt+4ISkN9Y\\u002fzxfxAeB4USmCwPdzH6hQNtdrtH6uNj5\\u002fehG1Ums14x6+bmyFHQSYBABarS0uXA+27i\\u002fFccWO1G\\u002fIbto7ynvOBJ+HpVx3Hsr\\u002f6NoitlEnKG8FjPnVNr2VY0SYRCSUTPJ9jCWnQii6rBiGYIM9Jg32mFRrKD2h2PJr+UdPhn8cJIoBAA7C5aPCVrzD27XV2gIAYk5bDxpy101+miU7d6+Z9SCVfn733m+nT11dcmBJRFt8ybbKU3ODRt2x7YDN+5yJlbRiCMaau24lrRqL2p3X4WpSTyZLRXsrOm0lrYXqPH9hoBe\\u002f22P\\u002f9h5+AOj88LdBtuKGP3DDH4C6YPwJqHAKyk933hU4OCITe2b25ACwXfHd3MAXUQTdVPHF\\u002fKCXTzX+obGoHvR\\u002fCsHa\\u002f9TO3h+GVuPXz\\u002fzUWKXUaw1ndpw\\u002ftO4kJfeQiMqUzRsu5IZ5uvfAW53ZnePMWCZNWWF1oc1Wrh3CxAkAkNt8gq3oPbiowEya2NKucFyxIs2lYFHsaO+5fsJwKUemNNWRcLcNYSeJkPRvNjfIBcGh4gTmP2qozvmK+QnD5wW\\u002fAQAVuhu0MELav1ibYyHa\\u002f1zX1edkPDlzGLHXIUiyWq2xEgTTwajNOrqpxcTefU5hJa0bytftqdm5s\\u002fp3phwAzIRJbWn3xTnNFwmy7cZmqTqDIRiKYHktV9gKgBuaa1\\u002ff+mxb1aaLqm7ENDCP7ghCgxu2W1SPmxSDreo3CdOZXlwoWWfVHqjbsL9uQ6OpNr\\u002fl7MmGnX\\u002fUrC5tLTThhsP1m\\u002ffXbagzlrOyREgSb+uu6awaKccNJy0JLkM6313OutWmGpXZ2N6LUXe7rdPhRn1DqLtMbTTabIF3RqcxbFi+G0GRcXOHkiS5Y9WRmjJF4tCooGjfvWtP6TT62JTw9GkDTv9xKXpAqE+w57aVhx56YeKGT3abjJZ+aVF8AQ8ASvIrK2\\u002fVjZndIXzBJsHiuDiX1BOKLVqrKlyShALaYKomSWKk92y2aSdIII24zoTrdVYNADSaaoSYmI+KmF0wABAkir6oPHio7r+R0v5mwijjyX0EIV1md1wxuSCkWHulQJ0l43orTJXnmvYxY0QJkjAReiOuM+CtJEk2mWoEmFiAiXtl6k+614OF6rNry94d6jHVjeupw7U1+lsCTDJGPg+6qlix9spl1ZEIabIb19tKWq6psxEECRUn0Abj5At+Kn193e33Uz0yuCgvr\\u002fl0lb5ofvAbtEGvcKGq6qus7MJ6xciffgYAo9U6JSaKi2Jqiy6zIT9C6l+hUyiMLTY3obB3n1NcUJ5LcO03QDYIAHRW3anGY3qrIVwS0c8t+bjiiFzgEyoOA4AKffmR+kMKoyJKGh0iDqNVJJC7a3ZaCHOUNCZMEn60\\u002fpAO143xHu8vDJBx3RuMtsMSB7unDvMcDgAnG44N9UgXYIKDdftGe489WL\\u002fPSuBDPYbVGeuaTI0qs3KQ++BoaSzz6BES52IaiBZc\\u002fxuu\\u002fw1BZahgEirIQPlDgLVXRTfJVh5I9ZjoxvX8o2a1F98\\u002fUBSRLpq6u2ZNvbHChevuwZOfbNi5IOgVZpZ41yEnFNtV5oZ41yFclO\\u002fJ94UeOyxPf3eegEtfy5D4QCqRGhLUajJXtaid8VYAoG3W6TSGx96b4eHjBgDBsf5zXpiEcdDmBk11Sf3rPz5BmTXWNgfH+AFAdXHdpeOFfmHy8fOGAsCV0zduX6+5fb1m8dvT2wsFAIDaUsXvn+8GgPlvzfQO8qTlc4NePdu0+2rL6VzVcRTBZDzvYZ4PtGezT35L5vaqr+mf39x6HgBEmPStuA20EAD6uY1oNFVfaT55XrlPiEkn+i6mHFaX2R1UbIrfE\\u002ftqVu+p+REnLX7C8JkBL2Q27qCLOq\\u002fcf7BuHf1z5a3nAcCd5\\u002fNy9A+0sMcIMcmS8E+PN2w92bCt1doixCQ+gpB0z7a\\u002ftuOKyXjeZsJ4TLHZiLfyUZFcELww+O0AUSRt4Mn3fyr8k6P1G\\u002ffW\\u002fEgA7isIeyT0\\u002fQhJMm3QLexd8SGBgVvnz31l34HPpkwCAARBqJvzpehZxxS5+2ov+Ahkr8XOoe2Z2LvPKRTG+uFeI6k0TlrrjXVPhLYFK6S4p15tyaHSwaIQf2HAJJ8pVAclrSpU58sF8qEe6ZTZKO+xxdpbV1ty\\u002fYUBlMQml5ov1BhqEl37+QsDLjdfCBIF8zH+2aYzblyZN19+oH5viCgsRBw6Tj5hc+WGaGks6+jdgiSacf0WXL8FQT1QwSRUmIHyBjv\\u002fHcbETJj4qBBFMJy0AoCU48ZFeSSQRtwg43lxEN6oToO\\u002fIkxiIgxV+pKBstEsFY2zDksoEbz80zPr3tms0+jHzE+fsHgUJa\\u002fXaKua1a1ObI9O4RPsufjt6b9\\u002fezhlXOLA0XFML+d5Z1E3AEARBMcJ3EpYLbhe22GEuLlRgyIINUOPSfaui\\u002ft+OgoAk58Yy7x9UQQb7jVzeKe\\u002fDsVzkV+xRXdIchuZ5NZ2dzoAAWScfCGrOxycyO6gYlKOjNXumBf0Op0e5jmNFS7QXRycNQCIOC7T\\u002fJ6e5mdjbpfjinny\\u002fReH\\u002fouhtIE3P3Bh8NtsKQB0LIpiduDLLAkTe1ec4pnUwazNt7koNtm3bbDJHvbucwpPvmedsZbuaZJx3ZnaLjHgBgmnraf\\u002fvDJbY1H7CH0JUxdfYSmyIVQLiwTynDKrwdgw0Wfyqcbj7jxPDsqd7DPthuaaC9eVi\\u002fIcr3jRLUhCies34fpNCOqFCiahwqkobxD7kXNIivuYw\\u002fVbeCg\\u002f0XVoo6mWlg+QjTyu+M2dLw8QhgOEtGcAAIAgUVS9sdJB36uzDgsAxj08YtzDI1jCclVLQW39rOR4ltwe5TdqsvbmWs1WIEkAiEwKXvuf7enTBvqGdIgCjU0J3\\u002fLF\\u002fqBoX4GInzIu8bvXNt3MKYtKDuELeQNGxvoEe274dM\\u002fitzo0snKP5zN\\u002f3udvj+MrHuXJdmFOYvM+pxjiMWxj+boS7S0JR5rqMYyWN5gUWU2nawzV\\u002fsLARNckAAgWh2yv3jZQliLlujBVmyrWl7WWhohDMQRrMClMhAlF0Hpj3TllVoNR4Sv0i3dJbD8eAABcVJ2vMlSGisMGuw\\u002f14ss1FrWYI0n1SNtXu8uT7x0iCmXZA+Po4ZL25m3PIIlGXL8R129EMDkqmIwKpqK8\\u002fs54Lm9+wIyAp0mSRBGUDoSdE\\u002fg8AMwOfA4nccxWAzDFfSydRhFshv8ShhLg7sMazpZVVDarm1p1L4wcytbZwWq2IiiKcdqcqMVs5dpawMxqwTEOSse\\u002fORgNBQCr2TrD41GjzgQA31\\u002f8JGpQONviPn8v\\u002fsIrbu9hY2ElrRxbk4ro7PYMnMdBTRwUblE9TpizuxuNRYNgPqhgCirMQLn92bq+x\\u002fYpOU9aWHAaW9YFzGFdALDpraDT8KcDbwUA17KLqHv3Pv9P+AuvuD0fwcKev6Cz2zNwHgc1cVA4130dkDrCeAI3HiZMp4DUsy0cQuL1uG4drluHYP6oYAomzEC47bG+fY3ds\\u002frfwvHXwX3+fty\\u002f4ncFIkaF01DhNCBNhOkMYTyMm44D0cI2cwiJ1+C6NbhuDYIFosIMTDAF4baPCPcRfweHZTKYLx\\u002fOY0vv8\\u002ffl\\u002fhXvNRA+KhiHCsZxACdMFwjjIcJ0lLXHapeQeBXe+iPe+iOCBaHCqZggA+HS3Va9jN0+rPmBS5pqVGzpHb7KXJaQHgMAhXWK87er5FLJtMQYttEd9v14ZOU\\u002f1gAAX8jbq\\u002f2VmodlNVsvH7566rfssvwKVV2zTq0Xu4k9\\u002fd3j02JGzh7ab2QcuxQGjdXKsryKsrzy0vyKsvyK6lu1nWdg2mOPZqOTy6Qpa5vP7rp48WBuTXFds0JtNlrcvFy8Aj2SRiekTU+JTolgZ7BFa4tuhvujVHrZnjdTpw6kVZcOXT217WzRpZKGyiaTwSyUCLwCPcOTgpNGJQx7YJCrV9dRuLgVv3ry2vl9l0uvlteW1uvUerPRIhDzxa4i3zB5YLRfQlps0uh4rwAPdk6H9MqJszAbLblH8\\u002fIyr1\\u002fPLlLVt2iUWpPezBfxpDKJPMQrKDYgLjVqwLh+HoyRYiZ9d8WdvM97RkHm9QsHr+SduqasVakbNVw+193HLSguIDVj4LDpKS62Zgiz6PVnxwlIwnKVMBwmTIdJawVb6RwIJxQVTMWEGQjHuUAwp7lbh\\u002fX7lcI5\\u002fRN259+YlhhjLxSL\\u002fqMDwMbS731CvYtzyj555JvKGzUdDdtJHB771qal9p60RaH\\u002fUFQ0sqXO4fj2pdBrDJuX79z59X6LqT2GkMXgyf2f+fLRwGg\\u002ftqIjTIf10o9LMp4eBwC1pYoVi7+9ll3EtGQy7uERb6x\\u002fgS3tyNldF1e\\u002fvrG2pJ6t6ERCesyi9+YMHN91R0MvnjiNSW\\u002fa9d2hnV\\u002fvU9W3sHUdQRDkgecmPv\\u002fNE2xFX15xJ+\\u002fz7nLt7M2fXtt44\\u002fwttuIOIhfhgrdmznwpg8t3FO7b689OtyAtNwnTYdx4mLTcZOucA+FEoIIMTDgF4dzteCWF3U\\u002fCiP6hPAFX3aTVqR31yUV6e\\u002fxyPsdLIrHnrVhUXK+uK1O8PeUjq8O9kgrO3Hh+8JvfX\\u002fqUXpfjT6OxSvnmpGUObgiKiwevFJ69+d62VwZNTGbr7KCsUwFAyZXbb05cpm7SstUMhkxpb4jZZPNHO395bwtbaofCrJsOHBBNX5x4baniP7M+K8t36kVNkmT0oJ403+4GJ+\\u002fzbrHr24OrXv7FcRtQrzH8\\u002fNamc\\u002ftylu1+Q+reHmbogD\\u002f\\u002f2UG4MRg3BpMsJfFKwniIMB4hzFc6R587gLSW4K0r8daVCCcKE2agggyEE8Y26g52HdayPW9SCdyKq5u0GqX23anLO7\\u002flDGaLmMcrVzWz5PY4s\\u002fN89u5L1F9cJBUOmpgU1i\\u002fExUOq1xpK88qzd18y6duGflT1LZ8+8u1nx20EIv5752usJ\\u002fDfMz+jX+CvrXsuMMbu+1\\u002fQaS4rE2Vt89K0dxqrlbQkNjWq34hYD193FENViubCrJsFmTeoZqleY3hv+qdfZS6LGezUY6asbW6sUr6T8THlrRAECUkIDIz2k7pLTAZzbUl96dVyk8GMcbBBE5PYmRlcPnyV6a1cPKSDJiYFxQRQ931rs666uLY0r+J2fgVVT69Aj8GTuxiB7osTr7pZ82LaO63NOqZQJBVGD46QyV1FUqFea6gtVVRcqzK0GgFA7CoaMcd2cEzfXXEn73Pn2fbprp\\u002ffals\\u002fAwA4PE7SqPjY1EiZl6tRb1ZUNFw6dLWurK2T6NrZmy+PeG\\u002fl2Y\\u002fEriI6iz165dnpGQgWRO0TQRINhPEIYTxEmC50a+Ihab1l1d4C7VcINxYTUJ4rmG3kBHYdFg3Gwdx93Nx93HgCG23X7gaOHv7lJJWY8tS4pz5ZJJGJmdpmhXrZ3C8LMq9TP6+eLLx+7lbcUPZncER\\u002fdrAcs10dkhDYs6gckiQ\\u002fXfwt\\u002fdAGxvi\\u002fueGFzkWV5ZV\\u002fOO+rqqJaALCarcse+mJNwZciqZBl1hlFRePyRStV9S0YB5vx4uQ5\\u002f3zA3bdDl43ZaMk9ll+cUyZx6\\u002fBnYbFtxW46PfGx0S989ySfsZcyjbpRc\\u002fHglRNbshLTY+nVOWzSFyeu1xr+NfMzpreKTY16+P05A8f3Y1UGt+I3LxSf2XlB7CKyeSLQZ1ecieP73EkKs26ue7f9XZIyKXnpD0\\u002fLO+6nSZLk8V\\u002fPfPfiWqpNV3G9+sunf3xv2ytMG5v0yrNzlyCoNyZahIkWAaHGTccI42HClAWkkW1nH9Jyw2q5AdrPEW4CJpiCCjMQLJBtZB9H97EzBMlcE\\u002f18sssq2QqHzH5l6ss\\u002fLWH9xQFAJnf9YNfrzMf41LazDH3fcmjtiSvHC6i0X7h8ZdaHNh+DsKSQz0\\u002f+h+4Ub6hs2vvDkY4mtsk5kldw5oZAzP\\u002fk0LtLPl\\u002fM8lYAwBNwU6cOfPhfc1hyJiRJFp5t61AQu4qWrnrK3kPu6uUy\\u002fpGRyw++s+CdmWxdR\\u002frixDd\\u002fvLPqZvvX5YylU1ZmfZgyKbmz68Q4WHxazDNfLHZ84vc+JEF+8eQqevWRIRkDlu15k+WtAABBkHEPj\\u002fjk0Lu0Z8z8\\u002fVzm784uxnCvPDuoKyacxZWt5ssvc2Xfo8JpgDj1YUtDWgqt2hXmhpHmpgdx3RoS76IvgoJ993QXb4lk\\u002fsB+GfHRbIV9\\u002fCN9n\\u002fh4IVt6B4mbeNqSCfRPBz3TvQtJktu\\u002f2kv\\u002ffPH7pxz0LLj7uM19bTr9c+fK\\u002ffbGLjrz4vdPJY\\u002fpebiKQWu03lku1sVD6rjL1hn64sR1av3eHw7TP4dNT\\u002fnHV491XqXzb8a5vZerb9VRaZFU+MqaZx2szBczJHLeGzPon1tX7GrX2edefHYQESqYzHVbyZfncN3XYaK5CNq9\\u002fn7Skm\\u002fVLDc3DLc0zcR160jc0TjSXTmsmhbNuvM56y\\u002fk7sy77vzEy+nPTWIFu7NIGt3+gakob2Bo+pCCzBt0f3NgtN\\u002fACY56kQBg1Nw0Oq2qa75d4FQbM6xf8PhHRrKl3UEoFdBLytXfbijLK++g7j59ceKntmXrNQYqjXGw5799oqP+78mBn4\\u002fR6bGLhrv7uLXrbDFj6RT6fVOcU+ZgSJHm3nx22kC4KH8Ux3U5T36B67EFEz+KYP5sG4cQlqtWzYfmhjSLcjau+4WtBoC7dFj+bi6LUpIWpSS\\u002fOjbdyVFCAEifOYQt6oh3oCedbm3ptbEbx1w52fZNBADOjH95BXow42gKs5wa92XN\\u002fu8BCILQXfIkSb415eNzey53NOkefXHi+ZnX6HTq1IG9MsR+j0MSJPNPMXxmKkNpG4mbeMC49qnOV08UMpS26Ytnp7ZJwxZ15ML1Cur\\u002fosqG305crVN2YQ+AorwhHJf3ed5neJ57MclShNut0DCSMOdaNcvYYgC4S4cFAPG+ctYiHo5x9ZR2efsKGFEzuBXHrd0YjOgx1862t5+DYh2tT0Tj6tn+3FIhC10Sn9aToB4WC9+ZRc+sVNU1v\\u002f\\u002fgp0uSXz2w5hg11tZd+uLEmWUmj+759+\\u002f\\u002fEOXXqpiBEZEDwhhKuzDNCrJuMDQ26Itn50aFYs2ec6U1TReuV+w4lX\\u002fxRmVBWd2uzILr5e3B7kUVDQRBFlU2RgZ6TUqNOVdY3p6\\u002fKxBuPEe6lOe5j+edzXH9GBVMAITd+9YtHDUv+wK\\u002fCF+26N6gtrT9y3nls6tXPruaoewajbKVLbJF5y7YHhA5IOz1\\u002fz6\\u002f4tHv6HicsvyKr5b89MMr\\u002f02bMWTCIyP7j010fpenXj9xkiSZ4RGdB\\u002fj+ljRWNdFpVy+Xzp3iNgmIao\\u002fGqC\\u002fvIpaiL56dqECvyECvcH\\u002fPq8W1127XoyiiN5oXThi44eCluBA5ZdMvwm\\u002fr8SvJkf4oguzLuvbA8J68gRDMBxPNw0TzAHDCnEeaswnTOcJyFci2rgMn6UbjqFcQudgeBf\\u002fLYYULdRezwcwW2ULi1nW4jTOMnp++6vKKxBEdWtpGnen4r5lvTFj2cPhzW5b\\u002f0dri1Bn1+onr1HrmOv3M5tjfGK2q3XE7E1RFIWY8DswSbNIXzw6Gokq1rrxOpVTrHkiPb2xp9XQVHzh33UvWPvCSFOF\\u002f4XpFYpjv1mNXmrWGW5VdONauwFDeAEzyPNdjI89jGyac1a1mUzdMewV7Y\\u002fB\\u002fOXQncZ\\u002fSeVC\\u002fx4QmBn156j9XTxRuXbEr92g+c7ROUd647p3NWz\\u002f5Y86rD8x9fbrjkcReP3FWyLjQTqDW3wwDY60b529y5pY8ek0XXU7OF9stnpuVjiLI09OHAkBypD902iENQWDl0hkAMG9cF+HHTkCQluuE+TxhOkdYcoDosjuMzZ\\u002ftsO5Z+CIevb7S7H9OC4ru3gBHQFTvN9edIXlMQvKYhLoyxcG1x4+sP6WsbaZVeq1h\\u002fb+2nf793LLdb\\u002fiEejMydaDXT5wVWU6HX\\u002f+9YbaVnD9l5pJezrfLepfOw2WdJXcJidcQpkzClEmYz\\u002fXASTG577DacPGQ0ndPXGrU8Fldj\\u002fLcO\\u002fiGyR\\u002f\\u002faMGjH8zLOZq\\u002f54fDF\\u002fbn0BPZygsr35jwwarLK+w9D71+4lJ3CYK0T6rv8kvn7wEzeM35aYlMSwfhb\\u002f+bkIQljzAeI4zHSGvXERudsO00e+0L5X8d5viLoqvuz3sTFENTJiUv2\\u002f3GzwVfDZ4ygJbXlip+\\u002f2IPw7ADvX7iKIYy18Zxcubz\\u002fzq+YW1d1ABAzUlkKO1SWdQe3t0rAzL3ADhhPmfV\\u002fNvckGZpmom3ruqmt0JQbn+Oy7s8b9th+vcdVhsJw2PpND335c9HUW0jSqC7BMX6f7TvrclPjqUlJ7favvzQNyfOnMKWf6aL0fq\\u002fB\\u002f6RvsxI0eKcsnadfZhm8cN6IeTlL4M0E6aTVvUbZsVgi3IhrtvgOGC9Mwg3iePyNs\\u002f7DNdzByZ+HMF82BYA8LdxWPSWFgDQra2kafqPaQ\\u002fhu3z4quPlX+6GgvMlR7ZduJFTXnqteu\\u002f6rOuXbxfnVx3fcammrLG4oGrTV4fKi9qmd9wlTy5vn8NRV6qw92fpixPvxxi+zNpxvi++Cu\\u002f+ivc6zBlXmTvOMzS2aW3WXT3RHrV71wvv\\u002fRWQesJ40NKy1KQYZFE9get\\u002fJ4n2XlRnQLiJHJc3ed5neJ5\\u002fYOInEaw9zsMmfxOHJWYsb+BgPTYHDBibSPcfmwzmX5f93lHfazTWtiQMCY8dGHJ6zxWxVHArvxJBEa1aLxDzwmL9w+L8Q6LZ3dg9Q+ImpgclmfsPseiLEx89L40emjQZzGve2NhR3wvc\\u002fRXvdR54diKdPrH5TGNVezCaTXas3EdH0gXHBfRspcC\\u002fBkKNG3ZampeYFIMszc8Rhr1Adu+dhHATONLXed6neZ67MfHTzk\\u002fi+Zs4LL\\u002fw9gbk+f05DI2zICgy\\u002f62Z9M9d3x48sKZ9apgDjDqT852sFEIxDwDC4vwNOlPcwFDcSrjKJIUXSjEOqmrQVJUq2BkYqBs1XYYvU1w+fJVueshDvO3NPe6LE3f3lTGnTB5ce2LrJ7va1b3B3V\\u002fxXic+LYaeyWDUmb54chU9Tb0zNy8U\\u002f8ZYJmj2K9PsvVHuHUiiCddvtqgWmxQp1pZXCePRbi0sA22B76\\u002fxvE\\u002fxPPdgkme6tbAMxd\\u002fEYSWPiqfTRzecztp5gaF0lvGPjEydNoj++dWSnz552O5atOombebv5z57\\u002fPuHfJ8sulTCVttnzMxBMi8XABg1fcDkBUOjkoKik4NGTOs\\u002f8oEBAPDYG1MDw9u7bztzfNOZBcHP\\u002fvzWpmvZRQ4+hS4fvvrZ46von8NnOZqD1hcn\\u002fugH85gLtK99e9M7U5ffvFDMMGlHWdt8ckvWsrlfHtuYydbZoVeueK\\u002fzz5+fFYjbojpyjua\\u002fnfExvVYfk+Obzrw56UOz0UL97D82ceKjozua3EOQeA2uW2dRPmRWpFrV7xKmMwB2HbFNEG4sR\\u002foqz+skz3MvJnkWwYLYFk7TRVgDSZB6rUGn1lMbHNDy6lu1Mrmr2FUkdhU5jkv8cxizcPjadzZTQdsETvxn9ucDxvVLHhXv4umCW3G9xtDSqFbWqox687Ldb7Az3wFBkLc2vvjS8HfpFQiObzpzfNMZn1Dv8OQQF3cJgqIGraG5QV1dVNsrnyHMTzYqYa8dxERV17zt013bPt0lcRNH9A8NSQj08HWnohb0Gn1NaX1B5nV6nRMAcPdxm\\u002fPPB9rzd6IvTlwmd33\\u002f91dfG\\u002ftv+ra5eCD34oFcN2\\u002fXqEHhbl4uPCHP0GpU1qpqbtXRU3n6Oz3xsFeuOE1v3eeB0X6vrHl2+aKVVFjJleMFj8cuTRoVHzcs2s3TxWy0KCobLx68wlyJ3yvA482NLzpz3f9kSGspYTyMGw+RlkK2zjkQTvSdZZF7bXqWDYe1\\u002fYu9h9ef0ql1OrXeoDXaXPDoiyd\\u002foNMcHoe6omIX0Qe737j7laR7gEgqfOmHpz+c9xUtyT2Wn3ssn2ECACCTu7IkLEQuwq\\u002fPfPjp4m+zd1+ihfW3G+pvNzCs7hVaW3RXTxZePenofnL1cvlg9xtdbtDSFyceNzTqq8xl\\u002f571GbM3p6VBffFALsOqh9z9Fe+j+3z0vDQen\\u002fvxwq8px2e14DlH83OOsitGEZoY9NH+t7tciObPhLQU4sbDhPEwabXbfHYMwonEhBmoYOpdLt9uExsOq668obyw7U3rDFazVd2oUTdqwNbMsj+NkQ8NI0n4+pmf7HWsOInIRfjvna8d25i5+eMdzHaKTURS4ciHhoYk9LyJ210iB4YFRPl2WTEAQBBk1Ly0pz5d1OUUf4q+OPGoQeE\\u002f5n629dNd+3480uViEhI3sXd3YpHu8or33X2eNmPwqssrfnp1\\u002faVDV9m6O\\u002fBF\\u002fFkvZ8x7Y4aDHX3+RAjCfIUwHiSMR0i8mq10DoQT2bYRNCeCres9bDis\\u002f11GzR2WMin5yPpTucfyS\\u002fPKNcpWq9kqdhVJZGKfEO+wpODYwZHsPLZAEGT8IyPHLhx+5XhB7vH8gjM3lbUqdZMWt1gFYoGLpzQgyi80MSh5VHziiLg+muFlj8ThseturCy6WJJ36tqt3LL62w1N1UqjzmQymBEUEUmFbt4uIQlBcalRI+YMddJV0fTFibt4SJ9e8fCCt2Ze2J+Tl3n91uVSdaNGo9TiVoIv4rl5ufiEysOSgpNGxA0Yn9Td9dR764r3OsFxAR8feKfoUsnZXRevHC9oqlG1NGoEIr6bt0twXGDKpP5pD6a4edtt\\u002ff1Z4ITpHGE8TBiPkEQjW+kcCCcCFUzBhFN6fQtCm9jdl\\u002fA+97mP8zx\\u002fcs\\u002fiuAEpchsLiq29dnl7ceGUkOgXkofSwqOVJcUtTf\\u002fo52giVGeb83WVqb5dtGq7hjQRpsw729Or2VrnQDhhd9pT0WxdX\\u002fK3amHd5z73IE\\u002fED+JjnGajgSkcHxQxPqiLT6fONp\\u002fnZm3PWMCU9ACTYiCQPfmIBgCEE4IKpvTpZvSO6dphldyojYjtEH5qMVubla3evm5M4d1jMVsvZd0KjfTxDbTdnemAzpXsLar0ypcvr98+4hW24n+Egpaq74oO\\u002fTTkKbbi\\u002fzff5Z3Pqi0nSTLIxe2z9MmXFNVrCi\\u002fxUKxapxnuF\\u002fLPAekAsLkob0\\u002fZDYIkh\\u002fgE2pN8feXsqZrbviJpk0HHOoQDNtzI\\u002fb24MM0v+M1BIwHgw4snjVbr5YaaScGRB8qL\\u002fp06dphvMMumqLnp+\\u002fzzBU31jx3dAQBrx83s+ZoK3fdWCBaECik\\u002f1R5N8pfQNprugN2bzrEkJqOlual7ga3OwOFgGIaeP2VjOtuZI4UEYTfmCGxV8j5d8uKF3841lFHpsw2lL120EeOep6peeuE3thTgRF3RmltZbCmDDSXnZ5z46YeiTLbi3mBHSeF7g0dvmzL\\u002f07RJlKRc0\\u002fzNqGk7Mxaeqi4rVSsrtC27S69vmTzvtynzcxpq8prqOkvK1KrjVaU7MxZ+N\\u002fqBJmM3vMAjsQMejx\\u002fIlKT7Bc+JTCAB3h8yNrOmvLNNtMzzy+FTPISiX8bP+mX8rJ57q+6AYIGYZAnPcw\\u002fP+xRH+jrLW11UdZh+dFtXyvzpJEpTU5cSYBzLbgtL06LfuOq4p7cLAGjVhr1bz+u0xtikoNRRMbt+zfYP8YxODACAPVvOj3+gv1DM3\\u002fbz6WnzUretPW214GOnJXv5uNFZ0se3nyezqPTx8fpWE50lLNrXU+5aW6kCgBaVbuf6LK3GMH3BUIvFumN9Vk1FU+LA0NAoH6Y9s5JMGo2aFdf3VOtVFsL6YGDKotDhALDi+p4oqe+RuvwWs268b7\\u002fHwketKTl+rK6Qg6IuXOHy5PluPDEAnFZc\\u002f7nkBE6SVhL\\u002fT785Eq6AAPI\\u002f+dtLtPU4SS5LeihcajewM7vx1o\\u002fFR60EESLxeiv+QSlXYLMmLOFIeRzdiLvaXL66+PiqwU+ArQrbFBa0VH1bdMhgNUm5wrcTZgSI3AHglOL690WHpVxhvKuNXhWKKQEJpxXFQ73DACCzvniyfzdenmN8o8f4Ouq8eCQilYdxms3deIz\\u002fTNaMnfFTwcXKVvWShJQxgeEAEObqTnmBaJlnhaaFIMlyTfPCQ9soe53F3KjXsSRKgz5G5kXlipJ5thXdI9yFohazkY9x+BhmwrsXltnrIFhAW\\u002f8Ut32eKZPS1uJqQ5XGor6lvdloavAV+LnzPCp05aHi8KstucluA64053jwPUtbiwNFwQSJUzZhkrbP2wrd7VpjbZg43EgYTzYcGy+fhCFYkfZGoCgYQzBKgpM4lR0BoI5F5bXrsI7tuTJ++gD\\u002fYI9vPthttVirbze+\\u002fslDlGrk5H7ZJ65T6dBIeebhgvBYP4GQd2RXjqe3i2+g+9Y1p599M4OZhYZVFDPL25\\u002fPo83c3MVT5w0pzK04d+L6\\u002fCWjgyPkcx4fgWHorl+zmfbMStJ5AeCDgh3p3jGfDVgEAEa8PQ7wcF3eVwMXCzCulcQBYGbg4CcjxiCAfF90+EDt1QUhaQCwvuz02wkzYl39jbiFg6J1hpYqnfL9xFnJspDtlec33s78d785dIFMVObW5dd2\\u002fXfosx586Zbys98UHXwnYYbNmrCEjSYNsxwmrAp3FpoJ64pru1cNflLKFRyrL\\u002fjs+p6Vgx414OblhbvWDX3GX+T+xfV9jPI6MMonam1x2yoOl5WVL8ePA4DfynMOVBfiJJniGfxi7GgAUJp0L138vdGo9RW6fpYyCwHYXHbpj8qrqV6h\\u002f4wfR2W\\u002f2FT+7Y1THATVW82\\u002fpD8i4tgYQOxccmd+KMrMbigDgNE+UY9HDstTVa++lYUhqNLU6idyWzFoJuJcOV0S7OL22fDJLSbj2J1rc+Y\\u002fBwDFLUqcJBGAm81N\\u002f+iXiqGon8Rl48SHMASxEgSKIFWtapakTK262dxIbXBXpnYqntYezrSXUAQxWq2s5UB7EQTzRwWTMWEGwk1i6zpS3Hprkk\\u002fGofr9KrMqUhrtzZcDgJW0AoCVsJbpSnESv6y64CcMqNDdFnMktA0FgiB6q46PCbz4XgHCQH9hQLnutivXrVhbNF4+kZLsrP6Nym4hLdSxqLx2HZbJYBaJ+UIRD0MRAPC0E4CXMDDk6O4rtZWqWY+m79t2wdvXjcfnzn1yJNjPwpTrdSZmFpoT+66qmrSBoV44TgAAfYFY9qxKUuAkkau6\\u002ffWgxdRPAdY+Uj5SHkf95CAYAGQ33jpYe1XE4dfoVSO82zoRZwelvpO3dbJf8ozAwZ58KQB4CVySZSEAECH1OVnf5qk7U9hSFevi78GXAsAkv+SFZ7+1WRObQnuwKtxZeENTU6lrWnJhDaXyFEgBoLy1US509Re5A0C6d8wtre2gKgHGCRa7V+maSSDDpJ4CjFOpa95XVbB++KMIwGNZGwqaawGgzqBel\\u002f4ID8UWZf5SqmmMcPFaEJYi4fKLNW0xpThJvpWza\\u002fOIJ+RCu+GpnUtOlLH7HHOVVVeUVRuGPwoAS7I3DfIMBoCb6vqD41+gj87DOF2W0yUESc49sJWHYSRJLo7tTwnd+IIXTu2pbdWMDggLc3UHgIXRyQsObcMQhCDJX8bPCpa6sSQRbh4j\\u002fENm7vs1UOoWLHVjHoJGZzG\\u002fnX2kqLnJQuDFauUbA0fIRZJXzxwsUStbzabaVs1L\\u002fdPYeQCsBMGyoRqAU8NiHti7MUDi8uOYB9l5egqC+aKCyagwA+W2\\u002fSm6RMpxOafMshBmABCgAgCoN9ZV6Ssr9eVJbv1Xlaz8R8RSAggDrg+XRNYb6ygbGpwkJBxpsfZminuqxqKuN9aVtN4SYSIUQVEEoyQBoiAqe42hmj4WOHBYaeMTNv94IiDUixVuU1upPLwzp7xEERrpM3hENIIgfkHuzU2tLm6icdP6\\u002f\\u002frDCd8AWWS8v7unhJnLHsws1eXcY3tyaytVQWFeGAerrVQZDRZq8kpknP\\u002faLw+lj09g2gP42qwkCSTYeWUJ0HbvUKlr+qn42G\\u002fDXxJx+D+XnLAQbU2YKf79071j9lbnPH7ux4+S57rxxCKMXbhNEMYxKTObNeksZGY0WDtEJDIrbFNIAukrkm1Of4Gh71BJjsNN2CYHJGQqigmSpL4HS7WNlTrV41kbKK3OahJi3FhXXx6KAYAHX6yztq1NyqTRqHXjiRx4K7BVckc9AECptjHBzY\\u002f6W8S7+RapFVEu3qyjV+mbuyynS1AE2Tl1IUvoK5J+N7rDBKbZkQmzIxMcS14bOOK1Dp1RbMRc3sqRU1nCr0dmMH++O3g0ANAhEVSCZUPxQWpbk\\u002fbuQTAfVDAZFWSgvP6dbtIuSPMcTgLJvG99BL6PhbYN7CyNehUABrunEiSBImiIOJQ2owgVhwWLglEEA4AZAXMQQHwEvnSBtITOzjyWXYcVFOb16sezEQShJpE\\u002f\\u002fvJESu4X5PHkP9v6KSnmPTWKSnj7ub2ybKbVinM4GDCyMJF5SplyVpYlr7dfpLSxcfTuexkPDbaYrVweBwCY9qxKUnAQrJ8saFf15ZmBgwFAbzWJOHxaS6O1GqVcoYjDNxPWMw03Uz3bIgwbTRovvsvC0HSlSZvXXDlS7uzwbT9Z0OfX9zaZtJ586eHavCEeETZr0lnozhMrTa0ai8GFKzylsNuCs0m4RK61GK+obvd3DyWBbDbp3PmSEIl3vaGlztDsK5Sdbyph52EwXB7x\\u002fpW9OEnMCx0EAOFSL1+h689pD9NfPQXNNVhXHyCefEmzWd9kbPUUSACAtHX7dy6ZbQEQ5eJ9pPY65WsLmmtH+kQBAOvozpRzH8dg4sWoIAPlDbR1oZyF6a3sgSJ2X5aUtwJGOZ0TdHbmsew6LABAHb6c7UG5km5hMwvtrSgob0XBtLdZyfcTZ6+4tnt7xXkCyKn+A6iubhZxrv4RUvkj2d9LOILBnm3dgQCwvHBXtV7FRTFPvvSRsBFaaxcTSmhcuaJ3Eme8krMBJwl\\u002fofvbCQ+CnZp0Fj4WPuqR7O\\u002fdeZIR8tgqvZJVsgP4GPfzAYu+vLFfZzWRQM4PSXsgYKAI470ZP\\u002f2FS7\\u002fIeJI0b0dd4zwU8+CLrQTORTEACBLL5oYOejxrA4ogJJA\\u002fDrUR8oOTxNs5u0u1ja1WU51e\\u002fVzsqFCJx7L+05Ze\\u002fI2HciwEvmrofA6C\\u002fvvqvmJNg4XAy7RNL8eN7Vxy52\\u002fhJPeAFM+QR878lyTJET6Rye4Beapqlo0z5fSAFHmAzZjPvyUcl3+xRf873I90v8997vM\\u002fg43myX3uc5\\u002f73Jv8H4UwnVeDzX0qAAAAAElFTkSuQmCC\",\"type\":\"image\",\"xaxis\":\"x\",\"yaxis\":\"y\",\"hovertemplate\":\"x: %{x}\\u003cbr\\u003ey: %{y}\\u003cbr\\u003ecolor: [%{z[0]}, %{z[1]}, %{z[2]}]\\u003cextra\\u003e\\u003c\\u002fextra\\u003e\"}],                        {\"template\":{\"data\":{\"histogram2dcontour\":[{\"type\":\"histogram2dcontour\",\"colorbar\":{\"outlinewidth\":0,\"ticks\":\"\"},\"colorscale\":[[0.0,\"#0d0887\"],[0.1111111111111111,\"#46039f\"],[0.2222222222222222,\"#7201a8\"],[0.3333333333333333,\"#9c179e\"],[0.4444444444444444,\"#bd3786\"],[0.5555555555555556,\"#d8576b\"],[0.6666666666666666,\"#ed7953\"],[0.7777777777777778,\"#fb9f3a\"],[0.8888888888888888,\"#fdca26\"],[1.0,\"#f0f921\"]]}],\"choropleth\":[{\"type\":\"choropleth\",\"colorbar\":{\"outlinewidth\":0,\"ticks\":\"\"}}],\"histogram2d\":[{\"type\":\"histogram2d\",\"colorbar\":{\"outlinewidth\":0,\"ticks\":\"\"},\"colorscale\":[[0.0,\"#0d0887\"],[0.1111111111111111,\"#46039f\"],[0.2222222222222222,\"#7201a8\"],[0.3333333333333333,\"#9c179e\"],[0.4444444444444444,\"#bd3786\"],[0.5555555555555556,\"#d8576b\"],[0.6666666666666666,\"#ed7953\"],[0.7777777777777778,\"#fb9f3a\"],[0.8888888888888888,\"#fdca26\"],[1.0,\"#f0f921\"]]}],\"heatmap\":[{\"type\":\"heatmap\",\"colorbar\":{\"outlinewidth\":0,\"ticks\":\"\"},\"colorscale\":[[0.0,\"#0d0887\"],[0.1111111111111111,\"#46039f\"],[0.2222222222222222,\"#7201a8\"],[0.3333333333333333,\"#9c179e\"],[0.4444444444444444,\"#bd3786\"],[0.5555555555555556,\"#d8576b\"],[0.6666666666666666,\"#ed7953\"],[0.7777777777777778,\"#fb9f3a\"],[0.8888888888888888,\"#fdca26\"],[1.0,\"#f0f921\"]]}],\"heatmapgl\":[{\"type\":\"heatmapgl\",\"colorbar\":{\"outlinewidth\":0,\"ticks\":\"\"},\"colorscale\":[[0.0,\"#0d0887\"],[0.1111111111111111,\"#46039f\"],[0.2222222222222222,\"#7201a8\"],[0.3333333333333333,\"#9c179e\"],[0.4444444444444444,\"#bd3786\"],[0.5555555555555556,\"#d8576b\"],[0.6666666666666666,\"#ed7953\"],[0.7777777777777778,\"#fb9f3a\"],[0.8888888888888888,\"#fdca26\"],[1.0,\"#f0f921\"]]}],\"contourcarpet\":[{\"type\":\"contourcarpet\",\"colorbar\":{\"outlinewidth\":0,\"ticks\":\"\"}}],\"contour\":[{\"type\":\"contour\",\"colorbar\":{\"outlinewidth\":0,\"ticks\":\"\"},\"colorscale\":[[0.0,\"#0d0887\"],[0.1111111111111111,\"#46039f\"],[0.2222222222222222,\"#7201a8\"],[0.3333333333333333,\"#9c179e\"],[0.4444444444444444,\"#bd3786\"],[0.5555555555555556,\"#d8576b\"],[0.6666666666666666,\"#ed7953\"],[0.7777777777777778,\"#fb9f3a\"],[0.8888888888888888,\"#fdca26\"],[1.0,\"#f0f921\"]]}],\"surface\":[{\"type\":\"surface\",\"colorbar\":{\"outlinewidth\":0,\"ticks\":\"\"},\"colorscale\":[[0.0,\"#0d0887\"],[0.1111111111111111,\"#46039f\"],[0.2222222222222222,\"#7201a8\"],[0.3333333333333333,\"#9c179e\"],[0.4444444444444444,\"#bd3786\"],[0.5555555555555556,\"#d8576b\"],[0.6666666666666666,\"#ed7953\"],[0.7777777777777778,\"#fb9f3a\"],[0.8888888888888888,\"#fdca26\"],[1.0,\"#f0f921\"]]}],\"mesh3d\":[{\"type\":\"mesh3d\",\"colorbar\":{\"outlinewidth\":0,\"ticks\":\"\"}}],\"scatter\":[{\"fillpattern\":{\"fillmode\":\"overlay\",\"size\":10,\"solidity\":0.2},\"type\":\"scatter\"}],\"parcoords\":[{\"type\":\"parcoords\",\"line\":{\"colorbar\":{\"outlinewidth\":0,\"ticks\":\"\"}}}],\"scatterpolargl\":[{\"type\":\"scatterpolargl\",\"marker\":{\"colorbar\":{\"outlinewidth\":0,\"ticks\":\"\"}}}],\"bar\":[{\"error_x\":{\"color\":\"#2a3f5f\"},\"error_y\":{\"color\":\"#2a3f5f\"},\"marker\":{\"line\":{\"color\":\"#E5ECF6\",\"width\":0.5},\"pattern\":{\"fillmode\":\"overlay\",\"size\":10,\"solidity\":0.2}},\"type\":\"bar\"}],\"scattergeo\":[{\"type\":\"scattergeo\",\"marker\":{\"colorbar\":{\"outlinewidth\":0,\"ticks\":\"\"}}}],\"scatterpolar\":[{\"type\":\"scatterpolar\",\"marker\":{\"colorbar\":{\"outlinewidth\":0,\"ticks\":\"\"}}}],\"histogram\":[{\"marker\":{\"pattern\":{\"fillmode\":\"overlay\",\"size\":10,\"solidity\":0.2}},\"type\":\"histogram\"}],\"scattergl\":[{\"type\":\"scattergl\",\"marker\":{\"colorbar\":{\"outlinewidth\":0,\"ticks\":\"\"}}}],\"scatter3d\":[{\"type\":\"scatter3d\",\"line\":{\"colorbar\":{\"outlinewidth\":0,\"ticks\":\"\"}},\"marker\":{\"colorbar\":{\"outlinewidth\":0,\"ticks\":\"\"}}}],\"scattermapbox\":[{\"type\":\"scattermapbox\",\"marker\":{\"colorbar\":{\"outlinewidth\":0,\"ticks\":\"\"}}}],\"scatterternary\":[{\"type\":\"scatterternary\",\"marker\":{\"colorbar\":{\"outlinewidth\":0,\"ticks\":\"\"}}}],\"scattercarpet\":[{\"type\":\"scattercarpet\",\"marker\":{\"colorbar\":{\"outlinewidth\":0,\"ticks\":\"\"}}}],\"carpet\":[{\"aaxis\":{\"endlinecolor\":\"#2a3f5f\",\"gridcolor\":\"white\",\"linecolor\":\"white\",\"minorgridcolor\":\"white\",\"startlinecolor\":\"#2a3f5f\"},\"baxis\":{\"endlinecolor\":\"#2a3f5f\",\"gridcolor\":\"white\",\"linecolor\":\"white\",\"minorgridcolor\":\"white\",\"startlinecolor\":\"#2a3f5f\"},\"type\":\"carpet\"}],\"table\":[{\"cells\":{\"fill\":{\"color\":\"#EBF0F8\"},\"line\":{\"color\":\"white\"}},\"header\":{\"fill\":{\"color\":\"#C8D4E3\"},\"line\":{\"color\":\"white\"}},\"type\":\"table\"}],\"barpolar\":[{\"marker\":{\"line\":{\"color\":\"#E5ECF6\",\"width\":0.5},\"pattern\":{\"fillmode\":\"overlay\",\"size\":10,\"solidity\":0.2}},\"type\":\"barpolar\"}],\"pie\":[{\"automargin\":true,\"type\":\"pie\"}]},\"layout\":{\"autotypenumbers\":\"strict\",\"colorway\":[\"#636efa\",\"#EF553B\",\"#00cc96\",\"#ab63fa\",\"#FFA15A\",\"#19d3f3\",\"#FF6692\",\"#B6E880\",\"#FF97FF\",\"#FECB52\"],\"font\":{\"color\":\"#2a3f5f\"},\"hovermode\":\"closest\",\"hoverlabel\":{\"align\":\"left\"},\"paper_bgcolor\":\"white\",\"plot_bgcolor\":\"#E5ECF6\",\"polar\":{\"bgcolor\":\"#E5ECF6\",\"angularaxis\":{\"gridcolor\":\"white\",\"linecolor\":\"white\",\"ticks\":\"\"},\"radialaxis\":{\"gridcolor\":\"white\",\"linecolor\":\"white\",\"ticks\":\"\"}},\"ternary\":{\"bgcolor\":\"#E5ECF6\",\"aaxis\":{\"gridcolor\":\"white\",\"linecolor\":\"white\",\"ticks\":\"\"},\"baxis\":{\"gridcolor\":\"white\",\"linecolor\":\"white\",\"ticks\":\"\"},\"caxis\":{\"gridcolor\":\"white\",\"linecolor\":\"white\",\"ticks\":\"\"}},\"coloraxis\":{\"colorbar\":{\"outlinewidth\":0,\"ticks\":\"\"}},\"colorscale\":{\"sequential\":[[0.0,\"#0d0887\"],[0.1111111111111111,\"#46039f\"],[0.2222222222222222,\"#7201a8\"],[0.3333333333333333,\"#9c179e\"],[0.4444444444444444,\"#bd3786\"],[0.5555555555555556,\"#d8576b\"],[0.6666666666666666,\"#ed7953\"],[0.7777777777777778,\"#fb9f3a\"],[0.8888888888888888,\"#fdca26\"],[1.0,\"#f0f921\"]],\"sequentialminus\":[[0.0,\"#0d0887\"],[0.1111111111111111,\"#46039f\"],[0.2222222222222222,\"#7201a8\"],[0.3333333333333333,\"#9c179e\"],[0.4444444444444444,\"#bd3786\"],[0.5555555555555556,\"#d8576b\"],[0.6666666666666666,\"#ed7953\"],[0.7777777777777778,\"#fb9f3a\"],[0.8888888888888888,\"#fdca26\"],[1.0,\"#f0f921\"]],\"diverging\":[[0,\"#8e0152\"],[0.1,\"#c51b7d\"],[0.2,\"#de77ae\"],[0.3,\"#f1b6da\"],[0.4,\"#fde0ef\"],[0.5,\"#f7f7f7\"],[0.6,\"#e6f5d0\"],[0.7,\"#b8e186\"],[0.8,\"#7fbc41\"],[0.9,\"#4d9221\"],[1,\"#276419\"]]},\"xaxis\":{\"gridcolor\":\"white\",\"linecolor\":\"white\",\"ticks\":\"\",\"title\":{\"standoff\":15},\"zerolinecolor\":\"white\",\"automargin\":true,\"zerolinewidth\":2},\"yaxis\":{\"gridcolor\":\"white\",\"linecolor\":\"white\",\"ticks\":\"\",\"title\":{\"standoff\":15},\"zerolinecolor\":\"white\",\"automargin\":true,\"zerolinewidth\":2},\"scene\":{\"xaxis\":{\"backgroundcolor\":\"#E5ECF6\",\"gridcolor\":\"white\",\"linecolor\":\"white\",\"showbackground\":true,\"ticks\":\"\",\"zerolinecolor\":\"white\",\"gridwidth\":2},\"yaxis\":{\"backgroundcolor\":\"#E5ECF6\",\"gridcolor\":\"white\",\"linecolor\":\"white\",\"showbackground\":true,\"ticks\":\"\",\"zerolinecolor\":\"white\",\"gridwidth\":2},\"zaxis\":{\"backgroundcolor\":\"#E5ECF6\",\"gridcolor\":\"white\",\"linecolor\":\"white\",\"showbackground\":true,\"ticks\":\"\",\"zerolinecolor\":\"white\",\"gridwidth\":2}},\"shapedefaults\":{\"line\":{\"color\":\"#2a3f5f\"}},\"annotationdefaults\":{\"arrowcolor\":\"#2a3f5f\",\"arrowhead\":0,\"arrowwidth\":1},\"geo\":{\"bgcolor\":\"white\",\"landcolor\":\"#E5ECF6\",\"subunitcolor\":\"white\",\"showland\":true,\"showlakes\":true,\"lakecolor\":\"white\"},\"title\":{\"x\":0.05},\"mapbox\":{\"style\":\"light\"}}},\"xaxis\":{\"anchor\":\"y\",\"domain\":[0.0,1.0],\"showticklabels\":false},\"yaxis\":{\"anchor\":\"x\",\"domain\":[0.0,1.0],\"showticklabels\":false},\"margin\":{\"t\":60},\"width\":640},                        {\"toImageButtonOptions\": {\"format\": \"svg\", \"filename\": \"word_cloud\"}, \"responsive\": true}                    ).then(function(){\n",
              "                            \n",
              "var gd = document.getElementById('3242f25f-752e-4b21-983d-a31cbaeda77f');\n",
              "var x = new MutationObserver(function (mutations, observer) {{\n",
              "        var display = window.getComputedStyle(gd).display;\n",
              "        if (!display || display === 'none') {{\n",
              "            console.log([gd, 'removed!']);\n",
              "            Plotly.purge(gd);\n",
              "            observer.disconnect();\n",
              "        }}\n",
              "}});\n",
              "\n",
              "// Listen for the removal of the full notebook cells\n",
              "var notebookContainer = gd.closest('#notebook-container');\n",
              "if (notebookContainer) {{\n",
              "    x.observe(notebookContainer, {childList: true});\n",
              "}}\n",
              "\n",
              "// Listen for the clearing of the current output cell\n",
              "var outputEl = gd.closest('.output');\n",
              "if (outputEl) {{\n",
              "    x.observe(outputEl, {childList: true});\n",
              "}}\n",
              "\n",
              "                        })                };                            </script>        </div>\n",
              "</body>\n",
              "</html>"
            ]
          },
          "metadata": {}
        }
      ]
    },
    {
      "cell_type": "markdown",
      "metadata": {
        "id": "7I4oINQQEVHB"
      },
      "source": [
        "<a id='chat_gpt'></a>\n",
        "<a name='chat_gpt'></a>\n",
        "## 2.&nbsp;Extract Features Using ChatGPT\n",
        "\n",
        "Imagine the following situation: We are building a model to predict the severity of accidents based on features available in tabular form. We believe that knowing the number of vehicles involved in the and whether someone was injured would help improve the model. However, all we have available are accident reports containing the information in unstructured free text form.\n",
        "\n",
        "If we have sufficient data with labels, we can use supervised techniques such as examined in Part I of this tutorial.\n",
        "\n",
        "In this Part III, we learn an unsupervised approach that does not require labels.\n",
        "\n",
        "More precisely, we will use ChatGPT to extract the following information from the car accident reports:\n",
        "* Was someone injured or killed?\n",
        "* How many vehicles were involved?\n",
        "\n",
        "Let's get started."
      ]
    },
    {
      "cell_type": "markdown",
      "metadata": {
        "id": "Djm3pEdfEVHC"
      },
      "source": [
        "<a id='chat-gtp-api'></a>\n",
        "<a name='chat-gtp-api'></a>\n",
        "###  2.1 First Steps With the ChatGPT API\n",
        "\n",
        "\n",
        "The idea is very simple: We specify a number of questions and ask ChatGPT to provide answers based on a given accident report.\n",
        "\n",
        "The prompt might look as follows:\n",
        "\n",
        "```\n",
        "Read the following text, and answer the following:\n",
        "1. Was someone injured?\n",
        "2. Was someone killed?\n",
        "3. How many vehicles were involved?\n",
        "4. Summarize your last answer by a number.\n",
        "Text:\n",
        "V1, a 2000 Pontiac Montana minivan, made a left turn [...]\n",
        "```\n",
        "\n",
        "The response might look like:\n",
        "\n",
        "```\n",
        "1. Yes, the driver of V2 sustained minor injuries.\n",
        "2. No, no one was killed.\n",
        "3. Two vehicles were involved.\n",
        "4. 2\n",
        "```\n",
        "\n",
        "So all we have to do is to extract the desired features from this response!\n",
        "\n",
        "We begin by writing a short function to call the OpenAI API.\n"
      ]
    },
    {
      "cell_type": "code",
      "source": [
        "@retry((openai.error.APIError, openai.error.ServiceUnavailableError), tries=10, delay=15)\n",
        "def call_openai(content):\n",
        "    return openai.ChatCompletion.create(\n",
        "        model=\"gpt-3.5-turbo\",\n",
        "        messages=[{\"role\": \"user\", \"content\": content}],\n",
        "        temperature=0.2,\n",
        "        max_tokens=256,\n",
        "        top_p=1,\n",
        "        frequency_penalty=0,\n",
        "        presence_penalty=0\n",
        "    )"
      ],
      "metadata": {
        "id": "uxKexE7OueWd"
      },
      "execution_count": null,
      "outputs": []
    },
    {
      "cell_type": "markdown",
      "source": [
        "Note that we have used the `retry` decorator to retry 10 times with a waiting time of 15 seconds to handle some of the most common exceptions (you are invited to develop more sophisticated ways to deal with such issues).\n",
        "\n",
        "The parameters have the following effects:\n",
        "* `model`: Specifies the ChatGPT model version.\n",
        "* `messages`: Specifies the content of the user prompt.\n",
        "* `temperature`: Values in the interval $[0, 1]$. Controls the randomness of the text generated. A higher temperature results in more diverse and creative output, while a lower temperature makes the output more deterministic and focused. For our purpose, we require fact-based answers and therefore go for low values of temperature.\n",
        "* `top_p`: Instead of considering all possible tokens, GPT-3 considers only a subset of tokens (the \"nucleus\") whose cumulative probability mass adds up to this threshold. With `top_p`=1, we allow all possible tokens.\n",
        "* `frequency_penalty`: Penalizes repetition of words in the response. For our purpose, we don't mind word repetitions and therefore set this parameter to 0.\n",
        "* `presence_penalty`: Encourages use of a diverse vocabulary in the response. For our purpose, this aspect is not important and therefore we set this parameter to 0.\n",
        "\n",
        "You are encouraged to experiment with these parameters.\n",
        "\n",
        "Please note that the results may not be reproducible between runs and model versions.\n",
        "\n",
        "Next, we specify the location of the API authentication key:"
      ],
      "metadata": {
        "id": "RGBNLjDauh90"
      }
    },
    {
      "cell_type": "code",
      "source": [
        "openai.api_key_path = \"./openai-key-at.txt\"\n",
        "openai.api_key = os.getenv(\"OPENAI_API_KEY\")"
      ],
      "metadata": {
        "id": "g7vgKfVMzebY"
      },
      "execution_count": null,
      "outputs": []
    },
    {
      "cell_type": "markdown",
      "source": [
        "Now we are ready!\n",
        "\n",
        "We specify the following prompt ..."
      ],
      "metadata": {
        "id": "Ah1X_jCzz0Y4"
      }
    },
    {
      "cell_type": "code",
      "source": [
        "prompt = \"\"\"\n",
        "Read the following text, and answer the following:\n",
        "1. Was someone injured?\n",
        "2. Was someone killed?\n",
        "3. How many vehicles were involved?\n",
        "4. Summarize your last answer by a number.\n",
        "Text:\n",
        "\"\"\"\n",
        "prompt"
      ],
      "metadata": {
        "colab": {
          "base_uri": "https://localhost:8080/",
          "height": 35
        },
        "id": "aPQSgdAG0BTM",
        "outputId": "973a26a4-3eeb-40cf-b28c-400ff583cc82"
      },
      "execution_count": null,
      "outputs": [
        {
          "output_type": "execute_result",
          "data": {
            "text/plain": [
              "'\\nRead the following text, and answer the following:\\n1. Was someone injured?\\n2. Was someone killed?\\n3. How many vehicles were involved?\\n4. Summarize your last answer by a number.\\nText:\\n'"
            ],
            "application/vnd.google.colaboratory.intrinsic+json": {
              "type": "string"
            }
          },
          "metadata": {},
          "execution_count": 15
        }
      ]
    },
    {
      "cell_type": "markdown",
      "source": [
        "... and apply it to the first English accident report:"
      ],
      "metadata": {
        "id": "rf9pctAV2Dyr"
      }
    },
    {
      "cell_type": "code",
      "source": [
        "response = call_openai(prompt + df.iloc[0][\"SUMMARY_EN\"])\n",
        "response"
      ],
      "metadata": {
        "colab": {
          "base_uri": "https://localhost:8080/"
        },
        "id": "s0ZTa-0b0keR",
        "outputId": "f972af7c-5014-41bf-fbb5-c8fcb461d88f"
      },
      "execution_count": null,
      "outputs": [
        {
          "output_type": "execute_result",
          "data": {
            "text/plain": [
              "<OpenAIObject chat.completion id=chatcmpl-7vkj3d4NvHiu3Uy1BUIQyqVRp7FV2 at 0x7f6200275f30> JSON: {\n",
              "  \"id\": \"chatcmpl-7vkj3d4NvHiu3Uy1BUIQyqVRp7FV2\",\n",
              "  \"object\": \"chat.completion\",\n",
              "  \"created\": 1693998665,\n",
              "  \"model\": \"gpt-3.5-turbo-0613\",\n",
              "  \"choices\": [\n",
              "    {\n",
              "      \"index\": 0,\n",
              "      \"message\": {\n",
              "        \"role\": \"assistant\",\n",
              "        \"content\": \"1. Yes, the driver of V2 sustained minor injuries.\\n2. No, no one was killed.\\n3. Two vehicles were involved.\\n4. 2\"\n",
              "      },\n",
              "      \"finish_reason\": \"stop\"\n",
              "    }\n",
              "  ],\n",
              "  \"usage\": {\n",
              "    \"prompt_tokens\": 618,\n",
              "    \"completion_tokens\": 33,\n",
              "    \"total_tokens\": 651\n",
              "  }\n",
              "}"
            ]
          },
          "metadata": {},
          "execution_count": 16
        }
      ]
    },
    {
      "cell_type": "markdown",
      "source": [
        "As you can see, we received a chat completion object, from which the response is easy to unpack:"
      ],
      "metadata": {
        "id": "spUqVn8U2cCw"
      }
    },
    {
      "cell_type": "code",
      "source": [
        "print(response[\"choices\"][0][\"message\"][\"content\"])"
      ],
      "metadata": {
        "colab": {
          "base_uri": "https://localhost:8080/"
        },
        "id": "44Hmpy2W20bU",
        "outputId": "8214f583-24f4-4f92-9f60-5b7e946484ec"
      },
      "execution_count": null,
      "outputs": [
        {
          "output_type": "stream",
          "name": "stdout",
          "text": [
            "1. Yes, the driver of V2 sustained minor injuries.\n",
            "2. No, no one was killed.\n",
            "3. Two vehicles were involved.\n",
            "4. 2\n"
          ]
        }
      ]
    },
    {
      "cell_type": "markdown",
      "source": [
        "Indeed, the text says that \"[the driver of V2] sustained minor injuries and was transported to a local trauma facility\". There is no mention of a fatality, and there were two vehicles involved, namely V1 and V2:"
      ],
      "metadata": {
        "id": "JlYtHQzM26wS"
      }
    },
    {
      "cell_type": "code",
      "source": [
        "display(HTML(df.loc[0, \"SUMMARY_EN\"]))"
      ],
      "metadata": {
        "colab": {
          "base_uri": "https://localhost:8080/",
          "height": 138
        },
        "id": "GOKidim53JUS",
        "outputId": "73288c85-ae70-441c-f13c-4f2261265f22"
      },
      "execution_count": null,
      "outputs": [
        {
          "output_type": "display_data",
          "data": {
            "text/plain": [
              "<IPython.core.display.HTML object>"
            ],
            "text/html": [
              "V1, a 2000 Pontiac Montana minivan, made a left turn from a private driveway onto a northbound 5-lane two-way, dry asphalt roadway on a downhill grade.  The posted speed limit on this roadway was 80 kmph (50 MPH). V1 entered the roadway by crossing over the two southbound lanes and then entering the third northbound lane, which was a left turn-only lane at a 4-way intersection. The driver of V1 intended to travel straight through the intersection, and so he began to change lanes to the right. He did not see V2, a 1994 Pontiac Grand Am, that was traveling in the second northbound lane. The northbound roadway had curved to the right prior to the private driveway that V1 had exited. As V1 began to change lanes to the right, the front of V1 contacted the left rear of V2 before coming to final rest on the roadway.\r \r The driver of V1 was a 60-year old male who reported that he had been traveling between 2-17 kmph (1-10 mph) prior to the crash.  He had no health-related problems, and had taken no medication prior to the crash.  He was rested and traveling back home.  He was wearing his prescribed lenses that corrected a myopic (nearsighted) condition.  He did not sustain any injuries from the crash and refused treatment.\r \r The Critical Precrash Event for the driver of V1 was when he began to travel over the lane line on the right side of the travel lane. The Critical Reason for the Critical Precrash Event was inadequate surveillance (failed to look, looked but did not see). Associated factors coded to the driver of V1 include an illegal use of a left turn lane (cited by police) and an unfamiliarity with the roadway. As per the driver of V1, this was the first time he had driven on this roadway.  \r \r The driver of V2 was a 28-year old woman who reported that she had been traveling between 66-80 kmph (41-50 mph) prior to the crash.  She had no health-related problems, and had taken no medication prior to the crash.  She was rested and on her way home.  She does not wear corrective lenses.  She sustained minor injuries and was transported to a local trauma facility.\r \r The Critical Precrash Event for the driver of V2 was when the other vehicle encroached into her lane, from an adjacent lane (same direction) over the left lane line.  The Critical Reason for the Critical Precrash Event was not coded to the driver of V2 and no associated factors were coded to her."
            ]
          },
          "metadata": {}
        }
      ]
    },
    {
      "cell_type": "markdown",
      "source": [
        "We can use the same English prompt and apply it to the German version of the accident report. The response is in English:"
      ],
      "metadata": {
        "id": "CnI4fYcIyDrD"
      }
    },
    {
      "cell_type": "code",
      "source": [
        "text = df.iloc[0][\"SUMMARY_GE\"]\n",
        "display(HTML(text))\n",
        "response = call_openai(prompt + text)\n",
        "print(response[\"choices\"][0][\"message\"][\"content\"])"
      ],
      "metadata": {
        "colab": {
          "base_uri": "https://localhost:8080/",
          "height": 243
        },
        "id": "Fd64ys9AyAiy",
        "outputId": "9bf74be7-142b-4d0e-db8d-abb039a93c4d"
      },
      "execution_count": null,
      "outputs": [
        {
          "output_type": "display_data",
          "data": {
            "text/plain": [
              "<IPython.core.display.HTML object>"
            ],
            "text/html": [
              "V1, ein Minivan der Marke Pontiac Montana aus dem Jahr 2000, bog von einer privaten Einfahrt nach links auf eine zweispurige, trockene Asphaltstraße mit 5 Fahrspuren in nördlicher Richtung und einem Gefälle ab.  Die zulässige Höchstgeschwindigkeit auf dieser Fahrbahn betrug 80 km/h (50 MPH). V1 fuhr auf die Fahrbahn, indem er die beiden Fahrspuren in Richtung Süden überquerte und dann auf die dritte Fahrspur in Richtung Norden einfuhr, die an einer Kreuzung mit vier Fahrspuren nur für Linksabbieger vorgesehen war. Der Fahrer von V1 beabsichtigte, geradeaus über die Kreuzung zu fahren, und begann daher, die Spur nach rechts zu wechseln. Dabei übersah er V2, einen Pontiac Grand Am von 1994, der auf der zweiten Fahrspur in Richtung Norden unterwegs war. Die Fahrbahn in nördlicher Richtung war vor der privaten Einfahrt, aus der V1 herausgefahren war, nach rechts gebogen. Als V1 begann, die Spur nach rechts zu wechseln, berührte die Front von V1 das linke Heck von V2, bevor er auf der Fahrbahn zum Stehen kam. Der Fahrer von V1 war ein 60-jähriger Mann, der angab, vor dem Unfall mit einer Geschwindigkeit von 2 bis 17 km/h unterwegs gewesen zu sein.  Er hatte keine gesundheitlichen Probleme und hatte vor dem Unfall keine Medikamente eingenommen.  Er war ausgeruht und auf dem Weg nach Hause.  Er trug die ihm verschriebenen Kontaktlinsen, die eine Kurzsichtigkeit korrigieren.  Er zog sich bei dem Unfall keine Verletzungen zu und lehnte eine Behandlung ab. Das kritische Ereignis vor dem Unfall war für den Fahrer von V1, als er begann, die Fahrspurlinie auf der rechten Seite der Fahrbahn zu überfahren. Der kritische Grund für das kritische Ereignis vor dem Unfall war unzureichende Überwachung (nicht hingesehen, hingesehen, aber nicht gesehen). Zu den assoziierten Faktoren, die dem Fahrer von V1 zugeschrieben werden, gehören das illegale Benutzen einer Linksabbiegerspur (von der Polizei verwarnt) und die Unkenntnis der Fahrbahn. Für den Fahrer von V1 war es das erste Mal, dass er diese Fahrbahn befuhr.  \r \r Bei der Fahrerin von V2 handelte es sich um eine 28-jährige Frau, die angab, vor dem Unfall mit einer Geschwindigkeit von 66-80 km/h unterwegs gewesen zu sein.  Sie hatte keine gesundheitlichen Probleme und hatte vor dem Unfall keine Medikamente eingenommen.  Sie war ausgeruht und befand sich auf dem Heimweg.  Sie trägt keine Korrekturgläser.  Sie erlitt leichte Verletzungen und wurde in eine örtliche Unfallklinik gebracht. Das kritische Ereignis vor dem Unfall war für die Fahrerin von V2, als das andere Fahrzeug von einer benachbarten Fahrspur (gleiche Richtung) über die linke Fahrspurlinie in ihre Spur eindrang.  Der kritische Grund für das kritische Vorunfallereignis wurde der Fahrerin von V2 nicht zugeordnet, und es wurden ihr keine zugehörigen Faktoren zugeordnet."
            ]
          },
          "metadata": {}
        },
        {
          "output_type": "stream",
          "name": "stdout",
          "text": [
            "1. Yes, the driver of V2 (Pontiac Grand Am) suffered minor injuries.\n",
            "2. No, no one was killed.\n",
            "3. Two vehicles were involved (V1 and V2).\n",
            "4. 2\n"
          ]
        }
      ]
    },
    {
      "cell_type": "markdown",
      "source": [
        "Now, we want to examine more examples. We store the results in a list."
      ],
      "metadata": {
        "id": "HOccrBgK3oeh"
      }
    },
    {
      "cell_type": "code",
      "source": [
        "# reset results\n",
        "results = []"
      ],
      "metadata": {
        "id": "RWSxiwgD05bq"
      },
      "execution_count": null,
      "outputs": []
    },
    {
      "cell_type": "markdown",
      "source": [
        "It might happen that the following code stops, for instance due to temporary unavailability of the API. In this case, you can simply resume execution after a while.\n",
        "\n",
        "Feel free to change the upper bound of the loop. In order to run a large number of samples, you may need to switch to a paid scheme."
      ],
      "metadata": {
        "id": "8M8dmb6X311g"
      }
    },
    {
      "cell_type": "code",
      "source": [
        "for i in tqdm(range(len(results), 10)):\n",
        "    text = df.iloc[i][\"SUMMARY_EN\"]\n",
        "    response = call_openai(prompt + text)\n",
        "    results.append(response[\"choices\"][0][\"message\"][\"content\"])"
      ],
      "metadata": {
        "colab": {
          "base_uri": "https://localhost:8080/"
        },
        "id": "rlRJSJK40YWa",
        "outputId": "c42ea9eb-a1a7-4602-9ae8-ddde9156355c"
      },
      "execution_count": null,
      "outputs": [
        {
          "output_type": "stream",
          "name": "stderr",
          "text": [
            "100%|██████████| 10/10 [00:42<00:00,  4.24s/it]\n"
          ]
        }
      ]
    },
    {
      "cell_type": "code",
      "source": [
        "# store the results in a DataFrame and export to a csv file\n",
        "if not os.path.exists(\"./results\"): os.makedirs(\"./results\")\n",
        "pd.DataFrame(results, columns=[\"response\"]).to_csv(f\"./results/NHTSA_responses_{i:04d}.csv\", index=False)"
      ],
      "metadata": {
        "id": "k2ohc8bm4juc"
      },
      "execution_count": null,
      "outputs": []
    },
    {
      "cell_type": "code",
      "source": [
        "results"
      ],
      "metadata": {
        "colab": {
          "base_uri": "https://localhost:8080/"
        },
        "id": "8dNQ3zns4UXY",
        "outputId": "6162da8f-d48b-4701-b423-c2df7810b611"
      },
      "execution_count": null,
      "outputs": [
        {
          "output_type": "execute_result",
          "data": {
            "text/plain": [
              "['1. Yes, the driver of V2 sustained minor injuries.\\n2. No, no one was killed.\\n3. Two vehicles were involved.\\n4. 2',\n",
              " '1. Yes, the driver of V2 was injured and bleeding.\\n2. No, no one was killed.\\n3. Two vehicles were involved.\\n4. 2',\n",
              " '1. No one was injured.\\n2. No one was killed.\\n3. Two vehicles were involved.\\n4. The number of vehicles involved is 2.',\n",
              " '1. Yes, the driver of vehicle one (V1) was injured.\\n2. No, no one was killed.\\n3. Only one vehicle (V1) was involved in the crash.\\n4. 1',\n",
              " '1. Yes, the 17-year-old male driver of Vehicle #1 was transported to a hospital and treated for a complaint of pain.\\n2. No, no one was killed in the crash.\\n3. Two vehicles were involved in the crash.\\n4. 2',\n",
              " '1. Yes, the driver of Vehicle #2 and the passenger in Vehicle #2 had minor injuries to the head/neck areas.\\n2. No, no one was killed in the crash.\\n3. Two vehicles were involved in the crash.\\n4. 2',\n",
              " '1. Yes, someone was injured. \\n2. No, no one was killed. \\n3. Two vehicles were involved. \\n4. The number of vehicles involved was two.',\n",
              " '1. Yes, someone was injured. The driver of Vehicle #1, an 82-year-old male, was transported to a local hospital for a head injury.\\n2. No, no one was killed.\\n3. Only one vehicle, Vehicle #1 (2004 Subaru Forester), was involved in the crash.\\n4. 1',\n",
              " '1. Yes, the driver of Vehicle #1 was injured.\\n2. No, no one was killed.\\n3. Two vehicles were involved.\\n4. 2',\n",
              " '1. Yes, the 19-year-old female driver of Vehicle #1 was injured and transported, treated, and released for minor bleeding to the head.\\n2. No, there is no mention of anyone being killed in the text.\\n3. Two vehicles were involved in the crash - Vehicle #1 (1987 Honda Accord) and Vehicle #2 (1994 Honda Civic).\\n4. The number of vehicles involved is 2.']"
            ]
          },
          "metadata": {},
          "execution_count": 23
        }
      ]
    },
    {
      "cell_type": "markdown",
      "source": [
        "<a id='extraction'></a>\n",
        "<a name='extraction'></a>\n",
        "###  2.2 Extracting the Features from the Reponses\n",
        "\n",
        "Next, we need to extract the desired features from the responses. We write a few of functions to achieve this.\n",
        "\n",
        "The first function, `first_matching_expression`, accepts a string, a dictionary and a default value as inputs. The dictionary is supposed to hold a mapping from expressions to values. The function searches the expression which appears first in the string and returns its corresponding value. If no expression is found, the default value is returned."
      ],
      "metadata": {
        "id": "zTSnboVA7omm"
      }
    },
    {
      "cell_type": "code",
      "source": [
        "def first_matching_expression(string, dictionary, default):\n",
        "    \"\"\" Given a string and a dict of {expression: value}, returns value corresponding to first occurring expression. \"\"\"\n",
        "    # put default at end of the string\n",
        "    positions = [(len(string), default)]\n",
        "    # append with tuple (position, value) for each (item: value) in the dictionary\n",
        "    for item, value in dictionary.items():\n",
        "        position = string.find(item)\n",
        "        # suppress items which were not found\n",
        "        if position >= 0:\n",
        "            positions.append((position, value))\n",
        "    # return value corresponding to first position\n",
        "    return sorted(positions)[0][1]"
      ],
      "metadata": {
        "id": "qXu1DY-X8Deh"
      },
      "execution_count": null,
      "outputs": []
    },
    {
      "cell_type": "markdown",
      "source": [
        "The next function splits a response into separate substrings representing the answers to each of the four questions. Then it extracts return values by searching defined expressions, by means of the function `first_matching_expression`. It returns both the substrings and the extracted information.\n",
        "\n",
        "This function is highly task-specific."
      ],
      "metadata": {
        "id": "hGcyZO519Bf3"
      }
    },
    {
      "cell_type": "code",
      "source": [
        "def extract_responses(string):\n",
        "    string = string.lower() + \" \"\n",
        "    i1 = string.find(\"1. \")\n",
        "    i2 = string.find(\"2. \")\n",
        "    i3 = string.find(\"3. \")\n",
        "    i4 = string.find(\"4. \")\n",
        "    s1 = string[i1:i2][3:]\n",
        "    s2 = string[i2:i3][3:]\n",
        "    s3 = string[i3:i4][3:]\n",
        "    s4 = string[i4:][3:]\n",
        "    d1 = {\"yes\": 1, \"minor\": 1}\n",
        "    r1 = first_matching_expression(s1, d1, 0)\n",
        "    d2 = {\"yes\": 1}\n",
        "    r2 = first_matching_expression(s2, d2, 0)\n",
        "    d3 = {\"1\": 1, \"2\": 2, \"3\": 3, \"4\": 4, \"5\": 5, \"6\": 6, \"7\": 7, \"8\": 8,\n",
        "          \"9\": 9, \"only\": 1, \"one\": 1, \"two\": 2, \"three\": 3, \"four\": 4,\n",
        "          \"five\": 5, \"six\": 6, \"seven\": 7, \"eight\": 8, \"nine\": 9}\n",
        "    r3 = first_matching_expression(s3, d3, 1)\n",
        "    r4 = first_matching_expression(s4, d3, 1)\n",
        "    return [s1, s2, s3, s4, r1, r2, r3, r4]"
      ],
      "metadata": {
        "id": "dyOpRR6C9755"
      },
      "execution_count": null,
      "outputs": []
    },
    {
      "cell_type": "markdown",
      "source": [
        "Finally, we define a function `add_responses_to_df` that takes a list of responses, applies `extract_responses`, concatenates the information to the original DataFrame and stores the resulting DataFrame.\n"
      ],
      "metadata": {
        "id": "__CykhPc-ek9"
      }
    },
    {
      "cell_type": "code",
      "source": [
        "def add_responses_to_df(responses, df, path_file_result):\n",
        "    df_results = pd.concat([\n",
        "        df.iloc[:len(responses)],\n",
        "        pd.DataFrame(\n",
        "            [extract_responses(r) for r in responses[\"response\"]],\n",
        "            columns=[\"s1\", \"s2\", \"s3\", \"s4\", \"r1\", \"r2\", \"r3\", \"r4\"])],\n",
        "        axis=1)\n",
        "    df_results.to_excel(path_file_result)\n",
        "    return df_results"
      ],
      "metadata": {
        "id": "qmxcc4i6-i1G"
      },
      "execution_count": null,
      "outputs": []
    },
    {
      "cell_type": "markdown",
      "source": [
        "We load the responses for the first 1000 samples from a previous run of this notebook."
      ],
      "metadata": {
        "id": "VHwNErPL7OeN"
      }
    },
    {
      "cell_type": "code",
      "source": [
        "results = pd.read_csv(\"NHTSA_responses_0999.csv\")\n",
        "results"
      ],
      "metadata": {
        "id": "k5Uwn0Z3_rOU",
        "colab": {
          "base_uri": "https://localhost:8080/",
          "height": 423
        },
        "outputId": "cc9d8395-d14a-4ee6-e8ca-c363b569edf4"
      },
      "execution_count": null,
      "outputs": [
        {
          "output_type": "execute_result",
          "data": {
            "text/plain": [
              "                                              response\n",
              "0    1. Yes, the driver of V2 sustained minor injur...\n",
              "1    1. No, the driver of V2 was not injured in the...\n",
              "2    1. No one was injured.\\n2. No one was killed.\\...\n",
              "3    1. Yes, the driver of vehicle one (V1) was inj...\n",
              "4    1. Yes, the 17-year-old male driver of Vehicle...\n",
              "..                                                 ...\n",
              "995  1. Yes, someone was injured.\\n2. No, no one wa...\n",
              "996  1. No, no one was injured.\\n2. No, no one was ...\n",
              "997  1. No one was injured.\\n2. No one was killed.\\...\n",
              "998  1. No one was injured.\\n2. No one was killed.\\...\n",
              "999  1. It is not mentioned in the text whether som...\n",
              "\n",
              "[1000 rows x 1 columns]"
            ],
            "text/html": [
              "\n",
              "  <div id=\"df-6466238c-f7b7-4654-8e92-1af81e2992e1\" class=\"colab-df-container\">\n",
              "    <div>\n",
              "<style scoped>\n",
              "    .dataframe tbody tr th:only-of-type {\n",
              "        vertical-align: middle;\n",
              "    }\n",
              "\n",
              "    .dataframe tbody tr th {\n",
              "        vertical-align: top;\n",
              "    }\n",
              "\n",
              "    .dataframe thead th {\n",
              "        text-align: right;\n",
              "    }\n",
              "</style>\n",
              "<table border=\"1\" class=\"dataframe\">\n",
              "  <thead>\n",
              "    <tr style=\"text-align: right;\">\n",
              "      <th></th>\n",
              "      <th>response</th>\n",
              "    </tr>\n",
              "  </thead>\n",
              "  <tbody>\n",
              "    <tr>\n",
              "      <th>0</th>\n",
              "      <td>1. Yes, the driver of V2 sustained minor injur...</td>\n",
              "    </tr>\n",
              "    <tr>\n",
              "      <th>1</th>\n",
              "      <td>1. No, the driver of V2 was not injured in the...</td>\n",
              "    </tr>\n",
              "    <tr>\n",
              "      <th>2</th>\n",
              "      <td>1. No one was injured.\\n2. No one was killed.\\...</td>\n",
              "    </tr>\n",
              "    <tr>\n",
              "      <th>3</th>\n",
              "      <td>1. Yes, the driver of vehicle one (V1) was inj...</td>\n",
              "    </tr>\n",
              "    <tr>\n",
              "      <th>4</th>\n",
              "      <td>1. Yes, the 17-year-old male driver of Vehicle...</td>\n",
              "    </tr>\n",
              "    <tr>\n",
              "      <th>...</th>\n",
              "      <td>...</td>\n",
              "    </tr>\n",
              "    <tr>\n",
              "      <th>995</th>\n",
              "      <td>1. Yes, someone was injured.\\n2. No, no one wa...</td>\n",
              "    </tr>\n",
              "    <tr>\n",
              "      <th>996</th>\n",
              "      <td>1. No, no one was injured.\\n2. No, no one was ...</td>\n",
              "    </tr>\n",
              "    <tr>\n",
              "      <th>997</th>\n",
              "      <td>1. No one was injured.\\n2. No one was killed.\\...</td>\n",
              "    </tr>\n",
              "    <tr>\n",
              "      <th>998</th>\n",
              "      <td>1. No one was injured.\\n2. No one was killed.\\...</td>\n",
              "    </tr>\n",
              "    <tr>\n",
              "      <th>999</th>\n",
              "      <td>1. It is not mentioned in the text whether som...</td>\n",
              "    </tr>\n",
              "  </tbody>\n",
              "</table>\n",
              "<p>1000 rows × 1 columns</p>\n",
              "</div>\n",
              "    <div class=\"colab-df-buttons\">\n",
              "\n",
              "  <div class=\"colab-df-container\">\n",
              "    <button class=\"colab-df-convert\" onclick=\"convertToInteractive('df-6466238c-f7b7-4654-8e92-1af81e2992e1')\"\n",
              "            title=\"Convert this dataframe to an interactive table.\"\n",
              "            style=\"display:none;\">\n",
              "\n",
              "  <svg xmlns=\"http://www.w3.org/2000/svg\" height=\"24px\" viewBox=\"0 -960 960 960\">\n",
              "    <path d=\"M120-120v-720h720v720H120Zm60-500h600v-160H180v160Zm220 220h160v-160H400v160Zm0 220h160v-160H400v160ZM180-400h160v-160H180v160Zm440 0h160v-160H620v160ZM180-180h160v-160H180v160Zm440 0h160v-160H620v160Z\"/>\n",
              "  </svg>\n",
              "    </button>\n",
              "\n",
              "  <style>\n",
              "    .colab-df-container {\n",
              "      display:flex;\n",
              "      gap: 12px;\n",
              "    }\n",
              "\n",
              "    .colab-df-convert {\n",
              "      background-color: #E8F0FE;\n",
              "      border: none;\n",
              "      border-radius: 50%;\n",
              "      cursor: pointer;\n",
              "      display: none;\n",
              "      fill: #1967D2;\n",
              "      height: 32px;\n",
              "      padding: 0 0 0 0;\n",
              "      width: 32px;\n",
              "    }\n",
              "\n",
              "    .colab-df-convert:hover {\n",
              "      background-color: #E2EBFA;\n",
              "      box-shadow: 0px 1px 2px rgba(60, 64, 67, 0.3), 0px 1px 3px 1px rgba(60, 64, 67, 0.15);\n",
              "      fill: #174EA6;\n",
              "    }\n",
              "\n",
              "    .colab-df-buttons div {\n",
              "      margin-bottom: 4px;\n",
              "    }\n",
              "\n",
              "    [theme=dark] .colab-df-convert {\n",
              "      background-color: #3B4455;\n",
              "      fill: #D2E3FC;\n",
              "    }\n",
              "\n",
              "    [theme=dark] .colab-df-convert:hover {\n",
              "      background-color: #434B5C;\n",
              "      box-shadow: 0px 1px 3px 1px rgba(0, 0, 0, 0.15);\n",
              "      filter: drop-shadow(0px 1px 2px rgba(0, 0, 0, 0.3));\n",
              "      fill: #FFFFFF;\n",
              "    }\n",
              "  </style>\n",
              "\n",
              "    <script>\n",
              "      const buttonEl =\n",
              "        document.querySelector('#df-6466238c-f7b7-4654-8e92-1af81e2992e1 button.colab-df-convert');\n",
              "      buttonEl.style.display =\n",
              "        google.colab.kernel.accessAllowed ? 'block' : 'none';\n",
              "\n",
              "      async function convertToInteractive(key) {\n",
              "        const element = document.querySelector('#df-6466238c-f7b7-4654-8e92-1af81e2992e1');\n",
              "        const dataTable =\n",
              "          await google.colab.kernel.invokeFunction('convertToInteractive',\n",
              "                                                    [key], {});\n",
              "        if (!dataTable) return;\n",
              "\n",
              "        const docLinkHtml = 'Like what you see? Visit the ' +\n",
              "          '<a target=\"_blank\" href=https://colab.research.google.com/notebooks/data_table.ipynb>data table notebook</a>'\n",
              "          + ' to learn more about interactive tables.';\n",
              "        element.innerHTML = '';\n",
              "        dataTable['output_type'] = 'display_data';\n",
              "        await google.colab.output.renderOutput(dataTable, element);\n",
              "        const docLink = document.createElement('div');\n",
              "        docLink.innerHTML = docLinkHtml;\n",
              "        element.appendChild(docLink);\n",
              "      }\n",
              "    </script>\n",
              "  </div>\n",
              "\n",
              "\n",
              "<div id=\"df-38f3751e-a47e-4906-852b-592eba538dbc\">\n",
              "  <button class=\"colab-df-quickchart\" onclick=\"quickchart('df-38f3751e-a47e-4906-852b-592eba538dbc')\"\n",
              "            title=\"Suggest charts.\"\n",
              "            style=\"display:none;\">\n",
              "\n",
              "<svg xmlns=\"http://www.w3.org/2000/svg\" height=\"24px\"viewBox=\"0 0 24 24\"\n",
              "     width=\"24px\">\n",
              "    <g>\n",
              "        <path d=\"M19 3H5c-1.1 0-2 .9-2 2v14c0 1.1.9 2 2 2h14c1.1 0 2-.9 2-2V5c0-1.1-.9-2-2-2zM9 17H7v-7h2v7zm4 0h-2V7h2v10zm4 0h-2v-4h2v4z\"/>\n",
              "    </g>\n",
              "</svg>\n",
              "  </button>\n",
              "\n",
              "<style>\n",
              "  .colab-df-quickchart {\n",
              "      --bg-color: #E8F0FE;\n",
              "      --fill-color: #1967D2;\n",
              "      --hover-bg-color: #E2EBFA;\n",
              "      --hover-fill-color: #174EA6;\n",
              "      --disabled-fill-color: #AAA;\n",
              "      --disabled-bg-color: #DDD;\n",
              "  }\n",
              "\n",
              "  [theme=dark] .colab-df-quickchart {\n",
              "      --bg-color: #3B4455;\n",
              "      --fill-color: #D2E3FC;\n",
              "      --hover-bg-color: #434B5C;\n",
              "      --hover-fill-color: #FFFFFF;\n",
              "      --disabled-bg-color: #3B4455;\n",
              "      --disabled-fill-color: #666;\n",
              "  }\n",
              "\n",
              "  .colab-df-quickchart {\n",
              "    background-color: var(--bg-color);\n",
              "    border: none;\n",
              "    border-radius: 50%;\n",
              "    cursor: pointer;\n",
              "    display: none;\n",
              "    fill: var(--fill-color);\n",
              "    height: 32px;\n",
              "    padding: 0;\n",
              "    width: 32px;\n",
              "  }\n",
              "\n",
              "  .colab-df-quickchart:hover {\n",
              "    background-color: var(--hover-bg-color);\n",
              "    box-shadow: 0 1px 2px rgba(60, 64, 67, 0.3), 0 1px 3px 1px rgba(60, 64, 67, 0.15);\n",
              "    fill: var(--button-hover-fill-color);\n",
              "  }\n",
              "\n",
              "  .colab-df-quickchart-complete:disabled,\n",
              "  .colab-df-quickchart-complete:disabled:hover {\n",
              "    background-color: var(--disabled-bg-color);\n",
              "    fill: var(--disabled-fill-color);\n",
              "    box-shadow: none;\n",
              "  }\n",
              "\n",
              "  .colab-df-spinner {\n",
              "    border: 2px solid var(--fill-color);\n",
              "    border-color: transparent;\n",
              "    border-bottom-color: var(--fill-color);\n",
              "    animation:\n",
              "      spin 1s steps(1) infinite;\n",
              "  }\n",
              "\n",
              "  @keyframes spin {\n",
              "    0% {\n",
              "      border-color: transparent;\n",
              "      border-bottom-color: var(--fill-color);\n",
              "      border-left-color: var(--fill-color);\n",
              "    }\n",
              "    20% {\n",
              "      border-color: transparent;\n",
              "      border-left-color: var(--fill-color);\n",
              "      border-top-color: var(--fill-color);\n",
              "    }\n",
              "    30% {\n",
              "      border-color: transparent;\n",
              "      border-left-color: var(--fill-color);\n",
              "      border-top-color: var(--fill-color);\n",
              "      border-right-color: var(--fill-color);\n",
              "    }\n",
              "    40% {\n",
              "      border-color: transparent;\n",
              "      border-right-color: var(--fill-color);\n",
              "      border-top-color: var(--fill-color);\n",
              "    }\n",
              "    60% {\n",
              "      border-color: transparent;\n",
              "      border-right-color: var(--fill-color);\n",
              "    }\n",
              "    80% {\n",
              "      border-color: transparent;\n",
              "      border-right-color: var(--fill-color);\n",
              "      border-bottom-color: var(--fill-color);\n",
              "    }\n",
              "    90% {\n",
              "      border-color: transparent;\n",
              "      border-bottom-color: var(--fill-color);\n",
              "    }\n",
              "  }\n",
              "</style>\n",
              "\n",
              "  <script>\n",
              "    async function quickchart(key) {\n",
              "      const quickchartButtonEl =\n",
              "        document.querySelector('#' + key + ' button');\n",
              "      quickchartButtonEl.disabled = true;  // To prevent multiple clicks.\n",
              "      quickchartButtonEl.classList.add('colab-df-spinner');\n",
              "      try {\n",
              "        const charts = await google.colab.kernel.invokeFunction(\n",
              "            'suggestCharts', [key], {});\n",
              "      } catch (error) {\n",
              "        console.error('Error during call to suggestCharts:', error);\n",
              "      }\n",
              "      quickchartButtonEl.classList.remove('colab-df-spinner');\n",
              "      quickchartButtonEl.classList.add('colab-df-quickchart-complete');\n",
              "    }\n",
              "    (() => {\n",
              "      let quickchartButtonEl =\n",
              "        document.querySelector('#df-38f3751e-a47e-4906-852b-592eba538dbc button');\n",
              "      quickchartButtonEl.style.display =\n",
              "        google.colab.kernel.accessAllowed ? 'block' : 'none';\n",
              "    })();\n",
              "  </script>\n",
              "</div>\n",
              "    </div>\n",
              "  </div>\n"
            ]
          },
          "metadata": {},
          "execution_count": 27
        }
      ]
    },
    {
      "cell_type": "code",
      "source": [
        "df_res = add_responses_to_df(results, df, \"./results/df_results.xlsx\")"
      ],
      "metadata": {
        "id": "p2LA4Gd3_3hp"
      },
      "execution_count": null,
      "outputs": []
    },
    {
      "cell_type": "markdown",
      "source": [
        "<a id='evaluation'></a>\n",
        "<a name='evaluation'></a>\n",
        "###  2.3 Performance evaluation\n",
        "\n",
        "Next, we want to evaluate the performance of our model.\n",
        "\n",
        "Let's look at the confusion matrix of the predicted vs true number of involved vehicles:\n",
        "\n",
        "\n"
      ],
      "metadata": {
        "id": "_g3KTpBW60o_"
      }
    },
    {
      "cell_type": "code",
      "source": [
        "y_true = df_res[\"NUMTOTV\"]\n",
        "y_pred = df_res[\"r4\"]\n",
        "labels = [str(i) for i in sorted(set(y_true).union(set(y_pred)))]\n",
        "_ = evaluate_classifier(y_true, y_pred, None, labels,\n",
        "                        \"ChatGPT #vehicles\", \"cm_nv_chat_gpt\")"
      ],
      "metadata": {
        "colab": {
          "base_uri": "https://localhost:8080/",
          "height": 820
        },
        "id": "mbPJA_04FQds",
        "outputId": "cb54bf9a-9737-4f89-c6e8-2d36f4e20772"
      },
      "execution_count": null,
      "outputs": [
        {
          "output_type": "stream",
          "name": "stdout",
          "text": [
            "ChatGPT #vehicles\n",
            "accuracy score = 97.4%,  log loss = nan,  Brier loss = nan\n",
            "classification report\n",
            "               precision    recall  f1-score   support\n",
            "\n",
            "           1       0.99      0.97      0.98       256\n",
            "           2       0.98      1.00      0.99       625\n",
            "           3       0.92      0.90      0.91        94\n",
            "           4       1.00      0.75      0.86        20\n",
            "           5       0.67      0.50      0.57         4\n",
            "           8       1.00      1.00      1.00         1\n",
            "\n",
            "    accuracy                           0.97      1000\n",
            "   macro avg       0.93      0.85      0.88      1000\n",
            "weighted avg       0.97      0.97      0.97      1000\n",
            "\n"
          ]
        },
        {
          "output_type": "display_data",
          "data": {
            "text/html": [
              "<html>\n",
              "<head><meta charset=\"utf-8\" /></head>\n",
              "<body>\n",
              "    <div>            <script src=\"https://cdnjs.cloudflare.com/ajax/libs/mathjax/2.7.5/MathJax.js?config=TeX-AMS-MML_SVG\"></script><script type=\"text/javascript\">if (window.MathJax && window.MathJax.Hub && window.MathJax.Hub.Config) {window.MathJax.Hub.Config({SVG: {font: \"STIX-Web\"}});}</script>                <script type=\"text/javascript\">window.PlotlyConfig = {MathJaxConfig: 'local'};</script>\n",
              "        <script charset=\"utf-8\" src=\"https://cdn.plot.ly/plotly-2.24.1.min.js\"></script>                <div id=\"b89435fd-0651-4879-83ff-13f6da76351a\" class=\"plotly-graph-div\" style=\"height:525px; width:600px;\"></div>            <script type=\"text/javascript\">                                    window.PLOTLYENV=window.PLOTLYENV || {};                                    if (document.getElementById(\"b89435fd-0651-4879-83ff-13f6da76351a\")) {                    Plotly.newPlot(                        \"b89435fd-0651-4879-83ff-13f6da76351a\",                        [{\"coloraxis\":\"coloraxis\",\"name\":\"0\",\"texttemplate\":\"%{z}\",\"x\":[\" \\u003cb\\u003e1\\u003c\\u002fb\\u003e \",\" \\u003cb\\u003e2\\u003c\\u002fb\\u003e \",\" \\u003cb\\u003e3\\u003c\\u002fb\\u003e \",\" \\u003cb\\u003e4\\u003c\\u002fb\\u003e \",\" \\u003cb\\u003e5\\u003c\\u002fb\\u003e \",\" \\u003cb\\u003e8\\u003c\\u002fb\\u003e \"],\"y\":[\" \\u003cb\\u003e1\\u003c\\u002fb\\u003e \",\" \\u003cb\\u003e2\\u003c\\u002fb\\u003e \",\" \\u003cb\\u003e3\\u003c\\u002fb\\u003e \",\" \\u003cb\\u003e4\\u003c\\u002fb\\u003e \",\" \\u003cb\\u003e5\\u003c\\u002fb\\u003e \",\" \\u003cb\\u003e8\\u003c\\u002fb\\u003e \"],\"z\":[[249,7,0,0,0,0],[2,622,1,0,0,0],[1,7,85,0,1,0],[0,0,5,15,0,0],[0,1,1,0,2,0],[0,0,0,0,0,1]],\"type\":\"heatmap\",\"xaxis\":\"x\",\"yaxis\":\"y\",\"hovertemplate\":\"x: %{x}\\u003cbr\\u003ey: %{y}\\u003cbr\\u003ecolor: %{z}\\u003cextra\\u003e\\u003c\\u002fextra\\u003e\"}],                        {\"template\":{\"data\":{\"histogram2dcontour\":[{\"type\":\"histogram2dcontour\",\"colorbar\":{\"outlinewidth\":0,\"ticks\":\"\"},\"colorscale\":[[0.0,\"#0d0887\"],[0.1111111111111111,\"#46039f\"],[0.2222222222222222,\"#7201a8\"],[0.3333333333333333,\"#9c179e\"],[0.4444444444444444,\"#bd3786\"],[0.5555555555555556,\"#d8576b\"],[0.6666666666666666,\"#ed7953\"],[0.7777777777777778,\"#fb9f3a\"],[0.8888888888888888,\"#fdca26\"],[1.0,\"#f0f921\"]]}],\"choropleth\":[{\"type\":\"choropleth\",\"colorbar\":{\"outlinewidth\":0,\"ticks\":\"\"}}],\"histogram2d\":[{\"type\":\"histogram2d\",\"colorbar\":{\"outlinewidth\":0,\"ticks\":\"\"},\"colorscale\":[[0.0,\"#0d0887\"],[0.1111111111111111,\"#46039f\"],[0.2222222222222222,\"#7201a8\"],[0.3333333333333333,\"#9c179e\"],[0.4444444444444444,\"#bd3786\"],[0.5555555555555556,\"#d8576b\"],[0.6666666666666666,\"#ed7953\"],[0.7777777777777778,\"#fb9f3a\"],[0.8888888888888888,\"#fdca26\"],[1.0,\"#f0f921\"]]}],\"heatmap\":[{\"type\":\"heatmap\",\"colorbar\":{\"outlinewidth\":0,\"ticks\":\"\"},\"colorscale\":[[0.0,\"#0d0887\"],[0.1111111111111111,\"#46039f\"],[0.2222222222222222,\"#7201a8\"],[0.3333333333333333,\"#9c179e\"],[0.4444444444444444,\"#bd3786\"],[0.5555555555555556,\"#d8576b\"],[0.6666666666666666,\"#ed7953\"],[0.7777777777777778,\"#fb9f3a\"],[0.8888888888888888,\"#fdca26\"],[1.0,\"#f0f921\"]]}],\"heatmapgl\":[{\"type\":\"heatmapgl\",\"colorbar\":{\"outlinewidth\":0,\"ticks\":\"\"},\"colorscale\":[[0.0,\"#0d0887\"],[0.1111111111111111,\"#46039f\"],[0.2222222222222222,\"#7201a8\"],[0.3333333333333333,\"#9c179e\"],[0.4444444444444444,\"#bd3786\"],[0.5555555555555556,\"#d8576b\"],[0.6666666666666666,\"#ed7953\"],[0.7777777777777778,\"#fb9f3a\"],[0.8888888888888888,\"#fdca26\"],[1.0,\"#f0f921\"]]}],\"contourcarpet\":[{\"type\":\"contourcarpet\",\"colorbar\":{\"outlinewidth\":0,\"ticks\":\"\"}}],\"contour\":[{\"type\":\"contour\",\"colorbar\":{\"outlinewidth\":0,\"ticks\":\"\"},\"colorscale\":[[0.0,\"#0d0887\"],[0.1111111111111111,\"#46039f\"],[0.2222222222222222,\"#7201a8\"],[0.3333333333333333,\"#9c179e\"],[0.4444444444444444,\"#bd3786\"],[0.5555555555555556,\"#d8576b\"],[0.6666666666666666,\"#ed7953\"],[0.7777777777777778,\"#fb9f3a\"],[0.8888888888888888,\"#fdca26\"],[1.0,\"#f0f921\"]]}],\"surface\":[{\"type\":\"surface\",\"colorbar\":{\"outlinewidth\":0,\"ticks\":\"\"},\"colorscale\":[[0.0,\"#0d0887\"],[0.1111111111111111,\"#46039f\"],[0.2222222222222222,\"#7201a8\"],[0.3333333333333333,\"#9c179e\"],[0.4444444444444444,\"#bd3786\"],[0.5555555555555556,\"#d8576b\"],[0.6666666666666666,\"#ed7953\"],[0.7777777777777778,\"#fb9f3a\"],[0.8888888888888888,\"#fdca26\"],[1.0,\"#f0f921\"]]}],\"mesh3d\":[{\"type\":\"mesh3d\",\"colorbar\":{\"outlinewidth\":0,\"ticks\":\"\"}}],\"scatter\":[{\"fillpattern\":{\"fillmode\":\"overlay\",\"size\":10,\"solidity\":0.2},\"type\":\"scatter\"}],\"parcoords\":[{\"type\":\"parcoords\",\"line\":{\"colorbar\":{\"outlinewidth\":0,\"ticks\":\"\"}}}],\"scatterpolargl\":[{\"type\":\"scatterpolargl\",\"marker\":{\"colorbar\":{\"outlinewidth\":0,\"ticks\":\"\"}}}],\"bar\":[{\"error_x\":{\"color\":\"#2a3f5f\"},\"error_y\":{\"color\":\"#2a3f5f\"},\"marker\":{\"line\":{\"color\":\"#E5ECF6\",\"width\":0.5},\"pattern\":{\"fillmode\":\"overlay\",\"size\":10,\"solidity\":0.2}},\"type\":\"bar\"}],\"scattergeo\":[{\"type\":\"scattergeo\",\"marker\":{\"colorbar\":{\"outlinewidth\":0,\"ticks\":\"\"}}}],\"scatterpolar\":[{\"type\":\"scatterpolar\",\"marker\":{\"colorbar\":{\"outlinewidth\":0,\"ticks\":\"\"}}}],\"histogram\":[{\"marker\":{\"pattern\":{\"fillmode\":\"overlay\",\"size\":10,\"solidity\":0.2}},\"type\":\"histogram\"}],\"scattergl\":[{\"type\":\"scattergl\",\"marker\":{\"colorbar\":{\"outlinewidth\":0,\"ticks\":\"\"}}}],\"scatter3d\":[{\"type\":\"scatter3d\",\"line\":{\"colorbar\":{\"outlinewidth\":0,\"ticks\":\"\"}},\"marker\":{\"colorbar\":{\"outlinewidth\":0,\"ticks\":\"\"}}}],\"scattermapbox\":[{\"type\":\"scattermapbox\",\"marker\":{\"colorbar\":{\"outlinewidth\":0,\"ticks\":\"\"}}}],\"scatterternary\":[{\"type\":\"scatterternary\",\"marker\":{\"colorbar\":{\"outlinewidth\":0,\"ticks\":\"\"}}}],\"scattercarpet\":[{\"type\":\"scattercarpet\",\"marker\":{\"colorbar\":{\"outlinewidth\":0,\"ticks\":\"\"}}}],\"carpet\":[{\"aaxis\":{\"endlinecolor\":\"#2a3f5f\",\"gridcolor\":\"white\",\"linecolor\":\"white\",\"minorgridcolor\":\"white\",\"startlinecolor\":\"#2a3f5f\"},\"baxis\":{\"endlinecolor\":\"#2a3f5f\",\"gridcolor\":\"white\",\"linecolor\":\"white\",\"minorgridcolor\":\"white\",\"startlinecolor\":\"#2a3f5f\"},\"type\":\"carpet\"}],\"table\":[{\"cells\":{\"fill\":{\"color\":\"#EBF0F8\"},\"line\":{\"color\":\"white\"}},\"header\":{\"fill\":{\"color\":\"#C8D4E3\"},\"line\":{\"color\":\"white\"}},\"type\":\"table\"}],\"barpolar\":[{\"marker\":{\"line\":{\"color\":\"#E5ECF6\",\"width\":0.5},\"pattern\":{\"fillmode\":\"overlay\",\"size\":10,\"solidity\":0.2}},\"type\":\"barpolar\"}],\"pie\":[{\"automargin\":true,\"type\":\"pie\"}]},\"layout\":{\"autotypenumbers\":\"strict\",\"colorway\":[\"#636efa\",\"#EF553B\",\"#00cc96\",\"#ab63fa\",\"#FFA15A\",\"#19d3f3\",\"#FF6692\",\"#B6E880\",\"#FF97FF\",\"#FECB52\"],\"font\":{\"color\":\"#2a3f5f\"},\"hovermode\":\"closest\",\"hoverlabel\":{\"align\":\"left\"},\"paper_bgcolor\":\"white\",\"plot_bgcolor\":\"#E5ECF6\",\"polar\":{\"bgcolor\":\"#E5ECF6\",\"angularaxis\":{\"gridcolor\":\"white\",\"linecolor\":\"white\",\"ticks\":\"\"},\"radialaxis\":{\"gridcolor\":\"white\",\"linecolor\":\"white\",\"ticks\":\"\"}},\"ternary\":{\"bgcolor\":\"#E5ECF6\",\"aaxis\":{\"gridcolor\":\"white\",\"linecolor\":\"white\",\"ticks\":\"\"},\"baxis\":{\"gridcolor\":\"white\",\"linecolor\":\"white\",\"ticks\":\"\"},\"caxis\":{\"gridcolor\":\"white\",\"linecolor\":\"white\",\"ticks\":\"\"}},\"coloraxis\":{\"colorbar\":{\"outlinewidth\":0,\"ticks\":\"\"}},\"colorscale\":{\"sequential\":[[0.0,\"#0d0887\"],[0.1111111111111111,\"#46039f\"],[0.2222222222222222,\"#7201a8\"],[0.3333333333333333,\"#9c179e\"],[0.4444444444444444,\"#bd3786\"],[0.5555555555555556,\"#d8576b\"],[0.6666666666666666,\"#ed7953\"],[0.7777777777777778,\"#fb9f3a\"],[0.8888888888888888,\"#fdca26\"],[1.0,\"#f0f921\"]],\"sequentialminus\":[[0.0,\"#0d0887\"],[0.1111111111111111,\"#46039f\"],[0.2222222222222222,\"#7201a8\"],[0.3333333333333333,\"#9c179e\"],[0.4444444444444444,\"#bd3786\"],[0.5555555555555556,\"#d8576b\"],[0.6666666666666666,\"#ed7953\"],[0.7777777777777778,\"#fb9f3a\"],[0.8888888888888888,\"#fdca26\"],[1.0,\"#f0f921\"]],\"diverging\":[[0,\"#8e0152\"],[0.1,\"#c51b7d\"],[0.2,\"#de77ae\"],[0.3,\"#f1b6da\"],[0.4,\"#fde0ef\"],[0.5,\"#f7f7f7\"],[0.6,\"#e6f5d0\"],[0.7,\"#b8e186\"],[0.8,\"#7fbc41\"],[0.9,\"#4d9221\"],[1,\"#276419\"]]},\"xaxis\":{\"gridcolor\":\"white\",\"linecolor\":\"white\",\"ticks\":\"\",\"title\":{\"standoff\":15},\"zerolinecolor\":\"white\",\"automargin\":true,\"zerolinewidth\":2},\"yaxis\":{\"gridcolor\":\"white\",\"linecolor\":\"white\",\"ticks\":\"\",\"title\":{\"standoff\":15},\"zerolinecolor\":\"white\",\"automargin\":true,\"zerolinewidth\":2},\"scene\":{\"xaxis\":{\"backgroundcolor\":\"#E5ECF6\",\"gridcolor\":\"white\",\"linecolor\":\"white\",\"showbackground\":true,\"ticks\":\"\",\"zerolinecolor\":\"white\",\"gridwidth\":2},\"yaxis\":{\"backgroundcolor\":\"#E5ECF6\",\"gridcolor\":\"white\",\"linecolor\":\"white\",\"showbackground\":true,\"ticks\":\"\",\"zerolinecolor\":\"white\",\"gridwidth\":2},\"zaxis\":{\"backgroundcolor\":\"#E5ECF6\",\"gridcolor\":\"white\",\"linecolor\":\"white\",\"showbackground\":true,\"ticks\":\"\",\"zerolinecolor\":\"white\",\"gridwidth\":2}},\"shapedefaults\":{\"line\":{\"color\":\"#2a3f5f\"}},\"annotationdefaults\":{\"arrowcolor\":\"#2a3f5f\",\"arrowhead\":0,\"arrowwidth\":1},\"geo\":{\"bgcolor\":\"white\",\"landcolor\":\"#E5ECF6\",\"subunitcolor\":\"white\",\"showland\":true,\"showlakes\":true,\"lakecolor\":\"white\"},\"title\":{\"x\":0.05},\"mapbox\":{\"style\":\"light\"}}},\"xaxis\":{\"anchor\":\"y\",\"domain\":[0.0,1.0],\"scaleanchor\":\"y\",\"constrain\":\"domain\",\"title\":{\"text\":\"\\u003cb\\u003epredicted class\\u003c\\u002fb\\u003e\"}},\"yaxis\":{\"anchor\":\"x\",\"domain\":[0.0,1.0],\"autorange\":\"reversed\",\"constrain\":\"domain\",\"title\":{\"text\":\"\\u003cb\\u003eactual class\\u003c\\u002fb\\u003e\"}},\"coloraxis\":{\"colorscale\":[[0.0,\"rgb(247,251,255)\"],[0.125,\"rgb(222,235,247)\"],[0.25,\"rgb(198,219,239)\"],[0.375,\"rgb(158,202,225)\"],[0.5,\"rgb(107,174,214)\"],[0.625,\"rgb(66,146,198)\"],[0.75,\"rgb(33,113,181)\"],[0.875,\"rgb(8,81,156)\"],[1.0,\"rgb(8,48,107)\"]],\"showscale\":false},\"title\":{\"text\":\"ChatGPT #vehicles\"},\"width\":600,\"font\":{\"size\":14}},                        {\"toImageButtonOptions\": {\"format\": \"svg\", \"filename\": \"cm_nv_chat_gpt\"}, \"responsive\": true}                    ).then(function(){\n",
              "                            \n",
              "var gd = document.getElementById('b89435fd-0651-4879-83ff-13f6da76351a');\n",
              "var x = new MutationObserver(function (mutations, observer) {{\n",
              "        var display = window.getComputedStyle(gd).display;\n",
              "        if (!display || display === 'none') {{\n",
              "            console.log([gd, 'removed!']);\n",
              "            Plotly.purge(gd);\n",
              "            observer.disconnect();\n",
              "        }}\n",
              "}});\n",
              "\n",
              "// Listen for the removal of the full notebook cells\n",
              "var notebookContainer = gd.closest('#notebook-container');\n",
              "if (notebookContainer) {{\n",
              "    x.observe(notebookContainer, {childList: true});\n",
              "}}\n",
              "\n",
              "// Listen for the clearing of the current output cell\n",
              "var outputEl = gd.closest('.output');\n",
              "if (outputEl) {{\n",
              "    x.observe(outputEl, {childList: true});\n",
              "}}\n",
              "\n",
              "                        })                };                            </script>        </div>\n",
              "</body>\n",
              "</html>"
            ]
          },
          "metadata": {}
        }
      ]
    },
    {
      "cell_type": "markdown",
      "source": [
        "For the identification of cases with bodily injury, the performance looks as follows:"
      ],
      "metadata": {
        "id": "xLq_B72X8nel"
      }
    },
    {
      "cell_type": "code",
      "source": [
        "y_true = df_res[\"INJSEVB\"]\n",
        "y_pred = 1- (1 - df_res[\"r1\"]) * (1 - df_res[\"r2\"])\n",
        "labels = [str(i) for i in sorted(set(y_true).union(set(y_pred)))]\n",
        "_ = evaluate_classifier(y_true, y_pred, None, labels,\n",
        "                        \"ChatGPT injury\", \"cm_inj_chat_gpt\")"
      ],
      "metadata": {
        "colab": {
          "base_uri": "https://localhost:8080/",
          "height": 750
        },
        "id": "16A9KflsCj-3",
        "outputId": "e3f5495e-9543-40c9-c76a-f3014688ccb8"
      },
      "execution_count": null,
      "outputs": [
        {
          "output_type": "stream",
          "name": "stdout",
          "text": [
            "ChatGPT injury\n",
            "accuracy score = 88.1%,  log loss = nan,  Brier loss = nan\n",
            "classification report\n",
            "               precision    recall  f1-score   support\n",
            "\n",
            "           0       0.87      0.81      0.84       382\n",
            "           1       0.89      0.92      0.91       618\n",
            "\n",
            "    accuracy                           0.88      1000\n",
            "   macro avg       0.88      0.87      0.87      1000\n",
            "weighted avg       0.88      0.88      0.88      1000\n",
            "\n"
          ]
        },
        {
          "output_type": "display_data",
          "data": {
            "text/html": [
              "<html>\n",
              "<head><meta charset=\"utf-8\" /></head>\n",
              "<body>\n",
              "    <div>            <script src=\"https://cdnjs.cloudflare.com/ajax/libs/mathjax/2.7.5/MathJax.js?config=TeX-AMS-MML_SVG\"></script><script type=\"text/javascript\">if (window.MathJax && window.MathJax.Hub && window.MathJax.Hub.Config) {window.MathJax.Hub.Config({SVG: {font: \"STIX-Web\"}});}</script>                <script type=\"text/javascript\">window.PlotlyConfig = {MathJaxConfig: 'local'};</script>\n",
              "        <script charset=\"utf-8\" src=\"https://cdn.plot.ly/plotly-2.24.1.min.js\"></script>                <div id=\"8bc2670c-69ce-44ee-87cc-52f46c3f389f\" class=\"plotly-graph-div\" style=\"height:525px; width:600px;\"></div>            <script type=\"text/javascript\">                                    window.PLOTLYENV=window.PLOTLYENV || {};                                    if (document.getElementById(\"8bc2670c-69ce-44ee-87cc-52f46c3f389f\")) {                    Plotly.newPlot(                        \"8bc2670c-69ce-44ee-87cc-52f46c3f389f\",                        [{\"coloraxis\":\"coloraxis\",\"name\":\"0\",\"texttemplate\":\"%{z}\",\"x\":[\" \\u003cb\\u003e0\\u003c\\u002fb\\u003e \",\" \\u003cb\\u003e1\\u003c\\u002fb\\u003e \"],\"y\":[\" \\u003cb\\u003e0\\u003c\\u002fb\\u003e \",\" \\u003cb\\u003e1\\u003c\\u002fb\\u003e \"],\"z\":[[310,72],[47,571]],\"type\":\"heatmap\",\"xaxis\":\"x\",\"yaxis\":\"y\",\"hovertemplate\":\"x: %{x}\\u003cbr\\u003ey: %{y}\\u003cbr\\u003ecolor: %{z}\\u003cextra\\u003e\\u003c\\u002fextra\\u003e\"}],                        {\"template\":{\"data\":{\"histogram2dcontour\":[{\"type\":\"histogram2dcontour\",\"colorbar\":{\"outlinewidth\":0,\"ticks\":\"\"},\"colorscale\":[[0.0,\"#0d0887\"],[0.1111111111111111,\"#46039f\"],[0.2222222222222222,\"#7201a8\"],[0.3333333333333333,\"#9c179e\"],[0.4444444444444444,\"#bd3786\"],[0.5555555555555556,\"#d8576b\"],[0.6666666666666666,\"#ed7953\"],[0.7777777777777778,\"#fb9f3a\"],[0.8888888888888888,\"#fdca26\"],[1.0,\"#f0f921\"]]}],\"choropleth\":[{\"type\":\"choropleth\",\"colorbar\":{\"outlinewidth\":0,\"ticks\":\"\"}}],\"histogram2d\":[{\"type\":\"histogram2d\",\"colorbar\":{\"outlinewidth\":0,\"ticks\":\"\"},\"colorscale\":[[0.0,\"#0d0887\"],[0.1111111111111111,\"#46039f\"],[0.2222222222222222,\"#7201a8\"],[0.3333333333333333,\"#9c179e\"],[0.4444444444444444,\"#bd3786\"],[0.5555555555555556,\"#d8576b\"],[0.6666666666666666,\"#ed7953\"],[0.7777777777777778,\"#fb9f3a\"],[0.8888888888888888,\"#fdca26\"],[1.0,\"#f0f921\"]]}],\"heatmap\":[{\"type\":\"heatmap\",\"colorbar\":{\"outlinewidth\":0,\"ticks\":\"\"},\"colorscale\":[[0.0,\"#0d0887\"],[0.1111111111111111,\"#46039f\"],[0.2222222222222222,\"#7201a8\"],[0.3333333333333333,\"#9c179e\"],[0.4444444444444444,\"#bd3786\"],[0.5555555555555556,\"#d8576b\"],[0.6666666666666666,\"#ed7953\"],[0.7777777777777778,\"#fb9f3a\"],[0.8888888888888888,\"#fdca26\"],[1.0,\"#f0f921\"]]}],\"heatmapgl\":[{\"type\":\"heatmapgl\",\"colorbar\":{\"outlinewidth\":0,\"ticks\":\"\"},\"colorscale\":[[0.0,\"#0d0887\"],[0.1111111111111111,\"#46039f\"],[0.2222222222222222,\"#7201a8\"],[0.3333333333333333,\"#9c179e\"],[0.4444444444444444,\"#bd3786\"],[0.5555555555555556,\"#d8576b\"],[0.6666666666666666,\"#ed7953\"],[0.7777777777777778,\"#fb9f3a\"],[0.8888888888888888,\"#fdca26\"],[1.0,\"#f0f921\"]]}],\"contourcarpet\":[{\"type\":\"contourcarpet\",\"colorbar\":{\"outlinewidth\":0,\"ticks\":\"\"}}],\"contour\":[{\"type\":\"contour\",\"colorbar\":{\"outlinewidth\":0,\"ticks\":\"\"},\"colorscale\":[[0.0,\"#0d0887\"],[0.1111111111111111,\"#46039f\"],[0.2222222222222222,\"#7201a8\"],[0.3333333333333333,\"#9c179e\"],[0.4444444444444444,\"#bd3786\"],[0.5555555555555556,\"#d8576b\"],[0.6666666666666666,\"#ed7953\"],[0.7777777777777778,\"#fb9f3a\"],[0.8888888888888888,\"#fdca26\"],[1.0,\"#f0f921\"]]}],\"surface\":[{\"type\":\"surface\",\"colorbar\":{\"outlinewidth\":0,\"ticks\":\"\"},\"colorscale\":[[0.0,\"#0d0887\"],[0.1111111111111111,\"#46039f\"],[0.2222222222222222,\"#7201a8\"],[0.3333333333333333,\"#9c179e\"],[0.4444444444444444,\"#bd3786\"],[0.5555555555555556,\"#d8576b\"],[0.6666666666666666,\"#ed7953\"],[0.7777777777777778,\"#fb9f3a\"],[0.8888888888888888,\"#fdca26\"],[1.0,\"#f0f921\"]]}],\"mesh3d\":[{\"type\":\"mesh3d\",\"colorbar\":{\"outlinewidth\":0,\"ticks\":\"\"}}],\"scatter\":[{\"fillpattern\":{\"fillmode\":\"overlay\",\"size\":10,\"solidity\":0.2},\"type\":\"scatter\"}],\"parcoords\":[{\"type\":\"parcoords\",\"line\":{\"colorbar\":{\"outlinewidth\":0,\"ticks\":\"\"}}}],\"scatterpolargl\":[{\"type\":\"scatterpolargl\",\"marker\":{\"colorbar\":{\"outlinewidth\":0,\"ticks\":\"\"}}}],\"bar\":[{\"error_x\":{\"color\":\"#2a3f5f\"},\"error_y\":{\"color\":\"#2a3f5f\"},\"marker\":{\"line\":{\"color\":\"#E5ECF6\",\"width\":0.5},\"pattern\":{\"fillmode\":\"overlay\",\"size\":10,\"solidity\":0.2}},\"type\":\"bar\"}],\"scattergeo\":[{\"type\":\"scattergeo\",\"marker\":{\"colorbar\":{\"outlinewidth\":0,\"ticks\":\"\"}}}],\"scatterpolar\":[{\"type\":\"scatterpolar\",\"marker\":{\"colorbar\":{\"outlinewidth\":0,\"ticks\":\"\"}}}],\"histogram\":[{\"marker\":{\"pattern\":{\"fillmode\":\"overlay\",\"size\":10,\"solidity\":0.2}},\"type\":\"histogram\"}],\"scattergl\":[{\"type\":\"scattergl\",\"marker\":{\"colorbar\":{\"outlinewidth\":0,\"ticks\":\"\"}}}],\"scatter3d\":[{\"type\":\"scatter3d\",\"line\":{\"colorbar\":{\"outlinewidth\":0,\"ticks\":\"\"}},\"marker\":{\"colorbar\":{\"outlinewidth\":0,\"ticks\":\"\"}}}],\"scattermapbox\":[{\"type\":\"scattermapbox\",\"marker\":{\"colorbar\":{\"outlinewidth\":0,\"ticks\":\"\"}}}],\"scatterternary\":[{\"type\":\"scatterternary\",\"marker\":{\"colorbar\":{\"outlinewidth\":0,\"ticks\":\"\"}}}],\"scattercarpet\":[{\"type\":\"scattercarpet\",\"marker\":{\"colorbar\":{\"outlinewidth\":0,\"ticks\":\"\"}}}],\"carpet\":[{\"aaxis\":{\"endlinecolor\":\"#2a3f5f\",\"gridcolor\":\"white\",\"linecolor\":\"white\",\"minorgridcolor\":\"white\",\"startlinecolor\":\"#2a3f5f\"},\"baxis\":{\"endlinecolor\":\"#2a3f5f\",\"gridcolor\":\"white\",\"linecolor\":\"white\",\"minorgridcolor\":\"white\",\"startlinecolor\":\"#2a3f5f\"},\"type\":\"carpet\"}],\"table\":[{\"cells\":{\"fill\":{\"color\":\"#EBF0F8\"},\"line\":{\"color\":\"white\"}},\"header\":{\"fill\":{\"color\":\"#C8D4E3\"},\"line\":{\"color\":\"white\"}},\"type\":\"table\"}],\"barpolar\":[{\"marker\":{\"line\":{\"color\":\"#E5ECF6\",\"width\":0.5},\"pattern\":{\"fillmode\":\"overlay\",\"size\":10,\"solidity\":0.2}},\"type\":\"barpolar\"}],\"pie\":[{\"automargin\":true,\"type\":\"pie\"}]},\"layout\":{\"autotypenumbers\":\"strict\",\"colorway\":[\"#636efa\",\"#EF553B\",\"#00cc96\",\"#ab63fa\",\"#FFA15A\",\"#19d3f3\",\"#FF6692\",\"#B6E880\",\"#FF97FF\",\"#FECB52\"],\"font\":{\"color\":\"#2a3f5f\"},\"hovermode\":\"closest\",\"hoverlabel\":{\"align\":\"left\"},\"paper_bgcolor\":\"white\",\"plot_bgcolor\":\"#E5ECF6\",\"polar\":{\"bgcolor\":\"#E5ECF6\",\"angularaxis\":{\"gridcolor\":\"white\",\"linecolor\":\"white\",\"ticks\":\"\"},\"radialaxis\":{\"gridcolor\":\"white\",\"linecolor\":\"white\",\"ticks\":\"\"}},\"ternary\":{\"bgcolor\":\"#E5ECF6\",\"aaxis\":{\"gridcolor\":\"white\",\"linecolor\":\"white\",\"ticks\":\"\"},\"baxis\":{\"gridcolor\":\"white\",\"linecolor\":\"white\",\"ticks\":\"\"},\"caxis\":{\"gridcolor\":\"white\",\"linecolor\":\"white\",\"ticks\":\"\"}},\"coloraxis\":{\"colorbar\":{\"outlinewidth\":0,\"ticks\":\"\"}},\"colorscale\":{\"sequential\":[[0.0,\"#0d0887\"],[0.1111111111111111,\"#46039f\"],[0.2222222222222222,\"#7201a8\"],[0.3333333333333333,\"#9c179e\"],[0.4444444444444444,\"#bd3786\"],[0.5555555555555556,\"#d8576b\"],[0.6666666666666666,\"#ed7953\"],[0.7777777777777778,\"#fb9f3a\"],[0.8888888888888888,\"#fdca26\"],[1.0,\"#f0f921\"]],\"sequentialminus\":[[0.0,\"#0d0887\"],[0.1111111111111111,\"#46039f\"],[0.2222222222222222,\"#7201a8\"],[0.3333333333333333,\"#9c179e\"],[0.4444444444444444,\"#bd3786\"],[0.5555555555555556,\"#d8576b\"],[0.6666666666666666,\"#ed7953\"],[0.7777777777777778,\"#fb9f3a\"],[0.8888888888888888,\"#fdca26\"],[1.0,\"#f0f921\"]],\"diverging\":[[0,\"#8e0152\"],[0.1,\"#c51b7d\"],[0.2,\"#de77ae\"],[0.3,\"#f1b6da\"],[0.4,\"#fde0ef\"],[0.5,\"#f7f7f7\"],[0.6,\"#e6f5d0\"],[0.7,\"#b8e186\"],[0.8,\"#7fbc41\"],[0.9,\"#4d9221\"],[1,\"#276419\"]]},\"xaxis\":{\"gridcolor\":\"white\",\"linecolor\":\"white\",\"ticks\":\"\",\"title\":{\"standoff\":15},\"zerolinecolor\":\"white\",\"automargin\":true,\"zerolinewidth\":2},\"yaxis\":{\"gridcolor\":\"white\",\"linecolor\":\"white\",\"ticks\":\"\",\"title\":{\"standoff\":15},\"zerolinecolor\":\"white\",\"automargin\":true,\"zerolinewidth\":2},\"scene\":{\"xaxis\":{\"backgroundcolor\":\"#E5ECF6\",\"gridcolor\":\"white\",\"linecolor\":\"white\",\"showbackground\":true,\"ticks\":\"\",\"zerolinecolor\":\"white\",\"gridwidth\":2},\"yaxis\":{\"backgroundcolor\":\"#E5ECF6\",\"gridcolor\":\"white\",\"linecolor\":\"white\",\"showbackground\":true,\"ticks\":\"\",\"zerolinecolor\":\"white\",\"gridwidth\":2},\"zaxis\":{\"backgroundcolor\":\"#E5ECF6\",\"gridcolor\":\"white\",\"linecolor\":\"white\",\"showbackground\":true,\"ticks\":\"\",\"zerolinecolor\":\"white\",\"gridwidth\":2}},\"shapedefaults\":{\"line\":{\"color\":\"#2a3f5f\"}},\"annotationdefaults\":{\"arrowcolor\":\"#2a3f5f\",\"arrowhead\":0,\"arrowwidth\":1},\"geo\":{\"bgcolor\":\"white\",\"landcolor\":\"#E5ECF6\",\"subunitcolor\":\"white\",\"showland\":true,\"showlakes\":true,\"lakecolor\":\"white\"},\"title\":{\"x\":0.05},\"mapbox\":{\"style\":\"light\"}}},\"xaxis\":{\"anchor\":\"y\",\"domain\":[0.0,1.0],\"scaleanchor\":\"y\",\"constrain\":\"domain\",\"title\":{\"text\":\"\\u003cb\\u003epredicted class\\u003c\\u002fb\\u003e\"}},\"yaxis\":{\"anchor\":\"x\",\"domain\":[0.0,1.0],\"autorange\":\"reversed\",\"constrain\":\"domain\",\"title\":{\"text\":\"\\u003cb\\u003eactual class\\u003c\\u002fb\\u003e\"}},\"coloraxis\":{\"colorscale\":[[0.0,\"rgb(247,251,255)\"],[0.125,\"rgb(222,235,247)\"],[0.25,\"rgb(198,219,239)\"],[0.375,\"rgb(158,202,225)\"],[0.5,\"rgb(107,174,214)\"],[0.625,\"rgb(66,146,198)\"],[0.75,\"rgb(33,113,181)\"],[0.875,\"rgb(8,81,156)\"],[1.0,\"rgb(8,48,107)\"]],\"showscale\":false},\"title\":{\"text\":\"ChatGPT injury\"},\"width\":600,\"font\":{\"size\":20}},                        {\"toImageButtonOptions\": {\"format\": \"svg\", \"filename\": \"cm_inj_chat_gpt\"}, \"responsive\": true}                    ).then(function(){\n",
              "                            \n",
              "var gd = document.getElementById('8bc2670c-69ce-44ee-87cc-52f46c3f389f');\n",
              "var x = new MutationObserver(function (mutations, observer) {{\n",
              "        var display = window.getComputedStyle(gd).display;\n",
              "        if (!display || display === 'none') {{\n",
              "            console.log([gd, 'removed!']);\n",
              "            Plotly.purge(gd);\n",
              "            observer.disconnect();\n",
              "        }}\n",
              "}});\n",
              "\n",
              "// Listen for the removal of the full notebook cells\n",
              "var notebookContainer = gd.closest('#notebook-container');\n",
              "if (notebookContainer) {{\n",
              "    x.observe(notebookContainer, {childList: true});\n",
              "}}\n",
              "\n",
              "// Listen for the clearing of the current output cell\n",
              "var outputEl = gd.closest('.output');\n",
              "if (outputEl) {{\n",
              "    x.observe(outputEl, {childList: true});\n",
              "}}\n",
              "\n",
              "                        })                };                            </script>        </div>\n",
              "</body>\n",
              "</html>"
            ]
          },
          "metadata": {}
        }
      ]
    },
    {
      "cell_type": "markdown",
      "source": [
        "For both tasks, we can compare the accuracy score to the ones achieved by the supervised approaches examined in Part I of this tutorial.\n",
        "We observe the following:\n",
        "* The accuracy score is higher than with supervised training of a logistic regression classifier on the DistilBERT-encoded texts.\n",
        "* The accuracy score is somewhat below the one obtained using task-specific fine-tuning of the DistilBERT model.\n",
        "\n",
        "Note, however, that here we have not employed any task-specific training!"
      ],
      "metadata": {
        "id": "TqgnpwRx9mhE"
      }
    },
    {
      "cell_type": "markdown",
      "metadata": {
        "id": "0Wet19WmEVHN"
      },
      "source": [
        "<a id='conclusion'></a>\n",
        "<a name='conclusion'></a>\n",
        "## 3.&nbsp;Conclusion\n",
        "\n",
        "Congratulations!\n",
        "\n",
        "In this Part III of the tutorial, you have used ChatGPT to extract features from text in an unsupervised fashion.\n",
        "\n",
        "Advantages of this approach are certainly that no labels are required, and that it is very simple to implement.\n",
        "\n",
        "On the other hand, execution time is longer than for the supervised approaches examined in Part I.\n",
        "\n",
        "In terms of accuracy score, the approach used here performs better than  supervised training of a logistic regression classifier on the DistilBERT-encoded texts, but somewhat worse than task-specific supervised fine-tuning of the DistilBERT model.\n",
        "Note however that we haven't performed any fine-tuning in this notebook.\n",
        "\n",
        "In practice, the unsupervised and supervised techniques could be combined, for instance by using ChatGPT to generate labels for a sufficintly large set of data, that is then used in a supervised setting.\n",
        "\n",
        "If you have enjoyed this tutorial, feel free to apply any of the approaches - or improved versions, of course - to your own text data, to enrich your structured features available for supervised learning tasks."
      ]
    }
  ],
  "metadata": {
    "colab": {
      "provenance": []
    },
    "kernelspec": {
      "display_name": "Python 3",
      "name": "python3"
    },
    "language_info": {
      "codemirror_mode": {
        "name": "ipython",
        "version": 3
      },
      "file_extension": ".py",
      "mimetype": "text/x-python",
      "name": "python",
      "nbconvert_exporter": "python",
      "pygments_lexer": "ipython3",
      "version": "3.7.10"
    }
  },
  "nbformat": 4,
  "nbformat_minor": 0
}